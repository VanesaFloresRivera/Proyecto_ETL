{
 "cells": [
  {
   "cell_type": "code",
   "execution_count": null,
   "metadata": {},
   "outputs": [],
   "source": [
    "import pandas as pd\n",
    "import requests as rq\n",
    "import numpy as np\n",
    "import pyarrow\n",
    "import os\n",
    "import sys #permite navegar por el sistema\n",
    "sys.path.append(\"../\") #solo aplica al soporte\n",
    "import src.soporte_api as sa\n",
    "import src.soporte_limpieza as sl\n",
    "import src.soporte_escrapeo as se\n",
    "import src.soporte_carga_BBDD as sc\n",
    "import psycopg2"
   ]
  },
  {
   "cell_type": "code",
   "execution_count": 2,
   "metadata": {},
   "outputs": [
    {
     "name": "stdout",
     "output_type": "stream",
     "text": [
      "El fichero original se ha importando y se han eliminado los duplicados\n",
      "Se han convertido las columnas ['fecha_reserva', 'inicio_estancia', 'final_estancia'] a formato fecha\n",
      "Se ha creado un id único para cada cliente. Se han creado 14905 ids de clientes únicos\n",
      "Se ha completado los nulos de las fechas de inicio estancia con el valor 2025-03-01 00:00:00 y fin estancia con el valor 2025-03-02 00:00:00\n",
      "Se han creado los id de hoteles únicos propies. Existen 19 hoteles\n",
      "Se ha incorporado la información de valoración de los hoteles propios\n",
      "Se ha completado los precios por noche nulos existentes, según el precio medio por hotel y fecha de reserva\n",
      "Se ha importado la información de los hoteles de la competencia mediante escrapeo. Se ha importado la información de 10 hoteles\n",
      "Se ha asignado el nombre del hotel de la competencia a los 10 id de hoteles existentes.\n",
      "Se ha incorporado la información de las columnas ['nombre_hotel', 'valoracion', 'precio_noche', 'fecha_reserva', 'ciudad'] de los hoteles de la competencia en el fichero original\n",
      "Se ha guardado el fichero limpio en la ruta data/datos_parquet_limpios.pkl\n",
      "LA LIMPIEZA DE LOS DATOS SE HA COMPLETADO SATISFACTORIAMENTE\n"
     ]
    },
    {
     "name": "stderr",
     "output_type": "stream",
     "text": [
      "c:\\Formación\\DataAnalytics\\BootCampDataAnalyst\\Proyectos\\ProyectoETL\\Proyecto_ETL\\src\\soporte_limpieza.py:86: FutureWarning: Setting an item of incompatible dtype is deprecated and will raise an error in a future version of pandas. Value '['268' '110' '181' ... '143' '119' '110']' has dtype incompatible with float64, please explicitly cast to a compatible dtype first.\n",
      "  dataframe_a_rellenar.loc[filtro_df_original,columna_a_rellenar] = dataframe_a_rellenar[columna_union].map(diccionario_creado)\n"
     ]
    }
   ],
   "source": [
    "ruta_entrada = 'data/reservas_hoteles.parquet'\n",
    "ruta_salida = 'data/datos_parquet_limpios.pkl'\n",
    "ruta_guardar_escrapeo = 'data/scrapeo.pkl'\n",
    "sl.limpieza_datos(ruta_entrada, ruta_salida,ruta_guardar_escrapeo)\n"
   ]
  },
  {
   "cell_type": "code",
   "execution_count": 3,
   "metadata": {},
   "outputs": [
    {
     "name": "stdout",
     "output_type": "stream",
     "text": [
      "Se ha cargado los datos en la tabla ciudad: Se han cargado:1 registros\n",
      "Se han extraido los eventos de la api y se ha guardado un fichero en la ruta data/eventos_api.pkl\n",
      "Se ha cargado los datos en la tabla eventos: Se han cargado:145 registros\n",
      "Se ha cargado los datos en la tabla hoteles: Se han cargado:29 registros\n",
      "No se pudo cargar los datos en la BBDD de la tabla clientes: llave duplicada viola restricción de unicidad «clientes_pkey»\n",
      "DETAIL:  Ya existe la llave (id_cliente)=(C0fc).\n",
      "\n",
      "No se pudo cargar los datos en la BBDD de la tabla reservas: llave duplicada viola restricción de unicidad «reservas_pkey»\n",
      "DETAIL:  Ya existe la llave (id_reserva)=(5256cc90-139b-43d2-8ec5-412495d751cf).\n",
      "\n"
     ]
    }
   ],
   "source": [
    "ruta_guardar_eventos = 'data/eventos_api.pkl'\n",
    "sc.carga_completa_datos(ruta_salida,ruta_entrada,ruta_guardar_eventos)"
   ]
  }
 ],
 "metadata": {
  "kernelspec": {
   "display_name": "Python 3",
   "language": "python",
   "name": "python3"
  },
  "language_info": {
   "codemirror_mode": {
    "name": "ipython",
    "version": 3
   },
   "file_extension": ".py",
   "mimetype": "text/x-python",
   "name": "python",
   "nbconvert_exporter": "python",
   "pygments_lexer": "ipython3",
   "version": "3.12.5"
  }
 },
 "nbformat": 4,
 "nbformat_minor": 2
}
