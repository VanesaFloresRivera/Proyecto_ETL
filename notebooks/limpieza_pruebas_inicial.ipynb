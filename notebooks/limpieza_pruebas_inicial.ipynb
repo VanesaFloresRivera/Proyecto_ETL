{
 "cells": [
  {
   "cell_type": "code",
   "execution_count": 1,
   "metadata": {},
   "outputs": [],
   "source": [
    "import pandas as pd\n",
    "import requests as rq\n",
    "import numpy as np\n",
    "import pyarrow\n",
    "import os\n",
    "from dotenv import load_dotenv\n",
    "\n"
   ]
  },
  {
   "cell_type": "code",
   "execution_count": 2,
   "metadata": {},
   "outputs": [
    {
     "data": {
      "text/plain": [
       "True"
      ]
     },
     "execution_count": 2,
     "metadata": {},
     "output_type": "execute_result"
    }
   ],
   "source": [
    "load_dotenv()"
   ]
  },
  {
   "cell_type": "code",
   "execution_count": 3,
   "metadata": {},
   "outputs": [],
   "source": [
    "ARCHIVO_SALIDA = os.getenv(\"ARCHIVO_SALIDA\")\n",
    "ARCHIVO_RAW= os.getenv(\"ARCHIVO_RAW\")"
   ]
  },
  {
   "cell_type": "code",
   "execution_count": 4,
   "metadata": {},
   "outputs": [],
   "source": [
    "df_raw=pd.read_parquet(ARCHIVO_RAW)"
   ]
  },
  {
   "cell_type": "code",
   "execution_count": 5,
   "metadata": {},
   "outputs": [
    {
     "data": {
      "application/vnd.microsoft.datawrangler.viewer.v0+json": {
       "columns": [
        {
         "name": "index",
         "rawType": "int64",
         "type": "integer"
        },
        {
         "name": "id_reserva",
         "rawType": "object",
         "type": "string"
        },
        {
         "name": "id_cliente",
         "rawType": "object",
         "type": "string"
        },
        {
         "name": "nombre",
         "rawType": "object",
         "type": "string"
        },
        {
         "name": "apellido",
         "rawType": "object",
         "type": "string"
        },
        {
         "name": "mail",
         "rawType": "object",
         "type": "string"
        },
        {
         "name": "competencia",
         "rawType": "bool",
         "type": "boolean"
        },
        {
         "name": "fecha_reserva",
         "rawType": "object",
         "type": "string"
        },
        {
         "name": "inicio_estancia",
         "rawType": "object",
         "type": "string"
        },
        {
         "name": "final_estancia",
         "rawType": "object",
         "type": "string"
        },
        {
         "name": "id_hotel",
         "rawType": "int64",
         "type": "integer"
        },
        {
         "name": "precio_noche",
         "rawType": "float64",
         "type": "float"
        },
        {
         "name": "nombre_hotel",
         "rawType": "object",
         "type": "string"
        },
        {
         "name": "estrellas",
         "rawType": "float64",
         "type": "float"
        },
        {
         "name": "ciudad",
         "rawType": "object",
         "type": "string"
        }
       ],
       "conversionMethod": "pd.DataFrame",
       "ref": "cc1eba32-d8a2-4522-9e92-c1aa06174766",
       "rows": [
        [
         "0",
         "5256cc90-139b-43d2-8ec5-412495d751cf",
         "346f2a77-33f4-4b2d-82f3-e8501e21b28d",
         "Feliciana",
         "Cantón",
         "feliciana.cantón@example.com",
         "True",
         "",
         "2025-03-01",
         "2025-03-02",
         "113",
         null,
         "",
         null,
         ""
        ],
        [
         "1",
         "84fd6209-bd8d-4a92-bfe6-c68ee2c49271",
         "346f2a77-33f4-4b2d-82f3-e8501e21b28d",
         "Leonardo",
         "Hierro",
         "leonardo.hierro@example.com",
         "True",
         "",
         "2025-03-01",
         "2025-03-02",
         "194",
         null,
         "",
         null,
         ""
        ],
        [
         "2",
         "40c4cb55-d1f5-407b-832f-4756b8ff77b4",
         "6ec4d7d2-e382-47cc-94f6-c647577d4035",
         "Maite",
         "Calatayud",
         "maite.calatayud@example.com",
         "False",
         "2025-02-09",
         "2025-03-01",
         "2025-03-02",
         "14",
         "119.96",
         "Hotel Monte Verde",
         "1.0",
         "Madrid"
        ],
        [
         "3",
         "f2ce8df5-7844-43e1-8c0f-97ce7a208f21",
         "aed17fe8-eb18-4f69-bf08-df1afdc339c3",
         "Tecla",
         "Bonet",
         "tecla.bonet@example.com",
         "False",
         "2025-02-08",
         "2025-03-01",
         "2025-03-02",
         "38",
         "211.53",
         "Hotel Brisas del Mar",
         "5.0",
         "Madrid"
        ],
        [
         "4",
         "57d4515a-447d-4067-afcb-9bdcf4e4e915",
         "710a2fbb-264f-426a-aa66-f8fffd146a2d",
         "Amílcar",
         "Andrés",
         "amílcar.andrés@example.com",
         "False",
         "2025-02-02",
         "2025-03-01",
         "2025-03-02",
         "35",
         "378.37",
         "Hotel Camino del Sol",
         "1.0",
         "Madrid"
        ]
       ],
       "shape": {
        "columns": 14,
        "rows": 5
       }
      },
      "text/html": [
       "<div>\n",
       "<style scoped>\n",
       "    .dataframe tbody tr th:only-of-type {\n",
       "        vertical-align: middle;\n",
       "    }\n",
       "\n",
       "    .dataframe tbody tr th {\n",
       "        vertical-align: top;\n",
       "    }\n",
       "\n",
       "    .dataframe thead th {\n",
       "        text-align: right;\n",
       "    }\n",
       "</style>\n",
       "<table border=\"1\" class=\"dataframe\">\n",
       "  <thead>\n",
       "    <tr style=\"text-align: right;\">\n",
       "      <th></th>\n",
       "      <th>id_reserva</th>\n",
       "      <th>id_cliente</th>\n",
       "      <th>nombre</th>\n",
       "      <th>apellido</th>\n",
       "      <th>mail</th>\n",
       "      <th>competencia</th>\n",
       "      <th>fecha_reserva</th>\n",
       "      <th>inicio_estancia</th>\n",
       "      <th>final_estancia</th>\n",
       "      <th>id_hotel</th>\n",
       "      <th>precio_noche</th>\n",
       "      <th>nombre_hotel</th>\n",
       "      <th>estrellas</th>\n",
       "      <th>ciudad</th>\n",
       "    </tr>\n",
       "  </thead>\n",
       "  <tbody>\n",
       "    <tr>\n",
       "      <th>0</th>\n",
       "      <td>5256cc90-139b-43d2-8ec5-412495d751cf</td>\n",
       "      <td>346f2a77-33f4-4b2d-82f3-e8501e21b28d</td>\n",
       "      <td>Feliciana</td>\n",
       "      <td>Cantón</td>\n",
       "      <td>feliciana.cantón@example.com</td>\n",
       "      <td>True</td>\n",
       "      <td></td>\n",
       "      <td>2025-03-01</td>\n",
       "      <td>2025-03-02</td>\n",
       "      <td>113</td>\n",
       "      <td>NaN</td>\n",
       "      <td></td>\n",
       "      <td>NaN</td>\n",
       "      <td></td>\n",
       "    </tr>\n",
       "    <tr>\n",
       "      <th>1</th>\n",
       "      <td>84fd6209-bd8d-4a92-bfe6-c68ee2c49271</td>\n",
       "      <td>346f2a77-33f4-4b2d-82f3-e8501e21b28d</td>\n",
       "      <td>Leonardo</td>\n",
       "      <td>Hierro</td>\n",
       "      <td>leonardo.hierro@example.com</td>\n",
       "      <td>True</td>\n",
       "      <td></td>\n",
       "      <td>2025-03-01</td>\n",
       "      <td>2025-03-02</td>\n",
       "      <td>194</td>\n",
       "      <td>NaN</td>\n",
       "      <td></td>\n",
       "      <td>NaN</td>\n",
       "      <td></td>\n",
       "    </tr>\n",
       "    <tr>\n",
       "      <th>2</th>\n",
       "      <td>40c4cb55-d1f5-407b-832f-4756b8ff77b4</td>\n",
       "      <td>6ec4d7d2-e382-47cc-94f6-c647577d4035</td>\n",
       "      <td>Maite</td>\n",
       "      <td>Calatayud</td>\n",
       "      <td>maite.calatayud@example.com</td>\n",
       "      <td>False</td>\n",
       "      <td>2025-02-09</td>\n",
       "      <td>2025-03-01</td>\n",
       "      <td>2025-03-02</td>\n",
       "      <td>14</td>\n",
       "      <td>119.96</td>\n",
       "      <td>Hotel Monte Verde</td>\n",
       "      <td>1.0</td>\n",
       "      <td>Madrid</td>\n",
       "    </tr>\n",
       "    <tr>\n",
       "      <th>3</th>\n",
       "      <td>f2ce8df5-7844-43e1-8c0f-97ce7a208f21</td>\n",
       "      <td>aed17fe8-eb18-4f69-bf08-df1afdc339c3</td>\n",
       "      <td>Tecla</td>\n",
       "      <td>Bonet</td>\n",
       "      <td>tecla.bonet@example.com</td>\n",
       "      <td>False</td>\n",
       "      <td>2025-02-08</td>\n",
       "      <td>2025-03-01</td>\n",
       "      <td>2025-03-02</td>\n",
       "      <td>38</td>\n",
       "      <td>211.53</td>\n",
       "      <td>Hotel Brisas del Mar</td>\n",
       "      <td>5.0</td>\n",
       "      <td>Madrid</td>\n",
       "    </tr>\n",
       "    <tr>\n",
       "      <th>4</th>\n",
       "      <td>57d4515a-447d-4067-afcb-9bdcf4e4e915</td>\n",
       "      <td>710a2fbb-264f-426a-aa66-f8fffd146a2d</td>\n",
       "      <td>Amílcar</td>\n",
       "      <td>Andrés</td>\n",
       "      <td>amílcar.andrés@example.com</td>\n",
       "      <td>False</td>\n",
       "      <td>2025-02-02</td>\n",
       "      <td>2025-03-01</td>\n",
       "      <td>2025-03-02</td>\n",
       "      <td>35</td>\n",
       "      <td>378.37</td>\n",
       "      <td>Hotel Camino del Sol</td>\n",
       "      <td>1.0</td>\n",
       "      <td>Madrid</td>\n",
       "    </tr>\n",
       "  </tbody>\n",
       "</table>\n",
       "</div>"
      ],
      "text/plain": [
       "                             id_reserva                            id_cliente  \\\n",
       "0  5256cc90-139b-43d2-8ec5-412495d751cf  346f2a77-33f4-4b2d-82f3-e8501e21b28d   \n",
       "1  84fd6209-bd8d-4a92-bfe6-c68ee2c49271  346f2a77-33f4-4b2d-82f3-e8501e21b28d   \n",
       "2  40c4cb55-d1f5-407b-832f-4756b8ff77b4  6ec4d7d2-e382-47cc-94f6-c647577d4035   \n",
       "3  f2ce8df5-7844-43e1-8c0f-97ce7a208f21  aed17fe8-eb18-4f69-bf08-df1afdc339c3   \n",
       "4  57d4515a-447d-4067-afcb-9bdcf4e4e915  710a2fbb-264f-426a-aa66-f8fffd146a2d   \n",
       "\n",
       "      nombre   apellido                          mail  competencia  \\\n",
       "0  Feliciana     Cantón  feliciana.cantón@example.com         True   \n",
       "1   Leonardo     Hierro   leonardo.hierro@example.com         True   \n",
       "2      Maite  Calatayud   maite.calatayud@example.com        False   \n",
       "3      Tecla      Bonet       tecla.bonet@example.com        False   \n",
       "4    Amílcar     Andrés    amílcar.andrés@example.com        False   \n",
       "\n",
       "  fecha_reserva inicio_estancia final_estancia  id_hotel  precio_noche  \\\n",
       "0                    2025-03-01     2025-03-02       113           NaN   \n",
       "1                    2025-03-01     2025-03-02       194           NaN   \n",
       "2    2025-02-09      2025-03-01     2025-03-02        14        119.96   \n",
       "3    2025-02-08      2025-03-01     2025-03-02        38        211.53   \n",
       "4    2025-02-02      2025-03-01     2025-03-02        35        378.37   \n",
       "\n",
       "           nombre_hotel  estrellas  ciudad  \n",
       "0                              NaN          \n",
       "1                              NaN          \n",
       "2     Hotel Monte Verde        1.0  Madrid  \n",
       "3  Hotel Brisas del Mar        5.0  Madrid  \n",
       "4  Hotel Camino del Sol        1.0  Madrid  "
      ]
     },
     "execution_count": 5,
     "metadata": {},
     "output_type": "execute_result"
    }
   ],
   "source": [
    "df_raw.head()"
   ]
  },
  {
   "cell_type": "code",
   "execution_count": 6,
   "metadata": {},
   "outputs": [],
   "source": [
    "df=df_raw.copy()"
   ]
  },
  {
   "cell_type": "code",
   "execution_count": 7,
   "metadata": {},
   "outputs": [
    {
     "name": "stdout",
     "output_type": "stream",
     "text": [
      "<class 'pandas.core.frame.DataFrame'>\n",
      "RangeIndex: 15098 entries, 0 to 15097\n",
      "Data columns (total 14 columns):\n",
      " #   Column           Non-Null Count  Dtype  \n",
      "---  ------           --------------  -----  \n",
      " 0   id_reserva       15098 non-null  object \n",
      " 1   id_cliente       15098 non-null  object \n",
      " 2   nombre           15098 non-null  object \n",
      " 3   apellido         15098 non-null  object \n",
      " 4   mail             15098 non-null  object \n",
      " 5   competencia      15098 non-null  bool   \n",
      " 6   fecha_reserva    15098 non-null  object \n",
      " 7   inicio_estancia  15023 non-null  object \n",
      " 8   final_estancia   15023 non-null  object \n",
      " 9   id_hotel         15098 non-null  int64  \n",
      " 10  precio_noche     9874 non-null   float64\n",
      " 11  nombre_hotel     15098 non-null  object \n",
      " 12  estrellas        9926 non-null   float64\n",
      " 13  ciudad           15098 non-null  object \n",
      "dtypes: bool(1), float64(2), int64(1), object(10)\n",
      "memory usage: 1.5+ MB\n"
     ]
    }
   ],
   "source": [
    "df.info()"
   ]
  },
  {
   "cell_type": "markdown",
   "metadata": {},
   "source": [
    "# ANALIZO SI EXISTEN DUPLICADOS GLOBALES"
   ]
  },
  {
   "cell_type": "code",
   "execution_count": 8,
   "metadata": {},
   "outputs": [
    {
     "name": "stdout",
     "output_type": "stream",
     "text": [
      "98\n"
     ]
    }
   ],
   "source": [
    "print(df.duplicated().sum())"
   ]
  },
  {
   "cell_type": "code",
   "execution_count": 9,
   "metadata": {},
   "outputs": [],
   "source": [
    "#Elimino los duplicados\n",
    "df = df.drop_duplicates()"
   ]
  },
  {
   "cell_type": "code",
   "execution_count": 10,
   "metadata": {},
   "outputs": [
    {
     "name": "stdout",
     "output_type": "stream",
     "text": [
      "0\n"
     ]
    }
   ],
   "source": [
    "#Compruebo si hay ids duplicados:\n",
    "print(df.id_reserva.duplicated().sum())"
   ]
  },
  {
   "cell_type": "markdown",
   "metadata": {},
   "source": [
    "# TRANSFORMACIÓN DE LAS COLUMNAS TIPO FECHA"
   ]
  },
  {
   "cell_type": "code",
   "execution_count": 11,
   "metadata": {},
   "outputs": [],
   "source": [
    "def tran_data(lista_col, dataframe):\n",
    "    \"\"\"_summary_\n",
    "\n",
    "    Args:\n",
    "        lista_col (_type_): _description_\n",
    "        dataframe (_type_): _description_\n",
    "    \"\"\"\n",
    "    for col in lista_col:\n",
    "        dataframe[col] = pd.to_datetime(dataframe[col], errors=\"coerce\")"
   ]
  },
  {
   "cell_type": "code",
   "execution_count": 12,
   "metadata": {},
   "outputs": [
    {
     "name": "stdout",
     "output_type": "stream",
     "text": [
      "<class 'pandas.core.frame.DataFrame'>\n",
      "Index: 15000 entries, 0 to 14999\n",
      "Data columns (total 14 columns):\n",
      " #   Column           Non-Null Count  Dtype         \n",
      "---  ------           --------------  -----         \n",
      " 0   id_reserva       15000 non-null  object        \n",
      " 1   id_cliente       15000 non-null  object        \n",
      " 2   nombre           15000 non-null  object        \n",
      " 3   apellido         15000 non-null  object        \n",
      " 4   mail             15000 non-null  object        \n",
      " 5   competencia      15000 non-null  bool          \n",
      " 6   fecha_reserva    9828 non-null   datetime64[ns]\n",
      " 7   inicio_estancia  14925 non-null  datetime64[ns]\n",
      " 8   final_estancia   14925 non-null  datetime64[ns]\n",
      " 9   id_hotel         15000 non-null  int64         \n",
      " 10  precio_noche     9776 non-null   float64       \n",
      " 11  nombre_hotel     15000 non-null  object        \n",
      " 12  estrellas        9828 non-null   float64       \n",
      " 13  ciudad           15000 non-null  object        \n",
      "dtypes: bool(1), datetime64[ns](3), float64(2), int64(1), object(7)\n",
      "memory usage: 1.6+ MB\n"
     ]
    }
   ],
   "source": [
    "col_fechas=[\"fecha_reserva\",\"inicio_estancia\",\"final_estancia\"]\n",
    "tran_data(col_fechas, df)\n",
    "df.info()\n"
   ]
  },
  {
   "cell_type": "markdown",
   "metadata": {},
   "source": [
    "# TRANSFORMACIÓN DE LA COLUMNA estrellas  "
   ]
  },
  {
   "cell_type": "code",
   "execution_count": 13,
   "metadata": {},
   "outputs": [
    {
     "name": "stdout",
     "output_type": "stream",
     "text": [
      "<class 'pandas.core.frame.DataFrame'>\n",
      "Index: 15000 entries, 0 to 14999\n",
      "Data columns (total 14 columns):\n",
      " #   Column           Non-Null Count  Dtype         \n",
      "---  ------           --------------  -----         \n",
      " 0   id_reserva       15000 non-null  object        \n",
      " 1   id_cliente       15000 non-null  object        \n",
      " 2   nombre           15000 non-null  object        \n",
      " 3   apellido         15000 non-null  object        \n",
      " 4   mail             15000 non-null  object        \n",
      " 5   competencia      15000 non-null  bool          \n",
      " 6   fecha_reserva    9828 non-null   datetime64[ns]\n",
      " 7   inicio_estancia  14925 non-null  datetime64[ns]\n",
      " 8   final_estancia   14925 non-null  datetime64[ns]\n",
      " 9   id_hotel         15000 non-null  int64         \n",
      " 10  precio_noche     9776 non-null   float64       \n",
      " 11  nombre_hotel     15000 non-null  object        \n",
      " 12  estrellas        9828 non-null   Int64         \n",
      " 13  ciudad           15000 non-null  object        \n",
      "dtypes: Int64(1), bool(1), datetime64[ns](3), float64(1), int64(1), object(7)\n",
      "memory usage: 1.6+ MB\n"
     ]
    }
   ],
   "source": [
    "df[\"estrellas\"] = df[\"estrellas\"].astype('Int64')\n",
    "df.info()"
   ]
  },
  {
   "cell_type": "code",
   "execution_count": 14,
   "metadata": {},
   "outputs": [
    {
     "data": {
      "text/plain": [
       "nombre_hotel\n",
       "                          5172\n",
       "Hotel Sol y Luna           557\n",
       "Hotel Monte Verde          550\n",
       "Hotel Luz de Madrid        536\n",
       "Hotel Brisas del Mar       534\n",
       "Hotel Mirador Real         533\n",
       "Hotel Los Almendros        533\n",
       "Hotel Puerta del Cielo     526\n",
       "Hotel Camino del Sol       518\n",
       "Gran Hotel Madrid          518\n",
       "Hotel Costa Azul           515\n",
       "Hotel Las Estrellas        514\n",
       "Hotel Torre Dorada         512\n",
       "Hotel Rincón Sereno        512\n",
       "Hotel Vista Alegre         511\n",
       "Hotel Encanto Real         511\n",
       "Palacio del Sol            510\n",
       "Hotel Jardines del Rey     502\n",
       "Hotel Maravilla Real       473\n",
       "Hotel Palacio Imperial     463\n",
       "Name: count, dtype: int64"
      ]
     },
     "execution_count": 14,
     "metadata": {},
     "output_type": "execute_result"
    }
   ],
   "source": [
    "df[\"nombre_hotel\"].value_counts()"
   ]
  },
  {
   "cell_type": "code",
   "execution_count": 15,
   "metadata": {},
   "outputs": [],
   "source": [
    "df_competencia = df[df.competencia == True]"
   ]
  },
  {
   "cell_type": "code",
   "execution_count": 16,
   "metadata": {},
   "outputs": [
    {
     "data": {
      "text/plain": [
       "nombre_hotel\n",
       "    5172\n",
       "Name: count, dtype: int64"
      ]
     },
     "execution_count": 16,
     "metadata": {},
     "output_type": "execute_result"
    }
   ],
   "source": [
    "#aunque no aparezca como nulos, en realidad el nombre del hotel está vacío:\n",
    "df_competencia.nombre_hotel.value_counts()\n",
    "\n"
   ]
  },
  {
   "cell_type": "code",
   "execution_count": 17,
   "metadata": {},
   "outputs": [
    {
     "data": {
      "text/plain": [
       "ciudad\n",
       "    5172\n",
       "Name: count, dtype: int64"
      ]
     },
     "execution_count": 17,
     "metadata": {},
     "output_type": "execute_result"
    }
   ],
   "source": [
    "#aunque no aparezca como nulos, en realidad el nombre de la ciudad está vacío:\n",
    "df_competencia.ciudad.value_counts()"
   ]
  },
  {
   "cell_type": "code",
   "execution_count": 18,
   "metadata": {},
   "outputs": [
    {
     "name": "stdout",
     "output_type": "stream",
     "text": [
      "<class 'pandas.core.frame.DataFrame'>\n",
      "Index: 5172 entries, 0 to 14998\n",
      "Data columns (total 14 columns):\n",
      " #   Column           Non-Null Count  Dtype         \n",
      "---  ------           --------------  -----         \n",
      " 0   id_reserva       5172 non-null   object        \n",
      " 1   id_cliente       5172 non-null   object        \n",
      " 2   nombre           5172 non-null   object        \n",
      " 3   apellido         5172 non-null   object        \n",
      " 4   mail             5172 non-null   object        \n",
      " 5   competencia      5172 non-null   bool          \n",
      " 6   fecha_reserva    0 non-null      datetime64[ns]\n",
      " 7   inicio_estancia  5149 non-null   datetime64[ns]\n",
      " 8   final_estancia   5149 non-null   datetime64[ns]\n",
      " 9   id_hotel         5172 non-null   int64         \n",
      " 10  precio_noche     0 non-null      float64       \n",
      " 11  nombre_hotel     5172 non-null   object        \n",
      " 12  estrellas        0 non-null      Int64         \n",
      " 13  ciudad           5172 non-null   object        \n",
      "dtypes: Int64(1), bool(1), datetime64[ns](3), float64(1), int64(1), object(7)\n",
      "memory usage: 575.8+ KB\n"
     ]
    }
   ],
   "source": [
    "df_competencia.info()"
   ]
  },
  {
   "cell_type": "code",
   "execution_count": 19,
   "metadata": {},
   "outputs": [],
   "source": [
    "##consigo los datos faltantes con el scrapeo. Detalle en el documento scrapeo.ipynb"
   ]
  },
  {
   "cell_type": "markdown",
   "metadata": {},
   "source": [
    "# Análisis columna id_cliente"
   ]
  },
  {
   "cell_type": "code",
   "execution_count": 20,
   "metadata": {},
   "outputs": [
    {
     "data": {
      "text/plain": [
       "14847"
      ]
     },
     "execution_count": 20,
     "metadata": {},
     "output_type": "execute_result"
    }
   ],
   "source": [
    "len(df.id_cliente.unique())"
   ]
  },
  {
   "cell_type": "code",
   "execution_count": 21,
   "metadata": {},
   "outputs": [
    {
     "data": {
      "text/plain": [
       "14905"
      ]
     },
     "execution_count": 21,
     "metadata": {},
     "output_type": "execute_result"
    }
   ],
   "source": [
    "len(df.mail.unique())"
   ]
  },
  {
   "cell_type": "code",
   "execution_count": 22,
   "metadata": {},
   "outputs": [],
   "source": [
    "df[\"nombre_apellido\"] = df['nombre'].str.lower() +'.' +df['apellido'].str.lower()"
   ]
  },
  {
   "cell_type": "code",
   "execution_count": 23,
   "metadata": {},
   "outputs": [
    {
     "data": {
      "text/plain": [
       "9785"
      ]
     },
     "execution_count": 23,
     "metadata": {},
     "output_type": "execute_result"
    }
   ],
   "source": [
    "len(df[df['competencia']== False]['nombre_apellido'].unique())"
   ]
  },
  {
   "cell_type": "code",
   "execution_count": 24,
   "metadata": {},
   "outputs": [
    {
     "data": {
      "application/vnd.microsoft.datawrangler.viewer.v0+json": {
       "columns": [
        {
         "name": "index",
         "rawType": "int64",
         "type": "integer"
        },
        {
         "name": "index",
         "rawType": "int64",
         "type": "integer"
        },
        {
         "name": "id_nombre_apellido",
         "rawType": "object",
         "type": "string"
        }
       ],
       "conversionMethod": "pd.DataFrame",
       "ref": "6c891392-05f4-4dc0-8816-82c62ed5ce3f",
       "rows": [
        [
         "0",
         "0",
         "346f2a77-33f4-4b2d-82f3-e8501e21b28d|feliciana.cantón"
        ],
        [
         "1",
         "1",
         "346f2a77-33f4-4b2d-82f3-e8501e21b28d|leonardo.hierro"
        ],
        [
         "2",
         "2",
         "6ec4d7d2-e382-47cc-94f6-c647577d4035|maite.calatayud"
        ],
        [
         "3",
         "3",
         "aed17fe8-eb18-4f69-bf08-df1afdc339c3|tecla.bonet"
        ],
        [
         "4",
         "4",
         "710a2fbb-264f-426a-aa66-f8fffd146a2d|amílcar.andrés"
        ],
        [
         "5",
         "5",
         "df42ae3d-0b9b-4c06-b22e-939323833ef8|joan.vazquez"
        ],
        [
         "6",
         "6",
         "a16a9d83-6888-4947-a7ab-ed41203e347c|chelo.flor"
        ],
        [
         "7",
         "7",
         "443a7307-2183-4051-b0bb-26f12fc1f478|judith.rivas"
        ],
        [
         "8",
         "8",
         "4b789497-8da4-4962-b0fa-070556648ed1|dolores.lobo"
        ],
        [
         "9",
         "9",
         "e1a34338-a0aa-4b0e-96de-55f884eeb074|adolfo.cuervo"
        ],
        [
         "10",
         "10",
         "dbaadb0e-a0ff-436e-9b10-c697fb90b720|noé.lobo"
        ],
        [
         "11",
         "11",
         "2949fb90-39ab-4613-b4c1-e238bb56faf3|maría carmen.navarro"
        ],
        [
         "12",
         "12",
         "6c104070-aad0-4372-a6dc-cd38a6f7c3cf|ricardo.caballero"
        ],
        [
         "13",
         "13",
         "26ca67cd-3762-4f90-9372-c5f3d49df733|omar.lamas"
        ],
        [
         "14",
         "14",
         "2662e10a-6799-469a-b697-db79c3c888ff|luna.segovia"
        ],
        [
         "15",
         "15",
         "a263c6e8-96af-4720-96f0-04cfe51116c6|ágata.pinedo"
        ],
        [
         "16",
         "16",
         "b1826b3e-e9aa-4a40-b94a-09ad8e7d6507|lázaro.pardo"
        ],
        [
         "17",
         "17",
         "b9cea054-2a9a-4772-bc62-feddbd73ea8a|julie.baños"
        ],
        [
         "18",
         "18",
         "7164885d-7481-40cc-9aa7-025264d00798|javier.mancebo"
        ],
        [
         "19",
         "19",
         "7c8a9a34-0fb9-4bab-bc19-8ab715471fad|rita.guerrero"
        ],
        [
         "20",
         "20",
         "38949903-64ff-48df-a57c-b589d98cc372|ricardo.lobo"
        ],
        [
         "21",
         "21",
         "8d24ffd5-1a06-4991-8d0b-143305a376ad|perlita.patiño"
        ],
        [
         "22",
         "22",
         "09323025-a5a9-4b54-81e4-430591596518|pedro.gallego"
        ],
        [
         "23",
         "23",
         "57bd08da-f2f2-422b-b6e5-77a624132793|judith.bellido"
        ],
        [
         "24",
         "24",
         "614c4625-81ae-4cb8-be62-beef3ba967bb|francisco javier.hierro"
        ],
        [
         "25",
         "25",
         "3c648062-c102-4ad6-85aa-70cc80758b32|reynaldo.lerma"
        ],
        [
         "26",
         "26",
         "07cde2c9-6e63-43d1-bff0-f57d76fb0af2|felicidad.gimenez"
        ],
        [
         "27",
         "27",
         "90aedc6a-5f21-4a25-9e55-b6552a657437|pía.barba"
        ],
        [
         "28",
         "28",
         "69b56d4e-60b6-41f5-b320-1ac4200d8bfb|amílcar.moles"
        ],
        [
         "29",
         "29",
         "e4a2670a-0893-4c1c-bb51-b168107d5edc|blas.galván"
        ],
        [
         "30",
         "30",
         "1bee19cf-e343-4b47-9d7b-2d72ea7fd7c8|claudia.miranda"
        ],
        [
         "31",
         "31",
         "85306c06-a7f1-4fdb-807e-66b2178e93c4|angelina.priego"
        ],
        [
         "32",
         "32",
         "790f974c-32cd-4a48-8d53-4e5b533aa339|fernanda.segarra"
        ],
        [
         "33",
         "33",
         "aae14664-a527-41a9-93ae-cf5b636d7dd0|emilio.huerta"
        ],
        [
         "34",
         "34",
         "73198244-7196-49fc-aa86-d84efcb18336|bárbara.jódar"
        ],
        [
         "35",
         "35",
         "7ae27350-badc-417d-a536-e0194595dc29|tiburcio.pujol"
        ],
        [
         "36",
         "36",
         "05cc4ab5-046c-4060-accd-e2e52ad83aa5|emiliano.vergara"
        ],
        [
         "37",
         "37",
         "afa28bc0-9dde-436c-bf88-48c189921a80|marisol.arévalo"
        ],
        [
         "38",
         "38",
         "d0de4a2b-eb08-4dc6-aa8d-1efd2f007539|ezequiel.cuesta"
        ],
        [
         "39",
         "39",
         "bb7d2b8a-223a-4da2-bf9f-4fc0f1330ee5|telmo.bartolomé"
        ],
        [
         "40",
         "40",
         "1f6fc80b-67a9-42ba-8d47-c68d67907f65|débora.solé"
        ],
        [
         "41",
         "41",
         "db4d1983-59fb-4233-823c-957a8dbbc552|carolina.alberdi"
        ],
        [
         "42",
         "42",
         "a4cd7cd3-2e7e-4402-80c3-965ded3c7e3f|darío.lasa"
        ],
        [
         "43",
         "43",
         "9e9710ca-ea75-48a0-9c8c-9598ef00f279|noé.cantón"
        ],
        [
         "44",
         "44",
         "9f63268b-863e-49f4-ba27-58688640d1a1|fausto.santiago"
        ],
        [
         "45",
         "45",
         "efc29d88-089c-41b4-b786-94b2077b9fd9|lorenza.lago"
        ],
        [
         "46",
         "46",
         "43ffdcc5-51b6-4eda-81f5-df2c1ed1adbe|maría belén.escalona"
        ],
        [
         "47",
         "47",
         "2f28e36f-3ff5-45a9-bc32-4f0ee12d21b2|curro.martín"
        ],
        [
         "48",
         "48",
         "e3c9c0f8-dca8-420e-b5d4-b01ca6bd0f5e|anunciación.flor"
        ],
        [
         "49",
         "49",
         "0fc7635e-821d-4595-ac98-65cfa4fd044f|maría belén.cuéllar"
        ]
       ],
       "shape": {
        "columns": 2,
        "rows": 15000
       }
      },
      "text/html": [
       "<div>\n",
       "<style scoped>\n",
       "    .dataframe tbody tr th:only-of-type {\n",
       "        vertical-align: middle;\n",
       "    }\n",
       "\n",
       "    .dataframe tbody tr th {\n",
       "        vertical-align: top;\n",
       "    }\n",
       "\n",
       "    .dataframe thead th {\n",
       "        text-align: right;\n",
       "    }\n",
       "</style>\n",
       "<table border=\"1\" class=\"dataframe\">\n",
       "  <thead>\n",
       "    <tr style=\"text-align: right;\">\n",
       "      <th></th>\n",
       "      <th>index</th>\n",
       "      <th>id_nombre_apellido</th>\n",
       "    </tr>\n",
       "  </thead>\n",
       "  <tbody>\n",
       "    <tr>\n",
       "      <th>0</th>\n",
       "      <td>0</td>\n",
       "      <td>346f2a77-33f4-4b2d-82f3-e8501e21b28d|feliciana...</td>\n",
       "    </tr>\n",
       "    <tr>\n",
       "      <th>1</th>\n",
       "      <td>1</td>\n",
       "      <td>346f2a77-33f4-4b2d-82f3-e8501e21b28d|leonardo....</td>\n",
       "    </tr>\n",
       "    <tr>\n",
       "      <th>2</th>\n",
       "      <td>2</td>\n",
       "      <td>6ec4d7d2-e382-47cc-94f6-c647577d4035|maite.cal...</td>\n",
       "    </tr>\n",
       "    <tr>\n",
       "      <th>3</th>\n",
       "      <td>3</td>\n",
       "      <td>aed17fe8-eb18-4f69-bf08-df1afdc339c3|tecla.bonet</td>\n",
       "    </tr>\n",
       "    <tr>\n",
       "      <th>4</th>\n",
       "      <td>4</td>\n",
       "      <td>710a2fbb-264f-426a-aa66-f8fffd146a2d|amílcar.a...</td>\n",
       "    </tr>\n",
       "    <tr>\n",
       "      <th>...</th>\n",
       "      <td>...</td>\n",
       "      <td>...</td>\n",
       "    </tr>\n",
       "    <tr>\n",
       "      <th>14995</th>\n",
       "      <td>14995</td>\n",
       "      <td>de729428-ec23-4665-a5c9-79e3ec282470|lorena.román</td>\n",
       "    </tr>\n",
       "    <tr>\n",
       "      <th>14996</th>\n",
       "      <td>14996</td>\n",
       "      <td>8469b819-d96a-4904-9cdd-710764f6301f|toño.narváez</td>\n",
       "    </tr>\n",
       "    <tr>\n",
       "      <th>14997</th>\n",
       "      <td>14997</td>\n",
       "      <td>e89751f4-3621-4636-81d3-90e2baa709cb|nadia.ver...</td>\n",
       "    </tr>\n",
       "    <tr>\n",
       "      <th>14998</th>\n",
       "      <td>14998</td>\n",
       "      <td>c4117358-fd89-44cd-b388-4ec6d3538c72|custodia....</td>\n",
       "    </tr>\n",
       "    <tr>\n",
       "      <th>14999</th>\n",
       "      <td>14999</td>\n",
       "      <td>f97ec0a6-6fb7-401e-83fa-5fb3957ee02b|brígida.s...</td>\n",
       "    </tr>\n",
       "  </tbody>\n",
       "</table>\n",
       "<p>15000 rows × 2 columns</p>\n",
       "</div>"
      ],
      "text/plain": [
       "       index                                 id_nombre_apellido\n",
       "0          0  346f2a77-33f4-4b2d-82f3-e8501e21b28d|feliciana...\n",
       "1          1  346f2a77-33f4-4b2d-82f3-e8501e21b28d|leonardo....\n",
       "2          2  6ec4d7d2-e382-47cc-94f6-c647577d4035|maite.cal...\n",
       "3          3   aed17fe8-eb18-4f69-bf08-df1afdc339c3|tecla.bonet\n",
       "4          4  710a2fbb-264f-426a-aa66-f8fffd146a2d|amílcar.a...\n",
       "...      ...                                                ...\n",
       "14995  14995  de729428-ec23-4665-a5c9-79e3ec282470|lorena.román\n",
       "14996  14996  8469b819-d96a-4904-9cdd-710764f6301f|toño.narváez\n",
       "14997  14997  e89751f4-3621-4636-81d3-90e2baa709cb|nadia.ver...\n",
       "14998  14998  c4117358-fd89-44cd-b388-4ec6d3538c72|custodia....\n",
       "14999  14999  f97ec0a6-6fb7-401e-83fa-5fb3957ee02b|brígida.s...\n",
       "\n",
       "[15000 rows x 2 columns]"
      ]
     },
     "execution_count": 24,
     "metadata": {},
     "output_type": "execute_result"
    }
   ],
   "source": [
    "#tengo menos id_clientes que combinaciones de nombres y apellidos. Parece que hay clientes con un mismo id y diferentes nombres. Intento localizarlos\n",
    "\n",
    "df[\"id_nombre_apellido\"] = df[\"id_cliente\"]+\"|\"+df[\"nombre_apellido\"]\n",
    "df\n",
    "df_id_nombre_apellido =df[\"id_nombre_apellido\"].reset_index()\n",
    "df_id_nombre_apellido"
   ]
  },
  {
   "cell_type": "code",
   "execution_count": 25,
   "metadata": {},
   "outputs": [],
   "source": [
    "df_id_nombre_apellido['id']=df['id_nombre_apellido'].str.split('|', expand=True)[0]\n",
    "df_id_nombre_apellido['nombre_apellido']=df['id_nombre_apellido'].str.split('|', expand=True)[1]"
   ]
  },
  {
   "cell_type": "code",
   "execution_count": 26,
   "metadata": {},
   "outputs": [
    {
     "data": {
      "application/vnd.microsoft.datawrangler.viewer.v0+json": {
       "columns": [
        {
         "name": "index",
         "rawType": "int64",
         "type": "integer"
        },
        {
         "name": "nombre_apellido",
         "rawType": "object",
         "type": "string"
        },
        {
         "name": "count",
         "rawType": "int64",
         "type": "integer"
        }
       ],
       "conversionMethod": "pd.DataFrame",
       "ref": "7b915b76-79e6-4eeb-97a0-c39403a170ad",
       "rows": [
        [
         "0",
         "victoriano.ródenas",
         "3"
        ],
        [
         "1",
         "ariadna.miguel",
         "3"
        ],
        [
         "2",
         "manuelita.leiva",
         "2"
        ],
        [
         "3",
         "anselma.cano",
         "2"
        ],
        [
         "4",
         "sergio.carrión",
         "2"
        ],
        [
         "5",
         "graciana.cánovas",
         "2"
        ],
        [
         "6",
         "aitor.prieto",
         "2"
        ],
        [
         "7",
         "che.pelayo",
         "2"
        ],
        [
         "8",
         "graciela.larrañaga",
         "2"
        ],
        [
         "9",
         "leoncio.robledo",
         "2"
        ],
        [
         "10",
         "rosa.calleja",
         "2"
        ],
        [
         "11",
         "josefina.mancebo",
         "2"
        ],
        [
         "12",
         "clarisa.coll",
         "2"
        ],
        [
         "13",
         "victor.redondo",
         "2"
        ],
        [
         "14",
         "samuel.arco",
         "2"
        ],
        [
         "15",
         "tania.cerro",
         "2"
        ],
        [
         "16",
         "gertrudis.company",
         "2"
        ],
        [
         "17",
         "josé.ros",
         "2"
        ],
        [
         "18",
         "modesta.heras",
         "2"
        ],
        [
         "19",
         "trinidad.echeverría",
         "2"
        ],
        [
         "20",
         "anita.rueda",
         "2"
        ],
        [
         "21",
         "saturnina.moliner",
         "2"
        ],
        [
         "22",
         "sofía.lamas",
         "2"
        ],
        [
         "23",
         "juan antonio.benavides",
         "2"
        ],
        [
         "24",
         "eric.salamanca",
         "2"
        ],
        [
         "25",
         "guadalupe.dueñas",
         "2"
        ],
        [
         "26",
         "edgardo.gibert",
         "2"
        ],
        [
         "27",
         "marina.vargas",
         "2"
        ],
        [
         "28",
         "priscila.villena",
         "2"
        ],
        [
         "29",
         "paulina.girón",
         "2"
        ],
        [
         "30",
         "maxi.ibañez",
         "2"
        ],
        [
         "31",
         "alicia.lobo",
         "2"
        ],
        [
         "32",
         "jacinto.jove",
         "2"
        ],
        [
         "33",
         "maría fernanda.ramos",
         "2"
        ],
        [
         "34",
         "consuela.folch",
         "2"
        ],
        [
         "35",
         "chus.aguirre",
         "2"
        ],
        [
         "36",
         "magdalena.huerta",
         "2"
        ],
        [
         "37",
         "olalla.morillo",
         "2"
        ],
        [
         "38",
         "celso.elorza",
         "2"
        ],
        [
         "39",
         "odalys.riba",
         "2"
        ],
        [
         "40",
         "maximiano.carreras",
         "2"
        ],
        [
         "41",
         "bernarda.suarez",
         "2"
        ],
        [
         "42",
         "josé mari.frutos",
         "2"
        ],
        [
         "43",
         "felisa.benavent",
         "2"
        ],
        [
         "44",
         "sergio.ortega",
         "2"
        ],
        [
         "45",
         "emiliano.diéguez",
         "2"
        ],
        [
         "46",
         "leandra.castañeda",
         "2"
        ],
        [
         "47",
         "domingo.zabaleta",
         "2"
        ],
        [
         "48",
         "pío.cid",
         "2"
        ],
        [
         "49",
         "florentino.moraleda",
         "2"
        ]
       ],
       "shape": {
        "columns": 2,
        "rows": 14905
       }
      },
      "text/html": [
       "<div>\n",
       "<style scoped>\n",
       "    .dataframe tbody tr th:only-of-type {\n",
       "        vertical-align: middle;\n",
       "    }\n",
       "\n",
       "    .dataframe tbody tr th {\n",
       "        vertical-align: top;\n",
       "    }\n",
       "\n",
       "    .dataframe thead th {\n",
       "        text-align: right;\n",
       "    }\n",
       "</style>\n",
       "<table border=\"1\" class=\"dataframe\">\n",
       "  <thead>\n",
       "    <tr style=\"text-align: right;\">\n",
       "      <th></th>\n",
       "      <th>nombre_apellido</th>\n",
       "      <th>count</th>\n",
       "    </tr>\n",
       "  </thead>\n",
       "  <tbody>\n",
       "    <tr>\n",
       "      <th>0</th>\n",
       "      <td>victoriano.ródenas</td>\n",
       "      <td>3</td>\n",
       "    </tr>\n",
       "    <tr>\n",
       "      <th>1</th>\n",
       "      <td>ariadna.miguel</td>\n",
       "      <td>3</td>\n",
       "    </tr>\n",
       "    <tr>\n",
       "      <th>2</th>\n",
       "      <td>manuelita.leiva</td>\n",
       "      <td>2</td>\n",
       "    </tr>\n",
       "    <tr>\n",
       "      <th>3</th>\n",
       "      <td>anselma.cano</td>\n",
       "      <td>2</td>\n",
       "    </tr>\n",
       "    <tr>\n",
       "      <th>4</th>\n",
       "      <td>sergio.carrión</td>\n",
       "      <td>2</td>\n",
       "    </tr>\n",
       "    <tr>\n",
       "      <th>...</th>\n",
       "      <td>...</td>\n",
       "      <td>...</td>\n",
       "    </tr>\n",
       "    <tr>\n",
       "      <th>14900</th>\n",
       "      <td>plácido.ocaña</td>\n",
       "      <td>1</td>\n",
       "    </tr>\n",
       "    <tr>\n",
       "      <th>14901</th>\n",
       "      <td>agapito.ortiz</td>\n",
       "      <td>1</td>\n",
       "    </tr>\n",
       "    <tr>\n",
       "      <th>14902</th>\n",
       "      <td>eligio.paredes</td>\n",
       "      <td>1</td>\n",
       "    </tr>\n",
       "    <tr>\n",
       "      <th>14903</th>\n",
       "      <td>roxana.teruel</td>\n",
       "      <td>1</td>\n",
       "    </tr>\n",
       "    <tr>\n",
       "      <th>14904</th>\n",
       "      <td>tecla.bonet</td>\n",
       "      <td>1</td>\n",
       "    </tr>\n",
       "  </tbody>\n",
       "</table>\n",
       "<p>14905 rows × 2 columns</p>\n",
       "</div>"
      ],
      "text/plain": [
       "          nombre_apellido  count\n",
       "0      victoriano.ródenas      3\n",
       "1          ariadna.miguel      3\n",
       "2         manuelita.leiva      2\n",
       "3            anselma.cano      2\n",
       "4          sergio.carrión      2\n",
       "...                   ...    ...\n",
       "14900       plácido.ocaña      1\n",
       "14901       agapito.ortiz      1\n",
       "14902      eligio.paredes      1\n",
       "14903       roxana.teruel      1\n",
       "14904         tecla.bonet      1\n",
       "\n",
       "[14905 rows x 2 columns]"
      ]
     },
     "execution_count": 26,
     "metadata": {},
     "output_type": "execute_result"
    }
   ],
   "source": [
    "df_contador_nombres_apellidos = df_id_nombre_apellido.nombre_apellido.value_counts().reset_index()\n",
    "df_contador_nombres_apellidos"
   ]
  },
  {
   "cell_type": "code",
   "execution_count": 27,
   "metadata": {},
   "outputs": [
    {
     "data": {
      "application/vnd.microsoft.datawrangler.viewer.v0+json": {
       "columns": [
        {
         "name": "index",
         "rawType": "int64",
         "type": "integer"
        },
        {
         "name": "nombre_apellido",
         "rawType": "object",
         "type": "string"
        },
        {
         "name": "count",
         "rawType": "int64",
         "type": "integer"
        }
       ],
       "conversionMethod": "pd.DataFrame",
       "ref": "b9b9f93f-ea65-4fd8-b58e-8f71550d1b99",
       "rows": [
        [
         "0",
         "victoriano.ródenas",
         "3"
        ],
        [
         "1",
         "ariadna.miguel",
         "3"
        ],
        [
         "2",
         "manuelita.leiva",
         "2"
        ],
        [
         "3",
         "anselma.cano",
         "2"
        ],
        [
         "4",
         "sergio.carrión",
         "2"
        ],
        [
         "5",
         "graciana.cánovas",
         "2"
        ],
        [
         "6",
         "aitor.prieto",
         "2"
        ],
        [
         "7",
         "che.pelayo",
         "2"
        ],
        [
         "8",
         "graciela.larrañaga",
         "2"
        ],
        [
         "9",
         "leoncio.robledo",
         "2"
        ],
        [
         "10",
         "rosa.calleja",
         "2"
        ],
        [
         "11",
         "josefina.mancebo",
         "2"
        ],
        [
         "12",
         "clarisa.coll",
         "2"
        ],
        [
         "13",
         "victor.redondo",
         "2"
        ],
        [
         "14",
         "samuel.arco",
         "2"
        ],
        [
         "15",
         "tania.cerro",
         "2"
        ],
        [
         "16",
         "gertrudis.company",
         "2"
        ],
        [
         "17",
         "josé.ros",
         "2"
        ],
        [
         "18",
         "modesta.heras",
         "2"
        ],
        [
         "19",
         "trinidad.echeverría",
         "2"
        ],
        [
         "20",
         "anita.rueda",
         "2"
        ],
        [
         "21",
         "saturnina.moliner",
         "2"
        ],
        [
         "22",
         "sofía.lamas",
         "2"
        ],
        [
         "23",
         "juan antonio.benavides",
         "2"
        ],
        [
         "24",
         "eric.salamanca",
         "2"
        ],
        [
         "25",
         "guadalupe.dueñas",
         "2"
        ],
        [
         "26",
         "edgardo.gibert",
         "2"
        ],
        [
         "27",
         "marina.vargas",
         "2"
        ],
        [
         "28",
         "priscila.villena",
         "2"
        ],
        [
         "29",
         "paulina.girón",
         "2"
        ],
        [
         "30",
         "maxi.ibañez",
         "2"
        ],
        [
         "31",
         "alicia.lobo",
         "2"
        ],
        [
         "32",
         "jacinto.jove",
         "2"
        ],
        [
         "33",
         "maría fernanda.ramos",
         "2"
        ],
        [
         "34",
         "consuela.folch",
         "2"
        ],
        [
         "35",
         "chus.aguirre",
         "2"
        ],
        [
         "36",
         "magdalena.huerta",
         "2"
        ],
        [
         "37",
         "olalla.morillo",
         "2"
        ],
        [
         "38",
         "celso.elorza",
         "2"
        ],
        [
         "39",
         "odalys.riba",
         "2"
        ],
        [
         "40",
         "maximiano.carreras",
         "2"
        ],
        [
         "41",
         "bernarda.suarez",
         "2"
        ],
        [
         "42",
         "josé mari.frutos",
         "2"
        ],
        [
         "43",
         "felisa.benavent",
         "2"
        ],
        [
         "44",
         "sergio.ortega",
         "2"
        ],
        [
         "45",
         "emiliano.diéguez",
         "2"
        ],
        [
         "46",
         "leandra.castañeda",
         "2"
        ],
        [
         "47",
         "domingo.zabaleta",
         "2"
        ],
        [
         "48",
         "pío.cid",
         "2"
        ],
        [
         "49",
         "florentino.moraleda",
         "2"
        ]
       ],
       "shape": {
        "columns": 2,
        "rows": 93
       }
      },
      "text/html": [
       "<div>\n",
       "<style scoped>\n",
       "    .dataframe tbody tr th:only-of-type {\n",
       "        vertical-align: middle;\n",
       "    }\n",
       "\n",
       "    .dataframe tbody tr th {\n",
       "        vertical-align: top;\n",
       "    }\n",
       "\n",
       "    .dataframe thead th {\n",
       "        text-align: right;\n",
       "    }\n",
       "</style>\n",
       "<table border=\"1\" class=\"dataframe\">\n",
       "  <thead>\n",
       "    <tr style=\"text-align: right;\">\n",
       "      <th></th>\n",
       "      <th>nombre_apellido</th>\n",
       "      <th>count</th>\n",
       "    </tr>\n",
       "  </thead>\n",
       "  <tbody>\n",
       "    <tr>\n",
       "      <th>0</th>\n",
       "      <td>victoriano.ródenas</td>\n",
       "      <td>3</td>\n",
       "    </tr>\n",
       "    <tr>\n",
       "      <th>1</th>\n",
       "      <td>ariadna.miguel</td>\n",
       "      <td>3</td>\n",
       "    </tr>\n",
       "    <tr>\n",
       "      <th>2</th>\n",
       "      <td>manuelita.leiva</td>\n",
       "      <td>2</td>\n",
       "    </tr>\n",
       "    <tr>\n",
       "      <th>3</th>\n",
       "      <td>anselma.cano</td>\n",
       "      <td>2</td>\n",
       "    </tr>\n",
       "    <tr>\n",
       "      <th>4</th>\n",
       "      <td>sergio.carrión</td>\n",
       "      <td>2</td>\n",
       "    </tr>\n",
       "    <tr>\n",
       "      <th>...</th>\n",
       "      <td>...</td>\n",
       "      <td>...</td>\n",
       "    </tr>\n",
       "    <tr>\n",
       "      <th>88</th>\n",
       "      <td>brígida.cózar</td>\n",
       "      <td>2</td>\n",
       "    </tr>\n",
       "    <tr>\n",
       "      <th>89</th>\n",
       "      <td>sofía.pellicer</td>\n",
       "      <td>2</td>\n",
       "    </tr>\n",
       "    <tr>\n",
       "      <th>90</th>\n",
       "      <td>florencia.olivé</td>\n",
       "      <td>2</td>\n",
       "    </tr>\n",
       "    <tr>\n",
       "      <th>91</th>\n",
       "      <td>olalla.lillo</td>\n",
       "      <td>2</td>\n",
       "    </tr>\n",
       "    <tr>\n",
       "      <th>92</th>\n",
       "      <td>victor.peiró</td>\n",
       "      <td>2</td>\n",
       "    </tr>\n",
       "  </tbody>\n",
       "</table>\n",
       "<p>93 rows × 2 columns</p>\n",
       "</div>"
      ],
      "text/plain": [
       "       nombre_apellido  count\n",
       "0   victoriano.ródenas      3\n",
       "1       ariadna.miguel      3\n",
       "2      manuelita.leiva      2\n",
       "3         anselma.cano      2\n",
       "4       sergio.carrión      2\n",
       "..                 ...    ...\n",
       "88       brígida.cózar      2\n",
       "89      sofía.pellicer      2\n",
       "90     florencia.olivé      2\n",
       "91        olalla.lillo      2\n",
       "92        victor.peiró      2\n",
       "\n",
       "[93 rows x 2 columns]"
      ]
     },
     "execution_count": 27,
     "metadata": {},
     "output_type": "execute_result"
    }
   ],
   "source": [
    "df_contador_nombres_apellidos[df_contador_nombres_apellidos['count']>1]"
   ]
  },
  {
   "cell_type": "code",
   "execution_count": 28,
   "metadata": {},
   "outputs": [],
   "source": [
    "lista_nombres_duplicados= df_contador_nombres_apellidos[df_contador_nombres_apellidos['count']>1].nombre_apellido.to_list()"
   ]
  },
  {
   "cell_type": "code",
   "execution_count": 29,
   "metadata": {},
   "outputs": [
    {
     "data": {
      "application/vnd.microsoft.datawrangler.viewer.v0+json": {
       "columns": [
        {
         "name": "index",
         "rawType": "int64",
         "type": "integer"
        },
        {
         "name": "id_reserva",
         "rawType": "object",
         "type": "string"
        },
        {
         "name": "id_cliente",
         "rawType": "object",
         "type": "string"
        },
        {
         "name": "nombre",
         "rawType": "object",
         "type": "string"
        },
        {
         "name": "apellido",
         "rawType": "object",
         "type": "string"
        },
        {
         "name": "mail",
         "rawType": "object",
         "type": "string"
        },
        {
         "name": "competencia",
         "rawType": "bool",
         "type": "boolean"
        },
        {
         "name": "fecha_reserva",
         "rawType": "datetime64[ns]",
         "type": "datetime"
        },
        {
         "name": "inicio_estancia",
         "rawType": "datetime64[ns]",
         "type": "datetime"
        },
        {
         "name": "final_estancia",
         "rawType": "datetime64[ns]",
         "type": "datetime"
        },
        {
         "name": "id_hotel",
         "rawType": "int64",
         "type": "integer"
        },
        {
         "name": "precio_noche",
         "rawType": "float64",
         "type": "float"
        },
        {
         "name": "nombre_hotel",
         "rawType": "object",
         "type": "string"
        },
        {
         "name": "estrellas",
         "rawType": "Int64",
         "type": "integer"
        },
        {
         "name": "ciudad",
         "rawType": "object",
         "type": "string"
        },
        {
         "name": "nombre_apellido",
         "rawType": "object",
         "type": "string"
        },
        {
         "name": "id_nombre_apellido",
         "rawType": "object",
         "type": "string"
        }
       ],
       "conversionMethod": "pd.DataFrame",
       "ref": "9a7e6561-beed-464c-a10a-0da066af6b15",
       "rows": [
        [
         "4695",
         "264e8d8a-cf96-40e6-b39d-88a857840ed9",
         "883c41b0-0936-4bb0-b5aa-c4c85b52108a",
         "Victoriano",
         "Ródenas",
         "victoriano.ródenas@example.com",
         "False",
         "2025-02-05 00:00:00",
         "2025-03-01 00:00:00",
         "2025-03-02 00:00:00",
         "3",
         "167.32",
         "Hotel Monte Verde",
         "2",
         "Madrid",
         "victoriano.ródenas",
         "883c41b0-0936-4bb0-b5aa-c4c85b52108a|victoriano.ródenas"
        ],
        [
         "6291",
         "5f4d7519-6a4f-4a62-98ab-f164ccd8e1e1",
         "6aadb18c-9dac-471a-bb1c-66c563ac4285",
         "Victoriano",
         "Ródenas",
         "victoriano.ródenas@example.com",
         "True",
         null,
         "2025-03-01 00:00:00",
         "2025-03-02 00:00:00",
         "181",
         null,
         "",
         null,
         "",
         "victoriano.ródenas",
         "6aadb18c-9dac-471a-bb1c-66c563ac4285|victoriano.ródenas"
        ],
        [
         "12406",
         "bcd8c15f-6190-497a-9031-873f9f34c950",
         "c8b8e728-f11f-4001-ba70-f11ca5b20cce",
         "Victoriano",
         "Ródenas",
         "victoriano.ródenas@example.com",
         "False",
         "2025-02-10 00:00:00",
         "2025-03-01 00:00:00",
         "2025-03-02 00:00:00",
         "29",
         "392.54",
         "Hotel Monte Verde",
         "5",
         "Madrid",
         "victoriano.ródenas",
         "c8b8e728-f11f-4001-ba70-f11ca5b20cce|victoriano.ródenas"
        ]
       ],
       "shape": {
        "columns": 16,
        "rows": 3
       }
      },
      "text/html": [
       "<div>\n",
       "<style scoped>\n",
       "    .dataframe tbody tr th:only-of-type {\n",
       "        vertical-align: middle;\n",
       "    }\n",
       "\n",
       "    .dataframe tbody tr th {\n",
       "        vertical-align: top;\n",
       "    }\n",
       "\n",
       "    .dataframe thead th {\n",
       "        text-align: right;\n",
       "    }\n",
       "</style>\n",
       "<table border=\"1\" class=\"dataframe\">\n",
       "  <thead>\n",
       "    <tr style=\"text-align: right;\">\n",
       "      <th></th>\n",
       "      <th>id_reserva</th>\n",
       "      <th>id_cliente</th>\n",
       "      <th>nombre</th>\n",
       "      <th>apellido</th>\n",
       "      <th>mail</th>\n",
       "      <th>competencia</th>\n",
       "      <th>fecha_reserva</th>\n",
       "      <th>inicio_estancia</th>\n",
       "      <th>final_estancia</th>\n",
       "      <th>id_hotel</th>\n",
       "      <th>precio_noche</th>\n",
       "      <th>nombre_hotel</th>\n",
       "      <th>estrellas</th>\n",
       "      <th>ciudad</th>\n",
       "      <th>nombre_apellido</th>\n",
       "      <th>id_nombre_apellido</th>\n",
       "    </tr>\n",
       "  </thead>\n",
       "  <tbody>\n",
       "    <tr>\n",
       "      <th>4695</th>\n",
       "      <td>264e8d8a-cf96-40e6-b39d-88a857840ed9</td>\n",
       "      <td>883c41b0-0936-4bb0-b5aa-c4c85b52108a</td>\n",
       "      <td>Victoriano</td>\n",
       "      <td>Ródenas</td>\n",
       "      <td>victoriano.ródenas@example.com</td>\n",
       "      <td>False</td>\n",
       "      <td>2025-02-05</td>\n",
       "      <td>2025-03-01</td>\n",
       "      <td>2025-03-02</td>\n",
       "      <td>3</td>\n",
       "      <td>167.32</td>\n",
       "      <td>Hotel Monte Verde</td>\n",
       "      <td>2</td>\n",
       "      <td>Madrid</td>\n",
       "      <td>victoriano.ródenas</td>\n",
       "      <td>883c41b0-0936-4bb0-b5aa-c4c85b52108a|victorian...</td>\n",
       "    </tr>\n",
       "    <tr>\n",
       "      <th>6291</th>\n",
       "      <td>5f4d7519-6a4f-4a62-98ab-f164ccd8e1e1</td>\n",
       "      <td>6aadb18c-9dac-471a-bb1c-66c563ac4285</td>\n",
       "      <td>Victoriano</td>\n",
       "      <td>Ródenas</td>\n",
       "      <td>victoriano.ródenas@example.com</td>\n",
       "      <td>True</td>\n",
       "      <td>NaT</td>\n",
       "      <td>2025-03-01</td>\n",
       "      <td>2025-03-02</td>\n",
       "      <td>181</td>\n",
       "      <td>NaN</td>\n",
       "      <td></td>\n",
       "      <td>&lt;NA&gt;</td>\n",
       "      <td></td>\n",
       "      <td>victoriano.ródenas</td>\n",
       "      <td>6aadb18c-9dac-471a-bb1c-66c563ac4285|victorian...</td>\n",
       "    </tr>\n",
       "    <tr>\n",
       "      <th>12406</th>\n",
       "      <td>bcd8c15f-6190-497a-9031-873f9f34c950</td>\n",
       "      <td>c8b8e728-f11f-4001-ba70-f11ca5b20cce</td>\n",
       "      <td>Victoriano</td>\n",
       "      <td>Ródenas</td>\n",
       "      <td>victoriano.ródenas@example.com</td>\n",
       "      <td>False</td>\n",
       "      <td>2025-02-10</td>\n",
       "      <td>2025-03-01</td>\n",
       "      <td>2025-03-02</td>\n",
       "      <td>29</td>\n",
       "      <td>392.54</td>\n",
       "      <td>Hotel Monte Verde</td>\n",
       "      <td>5</td>\n",
       "      <td>Madrid</td>\n",
       "      <td>victoriano.ródenas</td>\n",
       "      <td>c8b8e728-f11f-4001-ba70-f11ca5b20cce|victorian...</td>\n",
       "    </tr>\n",
       "  </tbody>\n",
       "</table>\n",
       "</div>"
      ],
      "text/plain": [
       "                                 id_reserva  \\\n",
       "4695   264e8d8a-cf96-40e6-b39d-88a857840ed9   \n",
       "6291   5f4d7519-6a4f-4a62-98ab-f164ccd8e1e1   \n",
       "12406  bcd8c15f-6190-497a-9031-873f9f34c950   \n",
       "\n",
       "                                 id_cliente      nombre apellido  \\\n",
       "4695   883c41b0-0936-4bb0-b5aa-c4c85b52108a  Victoriano  Ródenas   \n",
       "6291   6aadb18c-9dac-471a-bb1c-66c563ac4285  Victoriano  Ródenas   \n",
       "12406  c8b8e728-f11f-4001-ba70-f11ca5b20cce  Victoriano  Ródenas   \n",
       "\n",
       "                                 mail  competencia fecha_reserva  \\\n",
       "4695   victoriano.ródenas@example.com        False    2025-02-05   \n",
       "6291   victoriano.ródenas@example.com         True           NaT   \n",
       "12406  victoriano.ródenas@example.com        False    2025-02-10   \n",
       "\n",
       "      inicio_estancia final_estancia  id_hotel  precio_noche  \\\n",
       "4695       2025-03-01     2025-03-02         3        167.32   \n",
       "6291       2025-03-01     2025-03-02       181           NaN   \n",
       "12406      2025-03-01     2025-03-02        29        392.54   \n",
       "\n",
       "            nombre_hotel  estrellas  ciudad     nombre_apellido  \\\n",
       "4695   Hotel Monte Verde          2  Madrid  victoriano.ródenas   \n",
       "6291                           <NA>          victoriano.ródenas   \n",
       "12406  Hotel Monte Verde          5  Madrid  victoriano.ródenas   \n",
       "\n",
       "                                      id_nombre_apellido  \n",
       "4695   883c41b0-0936-4bb0-b5aa-c4c85b52108a|victorian...  \n",
       "6291   6aadb18c-9dac-471a-bb1c-66c563ac4285|victorian...  \n",
       "12406  c8b8e728-f11f-4001-ba70-f11ca5b20cce|victorian...  "
      ]
     },
     "execution_count": 29,
     "metadata": {},
     "output_type": "execute_result"
    }
   ],
   "source": [
    "df[df['nombre_apellido']=='victoriano.ródenas']"
   ]
  },
  {
   "cell_type": "code",
   "execution_count": 30,
   "metadata": {},
   "outputs": [
    {
     "data": {
      "application/vnd.microsoft.datawrangler.viewer.v0+json": {
       "columns": [
        {
         "name": "index",
         "rawType": "int64",
         "type": "integer"
        },
        {
         "name": "nombre_completo",
         "rawType": "object",
         "type": "string"
        },
        {
         "name": "num_id_duplicados",
         "rawType": "int64",
         "type": "integer"
        }
       ],
       "conversionMethod": "pd.DataFrame",
       "ref": "3a13dc54-42e6-42ab-933d-91f2e22f7b1d",
       "rows": [
        [
         "0",
         "victoriano.ródenas",
         "3"
        ],
        [
         "1",
         "ariadna.miguel",
         "3"
        ],
        [
         "2",
         "manuelita.leiva",
         "2"
        ],
        [
         "3",
         "anselma.cano",
         "2"
        ],
        [
         "4",
         "sergio.carrión",
         "2"
        ],
        [
         "5",
         "graciana.cánovas",
         "2"
        ],
        [
         "6",
         "aitor.prieto",
         "2"
        ],
        [
         "7",
         "che.pelayo",
         "2"
        ],
        [
         "8",
         "graciela.larrañaga",
         "2"
        ],
        [
         "9",
         "leoncio.robledo",
         "2"
        ],
        [
         "10",
         "rosa.calleja",
         "2"
        ],
        [
         "11",
         "josefina.mancebo",
         "2"
        ],
        [
         "12",
         "clarisa.coll",
         "2"
        ],
        [
         "13",
         "victor.redondo",
         "2"
        ],
        [
         "14",
         "samuel.arco",
         "2"
        ],
        [
         "15",
         "tania.cerro",
         "2"
        ],
        [
         "16",
         "gertrudis.company",
         "2"
        ],
        [
         "17",
         "josé.ros",
         "2"
        ],
        [
         "18",
         "modesta.heras",
         "2"
        ],
        [
         "19",
         "trinidad.echeverría",
         "2"
        ],
        [
         "20",
         "anita.rueda",
         "2"
        ],
        [
         "21",
         "saturnina.moliner",
         "2"
        ],
        [
         "22",
         "sofía.lamas",
         "2"
        ],
        [
         "23",
         "juan antonio.benavides",
         "2"
        ],
        [
         "24",
         "eric.salamanca",
         "2"
        ],
        [
         "25",
         "guadalupe.dueñas",
         "2"
        ],
        [
         "26",
         "edgardo.gibert",
         "2"
        ],
        [
         "27",
         "marina.vargas",
         "2"
        ],
        [
         "28",
         "priscila.villena",
         "2"
        ],
        [
         "29",
         "paulina.girón",
         "2"
        ],
        [
         "30",
         "maxi.ibañez",
         "2"
        ],
        [
         "31",
         "alicia.lobo",
         "2"
        ],
        [
         "32",
         "jacinto.jove",
         "2"
        ],
        [
         "33",
         "maría fernanda.ramos",
         "2"
        ],
        [
         "34",
         "consuela.folch",
         "2"
        ],
        [
         "35",
         "chus.aguirre",
         "2"
        ],
        [
         "36",
         "magdalena.huerta",
         "2"
        ],
        [
         "37",
         "olalla.morillo",
         "2"
        ],
        [
         "38",
         "celso.elorza",
         "2"
        ],
        [
         "39",
         "odalys.riba",
         "2"
        ],
        [
         "40",
         "maximiano.carreras",
         "2"
        ],
        [
         "41",
         "bernarda.suarez",
         "2"
        ],
        [
         "42",
         "josé mari.frutos",
         "2"
        ],
        [
         "43",
         "felisa.benavent",
         "2"
        ],
        [
         "44",
         "sergio.ortega",
         "2"
        ],
        [
         "45",
         "emiliano.diéguez",
         "2"
        ],
        [
         "46",
         "leandra.castañeda",
         "2"
        ],
        [
         "47",
         "domingo.zabaleta",
         "2"
        ],
        [
         "48",
         "pío.cid",
         "2"
        ],
        [
         "49",
         "florentino.moraleda",
         "2"
        ]
       ],
       "shape": {
        "columns": 2,
        "rows": 93
       }
      },
      "text/html": [
       "<div>\n",
       "<style scoped>\n",
       "    .dataframe tbody tr th:only-of-type {\n",
       "        vertical-align: middle;\n",
       "    }\n",
       "\n",
       "    .dataframe tbody tr th {\n",
       "        vertical-align: top;\n",
       "    }\n",
       "\n",
       "    .dataframe thead th {\n",
       "        text-align: right;\n",
       "    }\n",
       "</style>\n",
       "<table border=\"1\" class=\"dataframe\">\n",
       "  <thead>\n",
       "    <tr style=\"text-align: right;\">\n",
       "      <th></th>\n",
       "      <th>nombre_completo</th>\n",
       "      <th>num_id_duplicados</th>\n",
       "    </tr>\n",
       "  </thead>\n",
       "  <tbody>\n",
       "    <tr>\n",
       "      <th>0</th>\n",
       "      <td>victoriano.ródenas</td>\n",
       "      <td>3</td>\n",
       "    </tr>\n",
       "    <tr>\n",
       "      <th>1</th>\n",
       "      <td>ariadna.miguel</td>\n",
       "      <td>3</td>\n",
       "    </tr>\n",
       "    <tr>\n",
       "      <th>2</th>\n",
       "      <td>manuelita.leiva</td>\n",
       "      <td>2</td>\n",
       "    </tr>\n",
       "    <tr>\n",
       "      <th>3</th>\n",
       "      <td>anselma.cano</td>\n",
       "      <td>2</td>\n",
       "    </tr>\n",
       "    <tr>\n",
       "      <th>4</th>\n",
       "      <td>sergio.carrión</td>\n",
       "      <td>2</td>\n",
       "    </tr>\n",
       "    <tr>\n",
       "      <th>...</th>\n",
       "      <td>...</td>\n",
       "      <td>...</td>\n",
       "    </tr>\n",
       "    <tr>\n",
       "      <th>88</th>\n",
       "      <td>brígida.cózar</td>\n",
       "      <td>2</td>\n",
       "    </tr>\n",
       "    <tr>\n",
       "      <th>89</th>\n",
       "      <td>sofía.pellicer</td>\n",
       "      <td>2</td>\n",
       "    </tr>\n",
       "    <tr>\n",
       "      <th>90</th>\n",
       "      <td>florencia.olivé</td>\n",
       "      <td>2</td>\n",
       "    </tr>\n",
       "    <tr>\n",
       "      <th>91</th>\n",
       "      <td>olalla.lillo</td>\n",
       "      <td>2</td>\n",
       "    </tr>\n",
       "    <tr>\n",
       "      <th>92</th>\n",
       "      <td>victor.peiró</td>\n",
       "      <td>2</td>\n",
       "    </tr>\n",
       "  </tbody>\n",
       "</table>\n",
       "<p>93 rows × 2 columns</p>\n",
       "</div>"
      ],
      "text/plain": [
       "       nombre_completo  num_id_duplicados\n",
       "0   victoriano.ródenas                  3\n",
       "1       ariadna.miguel                  3\n",
       "2      manuelita.leiva                  2\n",
       "3         anselma.cano                  2\n",
       "4       sergio.carrión                  2\n",
       "..                 ...                ...\n",
       "88       brígida.cózar                  2\n",
       "89      sofía.pellicer                  2\n",
       "90     florencia.olivé                  2\n",
       "91        olalla.lillo                  2\n",
       "92        victor.peiró                  2\n",
       "\n",
       "[93 rows x 2 columns]"
      ]
     },
     "execution_count": 30,
     "metadata": {},
     "output_type": "execute_result"
    }
   ],
   "source": [
    "dict_clientes_dup ={'nombre_completo':[],\n",
    "                     'num_id_duplicados':[]}\n",
    "for nombre in lista_nombres_duplicados:\n",
    "    nombre_completo=nombre\n",
    "    num_ids_duplicados = len(df[df.nombre_apellido == nombre].id_cliente.value_counts())\n",
    "    dict_clientes_dup['nombre_completo'].append(nombre_completo)\n",
    "    dict_clientes_dup['num_id_duplicados'].append(num_ids_duplicados)\n",
    "dict_clientes_dup\n",
    "df_clientes_dup=pd.DataFrame(dict_clientes_dup)\n",
    "df_clientes_dup"
   ]
  },
  {
   "cell_type": "code",
   "execution_count": 31,
   "metadata": {},
   "outputs": [
    {
     "data": {
      "application/vnd.microsoft.datawrangler.viewer.v0+json": {
       "columns": [
        {
         "name": "index",
         "rawType": "int64",
         "type": "integer"
        },
        {
         "name": "id",
         "rawType": "object",
         "type": "string"
        },
        {
         "name": "count",
         "rawType": "int64",
         "type": "integer"
        }
       ],
       "conversionMethod": "pd.DataFrame",
       "ref": "ad26b817-00e0-45eb-b045-eedaa58af2d6",
       "rows": [
        [
         "0",
         "8bec1ff1-84d7-4cad-937f-dbae37691569",
         "3"
        ],
        [
         "1",
         "ba60cff3-280a-4948-b6da-5e76e57b9d79",
         "3"
        ],
        [
         "2",
         "f0c7fbf6-cea3-42fc-a94f-11c69dbf5713",
         "3"
        ],
        [
         "3",
         "3369b2b1-6b9a-4914-b7bb-655dd1d9c90f",
         "2"
        ],
        [
         "4",
         "d5897c77-6f76-4830-a64f-f6074f4833d1",
         "2"
        ],
        [
         "5",
         "e7daaa85-c49b-4f88-bdb5-79d8422114e5",
         "2"
        ],
        [
         "6",
         "346f2a77-33f4-4b2d-82f3-e8501e21b28d",
         "2"
        ],
        [
         "7",
         "f9c8c427-1258-40eb-8851-b13073c066c6",
         "2"
        ],
        [
         "8",
         "bfbb9754-fcab-4580-bb2a-9ab295149227",
         "2"
        ],
        [
         "9",
         "ae68f2e5-7466-4788-a9df-2e08fe90988c",
         "2"
        ],
        [
         "10",
         "494f52f6-865f-4d77-8176-82b59e39a2d5",
         "2"
        ],
        [
         "11",
         "2e7850fd-473c-488f-9e0b-d2f243fd5868",
         "2"
        ],
        [
         "12",
         "f4d72083-c218-4e30-b4c2-e1d0608ceeca",
         "2"
        ],
        [
         "13",
         "41806239-9bf8-412e-b49b-b2d49d9dcc7a",
         "2"
        ],
        [
         "14",
         "2b15a636-76f1-4c9a-b689-0581c3245aa2",
         "2"
        ],
        [
         "15",
         "dbaadb0e-a0ff-436e-9b10-c697fb90b720",
         "2"
        ],
        [
         "16",
         "76dffae5-9f43-4377-a3fb-e93f119a85a2",
         "2"
        ],
        [
         "17",
         "7cf6dc46-d76e-491b-82db-21ea80146033",
         "2"
        ],
        [
         "18",
         "33c9a7ac-f3de-4663-98d2-2dda8e0c06ab",
         "2"
        ],
        [
         "19",
         "5a2d9076-03e5-482c-a7a4-45f5abc6cc62",
         "2"
        ],
        [
         "20",
         "63dec33e-2184-4cb3-bf8b-111d057d2b47",
         "2"
        ],
        [
         "21",
         "97e93d3a-a98d-475b-bb6c-e7500c244248",
         "2"
        ],
        [
         "22",
         "f59f6625-82d7-4780-be06-fde2b6916240",
         "2"
        ],
        [
         "23",
         "a42e5ef0-9734-4dcc-bc18-1880513f3c80",
         "2"
        ],
        [
         "24",
         "8c6a22ed-6e86-4176-9b6e-17c0bb702ab4",
         "2"
        ],
        [
         "25",
         "cbb223ab-7def-45ac-84d0-28ed889b2790",
         "2"
        ],
        [
         "26",
         "b3eff22f-47b2-4d39-a49d-a412c8dcdc2d",
         "2"
        ],
        [
         "27",
         "60d138e9-eed8-4937-8564-c091f662a557",
         "2"
        ],
        [
         "28",
         "37ec97b1-9ceb-48e0-a3af-7a79b9585603",
         "2"
        ],
        [
         "29",
         "a8648939-b60a-4448-abbb-557632c4a724",
         "2"
        ],
        [
         "30",
         "55070df1-1f08-44ad-a52f-f03594728734",
         "2"
        ],
        [
         "31",
         "29690e15-e64e-408f-a7a5-a84bb254aef6",
         "2"
        ],
        [
         "32",
         "9920620c-67c7-4263-a513-c709e37a7f43",
         "2"
        ],
        [
         "33",
         "f8fc8162-f481-44f2-ac98-4a952cbe8ffc",
         "2"
        ],
        [
         "34",
         "46b9766f-eb3a-47c5-9eff-6a77bfacc6a5",
         "2"
        ],
        [
         "35",
         "bd012cdf-50e3-4a8d-b1f1-437de8dcc546",
         "2"
        ],
        [
         "36",
         "3f042300-456b-4a7e-85f2-7d1929319628",
         "2"
        ],
        [
         "37",
         "b1ed01bf-5945-4aaf-a925-555755b587c3",
         "2"
        ],
        [
         "38",
         "a6065837-158a-49e8-99b8-7d835bbec514",
         "2"
        ],
        [
         "39",
         "21294898-0afc-489d-8f71-1ca78bedbe2f",
         "2"
        ],
        [
         "40",
         "4f47a5b4-85a0-43cb-9d82-7da83489372d",
         "2"
        ],
        [
         "41",
         "fa6dca51-93f8-49ab-b968-64fad32964a7",
         "2"
        ],
        [
         "42",
         "fc80813f-65e8-4ae7-a179-8308c1440cf8",
         "2"
        ],
        [
         "43",
         "fb13250c-e420-444d-9cdb-4327fc1077f7",
         "2"
        ],
        [
         "44",
         "afcdc6b6-a0c8-4c69-9bc7-15ac27b4aa5d",
         "2"
        ],
        [
         "45",
         "fba96362-d117-4f45-b405-f735d813833a",
         "2"
        ],
        [
         "46",
         "a44bb598-0a86-4e4a-b19e-66ddff9f3d2f",
         "2"
        ],
        [
         "47",
         "37a734ca-5cd0-4148-89af-3f0250b44fe6",
         "2"
        ],
        [
         "48",
         "f4c589f1-31cc-47c6-8e42-519944f18fe9",
         "2"
        ],
        [
         "49",
         "54e70a9c-c9ce-48d7-8b8f-9ac3ab24a2d1",
         "2"
        ]
       ],
       "shape": {
        "columns": 2,
        "rows": 14847
       }
      },
      "text/html": [
       "<div>\n",
       "<style scoped>\n",
       "    .dataframe tbody tr th:only-of-type {\n",
       "        vertical-align: middle;\n",
       "    }\n",
       "\n",
       "    .dataframe tbody tr th {\n",
       "        vertical-align: top;\n",
       "    }\n",
       "\n",
       "    .dataframe thead th {\n",
       "        text-align: right;\n",
       "    }\n",
       "</style>\n",
       "<table border=\"1\" class=\"dataframe\">\n",
       "  <thead>\n",
       "    <tr style=\"text-align: right;\">\n",
       "      <th></th>\n",
       "      <th>id</th>\n",
       "      <th>count</th>\n",
       "    </tr>\n",
       "  </thead>\n",
       "  <tbody>\n",
       "    <tr>\n",
       "      <th>0</th>\n",
       "      <td>8bec1ff1-84d7-4cad-937f-dbae37691569</td>\n",
       "      <td>3</td>\n",
       "    </tr>\n",
       "    <tr>\n",
       "      <th>1</th>\n",
       "      <td>ba60cff3-280a-4948-b6da-5e76e57b9d79</td>\n",
       "      <td>3</td>\n",
       "    </tr>\n",
       "    <tr>\n",
       "      <th>2</th>\n",
       "      <td>f0c7fbf6-cea3-42fc-a94f-11c69dbf5713</td>\n",
       "      <td>3</td>\n",
       "    </tr>\n",
       "    <tr>\n",
       "      <th>3</th>\n",
       "      <td>3369b2b1-6b9a-4914-b7bb-655dd1d9c90f</td>\n",
       "      <td>2</td>\n",
       "    </tr>\n",
       "    <tr>\n",
       "      <th>4</th>\n",
       "      <td>d5897c77-6f76-4830-a64f-f6074f4833d1</td>\n",
       "      <td>2</td>\n",
       "    </tr>\n",
       "    <tr>\n",
       "      <th>...</th>\n",
       "      <td>...</td>\n",
       "      <td>...</td>\n",
       "    </tr>\n",
       "    <tr>\n",
       "      <th>14842</th>\n",
       "      <td>697fb6ac-a6bd-4297-929c-2e2a287078ff</td>\n",
       "      <td>1</td>\n",
       "    </tr>\n",
       "    <tr>\n",
       "      <th>14843</th>\n",
       "      <td>fd5ad4dc-9b25-4087-86d9-af3658d0333b</td>\n",
       "      <td>1</td>\n",
       "    </tr>\n",
       "    <tr>\n",
       "      <th>14844</th>\n",
       "      <td>f0bb12f5-4649-4dfe-9562-2edbc303338c</td>\n",
       "      <td>1</td>\n",
       "    </tr>\n",
       "    <tr>\n",
       "      <th>14845</th>\n",
       "      <td>90190fd5-4ecc-4b3e-b56c-47f1daa81463</td>\n",
       "      <td>1</td>\n",
       "    </tr>\n",
       "    <tr>\n",
       "      <th>14846</th>\n",
       "      <td>23d27e02-85dd-4852-a241-0acf2fd098ff</td>\n",
       "      <td>1</td>\n",
       "    </tr>\n",
       "  </tbody>\n",
       "</table>\n",
       "<p>14847 rows × 2 columns</p>\n",
       "</div>"
      ],
      "text/plain": [
       "                                         id  count\n",
       "0      8bec1ff1-84d7-4cad-937f-dbae37691569      3\n",
       "1      ba60cff3-280a-4948-b6da-5e76e57b9d79      3\n",
       "2      f0c7fbf6-cea3-42fc-a94f-11c69dbf5713      3\n",
       "3      3369b2b1-6b9a-4914-b7bb-655dd1d9c90f      2\n",
       "4      d5897c77-6f76-4830-a64f-f6074f4833d1      2\n",
       "...                                     ...    ...\n",
       "14842  697fb6ac-a6bd-4297-929c-2e2a287078ff      1\n",
       "14843  fd5ad4dc-9b25-4087-86d9-af3658d0333b      1\n",
       "14844  f0bb12f5-4649-4dfe-9562-2edbc303338c      1\n",
       "14845  90190fd5-4ecc-4b3e-b56c-47f1daa81463      1\n",
       "14846  23d27e02-85dd-4852-a241-0acf2fd098ff      1\n",
       "\n",
       "[14847 rows x 2 columns]"
      ]
     },
     "execution_count": 31,
     "metadata": {},
     "output_type": "execute_result"
    }
   ],
   "source": [
    "df_contador_ids = df_id_nombre_apellido.id.value_counts().reset_index()\n",
    "df_contador_ids"
   ]
  },
  {
   "cell_type": "code",
   "execution_count": 32,
   "metadata": {},
   "outputs": [
    {
     "data": {
      "application/vnd.microsoft.datawrangler.viewer.v0+json": {
       "columns": [
        {
         "name": "index",
         "rawType": "int64",
         "type": "integer"
        },
        {
         "name": "id_reserva",
         "rawType": "object",
         "type": "string"
        },
        {
         "name": "id_cliente",
         "rawType": "object",
         "type": "string"
        },
        {
         "name": "nombre",
         "rawType": "object",
         "type": "string"
        },
        {
         "name": "apellido",
         "rawType": "object",
         "type": "string"
        },
        {
         "name": "mail",
         "rawType": "object",
         "type": "string"
        },
        {
         "name": "competencia",
         "rawType": "bool",
         "type": "boolean"
        },
        {
         "name": "fecha_reserva",
         "rawType": "datetime64[ns]",
         "type": "datetime"
        },
        {
         "name": "inicio_estancia",
         "rawType": "datetime64[ns]",
         "type": "datetime"
        },
        {
         "name": "final_estancia",
         "rawType": "datetime64[ns]",
         "type": "datetime"
        },
        {
         "name": "id_hotel",
         "rawType": "int64",
         "type": "integer"
        },
        {
         "name": "precio_noche",
         "rawType": "float64",
         "type": "float"
        },
        {
         "name": "nombre_hotel",
         "rawType": "object",
         "type": "string"
        },
        {
         "name": "estrellas",
         "rawType": "Int64",
         "type": "integer"
        },
        {
         "name": "ciudad",
         "rawType": "object",
         "type": "string"
        },
        {
         "name": "nombre_apellido",
         "rawType": "object",
         "type": "string"
        },
        {
         "name": "id_nombre_apellido",
         "rawType": "object",
         "type": "string"
        }
       ],
       "conversionMethod": "pd.DataFrame",
       "ref": "10c8a771-60c0-42e7-8807-eaed6e038475",
       "rows": [
        [
         "1482",
         "83a9686e-1e15-4cf1-9092-7c31e39db089",
         "8bec1ff1-84d7-4cad-937f-dbae37691569",
         "Raquel",
         "Jara",
         "raquel.jara@example.com",
         "False",
         "2025-02-01 00:00:00",
         "2025-03-01 00:00:00",
         "2025-03-02 00:00:00",
         "36",
         "399.29",
         "Hotel Luz de Madrid",
         "3",
         "Madrid",
         "raquel.jara",
         "8bec1ff1-84d7-4cad-937f-dbae37691569|raquel.jara"
        ],
        [
         "2287",
         "cede56a0-4525-48d4-966a-9bf94a10b4f0",
         "8bec1ff1-84d7-4cad-937f-dbae37691569",
         "Manolo",
         "Crespo",
         "manolo.crespo@example.com",
         "False",
         "2025-02-10 00:00:00",
         "2025-03-01 00:00:00",
         "2025-03-02 00:00:00",
         "48",
         "299.6",
         "Hotel Vista Alegre",
         "3",
         "Madrid",
         "manolo.crespo",
         "8bec1ff1-84d7-4cad-937f-dbae37691569|manolo.crespo"
        ],
        [
         "6764",
         "eae82e30-181e-4931-883e-9bcb55ce2125",
         "8bec1ff1-84d7-4cad-937f-dbae37691569",
         "Tito",
         "Mir",
         "tito.mir@example.com",
         "True",
         null,
         "2025-03-01 00:00:00",
         "2025-03-02 00:00:00",
         "135",
         null,
         "",
         null,
         "",
         "tito.mir",
         "8bec1ff1-84d7-4cad-937f-dbae37691569|tito.mir"
        ]
       ],
       "shape": {
        "columns": 16,
        "rows": 3
       }
      },
      "text/html": [
       "<div>\n",
       "<style scoped>\n",
       "    .dataframe tbody tr th:only-of-type {\n",
       "        vertical-align: middle;\n",
       "    }\n",
       "\n",
       "    .dataframe tbody tr th {\n",
       "        vertical-align: top;\n",
       "    }\n",
       "\n",
       "    .dataframe thead th {\n",
       "        text-align: right;\n",
       "    }\n",
       "</style>\n",
       "<table border=\"1\" class=\"dataframe\">\n",
       "  <thead>\n",
       "    <tr style=\"text-align: right;\">\n",
       "      <th></th>\n",
       "      <th>id_reserva</th>\n",
       "      <th>id_cliente</th>\n",
       "      <th>nombre</th>\n",
       "      <th>apellido</th>\n",
       "      <th>mail</th>\n",
       "      <th>competencia</th>\n",
       "      <th>fecha_reserva</th>\n",
       "      <th>inicio_estancia</th>\n",
       "      <th>final_estancia</th>\n",
       "      <th>id_hotel</th>\n",
       "      <th>precio_noche</th>\n",
       "      <th>nombre_hotel</th>\n",
       "      <th>estrellas</th>\n",
       "      <th>ciudad</th>\n",
       "      <th>nombre_apellido</th>\n",
       "      <th>id_nombre_apellido</th>\n",
       "    </tr>\n",
       "  </thead>\n",
       "  <tbody>\n",
       "    <tr>\n",
       "      <th>1482</th>\n",
       "      <td>83a9686e-1e15-4cf1-9092-7c31e39db089</td>\n",
       "      <td>8bec1ff1-84d7-4cad-937f-dbae37691569</td>\n",
       "      <td>Raquel</td>\n",
       "      <td>Jara</td>\n",
       "      <td>raquel.jara@example.com</td>\n",
       "      <td>False</td>\n",
       "      <td>2025-02-01</td>\n",
       "      <td>2025-03-01</td>\n",
       "      <td>2025-03-02</td>\n",
       "      <td>36</td>\n",
       "      <td>399.29</td>\n",
       "      <td>Hotel Luz de Madrid</td>\n",
       "      <td>3</td>\n",
       "      <td>Madrid</td>\n",
       "      <td>raquel.jara</td>\n",
       "      <td>8bec1ff1-84d7-4cad-937f-dbae37691569|raquel.jara</td>\n",
       "    </tr>\n",
       "    <tr>\n",
       "      <th>2287</th>\n",
       "      <td>cede56a0-4525-48d4-966a-9bf94a10b4f0</td>\n",
       "      <td>8bec1ff1-84d7-4cad-937f-dbae37691569</td>\n",
       "      <td>Manolo</td>\n",
       "      <td>Crespo</td>\n",
       "      <td>manolo.crespo@example.com</td>\n",
       "      <td>False</td>\n",
       "      <td>2025-02-10</td>\n",
       "      <td>2025-03-01</td>\n",
       "      <td>2025-03-02</td>\n",
       "      <td>48</td>\n",
       "      <td>299.60</td>\n",
       "      <td>Hotel Vista Alegre</td>\n",
       "      <td>3</td>\n",
       "      <td>Madrid</td>\n",
       "      <td>manolo.crespo</td>\n",
       "      <td>8bec1ff1-84d7-4cad-937f-dbae37691569|manolo.cr...</td>\n",
       "    </tr>\n",
       "    <tr>\n",
       "      <th>6764</th>\n",
       "      <td>eae82e30-181e-4931-883e-9bcb55ce2125</td>\n",
       "      <td>8bec1ff1-84d7-4cad-937f-dbae37691569</td>\n",
       "      <td>Tito</td>\n",
       "      <td>Mir</td>\n",
       "      <td>tito.mir@example.com</td>\n",
       "      <td>True</td>\n",
       "      <td>NaT</td>\n",
       "      <td>2025-03-01</td>\n",
       "      <td>2025-03-02</td>\n",
       "      <td>135</td>\n",
       "      <td>NaN</td>\n",
       "      <td></td>\n",
       "      <td>&lt;NA&gt;</td>\n",
       "      <td></td>\n",
       "      <td>tito.mir</td>\n",
       "      <td>8bec1ff1-84d7-4cad-937f-dbae37691569|tito.mir</td>\n",
       "    </tr>\n",
       "  </tbody>\n",
       "</table>\n",
       "</div>"
      ],
      "text/plain": [
       "                                id_reserva  \\\n",
       "1482  83a9686e-1e15-4cf1-9092-7c31e39db089   \n",
       "2287  cede56a0-4525-48d4-966a-9bf94a10b4f0   \n",
       "6764  eae82e30-181e-4931-883e-9bcb55ce2125   \n",
       "\n",
       "                                id_cliente  nombre apellido  \\\n",
       "1482  8bec1ff1-84d7-4cad-937f-dbae37691569  Raquel     Jara   \n",
       "2287  8bec1ff1-84d7-4cad-937f-dbae37691569  Manolo   Crespo   \n",
       "6764  8bec1ff1-84d7-4cad-937f-dbae37691569    Tito      Mir   \n",
       "\n",
       "                           mail  competencia fecha_reserva inicio_estancia  \\\n",
       "1482    raquel.jara@example.com        False    2025-02-01      2025-03-01   \n",
       "2287  manolo.crespo@example.com        False    2025-02-10      2025-03-01   \n",
       "6764       tito.mir@example.com         True           NaT      2025-03-01   \n",
       "\n",
       "     final_estancia  id_hotel  precio_noche         nombre_hotel  estrellas  \\\n",
       "1482     2025-03-02        36        399.29  Hotel Luz de Madrid          3   \n",
       "2287     2025-03-02        48        299.60   Hotel Vista Alegre          3   \n",
       "6764     2025-03-02       135           NaN                            <NA>   \n",
       "\n",
       "      ciudad nombre_apellido  \\\n",
       "1482  Madrid     raquel.jara   \n",
       "2287  Madrid   manolo.crespo   \n",
       "6764                tito.mir   \n",
       "\n",
       "                                     id_nombre_apellido  \n",
       "1482   8bec1ff1-84d7-4cad-937f-dbae37691569|raquel.jara  \n",
       "2287  8bec1ff1-84d7-4cad-937f-dbae37691569|manolo.cr...  \n",
       "6764      8bec1ff1-84d7-4cad-937f-dbae37691569|tito.mir  "
      ]
     },
     "execution_count": 32,
     "metadata": {},
     "output_type": "execute_result"
    }
   ],
   "source": [
    "df[df['id_cliente']=='8bec1ff1-84d7-4cad-937f-dbae37691569']"
   ]
  },
  {
   "cell_type": "code",
   "execution_count": 33,
   "metadata": {},
   "outputs": [],
   "source": [
    "lista_ids_duplicados = df_contador_ids[df_contador_ids['count']>1].id.to_list()"
   ]
  },
  {
   "cell_type": "code",
   "execution_count": 34,
   "metadata": {},
   "outputs": [
    {
     "data": {
      "application/vnd.microsoft.datawrangler.viewer.v0+json": {
       "columns": [
        {
         "name": "index",
         "rawType": "int64",
         "type": "integer"
        },
        {
         "name": "id",
         "rawType": "object",
         "type": "string"
        },
        {
         "name": "num_clientes_duplicados",
         "rawType": "int64",
         "type": "integer"
        }
       ],
       "conversionMethod": "pd.DataFrame",
       "ref": "ce221c4f-1c91-48bf-8008-d46d2f62c3de",
       "rows": [
        [
         "0",
         "8bec1ff1-84d7-4cad-937f-dbae37691569",
         "3"
        ],
        [
         "1",
         "ba60cff3-280a-4948-b6da-5e76e57b9d79",
         "3"
        ],
        [
         "2",
         "f0c7fbf6-cea3-42fc-a94f-11c69dbf5713",
         "3"
        ],
        [
         "3",
         "3369b2b1-6b9a-4914-b7bb-655dd1d9c90f",
         "2"
        ],
        [
         "4",
         "d5897c77-6f76-4830-a64f-f6074f4833d1",
         "2"
        ],
        [
         "5",
         "e7daaa85-c49b-4f88-bdb5-79d8422114e5",
         "2"
        ],
        [
         "6",
         "346f2a77-33f4-4b2d-82f3-e8501e21b28d",
         "2"
        ],
        [
         "7",
         "f9c8c427-1258-40eb-8851-b13073c066c6",
         "2"
        ],
        [
         "8",
         "bfbb9754-fcab-4580-bb2a-9ab295149227",
         "2"
        ],
        [
         "9",
         "ae68f2e5-7466-4788-a9df-2e08fe90988c",
         "2"
        ],
        [
         "10",
         "494f52f6-865f-4d77-8176-82b59e39a2d5",
         "2"
        ],
        [
         "11",
         "2e7850fd-473c-488f-9e0b-d2f243fd5868",
         "2"
        ],
        [
         "12",
         "f4d72083-c218-4e30-b4c2-e1d0608ceeca",
         "2"
        ],
        [
         "13",
         "41806239-9bf8-412e-b49b-b2d49d9dcc7a",
         "2"
        ],
        [
         "14",
         "2b15a636-76f1-4c9a-b689-0581c3245aa2",
         "2"
        ],
        [
         "15",
         "dbaadb0e-a0ff-436e-9b10-c697fb90b720",
         "2"
        ],
        [
         "16",
         "76dffae5-9f43-4377-a3fb-e93f119a85a2",
         "2"
        ],
        [
         "17",
         "7cf6dc46-d76e-491b-82db-21ea80146033",
         "2"
        ],
        [
         "18",
         "33c9a7ac-f3de-4663-98d2-2dda8e0c06ab",
         "2"
        ],
        [
         "19",
         "5a2d9076-03e5-482c-a7a4-45f5abc6cc62",
         "2"
        ],
        [
         "20",
         "63dec33e-2184-4cb3-bf8b-111d057d2b47",
         "2"
        ],
        [
         "21",
         "97e93d3a-a98d-475b-bb6c-e7500c244248",
         "2"
        ],
        [
         "22",
         "f59f6625-82d7-4780-be06-fde2b6916240",
         "2"
        ],
        [
         "23",
         "a42e5ef0-9734-4dcc-bc18-1880513f3c80",
         "2"
        ],
        [
         "24",
         "8c6a22ed-6e86-4176-9b6e-17c0bb702ab4",
         "2"
        ],
        [
         "25",
         "cbb223ab-7def-45ac-84d0-28ed889b2790",
         "2"
        ],
        [
         "26",
         "b3eff22f-47b2-4d39-a49d-a412c8dcdc2d",
         "2"
        ],
        [
         "27",
         "60d138e9-eed8-4937-8564-c091f662a557",
         "2"
        ],
        [
         "28",
         "37ec97b1-9ceb-48e0-a3af-7a79b9585603",
         "2"
        ],
        [
         "29",
         "a8648939-b60a-4448-abbb-557632c4a724",
         "2"
        ],
        [
         "30",
         "55070df1-1f08-44ad-a52f-f03594728734",
         "2"
        ],
        [
         "31",
         "29690e15-e64e-408f-a7a5-a84bb254aef6",
         "2"
        ],
        [
         "32",
         "9920620c-67c7-4263-a513-c709e37a7f43",
         "2"
        ],
        [
         "33",
         "f8fc8162-f481-44f2-ac98-4a952cbe8ffc",
         "2"
        ],
        [
         "34",
         "46b9766f-eb3a-47c5-9eff-6a77bfacc6a5",
         "2"
        ],
        [
         "35",
         "bd012cdf-50e3-4a8d-b1f1-437de8dcc546",
         "2"
        ],
        [
         "36",
         "3f042300-456b-4a7e-85f2-7d1929319628",
         "2"
        ],
        [
         "37",
         "b1ed01bf-5945-4aaf-a925-555755b587c3",
         "2"
        ],
        [
         "38",
         "a6065837-158a-49e8-99b8-7d835bbec514",
         "2"
        ],
        [
         "39",
         "21294898-0afc-489d-8f71-1ca78bedbe2f",
         "2"
        ],
        [
         "40",
         "4f47a5b4-85a0-43cb-9d82-7da83489372d",
         "2"
        ],
        [
         "41",
         "fa6dca51-93f8-49ab-b968-64fad32964a7",
         "2"
        ],
        [
         "42",
         "fc80813f-65e8-4ae7-a179-8308c1440cf8",
         "2"
        ],
        [
         "43",
         "fb13250c-e420-444d-9cdb-4327fc1077f7",
         "2"
        ],
        [
         "44",
         "afcdc6b6-a0c8-4c69-9bc7-15ac27b4aa5d",
         "2"
        ],
        [
         "45",
         "fba96362-d117-4f45-b405-f735d813833a",
         "2"
        ],
        [
         "46",
         "a44bb598-0a86-4e4a-b19e-66ddff9f3d2f",
         "2"
        ],
        [
         "47",
         "37a734ca-5cd0-4148-89af-3f0250b44fe6",
         "2"
        ],
        [
         "48",
         "f4c589f1-31cc-47c6-8e42-519944f18fe9",
         "2"
        ],
        [
         "49",
         "54e70a9c-c9ce-48d7-8b8f-9ac3ab24a2d1",
         "2"
        ]
       ],
       "shape": {
        "columns": 2,
        "rows": 150
       }
      },
      "text/html": [
       "<div>\n",
       "<style scoped>\n",
       "    .dataframe tbody tr th:only-of-type {\n",
       "        vertical-align: middle;\n",
       "    }\n",
       "\n",
       "    .dataframe tbody tr th {\n",
       "        vertical-align: top;\n",
       "    }\n",
       "\n",
       "    .dataframe thead th {\n",
       "        text-align: right;\n",
       "    }\n",
       "</style>\n",
       "<table border=\"1\" class=\"dataframe\">\n",
       "  <thead>\n",
       "    <tr style=\"text-align: right;\">\n",
       "      <th></th>\n",
       "      <th>id</th>\n",
       "      <th>num_clientes_duplicados</th>\n",
       "    </tr>\n",
       "  </thead>\n",
       "  <tbody>\n",
       "    <tr>\n",
       "      <th>0</th>\n",
       "      <td>8bec1ff1-84d7-4cad-937f-dbae37691569</td>\n",
       "      <td>3</td>\n",
       "    </tr>\n",
       "    <tr>\n",
       "      <th>1</th>\n",
       "      <td>ba60cff3-280a-4948-b6da-5e76e57b9d79</td>\n",
       "      <td>3</td>\n",
       "    </tr>\n",
       "    <tr>\n",
       "      <th>2</th>\n",
       "      <td>f0c7fbf6-cea3-42fc-a94f-11c69dbf5713</td>\n",
       "      <td>3</td>\n",
       "    </tr>\n",
       "    <tr>\n",
       "      <th>3</th>\n",
       "      <td>3369b2b1-6b9a-4914-b7bb-655dd1d9c90f</td>\n",
       "      <td>2</td>\n",
       "    </tr>\n",
       "    <tr>\n",
       "      <th>4</th>\n",
       "      <td>d5897c77-6f76-4830-a64f-f6074f4833d1</td>\n",
       "      <td>2</td>\n",
       "    </tr>\n",
       "    <tr>\n",
       "      <th>...</th>\n",
       "      <td>...</td>\n",
       "      <td>...</td>\n",
       "    </tr>\n",
       "    <tr>\n",
       "      <th>145</th>\n",
       "      <td>7484177b-51d6-44b0-9ffb-d052fa2eb95b</td>\n",
       "      <td>2</td>\n",
       "    </tr>\n",
       "    <tr>\n",
       "      <th>146</th>\n",
       "      <td>70e63c2b-1eda-4df2-8bea-66872b0a1807</td>\n",
       "      <td>2</td>\n",
       "    </tr>\n",
       "    <tr>\n",
       "      <th>147</th>\n",
       "      <td>8e66b4d1-95b8-409f-b806-8d1ac0fabcd4</td>\n",
       "      <td>2</td>\n",
       "    </tr>\n",
       "    <tr>\n",
       "      <th>148</th>\n",
       "      <td>99e2b670-a1cc-470c-a41f-10464e894e33</td>\n",
       "      <td>2</td>\n",
       "    </tr>\n",
       "    <tr>\n",
       "      <th>149</th>\n",
       "      <td>614c4625-81ae-4cb8-be62-beef3ba967bb</td>\n",
       "      <td>2</td>\n",
       "    </tr>\n",
       "  </tbody>\n",
       "</table>\n",
       "<p>150 rows × 2 columns</p>\n",
       "</div>"
      ],
      "text/plain": [
       "                                       id  num_clientes_duplicados\n",
       "0    8bec1ff1-84d7-4cad-937f-dbae37691569                        3\n",
       "1    ba60cff3-280a-4948-b6da-5e76e57b9d79                        3\n",
       "2    f0c7fbf6-cea3-42fc-a94f-11c69dbf5713                        3\n",
       "3    3369b2b1-6b9a-4914-b7bb-655dd1d9c90f                        2\n",
       "4    d5897c77-6f76-4830-a64f-f6074f4833d1                        2\n",
       "..                                    ...                      ...\n",
       "145  7484177b-51d6-44b0-9ffb-d052fa2eb95b                        2\n",
       "146  70e63c2b-1eda-4df2-8bea-66872b0a1807                        2\n",
       "147  8e66b4d1-95b8-409f-b806-8d1ac0fabcd4                        2\n",
       "148  99e2b670-a1cc-470c-a41f-10464e894e33                        2\n",
       "149  614c4625-81ae-4cb8-be62-beef3ba967bb                        2\n",
       "\n",
       "[150 rows x 2 columns]"
      ]
     },
     "execution_count": 34,
     "metadata": {},
     "output_type": "execute_result"
    }
   ],
   "source": [
    "dict_ids_dup ={'id':[],\n",
    "                     'num_clientes_duplicados':[]}\n",
    "for id in lista_ids_duplicados:\n",
    "    ids=id\n",
    "    num_clientes_duplicados = len(df[df.id_cliente == id].nombre_apellido.value_counts())\n",
    "    dict_ids_dup['id'].append(ids)\n",
    "    dict_ids_dup['num_clientes_duplicados'].append(num_clientes_duplicados)\n",
    "dict_ids_dup\n",
    "df_ids_dup=pd.DataFrame(dict_ids_dup)\n",
    "df_ids_dup"
   ]
  },
  {
   "cell_type": "code",
   "execution_count": 35,
   "metadata": {},
   "outputs": [
    {
     "data": {
      "text/plain": [
       "True"
      ]
     },
     "execution_count": 35,
     "metadata": {},
     "output_type": "execute_result"
    }
   ],
   "source": [
    "len(df.nombre_apellido.unique()) == len(df.mail.unique()) "
   ]
  },
  {
   "cell_type": "code",
   "execution_count": 36,
   "metadata": {},
   "outputs": [
    {
     "data": {
      "application/vnd.microsoft.datawrangler.viewer.v0+json": {
       "columns": [
        {
         "name": "index",
         "rawType": "int64",
         "type": "integer"
        },
        {
         "name": "nombre_apellido",
         "rawType": "object",
         "type": "string"
        },
        {
         "name": "id_cliente_unico",
         "rawType": "object",
         "type": "string"
        }
       ],
       "conversionMethod": "pd.DataFrame",
       "ref": "329e1358-8ca2-4d69-bbc5-c863ceb96c29",
       "rows": [
        [
         "0",
         "feliciana.cantón",
         "C0fc"
        ],
        [
         "1",
         "leonardo.hierro",
         "C1lh"
        ],
        [
         "2",
         "maite.calatayud",
         "C2mc"
        ],
        [
         "3",
         "tecla.bonet",
         "C3tb"
        ],
        [
         "4",
         "amílcar.andrés",
         "C4aa"
        ],
        [
         "5",
         "joan.vazquez",
         "C5jv"
        ],
        [
         "6",
         "chelo.flor",
         "C6cf"
        ],
        [
         "7",
         "judith.rivas",
         "C7jr"
        ],
        [
         "8",
         "dolores.lobo",
         "C8dl"
        ],
        [
         "9",
         "adolfo.cuervo",
         "C9ac"
        ],
        [
         "10",
         "noé.lobo",
         "C10nl"
        ],
        [
         "11",
         "maría carmen.navarro",
         "C11mn"
        ],
        [
         "12",
         "ricardo.caballero",
         "C12rc"
        ],
        [
         "13",
         "omar.lamas",
         "C13ol"
        ],
        [
         "14",
         "luna.segovia",
         "C14ls"
        ],
        [
         "15",
         "ágata.pinedo",
         "C15áp"
        ],
        [
         "16",
         "lázaro.pardo",
         "C16lp"
        ],
        [
         "17",
         "julie.baños",
         "C17jb"
        ],
        [
         "18",
         "javier.mancebo",
         "C18jm"
        ],
        [
         "19",
         "rita.guerrero",
         "C19rg"
        ],
        [
         "20",
         "ricardo.lobo",
         "C20rl"
        ],
        [
         "21",
         "perlita.patiño",
         "C21pp"
        ],
        [
         "22",
         "pedro.gallego",
         "C22pg"
        ],
        [
         "23",
         "judith.bellido",
         "C23jb"
        ],
        [
         "24",
         "francisco javier.hierro",
         "C24fh"
        ],
        [
         "25",
         "reynaldo.lerma",
         "C25rl"
        ],
        [
         "26",
         "felicidad.gimenez",
         "C26fg"
        ],
        [
         "27",
         "pía.barba",
         "C27pb"
        ],
        [
         "28",
         "amílcar.moles",
         "C28am"
        ],
        [
         "29",
         "blas.galván",
         "C29bg"
        ],
        [
         "30",
         "claudia.miranda",
         "C30cm"
        ],
        [
         "31",
         "angelina.priego",
         "C31ap"
        ],
        [
         "32",
         "fernanda.segarra",
         "C32fs"
        ],
        [
         "33",
         "emilio.huerta",
         "C33eh"
        ],
        [
         "34",
         "bárbara.jódar",
         "C34bj"
        ],
        [
         "35",
         "tiburcio.pujol",
         "C35tp"
        ],
        [
         "36",
         "emiliano.vergara",
         "C36ev"
        ],
        [
         "37",
         "marisol.arévalo",
         "C37ma"
        ],
        [
         "38",
         "ezequiel.cuesta",
         "C38ec"
        ],
        [
         "39",
         "telmo.bartolomé",
         "C39tb"
        ],
        [
         "40",
         "débora.solé",
         "C40ds"
        ],
        [
         "41",
         "carolina.alberdi",
         "C41ca"
        ],
        [
         "42",
         "darío.lasa",
         "C42dl"
        ],
        [
         "43",
         "noé.cantón",
         "C43nc"
        ],
        [
         "44",
         "fausto.santiago",
         "C44fs"
        ],
        [
         "45",
         "lorenza.lago",
         "C45ll"
        ],
        [
         "46",
         "maría belén.escalona",
         "C46me"
        ],
        [
         "47",
         "curro.martín",
         "C47cm"
        ],
        [
         "48",
         "anunciación.flor",
         "C48af"
        ],
        [
         "49",
         "maría belén.cuéllar",
         "C49mc"
        ]
       ],
       "shape": {
        "columns": 2,
        "rows": 14905
       }
      },
      "text/html": [
       "<div>\n",
       "<style scoped>\n",
       "    .dataframe tbody tr th:only-of-type {\n",
       "        vertical-align: middle;\n",
       "    }\n",
       "\n",
       "    .dataframe tbody tr th {\n",
       "        vertical-align: top;\n",
       "    }\n",
       "\n",
       "    .dataframe thead th {\n",
       "        text-align: right;\n",
       "    }\n",
       "</style>\n",
       "<table border=\"1\" class=\"dataframe\">\n",
       "  <thead>\n",
       "    <tr style=\"text-align: right;\">\n",
       "      <th></th>\n",
       "      <th>nombre_apellido</th>\n",
       "      <th>id_cliente_unico</th>\n",
       "    </tr>\n",
       "  </thead>\n",
       "  <tbody>\n",
       "    <tr>\n",
       "      <th>0</th>\n",
       "      <td>feliciana.cantón</td>\n",
       "      <td>C0fc</td>\n",
       "    </tr>\n",
       "    <tr>\n",
       "      <th>1</th>\n",
       "      <td>leonardo.hierro</td>\n",
       "      <td>C1lh</td>\n",
       "    </tr>\n",
       "    <tr>\n",
       "      <th>2</th>\n",
       "      <td>maite.calatayud</td>\n",
       "      <td>C2mc</td>\n",
       "    </tr>\n",
       "    <tr>\n",
       "      <th>3</th>\n",
       "      <td>tecla.bonet</td>\n",
       "      <td>C3tb</td>\n",
       "    </tr>\n",
       "    <tr>\n",
       "      <th>4</th>\n",
       "      <td>amílcar.andrés</td>\n",
       "      <td>C4aa</td>\n",
       "    </tr>\n",
       "    <tr>\n",
       "      <th>...</th>\n",
       "      <td>...</td>\n",
       "      <td>...</td>\n",
       "    </tr>\n",
       "    <tr>\n",
       "      <th>14900</th>\n",
       "      <td>lorena.román</td>\n",
       "      <td>C14900lr</td>\n",
       "    </tr>\n",
       "    <tr>\n",
       "      <th>14901</th>\n",
       "      <td>toño.narváez</td>\n",
       "      <td>C14901tn</td>\n",
       "    </tr>\n",
       "    <tr>\n",
       "      <th>14902</th>\n",
       "      <td>nadia.verdugo</td>\n",
       "      <td>C14902nv</td>\n",
       "    </tr>\n",
       "    <tr>\n",
       "      <th>14903</th>\n",
       "      <td>custodia.marco</td>\n",
       "      <td>C14903cm</td>\n",
       "    </tr>\n",
       "    <tr>\n",
       "      <th>14904</th>\n",
       "      <td>brígida.salom</td>\n",
       "      <td>C14904bs</td>\n",
       "    </tr>\n",
       "  </tbody>\n",
       "</table>\n",
       "<p>14905 rows × 2 columns</p>\n",
       "</div>"
      ],
      "text/plain": [
       "        nombre_apellido id_cliente_unico\n",
       "0      feliciana.cantón             C0fc\n",
       "1       leonardo.hierro             C1lh\n",
       "2       maite.calatayud             C2mc\n",
       "3           tecla.bonet             C3tb\n",
       "4        amílcar.andrés             C4aa\n",
       "...                 ...              ...\n",
       "14900      lorena.román         C14900lr\n",
       "14901      toño.narváez         C14901tn\n",
       "14902     nadia.verdugo         C14902nv\n",
       "14903    custodia.marco         C14903cm\n",
       "14904     brígida.salom         C14904bs\n",
       "\n",
       "[14905 rows x 2 columns]"
      ]
     },
     "execution_count": 36,
     "metadata": {},
     "output_type": "execute_result"
    }
   ],
   "source": [
    "#Hay tanto clientes con ids duplicados como ids asignados a diferentes clientes. Por tanto, creo un id para cada cliente basandome la unión del nombre y apellido que es lo mismo que el correo electronico\n",
    "df.nombre_apellido.unique()\n",
    "df_clientes_unicos = pd.DataFrame(df.nombre_apellido.unique())\n",
    "df_clientes_unicos['id_cliente_unico'] = None\n",
    "for indice in df_clientes_unicos.index:\n",
    "    df_clientes_unicos.iloc[indice,1] = 'C'+str(indice)+df_clientes_unicos.iloc[indice,0].split('.')[0][0]+df_clientes_unicos.iloc[indice,0].split('.')[1][0]\n",
    "df_clientes_unicos=df_clientes_unicos.set_axis(['nombre_apellido', 'id_cliente_unico'], axis=1)\n",
    "df_clientes_unicos\n"
   ]
  },
  {
   "cell_type": "code",
   "execution_count": 37,
   "metadata": {},
   "outputs": [
    {
     "data": {
      "text/plain": [
       "'C1lh'"
      ]
     },
     "execution_count": 37,
     "metadata": {},
     "output_type": "execute_result"
    }
   ],
   "source": [
    "df_filtrado = df_clientes_unicos[df_clientes_unicos['nombre_apellido']=='leonardo.hierro']\n",
    "df_filtrado.loc[:,'id_cliente_unico'].values[0]"
   ]
  },
  {
   "cell_type": "code",
   "execution_count": 38,
   "metadata": {},
   "outputs": [
    {
     "data": {
      "application/vnd.microsoft.datawrangler.viewer.v0+json": {
       "columns": [
        {
         "name": "index",
         "rawType": "int64",
         "type": "integer"
        },
        {
         "name": "id_reserva",
         "rawType": "object",
         "type": "string"
        },
        {
         "name": "id_cliente",
         "rawType": "object",
         "type": "string"
        },
        {
         "name": "nombre",
         "rawType": "object",
         "type": "string"
        },
        {
         "name": "apellido",
         "rawType": "object",
         "type": "string"
        },
        {
         "name": "mail",
         "rawType": "object",
         "type": "string"
        },
        {
         "name": "competencia",
         "rawType": "bool",
         "type": "boolean"
        },
        {
         "name": "fecha_reserva",
         "rawType": "datetime64[ns]",
         "type": "datetime"
        },
        {
         "name": "inicio_estancia",
         "rawType": "datetime64[ns]",
         "type": "datetime"
        },
        {
         "name": "final_estancia",
         "rawType": "datetime64[ns]",
         "type": "datetime"
        },
        {
         "name": "id_hotel",
         "rawType": "int64",
         "type": "integer"
        },
        {
         "name": "precio_noche",
         "rawType": "float64",
         "type": "float"
        },
        {
         "name": "nombre_hotel",
         "rawType": "object",
         "type": "string"
        },
        {
         "name": "estrellas",
         "rawType": "Int64",
         "type": "integer"
        },
        {
         "name": "ciudad",
         "rawType": "object",
         "type": "string"
        },
        {
         "name": "nombre_apellido",
         "rawType": "object",
         "type": "string"
        },
        {
         "name": "id_nombre_apellido",
         "rawType": "object",
         "type": "string"
        },
        {
         "name": "id_cliente_unico",
         "rawType": "object",
         "type": "string"
        }
       ],
       "conversionMethod": "pd.DataFrame",
       "ref": "08a5c08d-bcf7-41bf-bab9-1b281d70c552",
       "rows": [
        [
         "0",
         "5256cc90-139b-43d2-8ec5-412495d751cf",
         "346f2a77-33f4-4b2d-82f3-e8501e21b28d",
         "Feliciana",
         "Cantón",
         "feliciana.cantón@example.com",
         "True",
         null,
         "2025-03-01 00:00:00",
         "2025-03-02 00:00:00",
         "113",
         null,
         "",
         null,
         "",
         "feliciana.cantón",
         "346f2a77-33f4-4b2d-82f3-e8501e21b28d|feliciana.cantón",
         "C0fc"
        ],
        [
         "1",
         "84fd6209-bd8d-4a92-bfe6-c68ee2c49271",
         "346f2a77-33f4-4b2d-82f3-e8501e21b28d",
         "Leonardo",
         "Hierro",
         "leonardo.hierro@example.com",
         "True",
         null,
         "2025-03-01 00:00:00",
         "2025-03-02 00:00:00",
         "194",
         null,
         "",
         null,
         "",
         "leonardo.hierro",
         "346f2a77-33f4-4b2d-82f3-e8501e21b28d|leonardo.hierro",
         "C1lh"
        ],
        [
         "2",
         "40c4cb55-d1f5-407b-832f-4756b8ff77b4",
         "6ec4d7d2-e382-47cc-94f6-c647577d4035",
         "Maite",
         "Calatayud",
         "maite.calatayud@example.com",
         "False",
         "2025-02-09 00:00:00",
         "2025-03-01 00:00:00",
         "2025-03-02 00:00:00",
         "14",
         "119.96",
         "Hotel Monte Verde",
         "1",
         "Madrid",
         "maite.calatayud",
         "6ec4d7d2-e382-47cc-94f6-c647577d4035|maite.calatayud",
         "C2mc"
        ],
        [
         "3",
         "f2ce8df5-7844-43e1-8c0f-97ce7a208f21",
         "aed17fe8-eb18-4f69-bf08-df1afdc339c3",
         "Tecla",
         "Bonet",
         "tecla.bonet@example.com",
         "False",
         "2025-02-08 00:00:00",
         "2025-03-01 00:00:00",
         "2025-03-02 00:00:00",
         "38",
         "211.53",
         "Hotel Brisas del Mar",
         "5",
         "Madrid",
         "tecla.bonet",
         "aed17fe8-eb18-4f69-bf08-df1afdc339c3|tecla.bonet",
         "C3tb"
        ],
        [
         "4",
         "57d4515a-447d-4067-afcb-9bdcf4e4e915",
         "710a2fbb-264f-426a-aa66-f8fffd146a2d",
         "Amílcar",
         "Andrés",
         "amílcar.andrés@example.com",
         "False",
         "2025-02-02 00:00:00",
         "2025-03-01 00:00:00",
         "2025-03-02 00:00:00",
         "35",
         "378.37",
         "Hotel Camino del Sol",
         "1",
         "Madrid",
         "amílcar.andrés",
         "710a2fbb-264f-426a-aa66-f8fffd146a2d|amílcar.andrés",
         "C4aa"
        ],
        [
         "5",
         "ccbd9fe9-5a60-4f6f-bed3-73a7158ecba7",
         "df42ae3d-0b9b-4c06-b22e-939323833ef8",
         "Joan",
         "Vazquez",
         "joan.vazquez@example.com",
         "False",
         "2025-02-08 00:00:00",
         "2025-03-01 00:00:00",
         "2025-03-02 00:00:00",
         "36",
         "85.45",
         "Hotel Puerta del Cielo",
         "5",
         "Madrid",
         "joan.vazquez",
         "df42ae3d-0b9b-4c06-b22e-939323833ef8|joan.vazquez",
         "C5jv"
        ],
        [
         "6",
         "99c3dc4f-663c-45f7-849a-ac9313f3746a",
         "a16a9d83-6888-4947-a7ab-ed41203e347c",
         "Chelo",
         "Flor",
         "chelo.flor@example.com",
         "False",
         "2025-02-09 00:00:00",
         "2025-03-01 00:00:00",
         "2025-03-02 00:00:00",
         "43",
         "309.8",
         "Hotel Encanto Real",
         "1",
         "Madrid",
         "chelo.flor",
         "a16a9d83-6888-4947-a7ab-ed41203e347c|chelo.flor",
         "C6cf"
        ],
        [
         "7",
         "4d65096e-5f12-4ce7-9fd6-dd20e3cf5194",
         "443a7307-2183-4051-b0bb-26f12fc1f478",
         "Judith",
         "Rivas",
         "judith.rivas@example.com",
         "True",
         null,
         "2025-03-01 00:00:00",
         "2025-03-02 00:00:00",
         "131",
         null,
         "",
         null,
         "",
         "judith.rivas",
         "443a7307-2183-4051-b0bb-26f12fc1f478|judith.rivas",
         "C7jr"
        ],
        [
         "8",
         "a5da0906-0fe5-4c30-b193-863df67a7b84",
         "4b789497-8da4-4962-b0fa-070556648ed1",
         "Dolores",
         "Lobo",
         "dolores.lobo@example.com",
         "False",
         "2025-02-10 00:00:00",
         "2025-03-01 00:00:00",
         "2025-03-02 00:00:00",
         "6",
         "434.88",
         "Palacio del Sol",
         "4",
         "Madrid",
         "dolores.lobo",
         "4b789497-8da4-4962-b0fa-070556648ed1|dolores.lobo",
         "C8dl"
        ],
        [
         "9",
         "458029ad-cc9b-4d85-8290-fec170bcc02d",
         "e1a34338-a0aa-4b0e-96de-55f884eeb074",
         "Adolfo",
         "Cuervo",
         "adolfo.cuervo@example.com",
         "True",
         null,
         "2025-03-01 00:00:00",
         "2025-03-02 00:00:00",
         "114",
         null,
         "",
         null,
         "",
         "adolfo.cuervo",
         "e1a34338-a0aa-4b0e-96de-55f884eeb074|adolfo.cuervo",
         "C9ac"
        ],
        [
         "10",
         "3eca014e-f122-41d7-9dd3-b984b9153d57",
         "dbaadb0e-a0ff-436e-9b10-c697fb90b720",
         "Noé",
         "Lobo",
         "noé.lobo@example.com",
         "False",
         "2025-02-02 00:00:00",
         "2025-03-01 00:00:00",
         "2025-03-02 00:00:00",
         "3",
         "216.57",
         "Hotel Jardines del Rey",
         "3",
         "Madrid",
         "noé.lobo",
         "dbaadb0e-a0ff-436e-9b10-c697fb90b720|noé.lobo",
         "C10nl"
        ],
        [
         "11",
         "ac0fe86e-90a0-4fe6-a02e-6ea00e9a8621",
         "2949fb90-39ab-4613-b4c1-e238bb56faf3",
         "María Carmen",
         "Navarro",
         "maría carmen.navarro@example.com",
         "True",
         null,
         "2025-03-01 00:00:00",
         "2025-03-02 00:00:00",
         "103",
         null,
         "",
         null,
         "",
         "maría carmen.navarro",
         "2949fb90-39ab-4613-b4c1-e238bb56faf3|maría carmen.navarro",
         "C11mn"
        ],
        [
         "12",
         "8d2d3ea2-14bb-4762-a7a4-a44e75d2d2f4",
         "6c104070-aad0-4372-a6dc-cd38a6f7c3cf",
         "Ricardo",
         "Caballero",
         "ricardo.caballero@example.com",
         "True",
         null,
         "2025-03-01 00:00:00",
         "2025-03-02 00:00:00",
         "181",
         null,
         "",
         null,
         "",
         "ricardo.caballero",
         "6c104070-aad0-4372-a6dc-cd38a6f7c3cf|ricardo.caballero",
         "C12rc"
        ],
        [
         "13",
         "8a68fb77-8798-4902-a92d-642ea5e47083",
         "26ca67cd-3762-4f90-9372-c5f3d49df733",
         "Omar",
         "Lamas",
         "omar.lamas@example.com",
         "False",
         "2025-02-10 00:00:00",
         "2025-03-01 00:00:00",
         "2025-03-02 00:00:00",
         "29",
         "378.1",
         "Hotel Las Estrellas",
         "4",
         "Madrid",
         "omar.lamas",
         "26ca67cd-3762-4f90-9372-c5f3d49df733|omar.lamas",
         "C13ol"
        ],
        [
         "14",
         "77354d6e-4713-496f-af21-c231b909e29c",
         "2662e10a-6799-469a-b697-db79c3c888ff",
         "Luna",
         "Segovia",
         "luna.segovia@example.com",
         "True",
         null,
         "2025-03-01 00:00:00",
         "2025-03-02 00:00:00",
         "114",
         null,
         "",
         null,
         "",
         "luna.segovia",
         "2662e10a-6799-469a-b697-db79c3c888ff|luna.segovia",
         "C14ls"
        ],
        [
         "15",
         "5e3de36b-3d2f-4cef-98d3-df826c56a4b1",
         "a263c6e8-96af-4720-96f0-04cfe51116c6",
         "Ágata",
         "Pinedo",
         "ágata.pinedo@example.com",
         "False",
         "2025-02-01 00:00:00",
         "2025-03-01 00:00:00",
         "2025-03-02 00:00:00",
         "47",
         "358.07",
         "Gran Hotel Madrid",
         "2",
         "Madrid",
         "ágata.pinedo",
         "a263c6e8-96af-4720-96f0-04cfe51116c6|ágata.pinedo",
         "C15áp"
        ],
        [
         "16",
         "f4cf7cbf-7a2a-4e44-9b9d-e2c9a444ec78",
         "b1826b3e-e9aa-4a40-b94a-09ad8e7d6507",
         "Lázaro",
         "Pardo",
         "lázaro.pardo@example.com",
         "True",
         null,
         "2025-03-01 00:00:00",
         "2025-03-02 00:00:00",
         "128",
         null,
         "",
         null,
         "",
         "lázaro.pardo",
         "b1826b3e-e9aa-4a40-b94a-09ad8e7d6507|lázaro.pardo",
         "C16lp"
        ],
        [
         "17",
         "2a39eb83-b3aa-4df0-93b3-1fdc0b0a9609",
         "b9cea054-2a9a-4772-bc62-feddbd73ea8a",
         "Julie",
         "Baños",
         "julie.baños@example.com",
         "False",
         "2025-02-01 00:00:00",
         "2025-03-01 00:00:00",
         "2025-03-02 00:00:00",
         "14",
         "79.77",
         "Hotel Torre Dorada",
         "3",
         "Madrid",
         "julie.baños",
         "b9cea054-2a9a-4772-bc62-feddbd73ea8a|julie.baños",
         "C17jb"
        ],
        [
         "18",
         "96a3727c-99fb-4ae0-a6c3-886504499ec2",
         "7164885d-7481-40cc-9aa7-025264d00798",
         "Javier",
         "Mancebo",
         "javier.mancebo@example.com",
         "False",
         "2025-02-12 00:00:00",
         "2025-03-01 00:00:00",
         "2025-03-02 00:00:00",
         "27",
         "228.02",
         "Hotel Palacio Imperial",
         "2",
         "Madrid",
         "javier.mancebo",
         "7164885d-7481-40cc-9aa7-025264d00798|javier.mancebo",
         "C18jm"
        ],
        [
         "19",
         "18fa5887-c155-4064-ba8d-3b2948dd348b",
         "7c8a9a34-0fb9-4bab-bc19-8ab715471fad",
         "Rita",
         "Guerrero",
         "rita.guerrero@example.com",
         "False",
         "2025-02-11 00:00:00",
         "2025-03-01 00:00:00",
         "2025-03-02 00:00:00",
         "47",
         "385.24",
         "Hotel Camino del Sol",
         "3",
         "Madrid",
         "rita.guerrero",
         "7c8a9a34-0fb9-4bab-bc19-8ab715471fad|rita.guerrero",
         "C19rg"
        ],
        [
         "20",
         "9880f3ea-a29d-4acd-9fe1-96df1ffa46bd",
         "38949903-64ff-48df-a57c-b589d98cc372",
         "Ricardo",
         "Lobo",
         "ricardo.lobo@example.com",
         "False",
         "2025-02-06 00:00:00",
         "2025-03-01 00:00:00",
         "2025-03-02 00:00:00",
         "13",
         "454.01",
         "Hotel Luz de Madrid",
         "3",
         "Madrid",
         "ricardo.lobo",
         "38949903-64ff-48df-a57c-b589d98cc372|ricardo.lobo",
         "C20rl"
        ],
        [
         "21",
         "22a3608a-1de2-40c7-8e2a-d22daf77390f",
         "8d24ffd5-1a06-4991-8d0b-143305a376ad",
         "Perlita",
         "Patiño",
         "perlita.patiño@example.com",
         "False",
         "2025-02-02 00:00:00",
         "2025-03-01 00:00:00",
         "2025-03-02 00:00:00",
         "28",
         "279.28",
         "Hotel Encanto Real",
         "1",
         "Madrid",
         "perlita.patiño",
         "8d24ffd5-1a06-4991-8d0b-143305a376ad|perlita.patiño",
         "C21pp"
        ],
        [
         "22",
         "68b36da9-eeaa-4c31-91a8-d34fcc3956c8",
         "09323025-a5a9-4b54-81e4-430591596518",
         "Pedro",
         "Gallego",
         "pedro.gallego@example.com",
         "False",
         "2025-02-09 00:00:00",
         "2025-03-01 00:00:00",
         "2025-03-02 00:00:00",
         "28",
         "332.34",
         "Hotel Los Almendros",
         "5",
         "Madrid",
         "pedro.gallego",
         "09323025-a5a9-4b54-81e4-430591596518|pedro.gallego",
         "C22pg"
        ],
        [
         "23",
         "b92dbe7c-4660-4e4c-9224-47cae0152bf9",
         "57bd08da-f2f2-422b-b6e5-77a624132793",
         "Judith",
         "Bellido",
         "judith.bellido@example.com",
         "False",
         "2025-02-08 00:00:00",
         "2025-03-01 00:00:00",
         "2025-03-02 00:00:00",
         "36",
         "318.14",
         "Hotel Palacio Imperial",
         "5",
         "Madrid",
         "judith.bellido",
         "57bd08da-f2f2-422b-b6e5-77a624132793|judith.bellido",
         "C23jb"
        ],
        [
         "24",
         "9b16fc42-a7c6-4db9-98c7-30dbf2bb72b3",
         "614c4625-81ae-4cb8-be62-beef3ba967bb",
         "Francisco Javier",
         "Hierro",
         "francisco javier.hierro@example.com",
         "False",
         "2025-02-02 00:00:00",
         "2025-03-01 00:00:00",
         "2025-03-02 00:00:00",
         "29",
         "437.34",
         "Hotel Sol y Luna",
         "1",
         "Madrid",
         "francisco javier.hierro",
         "614c4625-81ae-4cb8-be62-beef3ba967bb|francisco javier.hierro",
         "C24fh"
        ],
        [
         "25",
         "65fcc15f-f4c6-492a-b191-f180ae314bea",
         "3c648062-c102-4ad6-85aa-70cc80758b32",
         "Reynaldo",
         "Lerma",
         "reynaldo.lerma@example.com",
         "False",
         "2025-02-12 00:00:00",
         "2025-03-01 00:00:00",
         "2025-03-02 00:00:00",
         "29",
         "387.89",
         "Hotel Monte Verde",
         "1",
         "Madrid",
         "reynaldo.lerma",
         "3c648062-c102-4ad6-85aa-70cc80758b32|reynaldo.lerma",
         "C25rl"
        ],
        [
         "26",
         "8a5b02f8-caa9-4917-a50d-a122c74a5c6d",
         "07cde2c9-6e63-43d1-bff0-f57d76fb0af2",
         "Felicidad",
         "Gimenez",
         "felicidad.gimenez@example.com",
         "False",
         "2025-02-09 00:00:00",
         "2025-03-01 00:00:00",
         "2025-03-02 00:00:00",
         "3",
         "254.17",
         "Hotel Mirador Real",
         "5",
         "Madrid",
         "felicidad.gimenez",
         "07cde2c9-6e63-43d1-bff0-f57d76fb0af2|felicidad.gimenez",
         "C26fg"
        ],
        [
         "27",
         "24f9a853-2cef-4fb7-8182-d4f347c772d7",
         "90aedc6a-5f21-4a25-9e55-b6552a657437",
         "Pía",
         "Barba",
         "pía.barba@example.com",
         "False",
         "2025-02-03 00:00:00",
         "2025-03-01 00:00:00",
         "2025-03-02 00:00:00",
         "40",
         "460.67",
         "Hotel Puerta del Cielo",
         "5",
         "Madrid",
         "pía.barba",
         "90aedc6a-5f21-4a25-9e55-b6552a657437|pía.barba",
         "C27pb"
        ],
        [
         "28",
         "345b493b-5fcb-476c-940b-cce20444d64e",
         "69b56d4e-60b6-41f5-b320-1ac4200d8bfb",
         "Amílcar",
         "Moles",
         "amílcar.moles@example.com",
         "False",
         "2025-02-05 00:00:00",
         "2025-03-01 00:00:00",
         "2025-03-02 00:00:00",
         "28",
         "218.25",
         "Hotel Las Estrellas",
         "5",
         "Madrid",
         "amílcar.moles",
         "69b56d4e-60b6-41f5-b320-1ac4200d8bfb|amílcar.moles",
         "C28am"
        ],
        [
         "29",
         "e9fc009e-6bbd-49a9-aaa1-499fbe5b7036",
         "e4a2670a-0893-4c1c-bb51-b168107d5edc",
         "Blas",
         "Galván",
         "blas.galván@example.com",
         "False",
         "2025-02-11 00:00:00",
         "2025-03-01 00:00:00",
         "2025-03-02 00:00:00",
         "40",
         "463.31",
         "Hotel Monte Verde",
         "4",
         "Madrid",
         "blas.galván",
         "e4a2670a-0893-4c1c-bb51-b168107d5edc|blas.galván",
         "C29bg"
        ],
        [
         "30",
         "91569bdd-8430-4537-8245-6ca66e5c95ed",
         "1bee19cf-e343-4b47-9d7b-2d72ea7fd7c8",
         "Claudia",
         "Miranda",
         "claudia.miranda@example.com",
         "False",
         "2025-02-03 00:00:00",
         "2025-03-01 00:00:00",
         "2025-03-02 00:00:00",
         "43",
         "445.41",
         "Hotel Puerta del Cielo",
         "2",
         "Madrid",
         "claudia.miranda",
         "1bee19cf-e343-4b47-9d7b-2d72ea7fd7c8|claudia.miranda",
         "C30cm"
        ],
        [
         "31",
         "4e4f9542-3b51-4da1-b75e-b8c8a2018b6e",
         "85306c06-a7f1-4fdb-807e-66b2178e93c4",
         "Angelina",
         "Priego",
         "angelina.priego@example.com",
         "True",
         null,
         "2025-03-01 00:00:00",
         "2025-03-02 00:00:00",
         "186",
         null,
         "",
         null,
         "",
         "angelina.priego",
         "85306c06-a7f1-4fdb-807e-66b2178e93c4|angelina.priego",
         "C31ap"
        ],
        [
         "32",
         "2713abaf-e02b-4e4b-9897-a6b9cd4862b5",
         "790f974c-32cd-4a48-8d53-4e5b533aa339",
         "Fernanda",
         "Segarra",
         "fernanda.segarra@example.com",
         "False",
         "2025-02-02 00:00:00",
         "2025-03-01 00:00:00",
         "2025-03-02 00:00:00",
         "6",
         "88.53",
         "Hotel Rincón Sereno",
         "1",
         "Madrid",
         "fernanda.segarra",
         "790f974c-32cd-4a48-8d53-4e5b533aa339|fernanda.segarra",
         "C32fs"
        ],
        [
         "33",
         "56aa252f-8c76-4712-a8d8-cfa844b5711a",
         "aae14664-a527-41a9-93ae-cf5b636d7dd0",
         "Emilio",
         "Huerta",
         "emilio.huerta@example.com",
         "False",
         "2025-02-09 00:00:00",
         "2025-03-01 00:00:00",
         "2025-03-02 00:00:00",
         "29",
         "394.62",
         "Hotel Vista Alegre",
         "4",
         "Madrid",
         "emilio.huerta",
         "aae14664-a527-41a9-93ae-cf5b636d7dd0|emilio.huerta",
         "C33eh"
        ],
        [
         "34",
         "67cc0893-51de-461e-bdf3-72beb87d4672",
         "73198244-7196-49fc-aa86-d84efcb18336",
         "Bárbara",
         "Jódar",
         "bárbara.jódar@example.com",
         "False",
         "2025-02-09 00:00:00",
         "2025-03-01 00:00:00",
         "2025-03-02 00:00:00",
         "3",
         "169.27",
         "Hotel Los Almendros",
         "2",
         "Madrid",
         "bárbara.jódar",
         "73198244-7196-49fc-aa86-d84efcb18336|bárbara.jódar",
         "C34bj"
        ],
        [
         "35",
         "6c3c255a-a128-4f41-86f2-e41a0c6a04df",
         "7ae27350-badc-417d-a536-e0194595dc29",
         "Tiburcio",
         "Pujol",
         "tiburcio.pujol@example.com",
         "True",
         null,
         "2025-03-01 00:00:00",
         "2025-03-02 00:00:00",
         "131",
         null,
         "",
         null,
         "",
         "tiburcio.pujol",
         "7ae27350-badc-417d-a536-e0194595dc29|tiburcio.pujol",
         "C35tp"
        ],
        [
         "36",
         "728efa5a-8a5a-4e53-8b2b-349c4fcab5d9",
         "05cc4ab5-046c-4060-accd-e2e52ad83aa5",
         "Emiliano",
         "Vergara",
         "emiliano.vergara@example.com",
         "False",
         "2025-02-06 00:00:00",
         "2025-03-01 00:00:00",
         "2025-03-02 00:00:00",
         "2",
         "370.82",
         "Hotel Luz de Madrid",
         "3",
         "Madrid",
         "emiliano.vergara",
         "05cc4ab5-046c-4060-accd-e2e52ad83aa5|emiliano.vergara",
         "C36ev"
        ],
        [
         "37",
         "f4b3e94a-2476-4923-953d-1f76ad90b520",
         "afa28bc0-9dde-436c-bf88-48c189921a80",
         "Marisol",
         "Arévalo",
         "marisol.arévalo@example.com",
         "False",
         "2025-02-11 00:00:00",
         "2025-03-01 00:00:00",
         "2025-03-02 00:00:00",
         "40",
         "253.16",
         "Hotel Costa Azul",
         "2",
         "Madrid",
         "marisol.arévalo",
         "afa28bc0-9dde-436c-bf88-48c189921a80|marisol.arévalo",
         "C37ma"
        ],
        [
         "38",
         "166f113f-64cf-408d-b1c3-30ef155f8049",
         "d0de4a2b-eb08-4dc6-aa8d-1efd2f007539",
         "Ezequiel",
         "Cuesta",
         "ezequiel.cuesta@example.com",
         "False",
         "2025-02-10 00:00:00",
         "2025-03-01 00:00:00",
         "2025-03-02 00:00:00",
         "48",
         "314.73",
         "Hotel Costa Azul",
         "5",
         "Madrid",
         "ezequiel.cuesta",
         "d0de4a2b-eb08-4dc6-aa8d-1efd2f007539|ezequiel.cuesta",
         "C38ec"
        ],
        [
         "39",
         "b4ec52c7-ac8d-4c68-93f2-56f80786978c",
         "bb7d2b8a-223a-4da2-bf9f-4fc0f1330ee5",
         "Telmo",
         "Bartolomé",
         "telmo.bartolomé@example.com",
         "False",
         "2025-02-05 00:00:00",
         "2025-03-01 00:00:00",
         "2025-03-02 00:00:00",
         "6",
         "368.52",
         "Gran Hotel Madrid",
         "2",
         "Madrid",
         "telmo.bartolomé",
         "bb7d2b8a-223a-4da2-bf9f-4fc0f1330ee5|telmo.bartolomé",
         "C39tb"
        ],
        [
         "40",
         "bec6c4c5-e6bf-4115-98d2-9c2f1161b77d",
         "1f6fc80b-67a9-42ba-8d47-c68d67907f65",
         "Débora",
         "Solé",
         "débora.solé@example.com",
         "False",
         "2025-02-07 00:00:00",
         "2025-03-01 00:00:00",
         "2025-03-02 00:00:00",
         "35",
         "436.83",
         "Hotel Encanto Real",
         "5",
         "Madrid",
         "débora.solé",
         "1f6fc80b-67a9-42ba-8d47-c68d67907f65|débora.solé",
         "C40ds"
        ],
        [
         "41",
         "552fa988-9d52-4cfe-bcc4-1b5886f61a9c",
         "db4d1983-59fb-4233-823c-957a8dbbc552",
         "Carolina",
         "Alberdi",
         "carolina.alberdi@example.com",
         "True",
         null,
         "2025-03-01 00:00:00",
         "2025-03-02 00:00:00",
         "103",
         null,
         "",
         null,
         "",
         "carolina.alberdi",
         "db4d1983-59fb-4233-823c-957a8dbbc552|carolina.alberdi",
         "C41ca"
        ],
        [
         "42",
         "aca3e915-cf8f-4ee5-b921-f23f909f602b",
         "a4cd7cd3-2e7e-4402-80c3-965ded3c7e3f",
         "Darío",
         "Lasa",
         "darío.lasa@example.com",
         "False",
         "2025-02-10 00:00:00",
         "2025-03-01 00:00:00",
         "2025-03-02 00:00:00",
         "29",
         "109.53",
         "Hotel Torre Dorada",
         "5",
         "Madrid",
         "darío.lasa",
         "a4cd7cd3-2e7e-4402-80c3-965ded3c7e3f|darío.lasa",
         "C42dl"
        ],
        [
         "43",
         "7ddea2f1-6ccc-40b1-b015-da2cc26f0f98",
         "9e9710ca-ea75-48a0-9c8c-9598ef00f279",
         "Noé",
         "Cantón",
         "noé.cantón@example.com",
         "True",
         null,
         "2025-03-01 00:00:00",
         "2025-03-02 00:00:00",
         "128",
         null,
         "",
         null,
         "",
         "noé.cantón",
         "9e9710ca-ea75-48a0-9c8c-9598ef00f279|noé.cantón",
         "C43nc"
        ],
        [
         "44",
         "47f91472-4a34-4e03-9cd2-64bbf695dcdd",
         "9f63268b-863e-49f4-ba27-58688640d1a1",
         "Fausto",
         "Santiago",
         "fausto.santiago@example.com",
         "False",
         "2025-02-01 00:00:00",
         "2025-03-01 00:00:00",
         "2025-03-02 00:00:00",
         "13",
         "135.67",
         "Palacio del Sol",
         "4",
         "Madrid",
         "fausto.santiago",
         "9f63268b-863e-49f4-ba27-58688640d1a1|fausto.santiago",
         "C44fs"
        ],
        [
         "45",
         "4d0ca33e-6881-4eaa-8c32-caf6273e468b",
         "efc29d88-089c-41b4-b786-94b2077b9fd9",
         "Lorenza",
         "Lago",
         "lorenza.lago@example.com",
         "False",
         "2025-02-12 00:00:00",
         "2025-03-01 00:00:00",
         "2025-03-02 00:00:00",
         "13",
         "260.15",
         "Gran Hotel Madrid",
         "1",
         "Madrid",
         "lorenza.lago",
         "efc29d88-089c-41b4-b786-94b2077b9fd9|lorenza.lago",
         "C45ll"
        ],
        [
         "46",
         "7acd5eae-e278-4568-9e35-638532e10b87",
         "43ffdcc5-51b6-4eda-81f5-df2c1ed1adbe",
         "María Belén",
         "Escalona",
         "maría belén.escalona@example.com",
         "True",
         null,
         "2025-03-01 00:00:00",
         "2025-03-02 00:00:00",
         "135",
         null,
         "",
         null,
         "",
         "maría belén.escalona",
         "43ffdcc5-51b6-4eda-81f5-df2c1ed1adbe|maría belén.escalona",
         "C46me"
        ],
        [
         "47",
         "19b57bd1-9cbf-4c22-a91a-ba4c3850008e",
         "2f28e36f-3ff5-45a9-bc32-4f0ee12d21b2",
         "Curro",
         "Martín",
         "curro.martín@example.com",
         "True",
         null,
         "2025-03-01 00:00:00",
         "2025-03-02 00:00:00",
         "113",
         null,
         "",
         null,
         "",
         "curro.martín",
         "2f28e36f-3ff5-45a9-bc32-4f0ee12d21b2|curro.martín",
         "C47cm"
        ],
        [
         "48",
         "f6149a73-99ec-46f9-ad92-c4174a564beb",
         "e3c9c0f8-dca8-420e-b5d4-b01ca6bd0f5e",
         "Anunciación",
         "Flor",
         "anunciación.flor@example.com",
         "False",
         "2025-02-02 00:00:00",
         "2025-03-01 00:00:00",
         "2025-03-02 00:00:00",
         "2",
         "135.58",
         "Hotel Palacio Imperial",
         "2",
         "Madrid",
         "anunciación.flor",
         "e3c9c0f8-dca8-420e-b5d4-b01ca6bd0f5e|anunciación.flor",
         "C48af"
        ],
        [
         "49",
         "25efcc1f-d69a-422f-a887-3341d57c6f09",
         "0fc7635e-821d-4595-ac98-65cfa4fd044f",
         "María Belén",
         "Cuéllar",
         "maría belén.cuéllar@example.com",
         "False",
         "2025-02-07 00:00:00",
         "2025-03-01 00:00:00",
         "2025-03-02 00:00:00",
         "14",
         "258.17",
         "Hotel Encanto Real",
         "4",
         "Madrid",
         "maría belén.cuéllar",
         "0fc7635e-821d-4595-ac98-65cfa4fd044f|maría belén.cuéllar",
         "C49mc"
        ]
       ],
       "shape": {
        "columns": 17,
        "rows": 15000
       }
      },
      "text/html": [
       "<div>\n",
       "<style scoped>\n",
       "    .dataframe tbody tr th:only-of-type {\n",
       "        vertical-align: middle;\n",
       "    }\n",
       "\n",
       "    .dataframe tbody tr th {\n",
       "        vertical-align: top;\n",
       "    }\n",
       "\n",
       "    .dataframe thead th {\n",
       "        text-align: right;\n",
       "    }\n",
       "</style>\n",
       "<table border=\"1\" class=\"dataframe\">\n",
       "  <thead>\n",
       "    <tr style=\"text-align: right;\">\n",
       "      <th></th>\n",
       "      <th>id_reserva</th>\n",
       "      <th>id_cliente</th>\n",
       "      <th>nombre</th>\n",
       "      <th>apellido</th>\n",
       "      <th>mail</th>\n",
       "      <th>competencia</th>\n",
       "      <th>fecha_reserva</th>\n",
       "      <th>inicio_estancia</th>\n",
       "      <th>final_estancia</th>\n",
       "      <th>id_hotel</th>\n",
       "      <th>precio_noche</th>\n",
       "      <th>nombre_hotel</th>\n",
       "      <th>estrellas</th>\n",
       "      <th>ciudad</th>\n",
       "      <th>nombre_apellido</th>\n",
       "      <th>id_nombre_apellido</th>\n",
       "      <th>id_cliente_unico</th>\n",
       "    </tr>\n",
       "  </thead>\n",
       "  <tbody>\n",
       "    <tr>\n",
       "      <th>0</th>\n",
       "      <td>5256cc90-139b-43d2-8ec5-412495d751cf</td>\n",
       "      <td>346f2a77-33f4-4b2d-82f3-e8501e21b28d</td>\n",
       "      <td>Feliciana</td>\n",
       "      <td>Cantón</td>\n",
       "      <td>feliciana.cantón@example.com</td>\n",
       "      <td>True</td>\n",
       "      <td>NaT</td>\n",
       "      <td>2025-03-01</td>\n",
       "      <td>2025-03-02</td>\n",
       "      <td>113</td>\n",
       "      <td>NaN</td>\n",
       "      <td></td>\n",
       "      <td>&lt;NA&gt;</td>\n",
       "      <td></td>\n",
       "      <td>feliciana.cantón</td>\n",
       "      <td>346f2a77-33f4-4b2d-82f3-e8501e21b28d|feliciana...</td>\n",
       "      <td>C0fc</td>\n",
       "    </tr>\n",
       "    <tr>\n",
       "      <th>1</th>\n",
       "      <td>84fd6209-bd8d-4a92-bfe6-c68ee2c49271</td>\n",
       "      <td>346f2a77-33f4-4b2d-82f3-e8501e21b28d</td>\n",
       "      <td>Leonardo</td>\n",
       "      <td>Hierro</td>\n",
       "      <td>leonardo.hierro@example.com</td>\n",
       "      <td>True</td>\n",
       "      <td>NaT</td>\n",
       "      <td>2025-03-01</td>\n",
       "      <td>2025-03-02</td>\n",
       "      <td>194</td>\n",
       "      <td>NaN</td>\n",
       "      <td></td>\n",
       "      <td>&lt;NA&gt;</td>\n",
       "      <td></td>\n",
       "      <td>leonardo.hierro</td>\n",
       "      <td>346f2a77-33f4-4b2d-82f3-e8501e21b28d|leonardo....</td>\n",
       "      <td>C1lh</td>\n",
       "    </tr>\n",
       "    <tr>\n",
       "      <th>2</th>\n",
       "      <td>40c4cb55-d1f5-407b-832f-4756b8ff77b4</td>\n",
       "      <td>6ec4d7d2-e382-47cc-94f6-c647577d4035</td>\n",
       "      <td>Maite</td>\n",
       "      <td>Calatayud</td>\n",
       "      <td>maite.calatayud@example.com</td>\n",
       "      <td>False</td>\n",
       "      <td>2025-02-09</td>\n",
       "      <td>2025-03-01</td>\n",
       "      <td>2025-03-02</td>\n",
       "      <td>14</td>\n",
       "      <td>119.96</td>\n",
       "      <td>Hotel Monte Verde</td>\n",
       "      <td>1</td>\n",
       "      <td>Madrid</td>\n",
       "      <td>maite.calatayud</td>\n",
       "      <td>6ec4d7d2-e382-47cc-94f6-c647577d4035|maite.cal...</td>\n",
       "      <td>C2mc</td>\n",
       "    </tr>\n",
       "    <tr>\n",
       "      <th>3</th>\n",
       "      <td>f2ce8df5-7844-43e1-8c0f-97ce7a208f21</td>\n",
       "      <td>aed17fe8-eb18-4f69-bf08-df1afdc339c3</td>\n",
       "      <td>Tecla</td>\n",
       "      <td>Bonet</td>\n",
       "      <td>tecla.bonet@example.com</td>\n",
       "      <td>False</td>\n",
       "      <td>2025-02-08</td>\n",
       "      <td>2025-03-01</td>\n",
       "      <td>2025-03-02</td>\n",
       "      <td>38</td>\n",
       "      <td>211.53</td>\n",
       "      <td>Hotel Brisas del Mar</td>\n",
       "      <td>5</td>\n",
       "      <td>Madrid</td>\n",
       "      <td>tecla.bonet</td>\n",
       "      <td>aed17fe8-eb18-4f69-bf08-df1afdc339c3|tecla.bonet</td>\n",
       "      <td>C3tb</td>\n",
       "    </tr>\n",
       "    <tr>\n",
       "      <th>4</th>\n",
       "      <td>57d4515a-447d-4067-afcb-9bdcf4e4e915</td>\n",
       "      <td>710a2fbb-264f-426a-aa66-f8fffd146a2d</td>\n",
       "      <td>Amílcar</td>\n",
       "      <td>Andrés</td>\n",
       "      <td>amílcar.andrés@example.com</td>\n",
       "      <td>False</td>\n",
       "      <td>2025-02-02</td>\n",
       "      <td>2025-03-01</td>\n",
       "      <td>2025-03-02</td>\n",
       "      <td>35</td>\n",
       "      <td>378.37</td>\n",
       "      <td>Hotel Camino del Sol</td>\n",
       "      <td>1</td>\n",
       "      <td>Madrid</td>\n",
       "      <td>amílcar.andrés</td>\n",
       "      <td>710a2fbb-264f-426a-aa66-f8fffd146a2d|amílcar.a...</td>\n",
       "      <td>C4aa</td>\n",
       "    </tr>\n",
       "    <tr>\n",
       "      <th>...</th>\n",
       "      <td>...</td>\n",
       "      <td>...</td>\n",
       "      <td>...</td>\n",
       "      <td>...</td>\n",
       "      <td>...</td>\n",
       "      <td>...</td>\n",
       "      <td>...</td>\n",
       "      <td>...</td>\n",
       "      <td>...</td>\n",
       "      <td>...</td>\n",
       "      <td>...</td>\n",
       "      <td>...</td>\n",
       "      <td>...</td>\n",
       "      <td>...</td>\n",
       "      <td>...</td>\n",
       "      <td>...</td>\n",
       "      <td>...</td>\n",
       "    </tr>\n",
       "    <tr>\n",
       "      <th>14995</th>\n",
       "      <td>58acd6f3-7160-4973-b951-b14188937444</td>\n",
       "      <td>de729428-ec23-4665-a5c9-79e3ec282470</td>\n",
       "      <td>Lorena</td>\n",
       "      <td>Román</td>\n",
       "      <td>lorena.román@example.com</td>\n",
       "      <td>False</td>\n",
       "      <td>2025-02-06</td>\n",
       "      <td>2025-03-01</td>\n",
       "      <td>2025-03-02</td>\n",
       "      <td>35</td>\n",
       "      <td>111.78</td>\n",
       "      <td>Hotel Jardines del Rey</td>\n",
       "      <td>1</td>\n",
       "      <td>Madrid</td>\n",
       "      <td>lorena.román</td>\n",
       "      <td>de729428-ec23-4665-a5c9-79e3ec282470|lorena.román</td>\n",
       "      <td>C14900lr</td>\n",
       "    </tr>\n",
       "    <tr>\n",
       "      <th>14996</th>\n",
       "      <td>aa092c3e-7fe6-4985-a5a8-cacd38554b1b</td>\n",
       "      <td>8469b819-d96a-4904-9cdd-710764f6301f</td>\n",
       "      <td>Toño</td>\n",
       "      <td>Narváez</td>\n",
       "      <td>toño.narváez@example.com</td>\n",
       "      <td>True</td>\n",
       "      <td>NaT</td>\n",
       "      <td>2025-03-01</td>\n",
       "      <td>2025-03-02</td>\n",
       "      <td>114</td>\n",
       "      <td>NaN</td>\n",
       "      <td></td>\n",
       "      <td>&lt;NA&gt;</td>\n",
       "      <td></td>\n",
       "      <td>toño.narváez</td>\n",
       "      <td>8469b819-d96a-4904-9cdd-710764f6301f|toño.narváez</td>\n",
       "      <td>C14901tn</td>\n",
       "    </tr>\n",
       "    <tr>\n",
       "      <th>14997</th>\n",
       "      <td>af0f6afa-e7d2-410a-8cdd-5eb62b1e4788</td>\n",
       "      <td>e89751f4-3621-4636-81d3-90e2baa709cb</td>\n",
       "      <td>Nadia</td>\n",
       "      <td>Verdugo</td>\n",
       "      <td>nadia.verdugo@example.com</td>\n",
       "      <td>False</td>\n",
       "      <td>2025-02-11</td>\n",
       "      <td>2025-03-01</td>\n",
       "      <td>2025-03-02</td>\n",
       "      <td>47</td>\n",
       "      <td>442.96</td>\n",
       "      <td>Hotel Brisas del Mar</td>\n",
       "      <td>5</td>\n",
       "      <td>Madrid</td>\n",
       "      <td>nadia.verdugo</td>\n",
       "      <td>e89751f4-3621-4636-81d3-90e2baa709cb|nadia.ver...</td>\n",
       "      <td>C14902nv</td>\n",
       "    </tr>\n",
       "    <tr>\n",
       "      <th>14998</th>\n",
       "      <td>6d1f590c-ae87-4582-bc99-9b8cbf1d8e28</td>\n",
       "      <td>c4117358-fd89-44cd-b388-4ec6d3538c72</td>\n",
       "      <td>Custodia</td>\n",
       "      <td>Marco</td>\n",
       "      <td>custodia.marco@example.com</td>\n",
       "      <td>True</td>\n",
       "      <td>NaT</td>\n",
       "      <td>2025-03-01</td>\n",
       "      <td>2025-03-02</td>\n",
       "      <td>194</td>\n",
       "      <td>NaN</td>\n",
       "      <td></td>\n",
       "      <td>&lt;NA&gt;</td>\n",
       "      <td></td>\n",
       "      <td>custodia.marco</td>\n",
       "      <td>c4117358-fd89-44cd-b388-4ec6d3538c72|custodia....</td>\n",
       "      <td>C14903cm</td>\n",
       "    </tr>\n",
       "    <tr>\n",
       "      <th>14999</th>\n",
       "      <td>55b1c8de-bc13-4e4c-9dd7-50437788e361</td>\n",
       "      <td>f97ec0a6-6fb7-401e-83fa-5fb3957ee02b</td>\n",
       "      <td>Brígida</td>\n",
       "      <td>Salom</td>\n",
       "      <td>brígida.salom@example.com</td>\n",
       "      <td>False</td>\n",
       "      <td>2025-02-08</td>\n",
       "      <td>2025-03-01</td>\n",
       "      <td>2025-03-02</td>\n",
       "      <td>38</td>\n",
       "      <td>362.39</td>\n",
       "      <td>Hotel Vista Alegre</td>\n",
       "      <td>5</td>\n",
       "      <td>Madrid</td>\n",
       "      <td>brígida.salom</td>\n",
       "      <td>f97ec0a6-6fb7-401e-83fa-5fb3957ee02b|brígida.s...</td>\n",
       "      <td>C14904bs</td>\n",
       "    </tr>\n",
       "  </tbody>\n",
       "</table>\n",
       "<p>15000 rows × 17 columns</p>\n",
       "</div>"
      ],
      "text/plain": [
       "                                 id_reserva  \\\n",
       "0      5256cc90-139b-43d2-8ec5-412495d751cf   \n",
       "1      84fd6209-bd8d-4a92-bfe6-c68ee2c49271   \n",
       "2      40c4cb55-d1f5-407b-832f-4756b8ff77b4   \n",
       "3      f2ce8df5-7844-43e1-8c0f-97ce7a208f21   \n",
       "4      57d4515a-447d-4067-afcb-9bdcf4e4e915   \n",
       "...                                     ...   \n",
       "14995  58acd6f3-7160-4973-b951-b14188937444   \n",
       "14996  aa092c3e-7fe6-4985-a5a8-cacd38554b1b   \n",
       "14997  af0f6afa-e7d2-410a-8cdd-5eb62b1e4788   \n",
       "14998  6d1f590c-ae87-4582-bc99-9b8cbf1d8e28   \n",
       "14999  55b1c8de-bc13-4e4c-9dd7-50437788e361   \n",
       "\n",
       "                                 id_cliente     nombre   apellido  \\\n",
       "0      346f2a77-33f4-4b2d-82f3-e8501e21b28d  Feliciana     Cantón   \n",
       "1      346f2a77-33f4-4b2d-82f3-e8501e21b28d   Leonardo     Hierro   \n",
       "2      6ec4d7d2-e382-47cc-94f6-c647577d4035      Maite  Calatayud   \n",
       "3      aed17fe8-eb18-4f69-bf08-df1afdc339c3      Tecla      Bonet   \n",
       "4      710a2fbb-264f-426a-aa66-f8fffd146a2d    Amílcar     Andrés   \n",
       "...                                     ...        ...        ...   \n",
       "14995  de729428-ec23-4665-a5c9-79e3ec282470     Lorena      Román   \n",
       "14996  8469b819-d96a-4904-9cdd-710764f6301f       Toño    Narváez   \n",
       "14997  e89751f4-3621-4636-81d3-90e2baa709cb      Nadia    Verdugo   \n",
       "14998  c4117358-fd89-44cd-b388-4ec6d3538c72   Custodia      Marco   \n",
       "14999  f97ec0a6-6fb7-401e-83fa-5fb3957ee02b    Brígida      Salom   \n",
       "\n",
       "                               mail  competencia fecha_reserva  \\\n",
       "0      feliciana.cantón@example.com         True           NaT   \n",
       "1       leonardo.hierro@example.com         True           NaT   \n",
       "2       maite.calatayud@example.com        False    2025-02-09   \n",
       "3           tecla.bonet@example.com        False    2025-02-08   \n",
       "4        amílcar.andrés@example.com        False    2025-02-02   \n",
       "...                             ...          ...           ...   \n",
       "14995      lorena.román@example.com        False    2025-02-06   \n",
       "14996      toño.narváez@example.com         True           NaT   \n",
       "14997     nadia.verdugo@example.com        False    2025-02-11   \n",
       "14998    custodia.marco@example.com         True           NaT   \n",
       "14999     brígida.salom@example.com        False    2025-02-08   \n",
       "\n",
       "      inicio_estancia final_estancia  id_hotel  precio_noche  \\\n",
       "0          2025-03-01     2025-03-02       113           NaN   \n",
       "1          2025-03-01     2025-03-02       194           NaN   \n",
       "2          2025-03-01     2025-03-02        14        119.96   \n",
       "3          2025-03-01     2025-03-02        38        211.53   \n",
       "4          2025-03-01     2025-03-02        35        378.37   \n",
       "...               ...            ...       ...           ...   \n",
       "14995      2025-03-01     2025-03-02        35        111.78   \n",
       "14996      2025-03-01     2025-03-02       114           NaN   \n",
       "14997      2025-03-01     2025-03-02        47        442.96   \n",
       "14998      2025-03-01     2025-03-02       194           NaN   \n",
       "14999      2025-03-01     2025-03-02        38        362.39   \n",
       "\n",
       "                 nombre_hotel  estrellas  ciudad   nombre_apellido  \\\n",
       "0                                   <NA>          feliciana.cantón   \n",
       "1                                   <NA>           leonardo.hierro   \n",
       "2           Hotel Monte Verde          1  Madrid   maite.calatayud   \n",
       "3        Hotel Brisas del Mar          5  Madrid       tecla.bonet   \n",
       "4        Hotel Camino del Sol          1  Madrid    amílcar.andrés   \n",
       "...                       ...        ...     ...               ...   \n",
       "14995  Hotel Jardines del Rey          1  Madrid      lorena.román   \n",
       "14996                               <NA>              toño.narváez   \n",
       "14997    Hotel Brisas del Mar          5  Madrid     nadia.verdugo   \n",
       "14998                               <NA>            custodia.marco   \n",
       "14999      Hotel Vista Alegre          5  Madrid     brígida.salom   \n",
       "\n",
       "                                      id_nombre_apellido id_cliente_unico  \n",
       "0      346f2a77-33f4-4b2d-82f3-e8501e21b28d|feliciana...             C0fc  \n",
       "1      346f2a77-33f4-4b2d-82f3-e8501e21b28d|leonardo....             C1lh  \n",
       "2      6ec4d7d2-e382-47cc-94f6-c647577d4035|maite.cal...             C2mc  \n",
       "3       aed17fe8-eb18-4f69-bf08-df1afdc339c3|tecla.bonet             C3tb  \n",
       "4      710a2fbb-264f-426a-aa66-f8fffd146a2d|amílcar.a...             C4aa  \n",
       "...                                                  ...              ...  \n",
       "14995  de729428-ec23-4665-a5c9-79e3ec282470|lorena.román         C14900lr  \n",
       "14996  8469b819-d96a-4904-9cdd-710764f6301f|toño.narváez         C14901tn  \n",
       "14997  e89751f4-3621-4636-81d3-90e2baa709cb|nadia.ver...         C14902nv  \n",
       "14998  c4117358-fd89-44cd-b388-4ec6d3538c72|custodia....         C14903cm  \n",
       "14999  f97ec0a6-6fb7-401e-83fa-5fb3957ee02b|brígida.s...         C14904bs  \n",
       "\n",
       "[15000 rows x 17 columns]"
      ]
     },
     "execution_count": 38,
     "metadata": {},
     "output_type": "execute_result"
    }
   ],
   "source": [
    "df['id_cliente_unico'] = None\n",
    "for i in df.index:\n",
    "    nombre_completo = df['nombre_apellido'][i]\n",
    "    id_cliente_unico_1 = df_clientes_unicos[df_clientes_unicos['nombre_apellido']==nombre_completo].id_cliente_unico.values[0]\n",
    "    df.loc[i,'id_cliente_unico']=id_cliente_unico_1\n",
    "df"
   ]
  },
  {
   "cell_type": "markdown",
   "metadata": {},
   "source": [
    "# Columnas inicio_estancia y final_estancia"
   ]
  },
  {
   "cell_type": "code",
   "execution_count": 39,
   "metadata": {},
   "outputs": [
    {
     "name": "stdout",
     "output_type": "stream",
     "text": [
      "<class 'pandas.core.frame.DataFrame'>\n",
      "Index: 15000 entries, 0 to 14999\n",
      "Data columns (total 17 columns):\n",
      " #   Column              Non-Null Count  Dtype         \n",
      "---  ------              --------------  -----         \n",
      " 0   id_reserva          15000 non-null  object        \n",
      " 1   id_cliente          15000 non-null  object        \n",
      " 2   nombre              15000 non-null  object        \n",
      " 3   apellido            15000 non-null  object        \n",
      " 4   mail                15000 non-null  object        \n",
      " 5   competencia         15000 non-null  bool          \n",
      " 6   fecha_reserva       9828 non-null   datetime64[ns]\n",
      " 7   inicio_estancia     15000 non-null  datetime64[ns]\n",
      " 8   final_estancia      15000 non-null  datetime64[ns]\n",
      " 9   id_hotel            15000 non-null  int64         \n",
      " 10  precio_noche        9776 non-null   float64       \n",
      " 11  nombre_hotel        15000 non-null  object        \n",
      " 12  estrellas           9828 non-null   Int64         \n",
      " 13  ciudad              15000 non-null  object        \n",
      " 14  nombre_apellido     15000 non-null  object        \n",
      " 15  id_nombre_apellido  15000 non-null  object        \n",
      " 16  id_cliente_unico    15000 non-null  object        \n",
      "dtypes: Int64(1), bool(1), datetime64[ns](3), float64(1), int64(1), object(10)\n",
      "memory usage: 2.5+ MB\n"
     ]
    }
   ],
   "source": [
    "#las 2 columnas tienen valores nulos. Los relleno con el único valor existente:\n",
    "df.inicio_estancia.value_counts()\n",
    "df[\"inicio_estancia\"] = df[\"inicio_estancia\"][0]\n",
    "df[\"final_estancia\"] =  df[\"final_estancia\"][0]\n",
    "\n",
    "df.info()"
   ]
  },
  {
   "cell_type": "markdown",
   "metadata": {},
   "source": [
    "# Columna fecha_reserva"
   ]
  },
  {
   "cell_type": "code",
   "execution_count": 40,
   "metadata": {},
   "outputs": [
    {
     "data": {
      "text/plain": [
       "fecha_reserva\n",
       "2025-02-06    872\n",
       "2025-02-04    871\n",
       "2025-02-02    853\n",
       "2025-02-03    833\n",
       "2025-02-05    825\n",
       "2025-02-09    820\n",
       "2025-02-01    814\n",
       "2025-02-10    812\n",
       "2025-02-12    811\n",
       "2025-02-11    775\n",
       "2025-02-07    775\n",
       "2025-02-08    767\n",
       "Name: count, dtype: int64"
      ]
     },
     "execution_count": 40,
     "metadata": {},
     "output_type": "execute_result"
    }
   ],
   "source": [
    "df.fecha_reserva.value_counts()\n",
    "#Totas las reservas se han realizado en febrero de 2025"
   ]
  },
  {
   "cell_type": "code",
   "execution_count": 41,
   "metadata": {},
   "outputs": [
    {
     "data": {
      "application/vnd.microsoft.datawrangler.viewer.v0+json": {
       "columns": [
        {
         "name": "index",
         "rawType": "int64",
         "type": "integer"
        },
        {
         "name": "id_reserva",
         "rawType": "object",
         "type": "string"
        },
        {
         "name": "id_cliente",
         "rawType": "object",
         "type": "string"
        },
        {
         "name": "nombre",
         "rawType": "object",
         "type": "string"
        },
        {
         "name": "apellido",
         "rawType": "object",
         "type": "string"
        },
        {
         "name": "mail",
         "rawType": "object",
         "type": "string"
        },
        {
         "name": "competencia",
         "rawType": "bool",
         "type": "boolean"
        },
        {
         "name": "fecha_reserva",
         "rawType": "datetime64[ns]",
         "type": "datetime"
        },
        {
         "name": "inicio_estancia",
         "rawType": "datetime64[ns]",
         "type": "datetime"
        },
        {
         "name": "final_estancia",
         "rawType": "datetime64[ns]",
         "type": "datetime"
        },
        {
         "name": "id_hotel",
         "rawType": "int64",
         "type": "integer"
        },
        {
         "name": "precio_noche",
         "rawType": "float64",
         "type": "float"
        },
        {
         "name": "nombre_hotel",
         "rawType": "object",
         "type": "string"
        },
        {
         "name": "estrellas",
         "rawType": "Int64",
         "type": "integer"
        },
        {
         "name": "ciudad",
         "rawType": "object",
         "type": "string"
        },
        {
         "name": "nombre_apellido",
         "rawType": "object",
         "type": "string"
        },
        {
         "name": "id_nombre_apellido",
         "rawType": "object",
         "type": "string"
        },
        {
         "name": "id_cliente_unico",
         "rawType": "object",
         "type": "string"
        }
       ],
       "conversionMethod": "pd.DataFrame",
       "ref": "63dabc70-bca4-45c5-a248-15ca05e135e8",
       "rows": [],
       "shape": {
        "columns": 17,
        "rows": 0
       }
      },
      "text/html": [
       "<div>\n",
       "<style scoped>\n",
       "    .dataframe tbody tr th:only-of-type {\n",
       "        vertical-align: middle;\n",
       "    }\n",
       "\n",
       "    .dataframe tbody tr th {\n",
       "        vertical-align: top;\n",
       "    }\n",
       "\n",
       "    .dataframe thead th {\n",
       "        text-align: right;\n",
       "    }\n",
       "</style>\n",
       "<table border=\"1\" class=\"dataframe\">\n",
       "  <thead>\n",
       "    <tr style=\"text-align: right;\">\n",
       "      <th></th>\n",
       "      <th>id_reserva</th>\n",
       "      <th>id_cliente</th>\n",
       "      <th>nombre</th>\n",
       "      <th>apellido</th>\n",
       "      <th>mail</th>\n",
       "      <th>competencia</th>\n",
       "      <th>fecha_reserva</th>\n",
       "      <th>inicio_estancia</th>\n",
       "      <th>final_estancia</th>\n",
       "      <th>id_hotel</th>\n",
       "      <th>precio_noche</th>\n",
       "      <th>nombre_hotel</th>\n",
       "      <th>estrellas</th>\n",
       "      <th>ciudad</th>\n",
       "      <th>nombre_apellido</th>\n",
       "      <th>id_nombre_apellido</th>\n",
       "      <th>id_cliente_unico</th>\n",
       "    </tr>\n",
       "  </thead>\n",
       "  <tbody>\n",
       "  </tbody>\n",
       "</table>\n",
       "</div>"
      ],
      "text/plain": [
       "Empty DataFrame\n",
       "Columns: [id_reserva, id_cliente, nombre, apellido, mail, competencia, fecha_reserva, inicio_estancia, final_estancia, id_hotel, precio_noche, nombre_hotel, estrellas, ciudad, nombre_apellido, id_nombre_apellido, id_cliente_unico]\n",
       "Index: []"
      ]
     },
     "execution_count": 41,
     "metadata": {},
     "output_type": "execute_result"
    }
   ],
   "source": [
    "df_fecha_reserva_nulos = df[df['fecha_reserva'].isnull()]\n",
    "df_fecha_reserva_nulos[df_fecha_reserva_nulos.competencia==False]\n",
    "#Todos los nulos que tiene son de reservas de la competencia. ¿Qué valor le doy? ¿Me lo invento? Hay que darle la fecha en la que se realiza el escrapeo"
   ]
  },
  {
   "cell_type": "markdown",
   "metadata": {},
   "source": [
    "# Columna id_hotel y nombre_hotel "
   ]
  },
  {
   "cell_type": "code",
   "execution_count": 42,
   "metadata": {},
   "outputs": [
    {
     "data": {
      "text/plain": [
       "29"
      ]
     },
     "execution_count": 42,
     "metadata": {},
     "output_type": "execute_result"
    }
   ],
   "source": [
    "len(df.id_hotel.value_counts())"
   ]
  },
  {
   "cell_type": "code",
   "execution_count": 43,
   "metadata": {},
   "outputs": [],
   "source": [
    "df_no_competencia = df[df.competencia == False]"
   ]
  },
  {
   "cell_type": "code",
   "execution_count": 44,
   "metadata": {},
   "outputs": [
    {
     "data": {
      "text/plain": [
       "19"
      ]
     },
     "execution_count": 44,
     "metadata": {},
     "output_type": "execute_result"
    }
   ],
   "source": [
    "len(df_no_competencia.id_hotel.value_counts())"
   ]
  },
  {
   "cell_type": "code",
   "execution_count": 45,
   "metadata": {},
   "outputs": [
    {
     "data": {
      "text/plain": [
       "id_hotel\n",
       "28     559\n",
       "6      543\n",
       "36     542\n",
       "13     541\n",
       "114    537\n",
       "27     536\n",
       "38     534\n",
       "103    533\n",
       "2      531\n",
       "128    530\n",
       "14     528\n",
       "131    524\n",
       "186    522\n",
       "48     519\n",
       "135    518\n",
       "40     516\n",
       "113    515\n",
       "15     514\n",
       "194    511\n",
       "19     511\n",
       "33     508\n",
       "49     506\n",
       "35     506\n",
       "3      501\n",
       "47     498\n",
       "181    493\n",
       "117    489\n",
       "43     485\n",
       "29     450\n",
       "Name: count, dtype: int64"
      ]
     },
     "execution_count": 45,
     "metadata": {},
     "output_type": "execute_result"
    }
   ],
   "source": [
    "df.id_hotel.value_counts()"
   ]
  },
  {
   "cell_type": "code",
   "execution_count": 46,
   "metadata": {},
   "outputs": [
    {
     "data": {
      "text/plain": [
       "20"
      ]
     },
     "execution_count": 46,
     "metadata": {},
     "output_type": "execute_result"
    }
   ],
   "source": [
    "len(df.nombre_hotel .value_counts())"
   ]
  },
  {
   "cell_type": "code",
   "execution_count": 47,
   "metadata": {},
   "outputs": [
    {
     "data": {
      "text/plain": [
       "nombre_hotel\n",
       "                          5172\n",
       "Hotel Sol y Luna           557\n",
       "Hotel Monte Verde          550\n",
       "Hotel Luz de Madrid        536\n",
       "Hotel Brisas del Mar       534\n",
       "Hotel Mirador Real         533\n",
       "Hotel Los Almendros        533\n",
       "Hotel Puerta del Cielo     526\n",
       "Hotel Camino del Sol       518\n",
       "Gran Hotel Madrid          518\n",
       "Hotel Costa Azul           515\n",
       "Hotel Las Estrellas        514\n",
       "Hotel Torre Dorada         512\n",
       "Hotel Rincón Sereno        512\n",
       "Hotel Vista Alegre         511\n",
       "Hotel Encanto Real         511\n",
       "Palacio del Sol            510\n",
       "Hotel Jardines del Rey     502\n",
       "Hotel Maravilla Real       473\n",
       "Hotel Palacio Imperial     463\n",
       "Name: count, dtype: int64"
      ]
     },
     "execution_count": 47,
     "metadata": {},
     "output_type": "execute_result"
    }
   ],
   "source": [
    "df.nombre_hotel.value_counts()"
   ]
  },
  {
   "cell_type": "code",
   "execution_count": 48,
   "metadata": {},
   "outputs": [],
   "source": [
    "#Creo una columna para combinar el id y el nombre para ver cuantos elementos únicos me aparecen ya que no coincide la cantidad existente en los ids con la cantidad existente en los nombre\n",
    "df['id_nombre_hotel']= df['id_hotel'].astype('str') + '|' + df['nombre_hotel']"
   ]
  },
  {
   "cell_type": "code",
   "execution_count": 49,
   "metadata": {},
   "outputs": [
    {
     "name": "stdout",
     "output_type": "stream",
     "text": [
      "Existen 371 combinaciones diferentes\n"
     ]
    }
   ],
   "source": [
    "len(df['id_nombre_hotel'].value_counts())\n",
    "print(f'Existen {len(df['id_nombre_hotel'].value_counts())} combinaciones diferentes')"
   ]
  },
  {
   "cell_type": "code",
   "execution_count": 50,
   "metadata": {},
   "outputs": [
    {
     "data": {
      "text/plain": [
       "['Hotel Monte Verde',\n",
       " 'Hotel Brisas del Mar',\n",
       " 'Hotel Camino del Sol',\n",
       " 'Hotel Puerta del Cielo',\n",
       " 'Hotel Encanto Real',\n",
       " 'Palacio del Sol',\n",
       " 'Hotel Jardines del Rey',\n",
       " 'Hotel Las Estrellas',\n",
       " 'Gran Hotel Madrid',\n",
       " 'Hotel Torre Dorada',\n",
       " 'Hotel Palacio Imperial',\n",
       " 'Hotel Luz de Madrid',\n",
       " 'Hotel Los Almendros',\n",
       " 'Hotel Sol y Luna',\n",
       " 'Hotel Mirador Real',\n",
       " 'Hotel Rincón Sereno',\n",
       " 'Hotel Vista Alegre',\n",
       " 'Hotel Costa Azul',\n",
       " 'Hotel Maravilla Real']"
      ]
     },
     "execution_count": 50,
     "metadata": {},
     "output_type": "execute_result"
    }
   ],
   "source": [
    "lista_nombre_hoteles = df.nombre_hotel.unique().tolist()\n",
    "lista_nombre_hoteles[1:]"
   ]
  },
  {
   "cell_type": "code",
   "execution_count": 51,
   "metadata": {},
   "outputs": [
    {
     "data": {
      "text/plain": [
       "[14, 38, 35, 36, 43, 6, 3, 29, 47, 27, 13, 28, 40, 2, 48, 15, 33, 49, 19]"
      ]
     },
     "execution_count": 51,
     "metadata": {},
     "output_type": "execute_result"
    }
   ],
   "source": [
    "lista_ids_hoteles = df_no_competencia.id_hotel.unique().tolist()\n",
    "lista_ids_hoteles"
   ]
  },
  {
   "cell_type": "code",
   "execution_count": 52,
   "metadata": {},
   "outputs": [
    {
     "name": "stdout",
     "output_type": "stream",
     "text": [
      "Hotel Monte Verde\n",
      "id_hotel     6\n",
      "count       41\n",
      "Name: 0, dtype: int64\n",
      "Hotel Brisas del Mar\n",
      "id_hotel    27\n",
      "count       38\n",
      "Name: 0, dtype: int64\n",
      "Hotel Camino del Sol\n",
      "id_hotel    15\n",
      "count       36\n",
      "Name: 0, dtype: int64\n",
      "Hotel Puerta del Cielo\n",
      "id_hotel    28\n",
      "count       37\n",
      "Name: 0, dtype: int64\n",
      "Hotel Encanto Real\n",
      "id_hotel     2\n",
      "count       35\n",
      "Name: 0, dtype: int64\n",
      "Palacio del Sol\n",
      "id_hotel     6\n",
      "count       42\n",
      "Name: 0, dtype: int64\n",
      "Hotel Jardines del Rey\n",
      "id_hotel     6\n",
      "count       33\n",
      "Name: 0, dtype: int64\n",
      "Hotel Las Estrellas\n",
      "id_hotel     2\n",
      "count       38\n",
      "Name: 0, dtype: int64\n",
      "Gran Hotel Madrid\n",
      "id_hotel    38\n",
      "count       43\n",
      "Name: 0, dtype: int64\n",
      "Hotel Torre Dorada\n",
      "id_hotel    33\n",
      "count       37\n",
      "Name: 0, dtype: int64\n",
      "Hotel Palacio Imperial\n",
      "id_hotel    38\n",
      "count       32\n",
      "Name: 0, dtype: int64\n",
      "Hotel Luz de Madrid\n",
      "id_hotel    15\n",
      "count       37\n",
      "Name: 0, dtype: int64\n",
      "Hotel Los Almendros\n",
      "id_hotel    15\n",
      "count       38\n",
      "Name: 0, dtype: int64\n",
      "Hotel Sol y Luna\n",
      "id_hotel    36\n",
      "count       40\n",
      "Name: 0, dtype: int64\n",
      "Hotel Mirador Real\n",
      "id_hotel    47\n",
      "count       36\n",
      "Name: 0, dtype: int64\n",
      "Hotel Rincón Sereno\n",
      "id_hotel    28\n",
      "count       41\n",
      "Name: 0, dtype: int64\n",
      "Hotel Vista Alegre\n",
      "id_hotel    13\n",
      "count       41\n",
      "Name: 0, dtype: int64\n",
      "Hotel Costa Azul\n",
      "id_hotel    13\n",
      "count       34\n",
      "Name: 0, dtype: int64\n",
      "Hotel Maravilla Real\n",
      "id_hotel    14\n",
      "count       34\n",
      "Name: 0, dtype: int64\n"
     ]
    }
   ],
   "source": [
    "#cada nombre de hotel tiene todos los ids posibles. Hay que reestructurar los ids\n",
    "for hotel in lista_nombre_hoteles[1:]:\n",
    "    df[df.nombre_hotel==hotel].id_hotel.value_counts().reset_index().iloc[0]\n",
    "    print(hotel)\n",
    "    print(df[df.nombre_hotel==hotel].id_hotel.value_counts().reset_index().iloc[0])"
   ]
  },
  {
   "cell_type": "code",
   "execution_count": 53,
   "metadata": {},
   "outputs": [
    {
     "data": {
      "application/vnd.microsoft.datawrangler.viewer.v0+json": {
       "columns": [
        {
         "name": "index",
         "rawType": "int64",
         "type": "integer"
        },
        {
         "name": "id_hotel",
         "rawType": "int64",
         "type": "integer"
        },
        {
         "name": "nombre_hotel",
         "rawType": "object",
         "type": "string"
        }
       ],
       "conversionMethod": "pd.DataFrame",
       "ref": "6df0a625-612b-4dbc-90b7-16ef44631873",
       "rows": [
        [
         "0",
         "14",
         "Hotel Monte Verde"
        ],
        [
         "1",
         "38",
         "Hotel Brisas del Mar"
        ],
        [
         "2",
         "35",
         "Hotel Camino del Sol"
        ],
        [
         "3",
         "36",
         "Hotel Puerta del Cielo"
        ],
        [
         "4",
         "43",
         "Hotel Encanto Real"
        ],
        [
         "5",
         "6",
         "Palacio del Sol"
        ],
        [
         "6",
         "3",
         "Hotel Jardines del Rey"
        ],
        [
         "7",
         "29",
         "Hotel Las Estrellas"
        ],
        [
         "8",
         "47",
         "Gran Hotel Madrid"
        ],
        [
         "9",
         "27",
         "Hotel Torre Dorada"
        ],
        [
         "10",
         "13",
         "Hotel Palacio Imperial"
        ],
        [
         "11",
         "28",
         "Hotel Luz de Madrid"
        ],
        [
         "12",
         "40",
         "Hotel Los Almendros"
        ],
        [
         "13",
         "2",
         "Hotel Sol y Luna"
        ],
        [
         "14",
         "48",
         "Hotel Mirador Real"
        ],
        [
         "15",
         "15",
         "Hotel Rincón Sereno"
        ],
        [
         "16",
         "33",
         "Hotel Vista Alegre"
        ],
        [
         "17",
         "49",
         "Hotel Costa Azul"
        ],
        [
         "18",
         "19",
         "Hotel Maravilla Real"
        ]
       ],
       "shape": {
        "columns": 2,
        "rows": 19
       }
      },
      "text/html": [
       "<div>\n",
       "<style scoped>\n",
       "    .dataframe tbody tr th:only-of-type {\n",
       "        vertical-align: middle;\n",
       "    }\n",
       "\n",
       "    .dataframe tbody tr th {\n",
       "        vertical-align: top;\n",
       "    }\n",
       "\n",
       "    .dataframe thead th {\n",
       "        text-align: right;\n",
       "    }\n",
       "</style>\n",
       "<table border=\"1\" class=\"dataframe\">\n",
       "  <thead>\n",
       "    <tr style=\"text-align: right;\">\n",
       "      <th></th>\n",
       "      <th>id_hotel</th>\n",
       "      <th>nombre_hotel</th>\n",
       "    </tr>\n",
       "  </thead>\n",
       "  <tbody>\n",
       "    <tr>\n",
       "      <th>0</th>\n",
       "      <td>14</td>\n",
       "      <td>Hotel Monte Verde</td>\n",
       "    </tr>\n",
       "    <tr>\n",
       "      <th>1</th>\n",
       "      <td>38</td>\n",
       "      <td>Hotel Brisas del Mar</td>\n",
       "    </tr>\n",
       "    <tr>\n",
       "      <th>2</th>\n",
       "      <td>35</td>\n",
       "      <td>Hotel Camino del Sol</td>\n",
       "    </tr>\n",
       "    <tr>\n",
       "      <th>3</th>\n",
       "      <td>36</td>\n",
       "      <td>Hotel Puerta del Cielo</td>\n",
       "    </tr>\n",
       "    <tr>\n",
       "      <th>4</th>\n",
       "      <td>43</td>\n",
       "      <td>Hotel Encanto Real</td>\n",
       "    </tr>\n",
       "    <tr>\n",
       "      <th>5</th>\n",
       "      <td>6</td>\n",
       "      <td>Palacio del Sol</td>\n",
       "    </tr>\n",
       "    <tr>\n",
       "      <th>6</th>\n",
       "      <td>3</td>\n",
       "      <td>Hotel Jardines del Rey</td>\n",
       "    </tr>\n",
       "    <tr>\n",
       "      <th>7</th>\n",
       "      <td>29</td>\n",
       "      <td>Hotel Las Estrellas</td>\n",
       "    </tr>\n",
       "    <tr>\n",
       "      <th>8</th>\n",
       "      <td>47</td>\n",
       "      <td>Gran Hotel Madrid</td>\n",
       "    </tr>\n",
       "    <tr>\n",
       "      <th>9</th>\n",
       "      <td>27</td>\n",
       "      <td>Hotel Torre Dorada</td>\n",
       "    </tr>\n",
       "    <tr>\n",
       "      <th>10</th>\n",
       "      <td>13</td>\n",
       "      <td>Hotel Palacio Imperial</td>\n",
       "    </tr>\n",
       "    <tr>\n",
       "      <th>11</th>\n",
       "      <td>28</td>\n",
       "      <td>Hotel Luz de Madrid</td>\n",
       "    </tr>\n",
       "    <tr>\n",
       "      <th>12</th>\n",
       "      <td>40</td>\n",
       "      <td>Hotel Los Almendros</td>\n",
       "    </tr>\n",
       "    <tr>\n",
       "      <th>13</th>\n",
       "      <td>2</td>\n",
       "      <td>Hotel Sol y Luna</td>\n",
       "    </tr>\n",
       "    <tr>\n",
       "      <th>14</th>\n",
       "      <td>48</td>\n",
       "      <td>Hotel Mirador Real</td>\n",
       "    </tr>\n",
       "    <tr>\n",
       "      <th>15</th>\n",
       "      <td>15</td>\n",
       "      <td>Hotel Rincón Sereno</td>\n",
       "    </tr>\n",
       "    <tr>\n",
       "      <th>16</th>\n",
       "      <td>33</td>\n",
       "      <td>Hotel Vista Alegre</td>\n",
       "    </tr>\n",
       "    <tr>\n",
       "      <th>17</th>\n",
       "      <td>49</td>\n",
       "      <td>Hotel Costa Azul</td>\n",
       "    </tr>\n",
       "    <tr>\n",
       "      <th>18</th>\n",
       "      <td>19</td>\n",
       "      <td>Hotel Maravilla Real</td>\n",
       "    </tr>\n",
       "  </tbody>\n",
       "</table>\n",
       "</div>"
      ],
      "text/plain": [
       "    id_hotel            nombre_hotel\n",
       "0         14       Hotel Monte Verde\n",
       "1         38    Hotel Brisas del Mar\n",
       "2         35    Hotel Camino del Sol\n",
       "3         36  Hotel Puerta del Cielo\n",
       "4         43      Hotel Encanto Real\n",
       "5          6         Palacio del Sol\n",
       "6          3  Hotel Jardines del Rey\n",
       "7         29     Hotel Las Estrellas\n",
       "8         47       Gran Hotel Madrid\n",
       "9         27      Hotel Torre Dorada\n",
       "10        13  Hotel Palacio Imperial\n",
       "11        28     Hotel Luz de Madrid\n",
       "12        40     Hotel Los Almendros\n",
       "13         2        Hotel Sol y Luna\n",
       "14        48      Hotel Mirador Real\n",
       "15        15     Hotel Rincón Sereno\n",
       "16        33      Hotel Vista Alegre\n",
       "17        49        Hotel Costa Azul\n",
       "18        19    Hotel Maravilla Real"
      ]
     },
     "execution_count": 53,
     "metadata": {},
     "output_type": "execute_result"
    }
   ],
   "source": [
    "#No existe un patrón en el código anterior, hay ids que aparecen varias veces como los más repetidos. Por tanto, creo un diccionario nuevo para darle un id a cada hotel según el nombre:\n",
    "lista_nombre_hoteles = df.nombre_hotel.unique().tolist()\n",
    "lista_ids_hoteles = df_no_competencia.id_hotel.unique().tolist()\n",
    "dict_id_nombre_hotel = {'id_hotel': [], \n",
    "                        'nombre_hotel': []}\n",
    "for hotel in lista_nombre_hoteles[1:]:\n",
    "    dict_id_nombre_hotel[\"nombre_hotel\"].append(hotel)\n",
    "for id in lista_ids_hoteles:\n",
    "    dict_id_nombre_hotel[\"id_hotel\"].append(id)\n",
    "dict_id_nombre_hotel\n",
    "\n",
    "df_id_hoteles_nombre_hoteles = pd.DataFrame(dict_id_nombre_hotel)\n",
    "df_id_hoteles_nombre_hoteles\n",
    "\n",
    "##genero esta tabla para los ids de hoteles, pero yo reiniciaria los ids al llevarmelos a la BBDD "
   ]
  },
  {
   "cell_type": "code",
   "execution_count": 54,
   "metadata": {},
   "outputs": [
    {
     "data": {
      "application/vnd.microsoft.datawrangler.viewer.v0+json": {
       "columns": [
        {
         "name": "index",
         "rawType": "int64",
         "type": "integer"
        },
        {
         "name": "id_reserva",
         "rawType": "object",
         "type": "string"
        },
        {
         "name": "id_cliente",
         "rawType": "object",
         "type": "string"
        },
        {
         "name": "nombre",
         "rawType": "object",
         "type": "string"
        },
        {
         "name": "apellido",
         "rawType": "object",
         "type": "string"
        },
        {
         "name": "mail",
         "rawType": "object",
         "type": "string"
        },
        {
         "name": "competencia",
         "rawType": "bool",
         "type": "boolean"
        },
        {
         "name": "fecha_reserva",
         "rawType": "datetime64[ns]",
         "type": "datetime"
        },
        {
         "name": "inicio_estancia",
         "rawType": "datetime64[ns]",
         "type": "datetime"
        },
        {
         "name": "final_estancia",
         "rawType": "datetime64[ns]",
         "type": "datetime"
        },
        {
         "name": "id_hotel",
         "rawType": "int64",
         "type": "integer"
        },
        {
         "name": "precio_noche",
         "rawType": "float64",
         "type": "float"
        },
        {
         "name": "nombre_hotel",
         "rawType": "object",
         "type": "string"
        },
        {
         "name": "estrellas",
         "rawType": "Int64",
         "type": "integer"
        },
        {
         "name": "ciudad",
         "rawType": "object",
         "type": "string"
        },
        {
         "name": "nombre_apellido",
         "rawType": "object",
         "type": "string"
        },
        {
         "name": "id_nombre_apellido",
         "rawType": "object",
         "type": "string"
        },
        {
         "name": "id_cliente_unico",
         "rawType": "object",
         "type": "string"
        },
        {
         "name": "id_nombre_hotel",
         "rawType": "object",
         "type": "string"
        }
       ],
       "conversionMethod": "pd.DataFrame",
       "ref": "6ac13546-f820-48fb-b1c3-09bae51471c1",
       "rows": [
        [
         "0",
         "5256cc90-139b-43d2-8ec5-412495d751cf",
         "346f2a77-33f4-4b2d-82f3-e8501e21b28d",
         "Feliciana",
         "Cantón",
         "feliciana.cantón@example.com",
         "True",
         null,
         "2025-03-01 00:00:00",
         "2025-03-02 00:00:00",
         "113",
         null,
         "",
         null,
         "",
         "feliciana.cantón",
         "346f2a77-33f4-4b2d-82f3-e8501e21b28d|feliciana.cantón",
         "C0fc",
         "113|"
        ],
        [
         "1",
         "84fd6209-bd8d-4a92-bfe6-c68ee2c49271",
         "346f2a77-33f4-4b2d-82f3-e8501e21b28d",
         "Leonardo",
         "Hierro",
         "leonardo.hierro@example.com",
         "True",
         null,
         "2025-03-01 00:00:00",
         "2025-03-02 00:00:00",
         "194",
         null,
         "",
         null,
         "",
         "leonardo.hierro",
         "346f2a77-33f4-4b2d-82f3-e8501e21b28d|leonardo.hierro",
         "C1lh",
         "194|"
        ],
        [
         "2",
         "40c4cb55-d1f5-407b-832f-4756b8ff77b4",
         "6ec4d7d2-e382-47cc-94f6-c647577d4035",
         "Maite",
         "Calatayud",
         "maite.calatayud@example.com",
         "False",
         "2025-02-09 00:00:00",
         "2025-03-01 00:00:00",
         "2025-03-02 00:00:00",
         "14",
         "119.96",
         "Hotel Monte Verde",
         "1",
         "Madrid",
         "maite.calatayud",
         "6ec4d7d2-e382-47cc-94f6-c647577d4035|maite.calatayud",
         "C2mc",
         "14|Hotel Monte Verde"
        ],
        [
         "3",
         "f2ce8df5-7844-43e1-8c0f-97ce7a208f21",
         "aed17fe8-eb18-4f69-bf08-df1afdc339c3",
         "Tecla",
         "Bonet",
         "tecla.bonet@example.com",
         "False",
         "2025-02-08 00:00:00",
         "2025-03-01 00:00:00",
         "2025-03-02 00:00:00",
         "38",
         "211.53",
         "Hotel Brisas del Mar",
         "5",
         "Madrid",
         "tecla.bonet",
         "aed17fe8-eb18-4f69-bf08-df1afdc339c3|tecla.bonet",
         "C3tb",
         "38|Hotel Brisas del Mar"
        ],
        [
         "4",
         "57d4515a-447d-4067-afcb-9bdcf4e4e915",
         "710a2fbb-264f-426a-aa66-f8fffd146a2d",
         "Amílcar",
         "Andrés",
         "amílcar.andrés@example.com",
         "False",
         "2025-02-02 00:00:00",
         "2025-03-01 00:00:00",
         "2025-03-02 00:00:00",
         "35",
         "378.37",
         "Hotel Camino del Sol",
         "1",
         "Madrid",
         "amílcar.andrés",
         "710a2fbb-264f-426a-aa66-f8fffd146a2d|amílcar.andrés",
         "C4aa",
         "35|Hotel Camino del Sol"
        ]
       ],
       "shape": {
        "columns": 18,
        "rows": 5
       }
      },
      "text/html": [
       "<div>\n",
       "<style scoped>\n",
       "    .dataframe tbody tr th:only-of-type {\n",
       "        vertical-align: middle;\n",
       "    }\n",
       "\n",
       "    .dataframe tbody tr th {\n",
       "        vertical-align: top;\n",
       "    }\n",
       "\n",
       "    .dataframe thead th {\n",
       "        text-align: right;\n",
       "    }\n",
       "</style>\n",
       "<table border=\"1\" class=\"dataframe\">\n",
       "  <thead>\n",
       "    <tr style=\"text-align: right;\">\n",
       "      <th></th>\n",
       "      <th>id_reserva</th>\n",
       "      <th>id_cliente</th>\n",
       "      <th>nombre</th>\n",
       "      <th>apellido</th>\n",
       "      <th>mail</th>\n",
       "      <th>competencia</th>\n",
       "      <th>fecha_reserva</th>\n",
       "      <th>inicio_estancia</th>\n",
       "      <th>final_estancia</th>\n",
       "      <th>id_hotel</th>\n",
       "      <th>precio_noche</th>\n",
       "      <th>nombre_hotel</th>\n",
       "      <th>estrellas</th>\n",
       "      <th>ciudad</th>\n",
       "      <th>nombre_apellido</th>\n",
       "      <th>id_nombre_apellido</th>\n",
       "      <th>id_cliente_unico</th>\n",
       "      <th>id_nombre_hotel</th>\n",
       "    </tr>\n",
       "  </thead>\n",
       "  <tbody>\n",
       "    <tr>\n",
       "      <th>0</th>\n",
       "      <td>5256cc90-139b-43d2-8ec5-412495d751cf</td>\n",
       "      <td>346f2a77-33f4-4b2d-82f3-e8501e21b28d</td>\n",
       "      <td>Feliciana</td>\n",
       "      <td>Cantón</td>\n",
       "      <td>feliciana.cantón@example.com</td>\n",
       "      <td>True</td>\n",
       "      <td>NaT</td>\n",
       "      <td>2025-03-01</td>\n",
       "      <td>2025-03-02</td>\n",
       "      <td>113</td>\n",
       "      <td>NaN</td>\n",
       "      <td></td>\n",
       "      <td>&lt;NA&gt;</td>\n",
       "      <td></td>\n",
       "      <td>feliciana.cantón</td>\n",
       "      <td>346f2a77-33f4-4b2d-82f3-e8501e21b28d|feliciana...</td>\n",
       "      <td>C0fc</td>\n",
       "      <td>113|</td>\n",
       "    </tr>\n",
       "    <tr>\n",
       "      <th>1</th>\n",
       "      <td>84fd6209-bd8d-4a92-bfe6-c68ee2c49271</td>\n",
       "      <td>346f2a77-33f4-4b2d-82f3-e8501e21b28d</td>\n",
       "      <td>Leonardo</td>\n",
       "      <td>Hierro</td>\n",
       "      <td>leonardo.hierro@example.com</td>\n",
       "      <td>True</td>\n",
       "      <td>NaT</td>\n",
       "      <td>2025-03-01</td>\n",
       "      <td>2025-03-02</td>\n",
       "      <td>194</td>\n",
       "      <td>NaN</td>\n",
       "      <td></td>\n",
       "      <td>&lt;NA&gt;</td>\n",
       "      <td></td>\n",
       "      <td>leonardo.hierro</td>\n",
       "      <td>346f2a77-33f4-4b2d-82f3-e8501e21b28d|leonardo....</td>\n",
       "      <td>C1lh</td>\n",
       "      <td>194|</td>\n",
       "    </tr>\n",
       "    <tr>\n",
       "      <th>2</th>\n",
       "      <td>40c4cb55-d1f5-407b-832f-4756b8ff77b4</td>\n",
       "      <td>6ec4d7d2-e382-47cc-94f6-c647577d4035</td>\n",
       "      <td>Maite</td>\n",
       "      <td>Calatayud</td>\n",
       "      <td>maite.calatayud@example.com</td>\n",
       "      <td>False</td>\n",
       "      <td>2025-02-09</td>\n",
       "      <td>2025-03-01</td>\n",
       "      <td>2025-03-02</td>\n",
       "      <td>14</td>\n",
       "      <td>119.96</td>\n",
       "      <td>Hotel Monte Verde</td>\n",
       "      <td>1</td>\n",
       "      <td>Madrid</td>\n",
       "      <td>maite.calatayud</td>\n",
       "      <td>6ec4d7d2-e382-47cc-94f6-c647577d4035|maite.cal...</td>\n",
       "      <td>C2mc</td>\n",
       "      <td>14|Hotel Monte Verde</td>\n",
       "    </tr>\n",
       "    <tr>\n",
       "      <th>3</th>\n",
       "      <td>f2ce8df5-7844-43e1-8c0f-97ce7a208f21</td>\n",
       "      <td>aed17fe8-eb18-4f69-bf08-df1afdc339c3</td>\n",
       "      <td>Tecla</td>\n",
       "      <td>Bonet</td>\n",
       "      <td>tecla.bonet@example.com</td>\n",
       "      <td>False</td>\n",
       "      <td>2025-02-08</td>\n",
       "      <td>2025-03-01</td>\n",
       "      <td>2025-03-02</td>\n",
       "      <td>38</td>\n",
       "      <td>211.53</td>\n",
       "      <td>Hotel Brisas del Mar</td>\n",
       "      <td>5</td>\n",
       "      <td>Madrid</td>\n",
       "      <td>tecla.bonet</td>\n",
       "      <td>aed17fe8-eb18-4f69-bf08-df1afdc339c3|tecla.bonet</td>\n",
       "      <td>C3tb</td>\n",
       "      <td>38|Hotel Brisas del Mar</td>\n",
       "    </tr>\n",
       "    <tr>\n",
       "      <th>4</th>\n",
       "      <td>57d4515a-447d-4067-afcb-9bdcf4e4e915</td>\n",
       "      <td>710a2fbb-264f-426a-aa66-f8fffd146a2d</td>\n",
       "      <td>Amílcar</td>\n",
       "      <td>Andrés</td>\n",
       "      <td>amílcar.andrés@example.com</td>\n",
       "      <td>False</td>\n",
       "      <td>2025-02-02</td>\n",
       "      <td>2025-03-01</td>\n",
       "      <td>2025-03-02</td>\n",
       "      <td>35</td>\n",
       "      <td>378.37</td>\n",
       "      <td>Hotel Camino del Sol</td>\n",
       "      <td>1</td>\n",
       "      <td>Madrid</td>\n",
       "      <td>amílcar.andrés</td>\n",
       "      <td>710a2fbb-264f-426a-aa66-f8fffd146a2d|amílcar.a...</td>\n",
       "      <td>C4aa</td>\n",
       "      <td>35|Hotel Camino del Sol</td>\n",
       "    </tr>\n",
       "  </tbody>\n",
       "</table>\n",
       "</div>"
      ],
      "text/plain": [
       "                             id_reserva                            id_cliente  \\\n",
       "0  5256cc90-139b-43d2-8ec5-412495d751cf  346f2a77-33f4-4b2d-82f3-e8501e21b28d   \n",
       "1  84fd6209-bd8d-4a92-bfe6-c68ee2c49271  346f2a77-33f4-4b2d-82f3-e8501e21b28d   \n",
       "2  40c4cb55-d1f5-407b-832f-4756b8ff77b4  6ec4d7d2-e382-47cc-94f6-c647577d4035   \n",
       "3  f2ce8df5-7844-43e1-8c0f-97ce7a208f21  aed17fe8-eb18-4f69-bf08-df1afdc339c3   \n",
       "4  57d4515a-447d-4067-afcb-9bdcf4e4e915  710a2fbb-264f-426a-aa66-f8fffd146a2d   \n",
       "\n",
       "      nombre   apellido                          mail  competencia  \\\n",
       "0  Feliciana     Cantón  feliciana.cantón@example.com         True   \n",
       "1   Leonardo     Hierro   leonardo.hierro@example.com         True   \n",
       "2      Maite  Calatayud   maite.calatayud@example.com        False   \n",
       "3      Tecla      Bonet       tecla.bonet@example.com        False   \n",
       "4    Amílcar     Andrés    amílcar.andrés@example.com        False   \n",
       "\n",
       "  fecha_reserva inicio_estancia final_estancia  id_hotel  precio_noche  \\\n",
       "0           NaT      2025-03-01     2025-03-02       113           NaN   \n",
       "1           NaT      2025-03-01     2025-03-02       194           NaN   \n",
       "2    2025-02-09      2025-03-01     2025-03-02        14        119.96   \n",
       "3    2025-02-08      2025-03-01     2025-03-02        38        211.53   \n",
       "4    2025-02-02      2025-03-01     2025-03-02        35        378.37   \n",
       "\n",
       "           nombre_hotel  estrellas  ciudad   nombre_apellido  \\\n",
       "0                             <NA>          feliciana.cantón   \n",
       "1                             <NA>           leonardo.hierro   \n",
       "2     Hotel Monte Verde          1  Madrid   maite.calatayud   \n",
       "3  Hotel Brisas del Mar          5  Madrid       tecla.bonet   \n",
       "4  Hotel Camino del Sol          1  Madrid    amílcar.andrés   \n",
       "\n",
       "                                  id_nombre_apellido id_cliente_unico  \\\n",
       "0  346f2a77-33f4-4b2d-82f3-e8501e21b28d|feliciana...             C0fc   \n",
       "1  346f2a77-33f4-4b2d-82f3-e8501e21b28d|leonardo....             C1lh   \n",
       "2  6ec4d7d2-e382-47cc-94f6-c647577d4035|maite.cal...             C2mc   \n",
       "3   aed17fe8-eb18-4f69-bf08-df1afdc339c3|tecla.bonet             C3tb   \n",
       "4  710a2fbb-264f-426a-aa66-f8fffd146a2d|amílcar.a...             C4aa   \n",
       "\n",
       "           id_nombre_hotel  \n",
       "0                     113|  \n",
       "1                     194|  \n",
       "2     14|Hotel Monte Verde  \n",
       "3  38|Hotel Brisas del Mar  \n",
       "4  35|Hotel Camino del Sol  "
      ]
     },
     "execution_count": 54,
     "metadata": {},
     "output_type": "execute_result"
    }
   ],
   "source": [
    "#sustituyo los ids correctos en el df original\n",
    "keys= list(df_id_hoteles_nombre_hoteles.nombre_hotel)\n",
    "values = df_id_hoteles_nombre_hoteles.id_hotel.to_list()\n",
    "diccionario_nombre_hoteles_id_hoteles =dict(zip(keys,values))\n",
    "df.loc[df['competencia']==False, 'id_hotel'] = df['nombre_hotel'].map(diccionario_nombre_hoteles_id_hoteles)\n",
    "df.head()"
   ]
  },
  {
   "cell_type": "markdown",
   "metadata": {},
   "source": [
    "# Columna estrellas"
   ]
  },
  {
   "cell_type": "code",
   "execution_count": 55,
   "metadata": {},
   "outputs": [
    {
     "data": {
      "text/plain": [
       "Index(['id_reserva', 'id_cliente', 'nombre', 'apellido', 'mail', 'competencia',\n",
       "       'fecha_reserva', 'inicio_estancia', 'final_estancia', 'id_hotel',\n",
       "       'precio_noche', 'nombre_hotel', 'estrellas', 'ciudad',\n",
       "       'nombre_apellido', 'id_nombre_apellido', 'id_cliente_unico',\n",
       "       'id_nombre_hotel'],\n",
       "      dtype='object')"
      ]
     },
     "execution_count": 55,
     "metadata": {},
     "output_type": "execute_result"
    }
   ],
   "source": [
    "df.columns"
   ]
  },
  {
   "cell_type": "code",
   "execution_count": 56,
   "metadata": {},
   "outputs": [
    {
     "data": {
      "application/vnd.microsoft.datawrangler.viewer.v0+json": {
       "columns": [
        {
         "name": "index",
         "rawType": "int64",
         "type": "integer"
        },
        {
         "name": "nombre_hotel",
         "rawType": "object",
         "type": "string"
        },
        {
         "name": "estrellas",
         "rawType": "Float64",
         "type": "float"
        }
       ],
       "conversionMethod": "pd.DataFrame",
       "ref": "2f45fe66-fe1e-477d-a693-0bd597d65543",
       "rows": [
        [
         "0",
         "Gran Hotel Madrid",
         "3.1"
        ],
        [
         "1",
         "Hotel Brisas del Mar",
         "3.1"
        ],
        [
         "2",
         "Hotel Camino del Sol",
         "3.1"
        ],
        [
         "3",
         "Hotel Costa Azul",
         "3.1"
        ],
        [
         "4",
         "Hotel Encanto Real",
         "3.0"
        ],
        [
         "5",
         "Hotel Jardines del Rey",
         "2.9"
        ],
        [
         "6",
         "Hotel Las Estrellas",
         "2.9"
        ],
        [
         "7",
         "Hotel Los Almendros",
         "3.0"
        ],
        [
         "8",
         "Hotel Luz de Madrid",
         "3.1"
        ],
        [
         "9",
         "Hotel Maravilla Real",
         "3.0"
        ],
        [
         "10",
         "Hotel Mirador Real",
         "3.0"
        ],
        [
         "11",
         "Hotel Monte Verde",
         "3.1"
        ],
        [
         "12",
         "Hotel Palacio Imperial",
         "3.0"
        ],
        [
         "13",
         "Hotel Puerta del Cielo",
         "3.0"
        ],
        [
         "14",
         "Hotel Rincón Sereno",
         "3.0"
        ],
        [
         "15",
         "Hotel Sol y Luna",
         "3.0"
        ],
        [
         "16",
         "Hotel Torre Dorada",
         "2.9"
        ],
        [
         "17",
         "Hotel Vista Alegre",
         "2.9"
        ],
        [
         "18",
         "Palacio del Sol",
         "3.0"
        ]
       ],
       "shape": {
        "columns": 2,
        "rows": 19
       }
      },
      "text/html": [
       "<div>\n",
       "<style scoped>\n",
       "    .dataframe tbody tr th:only-of-type {\n",
       "        vertical-align: middle;\n",
       "    }\n",
       "\n",
       "    .dataframe tbody tr th {\n",
       "        vertical-align: top;\n",
       "    }\n",
       "\n",
       "    .dataframe thead th {\n",
       "        text-align: right;\n",
       "    }\n",
       "</style>\n",
       "<table border=\"1\" class=\"dataframe\">\n",
       "  <thead>\n",
       "    <tr style=\"text-align: right;\">\n",
       "      <th></th>\n",
       "      <th>nombre_hotel</th>\n",
       "      <th>estrellas</th>\n",
       "    </tr>\n",
       "  </thead>\n",
       "  <tbody>\n",
       "    <tr>\n",
       "      <th>0</th>\n",
       "      <td>Gran Hotel Madrid</td>\n",
       "      <td>3.1</td>\n",
       "    </tr>\n",
       "    <tr>\n",
       "      <th>1</th>\n",
       "      <td>Hotel Brisas del Mar</td>\n",
       "      <td>3.1</td>\n",
       "    </tr>\n",
       "    <tr>\n",
       "      <th>2</th>\n",
       "      <td>Hotel Camino del Sol</td>\n",
       "      <td>3.1</td>\n",
       "    </tr>\n",
       "    <tr>\n",
       "      <th>3</th>\n",
       "      <td>Hotel Costa Azul</td>\n",
       "      <td>3.1</td>\n",
       "    </tr>\n",
       "    <tr>\n",
       "      <th>4</th>\n",
       "      <td>Hotel Encanto Real</td>\n",
       "      <td>3.0</td>\n",
       "    </tr>\n",
       "    <tr>\n",
       "      <th>5</th>\n",
       "      <td>Hotel Jardines del Rey</td>\n",
       "      <td>2.9</td>\n",
       "    </tr>\n",
       "    <tr>\n",
       "      <th>6</th>\n",
       "      <td>Hotel Las Estrellas</td>\n",
       "      <td>2.9</td>\n",
       "    </tr>\n",
       "    <tr>\n",
       "      <th>7</th>\n",
       "      <td>Hotel Los Almendros</td>\n",
       "      <td>3.0</td>\n",
       "    </tr>\n",
       "    <tr>\n",
       "      <th>8</th>\n",
       "      <td>Hotel Luz de Madrid</td>\n",
       "      <td>3.1</td>\n",
       "    </tr>\n",
       "    <tr>\n",
       "      <th>9</th>\n",
       "      <td>Hotel Maravilla Real</td>\n",
       "      <td>3.0</td>\n",
       "    </tr>\n",
       "    <tr>\n",
       "      <th>10</th>\n",
       "      <td>Hotel Mirador Real</td>\n",
       "      <td>3.0</td>\n",
       "    </tr>\n",
       "    <tr>\n",
       "      <th>11</th>\n",
       "      <td>Hotel Monte Verde</td>\n",
       "      <td>3.1</td>\n",
       "    </tr>\n",
       "    <tr>\n",
       "      <th>12</th>\n",
       "      <td>Hotel Palacio Imperial</td>\n",
       "      <td>3.0</td>\n",
       "    </tr>\n",
       "    <tr>\n",
       "      <th>13</th>\n",
       "      <td>Hotel Puerta del Cielo</td>\n",
       "      <td>3.0</td>\n",
       "    </tr>\n",
       "    <tr>\n",
       "      <th>14</th>\n",
       "      <td>Hotel Rincón Sereno</td>\n",
       "      <td>3.0</td>\n",
       "    </tr>\n",
       "    <tr>\n",
       "      <th>15</th>\n",
       "      <td>Hotel Sol y Luna</td>\n",
       "      <td>3.0</td>\n",
       "    </tr>\n",
       "    <tr>\n",
       "      <th>16</th>\n",
       "      <td>Hotel Torre Dorada</td>\n",
       "      <td>2.9</td>\n",
       "    </tr>\n",
       "    <tr>\n",
       "      <th>17</th>\n",
       "      <td>Hotel Vista Alegre</td>\n",
       "      <td>2.9</td>\n",
       "    </tr>\n",
       "    <tr>\n",
       "      <th>18</th>\n",
       "      <td>Palacio del Sol</td>\n",
       "      <td>3.0</td>\n",
       "    </tr>\n",
       "  </tbody>\n",
       "</table>\n",
       "</div>"
      ],
      "text/plain": [
       "              nombre_hotel  estrellas\n",
       "0        Gran Hotel Madrid        3.1\n",
       "1     Hotel Brisas del Mar        3.1\n",
       "2     Hotel Camino del Sol        3.1\n",
       "3         Hotel Costa Azul        3.1\n",
       "4       Hotel Encanto Real        3.0\n",
       "5   Hotel Jardines del Rey        2.9\n",
       "6      Hotel Las Estrellas        2.9\n",
       "7      Hotel Los Almendros        3.0\n",
       "8      Hotel Luz de Madrid        3.1\n",
       "9     Hotel Maravilla Real        3.0\n",
       "10      Hotel Mirador Real        3.0\n",
       "11       Hotel Monte Verde        3.1\n",
       "12  Hotel Palacio Imperial        3.0\n",
       "13  Hotel Puerta del Cielo        3.0\n",
       "14     Hotel Rincón Sereno        3.0\n",
       "15        Hotel Sol y Luna        3.0\n",
       "16      Hotel Torre Dorada        2.9\n",
       "17      Hotel Vista Alegre        2.9\n",
       "18         Palacio del Sol        3.0"
      ]
     },
     "execution_count": 56,
     "metadata": {},
     "output_type": "execute_result"
    }
   ],
   "source": [
    "#Cada hotel tiene diferentes estrellas. Por ejemplo: \n",
    "df[df.nombre_hotel == 'Palacio del Sol'].estrellas.value_counts()\n",
    "#Calculo las estrellas para cada hotel\n",
    "df_estrellas = df_no_competencia.groupby('nombre_hotel')['estrellas'].mean().round(1)\n",
    "df_estrellas= df_estrellas.reset_index()\n",
    "df_estrellas"
   ]
  },
  {
   "cell_type": "code",
   "execution_count": 57,
   "metadata": {},
   "outputs": [
    {
     "data": {
      "application/vnd.microsoft.datawrangler.viewer.v0+json": {
       "columns": [
        {
         "name": "index",
         "rawType": "int64",
         "type": "integer"
        },
        {
         "name": "id_reserva",
         "rawType": "object",
         "type": "string"
        },
        {
         "name": "id_cliente",
         "rawType": "object",
         "type": "string"
        },
        {
         "name": "nombre",
         "rawType": "object",
         "type": "string"
        },
        {
         "name": "apellido",
         "rawType": "object",
         "type": "string"
        },
        {
         "name": "mail",
         "rawType": "object",
         "type": "string"
        },
        {
         "name": "competencia",
         "rawType": "bool",
         "type": "boolean"
        },
        {
         "name": "fecha_reserva",
         "rawType": "datetime64[ns]",
         "type": "datetime"
        },
        {
         "name": "inicio_estancia",
         "rawType": "datetime64[ns]",
         "type": "datetime"
        },
        {
         "name": "final_estancia",
         "rawType": "datetime64[ns]",
         "type": "datetime"
        },
        {
         "name": "id_hotel",
         "rawType": "int64",
         "type": "integer"
        },
        {
         "name": "precio_noche",
         "rawType": "float64",
         "type": "float"
        },
        {
         "name": "nombre_hotel",
         "rawType": "object",
         "type": "string"
        },
        {
         "name": "estrellas",
         "rawType": "Int64",
         "type": "integer"
        },
        {
         "name": "ciudad",
         "rawType": "object",
         "type": "string"
        },
        {
         "name": "nombre_apellido",
         "rawType": "object",
         "type": "string"
        },
        {
         "name": "id_nombre_apellido",
         "rawType": "object",
         "type": "string"
        },
        {
         "name": "id_cliente_unico",
         "rawType": "object",
         "type": "string"
        },
        {
         "name": "id_nombre_hotel",
         "rawType": "object",
         "type": "string"
        },
        {
         "name": "valoracion",
         "rawType": "float64",
         "type": "float"
        }
       ],
       "conversionMethod": "pd.DataFrame",
       "ref": "fe5a2bb2-5503-4a57-9777-7254466b9011",
       "rows": [
        [
         "0",
         "5256cc90-139b-43d2-8ec5-412495d751cf",
         "346f2a77-33f4-4b2d-82f3-e8501e21b28d",
         "Feliciana",
         "Cantón",
         "feliciana.cantón@example.com",
         "True",
         null,
         "2025-03-01 00:00:00",
         "2025-03-02 00:00:00",
         "113",
         null,
         "",
         null,
         "",
         "feliciana.cantón",
         "346f2a77-33f4-4b2d-82f3-e8501e21b28d|feliciana.cantón",
         "C0fc",
         "113|",
         null
        ],
        [
         "1",
         "84fd6209-bd8d-4a92-bfe6-c68ee2c49271",
         "346f2a77-33f4-4b2d-82f3-e8501e21b28d",
         "Leonardo",
         "Hierro",
         "leonardo.hierro@example.com",
         "True",
         null,
         "2025-03-01 00:00:00",
         "2025-03-02 00:00:00",
         "194",
         null,
         "",
         null,
         "",
         "leonardo.hierro",
         "346f2a77-33f4-4b2d-82f3-e8501e21b28d|leonardo.hierro",
         "C1lh",
         "194|",
         null
        ],
        [
         "2",
         "40c4cb55-d1f5-407b-832f-4756b8ff77b4",
         "6ec4d7d2-e382-47cc-94f6-c647577d4035",
         "Maite",
         "Calatayud",
         "maite.calatayud@example.com",
         "False",
         "2025-02-09 00:00:00",
         "2025-03-01 00:00:00",
         "2025-03-02 00:00:00",
         "14",
         "119.96",
         "Hotel Monte Verde",
         "1",
         "Madrid",
         "maite.calatayud",
         "6ec4d7d2-e382-47cc-94f6-c647577d4035|maite.calatayud",
         "C2mc",
         "14|Hotel Monte Verde",
         "3.1"
        ],
        [
         "3",
         "f2ce8df5-7844-43e1-8c0f-97ce7a208f21",
         "aed17fe8-eb18-4f69-bf08-df1afdc339c3",
         "Tecla",
         "Bonet",
         "tecla.bonet@example.com",
         "False",
         "2025-02-08 00:00:00",
         "2025-03-01 00:00:00",
         "2025-03-02 00:00:00",
         "38",
         "211.53",
         "Hotel Brisas del Mar",
         "5",
         "Madrid",
         "tecla.bonet",
         "aed17fe8-eb18-4f69-bf08-df1afdc339c3|tecla.bonet",
         "C3tb",
         "38|Hotel Brisas del Mar",
         "3.1"
        ],
        [
         "4",
         "57d4515a-447d-4067-afcb-9bdcf4e4e915",
         "710a2fbb-264f-426a-aa66-f8fffd146a2d",
         "Amílcar",
         "Andrés",
         "amílcar.andrés@example.com",
         "False",
         "2025-02-02 00:00:00",
         "2025-03-01 00:00:00",
         "2025-03-02 00:00:00",
         "35",
         "378.37",
         "Hotel Camino del Sol",
         "1",
         "Madrid",
         "amílcar.andrés",
         "710a2fbb-264f-426a-aa66-f8fffd146a2d|amílcar.andrés",
         "C4aa",
         "35|Hotel Camino del Sol",
         "3.1"
        ],
        [
         "5",
         "ccbd9fe9-5a60-4f6f-bed3-73a7158ecba7",
         "df42ae3d-0b9b-4c06-b22e-939323833ef8",
         "Joan",
         "Vazquez",
         "joan.vazquez@example.com",
         "False",
         "2025-02-08 00:00:00",
         "2025-03-01 00:00:00",
         "2025-03-02 00:00:00",
         "36",
         "85.45",
         "Hotel Puerta del Cielo",
         "5",
         "Madrid",
         "joan.vazquez",
         "df42ae3d-0b9b-4c06-b22e-939323833ef8|joan.vazquez",
         "C5jv",
         "36|Hotel Puerta del Cielo",
         "3.0"
        ],
        [
         "6",
         "99c3dc4f-663c-45f7-849a-ac9313f3746a",
         "a16a9d83-6888-4947-a7ab-ed41203e347c",
         "Chelo",
         "Flor",
         "chelo.flor@example.com",
         "False",
         "2025-02-09 00:00:00",
         "2025-03-01 00:00:00",
         "2025-03-02 00:00:00",
         "43",
         "309.8",
         "Hotel Encanto Real",
         "1",
         "Madrid",
         "chelo.flor",
         "a16a9d83-6888-4947-a7ab-ed41203e347c|chelo.flor",
         "C6cf",
         "43|Hotel Encanto Real",
         "3.0"
        ],
        [
         "7",
         "4d65096e-5f12-4ce7-9fd6-dd20e3cf5194",
         "443a7307-2183-4051-b0bb-26f12fc1f478",
         "Judith",
         "Rivas",
         "judith.rivas@example.com",
         "True",
         null,
         "2025-03-01 00:00:00",
         "2025-03-02 00:00:00",
         "131",
         null,
         "",
         null,
         "",
         "judith.rivas",
         "443a7307-2183-4051-b0bb-26f12fc1f478|judith.rivas",
         "C7jr",
         "131|",
         null
        ],
        [
         "8",
         "a5da0906-0fe5-4c30-b193-863df67a7b84",
         "4b789497-8da4-4962-b0fa-070556648ed1",
         "Dolores",
         "Lobo",
         "dolores.lobo@example.com",
         "False",
         "2025-02-10 00:00:00",
         "2025-03-01 00:00:00",
         "2025-03-02 00:00:00",
         "6",
         "434.88",
         "Palacio del Sol",
         "4",
         "Madrid",
         "dolores.lobo",
         "4b789497-8da4-4962-b0fa-070556648ed1|dolores.lobo",
         "C8dl",
         "6|Palacio del Sol",
         "3.0"
        ],
        [
         "9",
         "458029ad-cc9b-4d85-8290-fec170bcc02d",
         "e1a34338-a0aa-4b0e-96de-55f884eeb074",
         "Adolfo",
         "Cuervo",
         "adolfo.cuervo@example.com",
         "True",
         null,
         "2025-03-01 00:00:00",
         "2025-03-02 00:00:00",
         "114",
         null,
         "",
         null,
         "",
         "adolfo.cuervo",
         "e1a34338-a0aa-4b0e-96de-55f884eeb074|adolfo.cuervo",
         "C9ac",
         "114|",
         null
        ],
        [
         "10",
         "3eca014e-f122-41d7-9dd3-b984b9153d57",
         "dbaadb0e-a0ff-436e-9b10-c697fb90b720",
         "Noé",
         "Lobo",
         "noé.lobo@example.com",
         "False",
         "2025-02-02 00:00:00",
         "2025-03-01 00:00:00",
         "2025-03-02 00:00:00",
         "3",
         "216.57",
         "Hotel Jardines del Rey",
         "3",
         "Madrid",
         "noé.lobo",
         "dbaadb0e-a0ff-436e-9b10-c697fb90b720|noé.lobo",
         "C10nl",
         "3|Hotel Jardines del Rey",
         "2.9"
        ],
        [
         "11",
         "ac0fe86e-90a0-4fe6-a02e-6ea00e9a8621",
         "2949fb90-39ab-4613-b4c1-e238bb56faf3",
         "María Carmen",
         "Navarro",
         "maría carmen.navarro@example.com",
         "True",
         null,
         "2025-03-01 00:00:00",
         "2025-03-02 00:00:00",
         "103",
         null,
         "",
         null,
         "",
         "maría carmen.navarro",
         "2949fb90-39ab-4613-b4c1-e238bb56faf3|maría carmen.navarro",
         "C11mn",
         "103|",
         null
        ],
        [
         "12",
         "8d2d3ea2-14bb-4762-a7a4-a44e75d2d2f4",
         "6c104070-aad0-4372-a6dc-cd38a6f7c3cf",
         "Ricardo",
         "Caballero",
         "ricardo.caballero@example.com",
         "True",
         null,
         "2025-03-01 00:00:00",
         "2025-03-02 00:00:00",
         "181",
         null,
         "",
         null,
         "",
         "ricardo.caballero",
         "6c104070-aad0-4372-a6dc-cd38a6f7c3cf|ricardo.caballero",
         "C12rc",
         "181|",
         null
        ],
        [
         "13",
         "8a68fb77-8798-4902-a92d-642ea5e47083",
         "26ca67cd-3762-4f90-9372-c5f3d49df733",
         "Omar",
         "Lamas",
         "omar.lamas@example.com",
         "False",
         "2025-02-10 00:00:00",
         "2025-03-01 00:00:00",
         "2025-03-02 00:00:00",
         "29",
         "378.1",
         "Hotel Las Estrellas",
         "4",
         "Madrid",
         "omar.lamas",
         "26ca67cd-3762-4f90-9372-c5f3d49df733|omar.lamas",
         "C13ol",
         "29|Hotel Las Estrellas",
         "2.9"
        ],
        [
         "14",
         "77354d6e-4713-496f-af21-c231b909e29c",
         "2662e10a-6799-469a-b697-db79c3c888ff",
         "Luna",
         "Segovia",
         "luna.segovia@example.com",
         "True",
         null,
         "2025-03-01 00:00:00",
         "2025-03-02 00:00:00",
         "114",
         null,
         "",
         null,
         "",
         "luna.segovia",
         "2662e10a-6799-469a-b697-db79c3c888ff|luna.segovia",
         "C14ls",
         "114|",
         null
        ],
        [
         "15",
         "5e3de36b-3d2f-4cef-98d3-df826c56a4b1",
         "a263c6e8-96af-4720-96f0-04cfe51116c6",
         "Ágata",
         "Pinedo",
         "ágata.pinedo@example.com",
         "False",
         "2025-02-01 00:00:00",
         "2025-03-01 00:00:00",
         "2025-03-02 00:00:00",
         "47",
         "358.07",
         "Gran Hotel Madrid",
         "2",
         "Madrid",
         "ágata.pinedo",
         "a263c6e8-96af-4720-96f0-04cfe51116c6|ágata.pinedo",
         "C15áp",
         "47|Gran Hotel Madrid",
         "3.1"
        ],
        [
         "16",
         "f4cf7cbf-7a2a-4e44-9b9d-e2c9a444ec78",
         "b1826b3e-e9aa-4a40-b94a-09ad8e7d6507",
         "Lázaro",
         "Pardo",
         "lázaro.pardo@example.com",
         "True",
         null,
         "2025-03-01 00:00:00",
         "2025-03-02 00:00:00",
         "128",
         null,
         "",
         null,
         "",
         "lázaro.pardo",
         "b1826b3e-e9aa-4a40-b94a-09ad8e7d6507|lázaro.pardo",
         "C16lp",
         "128|",
         null
        ],
        [
         "17",
         "2a39eb83-b3aa-4df0-93b3-1fdc0b0a9609",
         "b9cea054-2a9a-4772-bc62-feddbd73ea8a",
         "Julie",
         "Baños",
         "julie.baños@example.com",
         "False",
         "2025-02-01 00:00:00",
         "2025-03-01 00:00:00",
         "2025-03-02 00:00:00",
         "27",
         "79.77",
         "Hotel Torre Dorada",
         "3",
         "Madrid",
         "julie.baños",
         "b9cea054-2a9a-4772-bc62-feddbd73ea8a|julie.baños",
         "C17jb",
         "14|Hotel Torre Dorada",
         "2.9"
        ],
        [
         "18",
         "96a3727c-99fb-4ae0-a6c3-886504499ec2",
         "7164885d-7481-40cc-9aa7-025264d00798",
         "Javier",
         "Mancebo",
         "javier.mancebo@example.com",
         "False",
         "2025-02-12 00:00:00",
         "2025-03-01 00:00:00",
         "2025-03-02 00:00:00",
         "13",
         "228.02",
         "Hotel Palacio Imperial",
         "2",
         "Madrid",
         "javier.mancebo",
         "7164885d-7481-40cc-9aa7-025264d00798|javier.mancebo",
         "C18jm",
         "27|Hotel Palacio Imperial",
         "3.0"
        ],
        [
         "19",
         "18fa5887-c155-4064-ba8d-3b2948dd348b",
         "7c8a9a34-0fb9-4bab-bc19-8ab715471fad",
         "Rita",
         "Guerrero",
         "rita.guerrero@example.com",
         "False",
         "2025-02-11 00:00:00",
         "2025-03-01 00:00:00",
         "2025-03-02 00:00:00",
         "35",
         "385.24",
         "Hotel Camino del Sol",
         "3",
         "Madrid",
         "rita.guerrero",
         "7c8a9a34-0fb9-4bab-bc19-8ab715471fad|rita.guerrero",
         "C19rg",
         "47|Hotel Camino del Sol",
         "3.1"
        ],
        [
         "20",
         "9880f3ea-a29d-4acd-9fe1-96df1ffa46bd",
         "38949903-64ff-48df-a57c-b589d98cc372",
         "Ricardo",
         "Lobo",
         "ricardo.lobo@example.com",
         "False",
         "2025-02-06 00:00:00",
         "2025-03-01 00:00:00",
         "2025-03-02 00:00:00",
         "28",
         "454.01",
         "Hotel Luz de Madrid",
         "3",
         "Madrid",
         "ricardo.lobo",
         "38949903-64ff-48df-a57c-b589d98cc372|ricardo.lobo",
         "C20rl",
         "13|Hotel Luz de Madrid",
         "3.1"
        ],
        [
         "21",
         "22a3608a-1de2-40c7-8e2a-d22daf77390f",
         "8d24ffd5-1a06-4991-8d0b-143305a376ad",
         "Perlita",
         "Patiño",
         "perlita.patiño@example.com",
         "False",
         "2025-02-02 00:00:00",
         "2025-03-01 00:00:00",
         "2025-03-02 00:00:00",
         "43",
         "279.28",
         "Hotel Encanto Real",
         "1",
         "Madrid",
         "perlita.patiño",
         "8d24ffd5-1a06-4991-8d0b-143305a376ad|perlita.patiño",
         "C21pp",
         "28|Hotel Encanto Real",
         "3.0"
        ],
        [
         "22",
         "68b36da9-eeaa-4c31-91a8-d34fcc3956c8",
         "09323025-a5a9-4b54-81e4-430591596518",
         "Pedro",
         "Gallego",
         "pedro.gallego@example.com",
         "False",
         "2025-02-09 00:00:00",
         "2025-03-01 00:00:00",
         "2025-03-02 00:00:00",
         "40",
         "332.34",
         "Hotel Los Almendros",
         "5",
         "Madrid",
         "pedro.gallego",
         "09323025-a5a9-4b54-81e4-430591596518|pedro.gallego",
         "C22pg",
         "28|Hotel Los Almendros",
         "3.0"
        ],
        [
         "23",
         "b92dbe7c-4660-4e4c-9224-47cae0152bf9",
         "57bd08da-f2f2-422b-b6e5-77a624132793",
         "Judith",
         "Bellido",
         "judith.bellido@example.com",
         "False",
         "2025-02-08 00:00:00",
         "2025-03-01 00:00:00",
         "2025-03-02 00:00:00",
         "13",
         "318.14",
         "Hotel Palacio Imperial",
         "5",
         "Madrid",
         "judith.bellido",
         "57bd08da-f2f2-422b-b6e5-77a624132793|judith.bellido",
         "C23jb",
         "36|Hotel Palacio Imperial",
         "3.0"
        ],
        [
         "24",
         "9b16fc42-a7c6-4db9-98c7-30dbf2bb72b3",
         "614c4625-81ae-4cb8-be62-beef3ba967bb",
         "Francisco Javier",
         "Hierro",
         "francisco javier.hierro@example.com",
         "False",
         "2025-02-02 00:00:00",
         "2025-03-01 00:00:00",
         "2025-03-02 00:00:00",
         "2",
         "437.34",
         "Hotel Sol y Luna",
         "1",
         "Madrid",
         "francisco javier.hierro",
         "614c4625-81ae-4cb8-be62-beef3ba967bb|francisco javier.hierro",
         "C24fh",
         "29|Hotel Sol y Luna",
         "3.0"
        ],
        [
         "25",
         "65fcc15f-f4c6-492a-b191-f180ae314bea",
         "3c648062-c102-4ad6-85aa-70cc80758b32",
         "Reynaldo",
         "Lerma",
         "reynaldo.lerma@example.com",
         "False",
         "2025-02-12 00:00:00",
         "2025-03-01 00:00:00",
         "2025-03-02 00:00:00",
         "14",
         "387.89",
         "Hotel Monte Verde",
         "1",
         "Madrid",
         "reynaldo.lerma",
         "3c648062-c102-4ad6-85aa-70cc80758b32|reynaldo.lerma",
         "C25rl",
         "29|Hotel Monte Verde",
         "3.1"
        ],
        [
         "26",
         "8a5b02f8-caa9-4917-a50d-a122c74a5c6d",
         "07cde2c9-6e63-43d1-bff0-f57d76fb0af2",
         "Felicidad",
         "Gimenez",
         "felicidad.gimenez@example.com",
         "False",
         "2025-02-09 00:00:00",
         "2025-03-01 00:00:00",
         "2025-03-02 00:00:00",
         "48",
         "254.17",
         "Hotel Mirador Real",
         "5",
         "Madrid",
         "felicidad.gimenez",
         "07cde2c9-6e63-43d1-bff0-f57d76fb0af2|felicidad.gimenez",
         "C26fg",
         "3|Hotel Mirador Real",
         "3.0"
        ],
        [
         "27",
         "24f9a853-2cef-4fb7-8182-d4f347c772d7",
         "90aedc6a-5f21-4a25-9e55-b6552a657437",
         "Pía",
         "Barba",
         "pía.barba@example.com",
         "False",
         "2025-02-03 00:00:00",
         "2025-03-01 00:00:00",
         "2025-03-02 00:00:00",
         "36",
         "460.67",
         "Hotel Puerta del Cielo",
         "5",
         "Madrid",
         "pía.barba",
         "90aedc6a-5f21-4a25-9e55-b6552a657437|pía.barba",
         "C27pb",
         "40|Hotel Puerta del Cielo",
         "3.0"
        ],
        [
         "28",
         "345b493b-5fcb-476c-940b-cce20444d64e",
         "69b56d4e-60b6-41f5-b320-1ac4200d8bfb",
         "Amílcar",
         "Moles",
         "amílcar.moles@example.com",
         "False",
         "2025-02-05 00:00:00",
         "2025-03-01 00:00:00",
         "2025-03-02 00:00:00",
         "29",
         "218.25",
         "Hotel Las Estrellas",
         "5",
         "Madrid",
         "amílcar.moles",
         "69b56d4e-60b6-41f5-b320-1ac4200d8bfb|amílcar.moles",
         "C28am",
         "28|Hotel Las Estrellas",
         "2.9"
        ],
        [
         "29",
         "e9fc009e-6bbd-49a9-aaa1-499fbe5b7036",
         "e4a2670a-0893-4c1c-bb51-b168107d5edc",
         "Blas",
         "Galván",
         "blas.galván@example.com",
         "False",
         "2025-02-11 00:00:00",
         "2025-03-01 00:00:00",
         "2025-03-02 00:00:00",
         "14",
         "463.31",
         "Hotel Monte Verde",
         "4",
         "Madrid",
         "blas.galván",
         "e4a2670a-0893-4c1c-bb51-b168107d5edc|blas.galván",
         "C29bg",
         "40|Hotel Monte Verde",
         "3.1"
        ],
        [
         "30",
         "91569bdd-8430-4537-8245-6ca66e5c95ed",
         "1bee19cf-e343-4b47-9d7b-2d72ea7fd7c8",
         "Claudia",
         "Miranda",
         "claudia.miranda@example.com",
         "False",
         "2025-02-03 00:00:00",
         "2025-03-01 00:00:00",
         "2025-03-02 00:00:00",
         "36",
         "445.41",
         "Hotel Puerta del Cielo",
         "2",
         "Madrid",
         "claudia.miranda",
         "1bee19cf-e343-4b47-9d7b-2d72ea7fd7c8|claudia.miranda",
         "C30cm",
         "43|Hotel Puerta del Cielo",
         "3.0"
        ],
        [
         "31",
         "4e4f9542-3b51-4da1-b75e-b8c8a2018b6e",
         "85306c06-a7f1-4fdb-807e-66b2178e93c4",
         "Angelina",
         "Priego",
         "angelina.priego@example.com",
         "True",
         null,
         "2025-03-01 00:00:00",
         "2025-03-02 00:00:00",
         "186",
         null,
         "",
         null,
         "",
         "angelina.priego",
         "85306c06-a7f1-4fdb-807e-66b2178e93c4|angelina.priego",
         "C31ap",
         "186|",
         null
        ],
        [
         "32",
         "2713abaf-e02b-4e4b-9897-a6b9cd4862b5",
         "790f974c-32cd-4a48-8d53-4e5b533aa339",
         "Fernanda",
         "Segarra",
         "fernanda.segarra@example.com",
         "False",
         "2025-02-02 00:00:00",
         "2025-03-01 00:00:00",
         "2025-03-02 00:00:00",
         "15",
         "88.53",
         "Hotel Rincón Sereno",
         "1",
         "Madrid",
         "fernanda.segarra",
         "790f974c-32cd-4a48-8d53-4e5b533aa339|fernanda.segarra",
         "C32fs",
         "6|Hotel Rincón Sereno",
         "3.0"
        ],
        [
         "33",
         "56aa252f-8c76-4712-a8d8-cfa844b5711a",
         "aae14664-a527-41a9-93ae-cf5b636d7dd0",
         "Emilio",
         "Huerta",
         "emilio.huerta@example.com",
         "False",
         "2025-02-09 00:00:00",
         "2025-03-01 00:00:00",
         "2025-03-02 00:00:00",
         "33",
         "394.62",
         "Hotel Vista Alegre",
         "4",
         "Madrid",
         "emilio.huerta",
         "aae14664-a527-41a9-93ae-cf5b636d7dd0|emilio.huerta",
         "C33eh",
         "29|Hotel Vista Alegre",
         "2.9"
        ],
        [
         "34",
         "67cc0893-51de-461e-bdf3-72beb87d4672",
         "73198244-7196-49fc-aa86-d84efcb18336",
         "Bárbara",
         "Jódar",
         "bárbara.jódar@example.com",
         "False",
         "2025-02-09 00:00:00",
         "2025-03-01 00:00:00",
         "2025-03-02 00:00:00",
         "40",
         "169.27",
         "Hotel Los Almendros",
         "2",
         "Madrid",
         "bárbara.jódar",
         "73198244-7196-49fc-aa86-d84efcb18336|bárbara.jódar",
         "C34bj",
         "3|Hotel Los Almendros",
         "3.0"
        ],
        [
         "35",
         "6c3c255a-a128-4f41-86f2-e41a0c6a04df",
         "7ae27350-badc-417d-a536-e0194595dc29",
         "Tiburcio",
         "Pujol",
         "tiburcio.pujol@example.com",
         "True",
         null,
         "2025-03-01 00:00:00",
         "2025-03-02 00:00:00",
         "131",
         null,
         "",
         null,
         "",
         "tiburcio.pujol",
         "7ae27350-badc-417d-a536-e0194595dc29|tiburcio.pujol",
         "C35tp",
         "131|",
         null
        ],
        [
         "36",
         "728efa5a-8a5a-4e53-8b2b-349c4fcab5d9",
         "05cc4ab5-046c-4060-accd-e2e52ad83aa5",
         "Emiliano",
         "Vergara",
         "emiliano.vergara@example.com",
         "False",
         "2025-02-06 00:00:00",
         "2025-03-01 00:00:00",
         "2025-03-02 00:00:00",
         "28",
         "370.82",
         "Hotel Luz de Madrid",
         "3",
         "Madrid",
         "emiliano.vergara",
         "05cc4ab5-046c-4060-accd-e2e52ad83aa5|emiliano.vergara",
         "C36ev",
         "2|Hotel Luz de Madrid",
         "3.1"
        ],
        [
         "37",
         "f4b3e94a-2476-4923-953d-1f76ad90b520",
         "afa28bc0-9dde-436c-bf88-48c189921a80",
         "Marisol",
         "Arévalo",
         "marisol.arévalo@example.com",
         "False",
         "2025-02-11 00:00:00",
         "2025-03-01 00:00:00",
         "2025-03-02 00:00:00",
         "49",
         "253.16",
         "Hotel Costa Azul",
         "2",
         "Madrid",
         "marisol.arévalo",
         "afa28bc0-9dde-436c-bf88-48c189921a80|marisol.arévalo",
         "C37ma",
         "40|Hotel Costa Azul",
         "3.1"
        ],
        [
         "38",
         "166f113f-64cf-408d-b1c3-30ef155f8049",
         "d0de4a2b-eb08-4dc6-aa8d-1efd2f007539",
         "Ezequiel",
         "Cuesta",
         "ezequiel.cuesta@example.com",
         "False",
         "2025-02-10 00:00:00",
         "2025-03-01 00:00:00",
         "2025-03-02 00:00:00",
         "49",
         "314.73",
         "Hotel Costa Azul",
         "5",
         "Madrid",
         "ezequiel.cuesta",
         "d0de4a2b-eb08-4dc6-aa8d-1efd2f007539|ezequiel.cuesta",
         "C38ec",
         "48|Hotel Costa Azul",
         "3.1"
        ],
        [
         "39",
         "b4ec52c7-ac8d-4c68-93f2-56f80786978c",
         "bb7d2b8a-223a-4da2-bf9f-4fc0f1330ee5",
         "Telmo",
         "Bartolomé",
         "telmo.bartolomé@example.com",
         "False",
         "2025-02-05 00:00:00",
         "2025-03-01 00:00:00",
         "2025-03-02 00:00:00",
         "47",
         "368.52",
         "Gran Hotel Madrid",
         "2",
         "Madrid",
         "telmo.bartolomé",
         "bb7d2b8a-223a-4da2-bf9f-4fc0f1330ee5|telmo.bartolomé",
         "C39tb",
         "6|Gran Hotel Madrid",
         "3.1"
        ],
        [
         "40",
         "bec6c4c5-e6bf-4115-98d2-9c2f1161b77d",
         "1f6fc80b-67a9-42ba-8d47-c68d67907f65",
         "Débora",
         "Solé",
         "débora.solé@example.com",
         "False",
         "2025-02-07 00:00:00",
         "2025-03-01 00:00:00",
         "2025-03-02 00:00:00",
         "43",
         "436.83",
         "Hotel Encanto Real",
         "5",
         "Madrid",
         "débora.solé",
         "1f6fc80b-67a9-42ba-8d47-c68d67907f65|débora.solé",
         "C40ds",
         "35|Hotel Encanto Real",
         "3.0"
        ],
        [
         "41",
         "552fa988-9d52-4cfe-bcc4-1b5886f61a9c",
         "db4d1983-59fb-4233-823c-957a8dbbc552",
         "Carolina",
         "Alberdi",
         "carolina.alberdi@example.com",
         "True",
         null,
         "2025-03-01 00:00:00",
         "2025-03-02 00:00:00",
         "103",
         null,
         "",
         null,
         "",
         "carolina.alberdi",
         "db4d1983-59fb-4233-823c-957a8dbbc552|carolina.alberdi",
         "C41ca",
         "103|",
         null
        ],
        [
         "42",
         "aca3e915-cf8f-4ee5-b921-f23f909f602b",
         "a4cd7cd3-2e7e-4402-80c3-965ded3c7e3f",
         "Darío",
         "Lasa",
         "darío.lasa@example.com",
         "False",
         "2025-02-10 00:00:00",
         "2025-03-01 00:00:00",
         "2025-03-02 00:00:00",
         "27",
         "109.53",
         "Hotel Torre Dorada",
         "5",
         "Madrid",
         "darío.lasa",
         "a4cd7cd3-2e7e-4402-80c3-965ded3c7e3f|darío.lasa",
         "C42dl",
         "29|Hotel Torre Dorada",
         "2.9"
        ],
        [
         "43",
         "7ddea2f1-6ccc-40b1-b015-da2cc26f0f98",
         "9e9710ca-ea75-48a0-9c8c-9598ef00f279",
         "Noé",
         "Cantón",
         "noé.cantón@example.com",
         "True",
         null,
         "2025-03-01 00:00:00",
         "2025-03-02 00:00:00",
         "128",
         null,
         "",
         null,
         "",
         "noé.cantón",
         "9e9710ca-ea75-48a0-9c8c-9598ef00f279|noé.cantón",
         "C43nc",
         "128|",
         null
        ],
        [
         "44",
         "47f91472-4a34-4e03-9cd2-64bbf695dcdd",
         "9f63268b-863e-49f4-ba27-58688640d1a1",
         "Fausto",
         "Santiago",
         "fausto.santiago@example.com",
         "False",
         "2025-02-01 00:00:00",
         "2025-03-01 00:00:00",
         "2025-03-02 00:00:00",
         "6",
         "135.67",
         "Palacio del Sol",
         "4",
         "Madrid",
         "fausto.santiago",
         "9f63268b-863e-49f4-ba27-58688640d1a1|fausto.santiago",
         "C44fs",
         "13|Palacio del Sol",
         "3.0"
        ],
        [
         "45",
         "4d0ca33e-6881-4eaa-8c32-caf6273e468b",
         "efc29d88-089c-41b4-b786-94b2077b9fd9",
         "Lorenza",
         "Lago",
         "lorenza.lago@example.com",
         "False",
         "2025-02-12 00:00:00",
         "2025-03-01 00:00:00",
         "2025-03-02 00:00:00",
         "47",
         "260.15",
         "Gran Hotel Madrid",
         "1",
         "Madrid",
         "lorenza.lago",
         "efc29d88-089c-41b4-b786-94b2077b9fd9|lorenza.lago",
         "C45ll",
         "13|Gran Hotel Madrid",
         "3.1"
        ],
        [
         "46",
         "7acd5eae-e278-4568-9e35-638532e10b87",
         "43ffdcc5-51b6-4eda-81f5-df2c1ed1adbe",
         "María Belén",
         "Escalona",
         "maría belén.escalona@example.com",
         "True",
         null,
         "2025-03-01 00:00:00",
         "2025-03-02 00:00:00",
         "135",
         null,
         "",
         null,
         "",
         "maría belén.escalona",
         "43ffdcc5-51b6-4eda-81f5-df2c1ed1adbe|maría belén.escalona",
         "C46me",
         "135|",
         null
        ],
        [
         "47",
         "19b57bd1-9cbf-4c22-a91a-ba4c3850008e",
         "2f28e36f-3ff5-45a9-bc32-4f0ee12d21b2",
         "Curro",
         "Martín",
         "curro.martín@example.com",
         "True",
         null,
         "2025-03-01 00:00:00",
         "2025-03-02 00:00:00",
         "113",
         null,
         "",
         null,
         "",
         "curro.martín",
         "2f28e36f-3ff5-45a9-bc32-4f0ee12d21b2|curro.martín",
         "C47cm",
         "113|",
         null
        ],
        [
         "48",
         "f6149a73-99ec-46f9-ad92-c4174a564beb",
         "e3c9c0f8-dca8-420e-b5d4-b01ca6bd0f5e",
         "Anunciación",
         "Flor",
         "anunciación.flor@example.com",
         "False",
         "2025-02-02 00:00:00",
         "2025-03-01 00:00:00",
         "2025-03-02 00:00:00",
         "13",
         "135.58",
         "Hotel Palacio Imperial",
         "2",
         "Madrid",
         "anunciación.flor",
         "e3c9c0f8-dca8-420e-b5d4-b01ca6bd0f5e|anunciación.flor",
         "C48af",
         "2|Hotel Palacio Imperial",
         "3.0"
        ],
        [
         "49",
         "25efcc1f-d69a-422f-a887-3341d57c6f09",
         "0fc7635e-821d-4595-ac98-65cfa4fd044f",
         "María Belén",
         "Cuéllar",
         "maría belén.cuéllar@example.com",
         "False",
         "2025-02-07 00:00:00",
         "2025-03-01 00:00:00",
         "2025-03-02 00:00:00",
         "43",
         "258.17",
         "Hotel Encanto Real",
         "4",
         "Madrid",
         "maría belén.cuéllar",
         "0fc7635e-821d-4595-ac98-65cfa4fd044f|maría belén.cuéllar",
         "C49mc",
         "14|Hotel Encanto Real",
         "3.0"
        ]
       ],
       "shape": {
        "columns": 19,
        "rows": 15000
       }
      },
      "text/html": [
       "<div>\n",
       "<style scoped>\n",
       "    .dataframe tbody tr th:only-of-type {\n",
       "        vertical-align: middle;\n",
       "    }\n",
       "\n",
       "    .dataframe tbody tr th {\n",
       "        vertical-align: top;\n",
       "    }\n",
       "\n",
       "    .dataframe thead th {\n",
       "        text-align: right;\n",
       "    }\n",
       "</style>\n",
       "<table border=\"1\" class=\"dataframe\">\n",
       "  <thead>\n",
       "    <tr style=\"text-align: right;\">\n",
       "      <th></th>\n",
       "      <th>id_reserva</th>\n",
       "      <th>id_cliente</th>\n",
       "      <th>nombre</th>\n",
       "      <th>apellido</th>\n",
       "      <th>mail</th>\n",
       "      <th>competencia</th>\n",
       "      <th>fecha_reserva</th>\n",
       "      <th>inicio_estancia</th>\n",
       "      <th>final_estancia</th>\n",
       "      <th>id_hotel</th>\n",
       "      <th>precio_noche</th>\n",
       "      <th>nombre_hotel</th>\n",
       "      <th>estrellas</th>\n",
       "      <th>ciudad</th>\n",
       "      <th>nombre_apellido</th>\n",
       "      <th>id_nombre_apellido</th>\n",
       "      <th>id_cliente_unico</th>\n",
       "      <th>id_nombre_hotel</th>\n",
       "      <th>valoracion</th>\n",
       "    </tr>\n",
       "  </thead>\n",
       "  <tbody>\n",
       "    <tr>\n",
       "      <th>0</th>\n",
       "      <td>5256cc90-139b-43d2-8ec5-412495d751cf</td>\n",
       "      <td>346f2a77-33f4-4b2d-82f3-e8501e21b28d</td>\n",
       "      <td>Feliciana</td>\n",
       "      <td>Cantón</td>\n",
       "      <td>feliciana.cantón@example.com</td>\n",
       "      <td>True</td>\n",
       "      <td>NaT</td>\n",
       "      <td>2025-03-01</td>\n",
       "      <td>2025-03-02</td>\n",
       "      <td>113</td>\n",
       "      <td>NaN</td>\n",
       "      <td></td>\n",
       "      <td>&lt;NA&gt;</td>\n",
       "      <td></td>\n",
       "      <td>feliciana.cantón</td>\n",
       "      <td>346f2a77-33f4-4b2d-82f3-e8501e21b28d|feliciana...</td>\n",
       "      <td>C0fc</td>\n",
       "      <td>113|</td>\n",
       "      <td>NaN</td>\n",
       "    </tr>\n",
       "    <tr>\n",
       "      <th>1</th>\n",
       "      <td>84fd6209-bd8d-4a92-bfe6-c68ee2c49271</td>\n",
       "      <td>346f2a77-33f4-4b2d-82f3-e8501e21b28d</td>\n",
       "      <td>Leonardo</td>\n",
       "      <td>Hierro</td>\n",
       "      <td>leonardo.hierro@example.com</td>\n",
       "      <td>True</td>\n",
       "      <td>NaT</td>\n",
       "      <td>2025-03-01</td>\n",
       "      <td>2025-03-02</td>\n",
       "      <td>194</td>\n",
       "      <td>NaN</td>\n",
       "      <td></td>\n",
       "      <td>&lt;NA&gt;</td>\n",
       "      <td></td>\n",
       "      <td>leonardo.hierro</td>\n",
       "      <td>346f2a77-33f4-4b2d-82f3-e8501e21b28d|leonardo....</td>\n",
       "      <td>C1lh</td>\n",
       "      <td>194|</td>\n",
       "      <td>NaN</td>\n",
       "    </tr>\n",
       "    <tr>\n",
       "      <th>2</th>\n",
       "      <td>40c4cb55-d1f5-407b-832f-4756b8ff77b4</td>\n",
       "      <td>6ec4d7d2-e382-47cc-94f6-c647577d4035</td>\n",
       "      <td>Maite</td>\n",
       "      <td>Calatayud</td>\n",
       "      <td>maite.calatayud@example.com</td>\n",
       "      <td>False</td>\n",
       "      <td>2025-02-09</td>\n",
       "      <td>2025-03-01</td>\n",
       "      <td>2025-03-02</td>\n",
       "      <td>14</td>\n",
       "      <td>119.96</td>\n",
       "      <td>Hotel Monte Verde</td>\n",
       "      <td>1</td>\n",
       "      <td>Madrid</td>\n",
       "      <td>maite.calatayud</td>\n",
       "      <td>6ec4d7d2-e382-47cc-94f6-c647577d4035|maite.cal...</td>\n",
       "      <td>C2mc</td>\n",
       "      <td>14|Hotel Monte Verde</td>\n",
       "      <td>3.1</td>\n",
       "    </tr>\n",
       "    <tr>\n",
       "      <th>3</th>\n",
       "      <td>f2ce8df5-7844-43e1-8c0f-97ce7a208f21</td>\n",
       "      <td>aed17fe8-eb18-4f69-bf08-df1afdc339c3</td>\n",
       "      <td>Tecla</td>\n",
       "      <td>Bonet</td>\n",
       "      <td>tecla.bonet@example.com</td>\n",
       "      <td>False</td>\n",
       "      <td>2025-02-08</td>\n",
       "      <td>2025-03-01</td>\n",
       "      <td>2025-03-02</td>\n",
       "      <td>38</td>\n",
       "      <td>211.53</td>\n",
       "      <td>Hotel Brisas del Mar</td>\n",
       "      <td>5</td>\n",
       "      <td>Madrid</td>\n",
       "      <td>tecla.bonet</td>\n",
       "      <td>aed17fe8-eb18-4f69-bf08-df1afdc339c3|tecla.bonet</td>\n",
       "      <td>C3tb</td>\n",
       "      <td>38|Hotel Brisas del Mar</td>\n",
       "      <td>3.1</td>\n",
       "    </tr>\n",
       "    <tr>\n",
       "      <th>4</th>\n",
       "      <td>57d4515a-447d-4067-afcb-9bdcf4e4e915</td>\n",
       "      <td>710a2fbb-264f-426a-aa66-f8fffd146a2d</td>\n",
       "      <td>Amílcar</td>\n",
       "      <td>Andrés</td>\n",
       "      <td>amílcar.andrés@example.com</td>\n",
       "      <td>False</td>\n",
       "      <td>2025-02-02</td>\n",
       "      <td>2025-03-01</td>\n",
       "      <td>2025-03-02</td>\n",
       "      <td>35</td>\n",
       "      <td>378.37</td>\n",
       "      <td>Hotel Camino del Sol</td>\n",
       "      <td>1</td>\n",
       "      <td>Madrid</td>\n",
       "      <td>amílcar.andrés</td>\n",
       "      <td>710a2fbb-264f-426a-aa66-f8fffd146a2d|amílcar.a...</td>\n",
       "      <td>C4aa</td>\n",
       "      <td>35|Hotel Camino del Sol</td>\n",
       "      <td>3.1</td>\n",
       "    </tr>\n",
       "    <tr>\n",
       "      <th>...</th>\n",
       "      <td>...</td>\n",
       "      <td>...</td>\n",
       "      <td>...</td>\n",
       "      <td>...</td>\n",
       "      <td>...</td>\n",
       "      <td>...</td>\n",
       "      <td>...</td>\n",
       "      <td>...</td>\n",
       "      <td>...</td>\n",
       "      <td>...</td>\n",
       "      <td>...</td>\n",
       "      <td>...</td>\n",
       "      <td>...</td>\n",
       "      <td>...</td>\n",
       "      <td>...</td>\n",
       "      <td>...</td>\n",
       "      <td>...</td>\n",
       "      <td>...</td>\n",
       "      <td>...</td>\n",
       "    </tr>\n",
       "    <tr>\n",
       "      <th>14995</th>\n",
       "      <td>58acd6f3-7160-4973-b951-b14188937444</td>\n",
       "      <td>de729428-ec23-4665-a5c9-79e3ec282470</td>\n",
       "      <td>Lorena</td>\n",
       "      <td>Román</td>\n",
       "      <td>lorena.román@example.com</td>\n",
       "      <td>False</td>\n",
       "      <td>2025-02-06</td>\n",
       "      <td>2025-03-01</td>\n",
       "      <td>2025-03-02</td>\n",
       "      <td>3</td>\n",
       "      <td>111.78</td>\n",
       "      <td>Hotel Jardines del Rey</td>\n",
       "      <td>1</td>\n",
       "      <td>Madrid</td>\n",
       "      <td>lorena.román</td>\n",
       "      <td>de729428-ec23-4665-a5c9-79e3ec282470|lorena.román</td>\n",
       "      <td>C14900lr</td>\n",
       "      <td>35|Hotel Jardines del Rey</td>\n",
       "      <td>2.9</td>\n",
       "    </tr>\n",
       "    <tr>\n",
       "      <th>14996</th>\n",
       "      <td>aa092c3e-7fe6-4985-a5a8-cacd38554b1b</td>\n",
       "      <td>8469b819-d96a-4904-9cdd-710764f6301f</td>\n",
       "      <td>Toño</td>\n",
       "      <td>Narváez</td>\n",
       "      <td>toño.narváez@example.com</td>\n",
       "      <td>True</td>\n",
       "      <td>NaT</td>\n",
       "      <td>2025-03-01</td>\n",
       "      <td>2025-03-02</td>\n",
       "      <td>114</td>\n",
       "      <td>NaN</td>\n",
       "      <td></td>\n",
       "      <td>&lt;NA&gt;</td>\n",
       "      <td></td>\n",
       "      <td>toño.narváez</td>\n",
       "      <td>8469b819-d96a-4904-9cdd-710764f6301f|toño.narváez</td>\n",
       "      <td>C14901tn</td>\n",
       "      <td>114|</td>\n",
       "      <td>NaN</td>\n",
       "    </tr>\n",
       "    <tr>\n",
       "      <th>14997</th>\n",
       "      <td>af0f6afa-e7d2-410a-8cdd-5eb62b1e4788</td>\n",
       "      <td>e89751f4-3621-4636-81d3-90e2baa709cb</td>\n",
       "      <td>Nadia</td>\n",
       "      <td>Verdugo</td>\n",
       "      <td>nadia.verdugo@example.com</td>\n",
       "      <td>False</td>\n",
       "      <td>2025-02-11</td>\n",
       "      <td>2025-03-01</td>\n",
       "      <td>2025-03-02</td>\n",
       "      <td>38</td>\n",
       "      <td>442.96</td>\n",
       "      <td>Hotel Brisas del Mar</td>\n",
       "      <td>5</td>\n",
       "      <td>Madrid</td>\n",
       "      <td>nadia.verdugo</td>\n",
       "      <td>e89751f4-3621-4636-81d3-90e2baa709cb|nadia.ver...</td>\n",
       "      <td>C14902nv</td>\n",
       "      <td>47|Hotel Brisas del Mar</td>\n",
       "      <td>3.1</td>\n",
       "    </tr>\n",
       "    <tr>\n",
       "      <th>14998</th>\n",
       "      <td>6d1f590c-ae87-4582-bc99-9b8cbf1d8e28</td>\n",
       "      <td>c4117358-fd89-44cd-b388-4ec6d3538c72</td>\n",
       "      <td>Custodia</td>\n",
       "      <td>Marco</td>\n",
       "      <td>custodia.marco@example.com</td>\n",
       "      <td>True</td>\n",
       "      <td>NaT</td>\n",
       "      <td>2025-03-01</td>\n",
       "      <td>2025-03-02</td>\n",
       "      <td>194</td>\n",
       "      <td>NaN</td>\n",
       "      <td></td>\n",
       "      <td>&lt;NA&gt;</td>\n",
       "      <td></td>\n",
       "      <td>custodia.marco</td>\n",
       "      <td>c4117358-fd89-44cd-b388-4ec6d3538c72|custodia....</td>\n",
       "      <td>C14903cm</td>\n",
       "      <td>194|</td>\n",
       "      <td>NaN</td>\n",
       "    </tr>\n",
       "    <tr>\n",
       "      <th>14999</th>\n",
       "      <td>55b1c8de-bc13-4e4c-9dd7-50437788e361</td>\n",
       "      <td>f97ec0a6-6fb7-401e-83fa-5fb3957ee02b</td>\n",
       "      <td>Brígida</td>\n",
       "      <td>Salom</td>\n",
       "      <td>brígida.salom@example.com</td>\n",
       "      <td>False</td>\n",
       "      <td>2025-02-08</td>\n",
       "      <td>2025-03-01</td>\n",
       "      <td>2025-03-02</td>\n",
       "      <td>33</td>\n",
       "      <td>362.39</td>\n",
       "      <td>Hotel Vista Alegre</td>\n",
       "      <td>5</td>\n",
       "      <td>Madrid</td>\n",
       "      <td>brígida.salom</td>\n",
       "      <td>f97ec0a6-6fb7-401e-83fa-5fb3957ee02b|brígida.s...</td>\n",
       "      <td>C14904bs</td>\n",
       "      <td>38|Hotel Vista Alegre</td>\n",
       "      <td>2.9</td>\n",
       "    </tr>\n",
       "  </tbody>\n",
       "</table>\n",
       "<p>15000 rows × 19 columns</p>\n",
       "</div>"
      ],
      "text/plain": [
       "                                 id_reserva  \\\n",
       "0      5256cc90-139b-43d2-8ec5-412495d751cf   \n",
       "1      84fd6209-bd8d-4a92-bfe6-c68ee2c49271   \n",
       "2      40c4cb55-d1f5-407b-832f-4756b8ff77b4   \n",
       "3      f2ce8df5-7844-43e1-8c0f-97ce7a208f21   \n",
       "4      57d4515a-447d-4067-afcb-9bdcf4e4e915   \n",
       "...                                     ...   \n",
       "14995  58acd6f3-7160-4973-b951-b14188937444   \n",
       "14996  aa092c3e-7fe6-4985-a5a8-cacd38554b1b   \n",
       "14997  af0f6afa-e7d2-410a-8cdd-5eb62b1e4788   \n",
       "14998  6d1f590c-ae87-4582-bc99-9b8cbf1d8e28   \n",
       "14999  55b1c8de-bc13-4e4c-9dd7-50437788e361   \n",
       "\n",
       "                                 id_cliente     nombre   apellido  \\\n",
       "0      346f2a77-33f4-4b2d-82f3-e8501e21b28d  Feliciana     Cantón   \n",
       "1      346f2a77-33f4-4b2d-82f3-e8501e21b28d   Leonardo     Hierro   \n",
       "2      6ec4d7d2-e382-47cc-94f6-c647577d4035      Maite  Calatayud   \n",
       "3      aed17fe8-eb18-4f69-bf08-df1afdc339c3      Tecla      Bonet   \n",
       "4      710a2fbb-264f-426a-aa66-f8fffd146a2d    Amílcar     Andrés   \n",
       "...                                     ...        ...        ...   \n",
       "14995  de729428-ec23-4665-a5c9-79e3ec282470     Lorena      Román   \n",
       "14996  8469b819-d96a-4904-9cdd-710764f6301f       Toño    Narváez   \n",
       "14997  e89751f4-3621-4636-81d3-90e2baa709cb      Nadia    Verdugo   \n",
       "14998  c4117358-fd89-44cd-b388-4ec6d3538c72   Custodia      Marco   \n",
       "14999  f97ec0a6-6fb7-401e-83fa-5fb3957ee02b    Brígida      Salom   \n",
       "\n",
       "                               mail  competencia fecha_reserva  \\\n",
       "0      feliciana.cantón@example.com         True           NaT   \n",
       "1       leonardo.hierro@example.com         True           NaT   \n",
       "2       maite.calatayud@example.com        False    2025-02-09   \n",
       "3           tecla.bonet@example.com        False    2025-02-08   \n",
       "4        amílcar.andrés@example.com        False    2025-02-02   \n",
       "...                             ...          ...           ...   \n",
       "14995      lorena.román@example.com        False    2025-02-06   \n",
       "14996      toño.narváez@example.com         True           NaT   \n",
       "14997     nadia.verdugo@example.com        False    2025-02-11   \n",
       "14998    custodia.marco@example.com         True           NaT   \n",
       "14999     brígida.salom@example.com        False    2025-02-08   \n",
       "\n",
       "      inicio_estancia final_estancia  id_hotel  precio_noche  \\\n",
       "0          2025-03-01     2025-03-02       113           NaN   \n",
       "1          2025-03-01     2025-03-02       194           NaN   \n",
       "2          2025-03-01     2025-03-02        14        119.96   \n",
       "3          2025-03-01     2025-03-02        38        211.53   \n",
       "4          2025-03-01     2025-03-02        35        378.37   \n",
       "...               ...            ...       ...           ...   \n",
       "14995      2025-03-01     2025-03-02         3        111.78   \n",
       "14996      2025-03-01     2025-03-02       114           NaN   \n",
       "14997      2025-03-01     2025-03-02        38        442.96   \n",
       "14998      2025-03-01     2025-03-02       194           NaN   \n",
       "14999      2025-03-01     2025-03-02        33        362.39   \n",
       "\n",
       "                 nombre_hotel  estrellas  ciudad   nombre_apellido  \\\n",
       "0                                   <NA>          feliciana.cantón   \n",
       "1                                   <NA>           leonardo.hierro   \n",
       "2           Hotel Monte Verde          1  Madrid   maite.calatayud   \n",
       "3        Hotel Brisas del Mar          5  Madrid       tecla.bonet   \n",
       "4        Hotel Camino del Sol          1  Madrid    amílcar.andrés   \n",
       "...                       ...        ...     ...               ...   \n",
       "14995  Hotel Jardines del Rey          1  Madrid      lorena.román   \n",
       "14996                               <NA>              toño.narváez   \n",
       "14997    Hotel Brisas del Mar          5  Madrid     nadia.verdugo   \n",
       "14998                               <NA>            custodia.marco   \n",
       "14999      Hotel Vista Alegre          5  Madrid     brígida.salom   \n",
       "\n",
       "                                      id_nombre_apellido id_cliente_unico  \\\n",
       "0      346f2a77-33f4-4b2d-82f3-e8501e21b28d|feliciana...             C0fc   \n",
       "1      346f2a77-33f4-4b2d-82f3-e8501e21b28d|leonardo....             C1lh   \n",
       "2      6ec4d7d2-e382-47cc-94f6-c647577d4035|maite.cal...             C2mc   \n",
       "3       aed17fe8-eb18-4f69-bf08-df1afdc339c3|tecla.bonet             C3tb   \n",
       "4      710a2fbb-264f-426a-aa66-f8fffd146a2d|amílcar.a...             C4aa   \n",
       "...                                                  ...              ...   \n",
       "14995  de729428-ec23-4665-a5c9-79e3ec282470|lorena.román         C14900lr   \n",
       "14996  8469b819-d96a-4904-9cdd-710764f6301f|toño.narváez         C14901tn   \n",
       "14997  e89751f4-3621-4636-81d3-90e2baa709cb|nadia.ver...         C14902nv   \n",
       "14998  c4117358-fd89-44cd-b388-4ec6d3538c72|custodia....         C14903cm   \n",
       "14999  f97ec0a6-6fb7-401e-83fa-5fb3957ee02b|brígida.s...         C14904bs   \n",
       "\n",
       "                 id_nombre_hotel  valoracion  \n",
       "0                           113|         NaN  \n",
       "1                           194|         NaN  \n",
       "2           14|Hotel Monte Verde         3.1  \n",
       "3        38|Hotel Brisas del Mar         3.1  \n",
       "4        35|Hotel Camino del Sol         3.1  \n",
       "...                          ...         ...  \n",
       "14995  35|Hotel Jardines del Rey         2.9  \n",
       "14996                       114|         NaN  \n",
       "14997    47|Hotel Brisas del Mar         3.1  \n",
       "14998                       194|         NaN  \n",
       "14999      38|Hotel Vista Alegre         2.9  \n",
       "\n",
       "[15000 rows x 19 columns]"
      ]
     },
     "execution_count": 57,
     "metadata": {},
     "output_type": "execute_result"
    }
   ],
   "source": [
    "# Relleno la información de la valoración de los hoteles propios con la media de las estrellas calculadas:\n",
    "keys= list(df_estrellas.nombre_hotel)\n",
    "values = df_estrellas.estrellas.to_list()\n",
    "diccionario_valoración_hoteles_propios =dict(zip(keys,values))\n",
    "df.loc[df['competencia']==False, 'valoracion'] = df['nombre_hotel'].map(diccionario_valoración_hoteles_propios)\n",
    "df"
   ]
  },
  {
   "cell_type": "markdown",
   "metadata": {},
   "source": [
    "# Columna ciudad"
   ]
  },
  {
   "cell_type": "code",
   "execution_count": 58,
   "metadata": {},
   "outputs": [
    {
     "data": {
      "text/plain": [
       "ciudad\n",
       "Madrid    9828\n",
       "          5172\n",
       "Name: count, dtype: int64"
      ]
     },
     "execution_count": 58,
     "metadata": {},
     "output_type": "execute_result"
    }
   ],
   "source": [
    "df.ciudad.value_counts()\n"
   ]
  },
  {
   "cell_type": "code",
   "execution_count": 59,
   "metadata": {},
   "outputs": [
    {
     "data": {
      "text/plain": [
       "ciudad\n",
       "    5172\n",
       "Name: count, dtype: int64"
      ]
     },
     "execution_count": 59,
     "metadata": {},
     "output_type": "execute_result"
    }
   ],
   "source": [
    "#Todos los que no tienen valores son los hoteles de la competencia. Igualmente la ciudad será Madrid, pero lo rellenaré cuando haga el escrapeo.\n",
    "df_competencia.ciudad.value_counts()"
   ]
  },
  {
   "cell_type": "markdown",
   "metadata": {},
   "source": [
    "# Columna precios"
   ]
  },
  {
   "cell_type": "code",
   "execution_count": 60,
   "metadata": {},
   "outputs": [
    {
     "name": "stdout",
     "output_type": "stream",
     "text": [
      "Tengo 52 nulos en la columna precio_noche\n"
     ]
    }
   ],
   "source": [
    "df_no_competencia.precio_noche.isnull().sum()\n",
    "print(f'Tengo {df_no_competencia.precio_noche.isnull().sum()} nulos en la columna precio_noche')"
   ]
  },
  {
   "cell_type": "code",
   "execution_count": 61,
   "metadata": {},
   "outputs": [
    {
     "data": {
      "text/plain": [
       "nombre_hotel     Hotel Brisas del Mar\n",
       "fecha_reserva     2025-02-11 00:00:00\n",
       "id_reserva                          1\n",
       "Name: 3, dtype: object"
      ]
     },
     "execution_count": 61,
     "metadata": {},
     "output_type": "execute_result"
    }
   ],
   "source": [
    "df_precios_nulos_hoteles_propios = df_no_competencia[df_no_competencia.precio_noche.isnull()].groupby(['nombre_hotel', 'fecha_reserva'])['id_reserva'].count().reset_index()\n",
    "df_precios_nulos_hoteles_propios.iloc[3,:]"
   ]
  },
  {
   "cell_type": "code",
   "execution_count": 62,
   "metadata": {},
   "outputs": [
    {
     "data": {
      "text/plain": [
       "48"
      ]
     },
     "execution_count": 62,
     "metadata": {},
     "output_type": "execute_result"
    }
   ],
   "source": [
    "len(df_precios_nulos_hoteles_propios)"
   ]
  },
  {
   "cell_type": "code",
   "execution_count": 63,
   "metadata": {},
   "outputs": [
    {
     "data": {
      "application/vnd.microsoft.datawrangler.viewer.v0+json": {
       "columns": [
        {
         "name": "index",
         "rawType": "int64",
         "type": "integer"
        },
        {
         "name": "nombre_hotel",
         "rawType": "object",
         "type": "string"
        },
        {
         "name": "fecha_reserva",
         "rawType": "datetime64[ns]",
         "type": "datetime"
        },
        {
         "name": "id_reserva",
         "rawType": "int64",
         "type": "integer"
        }
       ],
       "conversionMethod": "pd.DataFrame",
       "ref": "59886a6e-44a2-4c8a-a866-23445341e1a5",
       "rows": [
        [
         "0",
         "Gran Hotel Madrid",
         "2025-02-02 00:00:00",
         "1"
        ]
       ],
       "shape": {
        "columns": 3,
        "rows": 1
       }
      },
      "text/html": [
       "<div>\n",
       "<style scoped>\n",
       "    .dataframe tbody tr th:only-of-type {\n",
       "        vertical-align: middle;\n",
       "    }\n",
       "\n",
       "    .dataframe tbody tr th {\n",
       "        vertical-align: top;\n",
       "    }\n",
       "\n",
       "    .dataframe thead th {\n",
       "        text-align: right;\n",
       "    }\n",
       "</style>\n",
       "<table border=\"1\" class=\"dataframe\">\n",
       "  <thead>\n",
       "    <tr style=\"text-align: right;\">\n",
       "      <th></th>\n",
       "      <th>nombre_hotel</th>\n",
       "      <th>fecha_reserva</th>\n",
       "      <th>id_reserva</th>\n",
       "    </tr>\n",
       "  </thead>\n",
       "  <tbody>\n",
       "    <tr>\n",
       "      <th>0</th>\n",
       "      <td>Gran Hotel Madrid</td>\n",
       "      <td>2025-02-02</td>\n",
       "      <td>1</td>\n",
       "    </tr>\n",
       "  </tbody>\n",
       "</table>\n",
       "</div>"
      ],
      "text/plain": [
       "        nombre_hotel fecha_reserva  id_reserva\n",
       "0  Gran Hotel Madrid    2025-02-02           1"
      ]
     },
     "execution_count": 63,
     "metadata": {},
     "output_type": "execute_result"
    }
   ],
   "source": [
    "df_precios_nulos_hoteles_propios.head(1)"
   ]
  },
  {
   "cell_type": "code",
   "execution_count": 64,
   "metadata": {},
   "outputs": [],
   "source": [
    "#Calculo los outliers de cada df filtrado por el nombre del hotel:\n",
    "lista_hoteles_propios = df_no_competencia.nombre_hotel.values\n",
    "def detectar_oulieres_iqr(dataframe):\n",
    "    resultados = {}\n",
    "    for nombrehotel in lista_hoteles_propios:\n",
    "        df_filtrado = dataframe[dataframe['nombre_hotel']== nombrehotel]\n",
    "        Q1=df_filtrado['precio_noche'].quantile(0.25) #Primer cuartil\n",
    "        Q3 = df_filtrado['precio_noche'].quantile(0.75) #Tercer cuartil\n",
    "        IQR = Q3-Q1 #rango intercuartil\n",
    "\n",
    "        #Defino los limites de los outliers\n",
    "        lower_bound = Q1-1.5*IQR\n",
    "        upper_bound = Q3+1.5*IQR\n",
    "\n",
    "        #Filtrar los valores outliers\n",
    "        outliers = df_filtrado[(df_filtrado['precio_noche'] < lower_bound) | (df_filtrado['precio_noche'] > upper_bound)]\n",
    "        num_outliers = len(outliers)\n",
    "        total_values = len(df_filtrado)\n",
    "        percentage_outliers = (num_outliers/total_values)*100\n",
    "\n",
    "        #Guardo los resultados\n",
    "        resultados[nombrehotel] = {'Cantidad de Outliers': num_outliers,\n",
    "                                                            'Porcentaje de Outliers': round(percentage_outliers,2)\n",
    "                                                            }\n",
    "    return resultados\n"
   ]
  },
  {
   "cell_type": "code",
   "execution_count": 65,
   "metadata": {},
   "outputs": [
    {
     "data": {
      "application/vnd.microsoft.datawrangler.viewer.v0+json": {
       "columns": [
        {
         "name": "index",
         "rawType": "object",
         "type": "string"
        },
        {
         "name": "Cantidad de Outliers",
         "rawType": "float64",
         "type": "float"
        },
        {
         "name": "Porcentaje de Outliers",
         "rawType": "float64",
         "type": "float"
        }
       ],
       "conversionMethod": "pd.DataFrame",
       "ref": "a749ced4-0582-425a-b8d4-3dc4dbaca0d5",
       "rows": [
        [
         "Hotel Monte Verde",
         "0.0",
         "0.0"
        ],
        [
         "Hotel Brisas del Mar",
         "0.0",
         "0.0"
        ],
        [
         "Hotel Camino del Sol",
         "0.0",
         "0.0"
        ],
        [
         "Hotel Puerta del Cielo",
         "0.0",
         "0.0"
        ],
        [
         "Hotel Encanto Real",
         "0.0",
         "0.0"
        ],
        [
         "Palacio del Sol",
         "0.0",
         "0.0"
        ],
        [
         "Hotel Jardines del Rey",
         "0.0",
         "0.0"
        ],
        [
         "Hotel Las Estrellas",
         "0.0",
         "0.0"
        ],
        [
         "Gran Hotel Madrid",
         "0.0",
         "0.0"
        ],
        [
         "Hotel Torre Dorada",
         "0.0",
         "0.0"
        ],
        [
         "Hotel Palacio Imperial",
         "0.0",
         "0.0"
        ],
        [
         "Hotel Luz de Madrid",
         "0.0",
         "0.0"
        ],
        [
         "Hotel Los Almendros",
         "0.0",
         "0.0"
        ],
        [
         "Hotel Sol y Luna",
         "0.0",
         "0.0"
        ],
        [
         "Hotel Mirador Real",
         "0.0",
         "0.0"
        ],
        [
         "Hotel Rincón Sereno",
         "0.0",
         "0.0"
        ],
        [
         "Hotel Vista Alegre",
         "0.0",
         "0.0"
        ],
        [
         "Hotel Costa Azul",
         "0.0",
         "0.0"
        ],
        [
         "Hotel Maravilla Real",
         "0.0",
         "0.0"
        ]
       ],
       "shape": {
        "columns": 2,
        "rows": 19
       }
      },
      "text/html": [
       "<div>\n",
       "<style scoped>\n",
       "    .dataframe tbody tr th:only-of-type {\n",
       "        vertical-align: middle;\n",
       "    }\n",
       "\n",
       "    .dataframe tbody tr th {\n",
       "        vertical-align: top;\n",
       "    }\n",
       "\n",
       "    .dataframe thead th {\n",
       "        text-align: right;\n",
       "    }\n",
       "</style>\n",
       "<table border=\"1\" class=\"dataframe\">\n",
       "  <thead>\n",
       "    <tr style=\"text-align: right;\">\n",
       "      <th></th>\n",
       "      <th>Cantidad de Outliers</th>\n",
       "      <th>Porcentaje de Outliers</th>\n",
       "    </tr>\n",
       "  </thead>\n",
       "  <tbody>\n",
       "    <tr>\n",
       "      <th>Hotel Monte Verde</th>\n",
       "      <td>0.0</td>\n",
       "      <td>0.0</td>\n",
       "    </tr>\n",
       "    <tr>\n",
       "      <th>Hotel Brisas del Mar</th>\n",
       "      <td>0.0</td>\n",
       "      <td>0.0</td>\n",
       "    </tr>\n",
       "    <tr>\n",
       "      <th>Hotel Camino del Sol</th>\n",
       "      <td>0.0</td>\n",
       "      <td>0.0</td>\n",
       "    </tr>\n",
       "    <tr>\n",
       "      <th>Hotel Puerta del Cielo</th>\n",
       "      <td>0.0</td>\n",
       "      <td>0.0</td>\n",
       "    </tr>\n",
       "    <tr>\n",
       "      <th>Hotel Encanto Real</th>\n",
       "      <td>0.0</td>\n",
       "      <td>0.0</td>\n",
       "    </tr>\n",
       "    <tr>\n",
       "      <th>Palacio del Sol</th>\n",
       "      <td>0.0</td>\n",
       "      <td>0.0</td>\n",
       "    </tr>\n",
       "    <tr>\n",
       "      <th>Hotel Jardines del Rey</th>\n",
       "      <td>0.0</td>\n",
       "      <td>0.0</td>\n",
       "    </tr>\n",
       "    <tr>\n",
       "      <th>Hotel Las Estrellas</th>\n",
       "      <td>0.0</td>\n",
       "      <td>0.0</td>\n",
       "    </tr>\n",
       "    <tr>\n",
       "      <th>Gran Hotel Madrid</th>\n",
       "      <td>0.0</td>\n",
       "      <td>0.0</td>\n",
       "    </tr>\n",
       "    <tr>\n",
       "      <th>Hotel Torre Dorada</th>\n",
       "      <td>0.0</td>\n",
       "      <td>0.0</td>\n",
       "    </tr>\n",
       "    <tr>\n",
       "      <th>Hotel Palacio Imperial</th>\n",
       "      <td>0.0</td>\n",
       "      <td>0.0</td>\n",
       "    </tr>\n",
       "    <tr>\n",
       "      <th>Hotel Luz de Madrid</th>\n",
       "      <td>0.0</td>\n",
       "      <td>0.0</td>\n",
       "    </tr>\n",
       "    <tr>\n",
       "      <th>Hotel Los Almendros</th>\n",
       "      <td>0.0</td>\n",
       "      <td>0.0</td>\n",
       "    </tr>\n",
       "    <tr>\n",
       "      <th>Hotel Sol y Luna</th>\n",
       "      <td>0.0</td>\n",
       "      <td>0.0</td>\n",
       "    </tr>\n",
       "    <tr>\n",
       "      <th>Hotel Mirador Real</th>\n",
       "      <td>0.0</td>\n",
       "      <td>0.0</td>\n",
       "    </tr>\n",
       "    <tr>\n",
       "      <th>Hotel Rincón Sereno</th>\n",
       "      <td>0.0</td>\n",
       "      <td>0.0</td>\n",
       "    </tr>\n",
       "    <tr>\n",
       "      <th>Hotel Vista Alegre</th>\n",
       "      <td>0.0</td>\n",
       "      <td>0.0</td>\n",
       "    </tr>\n",
       "    <tr>\n",
       "      <th>Hotel Costa Azul</th>\n",
       "      <td>0.0</td>\n",
       "      <td>0.0</td>\n",
       "    </tr>\n",
       "    <tr>\n",
       "      <th>Hotel Maravilla Real</th>\n",
       "      <td>0.0</td>\n",
       "      <td>0.0</td>\n",
       "    </tr>\n",
       "  </tbody>\n",
       "</table>\n",
       "</div>"
      ],
      "text/plain": [
       "                        Cantidad de Outliers  Porcentaje de Outliers\n",
       "Hotel Monte Verde                        0.0                     0.0\n",
       "Hotel Brisas del Mar                     0.0                     0.0\n",
       "Hotel Camino del Sol                     0.0                     0.0\n",
       "Hotel Puerta del Cielo                   0.0                     0.0\n",
       "Hotel Encanto Real                       0.0                     0.0\n",
       "Palacio del Sol                          0.0                     0.0\n",
       "Hotel Jardines del Rey                   0.0                     0.0\n",
       "Hotel Las Estrellas                      0.0                     0.0\n",
       "Gran Hotel Madrid                        0.0                     0.0\n",
       "Hotel Torre Dorada                       0.0                     0.0\n",
       "Hotel Palacio Imperial                   0.0                     0.0\n",
       "Hotel Luz de Madrid                      0.0                     0.0\n",
       "Hotel Los Almendros                      0.0                     0.0\n",
       "Hotel Sol y Luna                         0.0                     0.0\n",
       "Hotel Mirador Real                       0.0                     0.0\n",
       "Hotel Rincón Sereno                      0.0                     0.0\n",
       "Hotel Vista Alegre                       0.0                     0.0\n",
       "Hotel Costa Azul                         0.0                     0.0\n",
       "Hotel Maravilla Real                     0.0                     0.0"
      ]
     },
     "execution_count": 65,
     "metadata": {},
     "output_type": "execute_result"
    }
   ],
   "source": [
    "resultados = detectar_oulieres_iqr(df_no_competencia)\n",
    "pd.DataFrame(resultados).T"
   ]
  },
  {
   "cell_type": "code",
   "execution_count": 66,
   "metadata": {},
   "outputs": [
    {
     "data": {
      "application/vnd.microsoft.datawrangler.viewer.v0+json": {
       "columns": [
        {
         "name": "index",
         "rawType": "int64",
         "type": "integer"
        },
        {
         "name": "nombre_hotel",
         "rawType": "object",
         "type": "string"
        },
        {
         "name": "fecha_reserva",
         "rawType": "datetime64[ns]",
         "type": "datetime"
        },
        {
         "name": "id_reserva",
         "rawType": "int64",
         "type": "integer"
        },
        {
         "name": "precio_noche_medio",
         "rawType": "object",
         "type": "unknown"
        }
       ],
       "conversionMethod": "pd.DataFrame",
       "ref": "33d9b440-cef5-4fcf-a7a2-70bb0380160e",
       "rows": [
        [
         "0",
         "Gran Hotel Madrid",
         "2025-02-02 00:00:00",
         "1",
         "273.4"
        ],
        [
         "1",
         "Gran Hotel Madrid",
         "2025-02-06 00:00:00",
         "1",
         "297.75"
        ],
        [
         "2",
         "Gran Hotel Madrid",
         "2025-02-09 00:00:00",
         "1",
         "257.58"
        ],
        [
         "3",
         "Hotel Brisas del Mar",
         "2025-02-11 00:00:00",
         "1",
         "275.04"
        ],
        [
         "4",
         "Hotel Brisas del Mar",
         "2025-02-12 00:00:00",
         "1",
         "274.04"
        ],
        [
         "5",
         "Hotel Camino del Sol",
         "2025-02-06 00:00:00",
         "2",
         "236.67"
        ],
        [
         "6",
         "Hotel Camino del Sol",
         "2025-02-08 00:00:00",
         "1",
         "262.23"
        ],
        [
         "7",
         "Hotel Camino del Sol",
         "2025-02-11 00:00:00",
         "1",
         "221.31"
        ],
        [
         "8",
         "Hotel Costa Azul",
         "2025-02-01 00:00:00",
         "1",
         "267.59"
        ],
        [
         "9",
         "Hotel Costa Azul",
         "2025-02-08 00:00:00",
         "1",
         "304.86"
        ],
        [
         "10",
         "Hotel Encanto Real",
         "2025-02-01 00:00:00",
         "1",
         "288.08"
        ],
        [
         "11",
         "Hotel Encanto Real",
         "2025-02-08 00:00:00",
         "1",
         "266.11"
        ],
        [
         "12",
         "Hotel Encanto Real",
         "2025-02-12 00:00:00",
         "1",
         "277.61"
        ],
        [
         "13",
         "Hotel Jardines del Rey",
         "2025-02-10 00:00:00",
         "1",
         "309.36"
        ],
        [
         "14",
         "Hotel Las Estrellas",
         "2025-02-01 00:00:00",
         "1",
         "255.25"
        ],
        [
         "15",
         "Hotel Las Estrellas",
         "2025-02-09 00:00:00",
         "2",
         "287.61"
        ],
        [
         "16",
         "Hotel Las Estrellas",
         "2025-02-10 00:00:00",
         "1",
         "263.12"
        ],
        [
         "17",
         "Hotel Los Almendros",
         "2025-02-03 00:00:00",
         "1",
         "259.39"
        ],
        [
         "18",
         "Hotel Los Almendros",
         "2025-02-07 00:00:00",
         "1",
         "286.66"
        ],
        [
         "19",
         "Hotel Luz de Madrid",
         "2025-02-02 00:00:00",
         "1",
         "273.05"
        ],
        [
         "20",
         "Hotel Maravilla Real",
         "2025-02-12 00:00:00",
         "1",
         "286.53"
        ],
        [
         "21",
         "Hotel Mirador Real",
         "2025-02-01 00:00:00",
         "2",
         "247.72"
        ],
        [
         "22",
         "Hotel Mirador Real",
         "2025-02-05 00:00:00",
         "1",
         "278.96"
        ],
        [
         "23",
         "Hotel Mirador Real",
         "2025-02-11 00:00:00",
         "1",
         "275.58"
        ],
        [
         "24",
         "Hotel Monte Verde",
         "2025-02-08 00:00:00",
         "1",
         "296.6"
        ],
        [
         "25",
         "Hotel Monte Verde",
         "2025-02-10 00:00:00",
         "1",
         "280.05"
        ],
        [
         "26",
         "Hotel Monte Verde",
         "2025-02-12 00:00:00",
         "2",
         "271.7"
        ],
        [
         "27",
         "Hotel Palacio Imperial",
         "2025-02-03 00:00:00",
         "1",
         "282.93"
        ],
        [
         "28",
         "Hotel Puerta del Cielo",
         "2025-02-02 00:00:00",
         "1",
         "320.06"
        ],
        [
         "29",
         "Hotel Puerta del Cielo",
         "2025-02-03 00:00:00",
         "1",
         "258.87"
        ],
        [
         "30",
         "Hotel Puerta del Cielo",
         "2025-02-04 00:00:00",
         "1",
         "286.13"
        ],
        [
         "31",
         "Hotel Rincón Sereno",
         "2025-02-03 00:00:00",
         "1",
         "269.48"
        ],
        [
         "32",
         "Hotel Rincón Sereno",
         "2025-02-12 00:00:00",
         "1",
         "301.34"
        ],
        [
         "33",
         "Hotel Sol y Luna",
         "2025-02-03 00:00:00",
         "1",
         "256.44"
        ],
        [
         "34",
         "Hotel Sol y Luna",
         "2025-02-04 00:00:00",
         "1",
         "254.89"
        ],
        [
         "35",
         "Hotel Sol y Luna",
         "2025-02-05 00:00:00",
         "1",
         "258.93"
        ],
        [
         "36",
         "Hotel Sol y Luna",
         "2025-02-08 00:00:00",
         "1",
         "282.91"
        ],
        [
         "37",
         "Hotel Sol y Luna",
         "2025-02-12 00:00:00",
         "1",
         "272.21"
        ],
        [
         "38",
         "Hotel Torre Dorada",
         "2025-02-05 00:00:00",
         "1",
         "255.39"
        ],
        [
         "39",
         "Hotel Torre Dorada",
         "2025-02-07 00:00:00",
         "1",
         "289.01"
        ],
        [
         "40",
         "Hotel Torre Dorada",
         "2025-02-08 00:00:00",
         "1",
         "285.61"
        ],
        [
         "41",
         "Hotel Torre Dorada",
         "2025-02-09 00:00:00",
         "1",
         "284.62"
        ],
        [
         "42",
         "Hotel Torre Dorada",
         "2025-02-10 00:00:00",
         "1",
         "248.65"
        ],
        [
         "43",
         "Hotel Vista Alegre",
         "2025-02-03 00:00:00",
         "1",
         "276.3"
        ],
        [
         "44",
         "Hotel Vista Alegre",
         "2025-02-11 00:00:00",
         "1",
         "313.79"
        ],
        [
         "45",
         "Palacio del Sol",
         "2025-02-02 00:00:00",
         "1",
         "274.55"
        ],
        [
         "46",
         "Palacio del Sol",
         "2025-02-03 00:00:00",
         "1",
         "269.54"
        ],
        [
         "47",
         "Palacio del Sol",
         "2025-02-12 00:00:00",
         "1",
         "313.18"
        ]
       ],
       "shape": {
        "columns": 4,
        "rows": 48
       }
      },
      "text/html": [
       "<div>\n",
       "<style scoped>\n",
       "    .dataframe tbody tr th:only-of-type {\n",
       "        vertical-align: middle;\n",
       "    }\n",
       "\n",
       "    .dataframe tbody tr th {\n",
       "        vertical-align: top;\n",
       "    }\n",
       "\n",
       "    .dataframe thead th {\n",
       "        text-align: right;\n",
       "    }\n",
       "</style>\n",
       "<table border=\"1\" class=\"dataframe\">\n",
       "  <thead>\n",
       "    <tr style=\"text-align: right;\">\n",
       "      <th></th>\n",
       "      <th>nombre_hotel</th>\n",
       "      <th>fecha_reserva</th>\n",
       "      <th>id_reserva</th>\n",
       "      <th>precio_noche_medio</th>\n",
       "    </tr>\n",
       "  </thead>\n",
       "  <tbody>\n",
       "    <tr>\n",
       "      <th>0</th>\n",
       "      <td>Gran Hotel Madrid</td>\n",
       "      <td>2025-02-02</td>\n",
       "      <td>1</td>\n",
       "      <td>273.4</td>\n",
       "    </tr>\n",
       "    <tr>\n",
       "      <th>1</th>\n",
       "      <td>Gran Hotel Madrid</td>\n",
       "      <td>2025-02-06</td>\n",
       "      <td>1</td>\n",
       "      <td>297.75</td>\n",
       "    </tr>\n",
       "    <tr>\n",
       "      <th>2</th>\n",
       "      <td>Gran Hotel Madrid</td>\n",
       "      <td>2025-02-09</td>\n",
       "      <td>1</td>\n",
       "      <td>257.58</td>\n",
       "    </tr>\n",
       "    <tr>\n",
       "      <th>3</th>\n",
       "      <td>Hotel Brisas del Mar</td>\n",
       "      <td>2025-02-11</td>\n",
       "      <td>1</td>\n",
       "      <td>275.04</td>\n",
       "    </tr>\n",
       "    <tr>\n",
       "      <th>4</th>\n",
       "      <td>Hotel Brisas del Mar</td>\n",
       "      <td>2025-02-12</td>\n",
       "      <td>1</td>\n",
       "      <td>274.04</td>\n",
       "    </tr>\n",
       "    <tr>\n",
       "      <th>5</th>\n",
       "      <td>Hotel Camino del Sol</td>\n",
       "      <td>2025-02-06</td>\n",
       "      <td>2</td>\n",
       "      <td>236.67</td>\n",
       "    </tr>\n",
       "    <tr>\n",
       "      <th>6</th>\n",
       "      <td>Hotel Camino del Sol</td>\n",
       "      <td>2025-02-08</td>\n",
       "      <td>1</td>\n",
       "      <td>262.23</td>\n",
       "    </tr>\n",
       "    <tr>\n",
       "      <th>7</th>\n",
       "      <td>Hotel Camino del Sol</td>\n",
       "      <td>2025-02-11</td>\n",
       "      <td>1</td>\n",
       "      <td>221.31</td>\n",
       "    </tr>\n",
       "    <tr>\n",
       "      <th>8</th>\n",
       "      <td>Hotel Costa Azul</td>\n",
       "      <td>2025-02-01</td>\n",
       "      <td>1</td>\n",
       "      <td>267.59</td>\n",
       "    </tr>\n",
       "    <tr>\n",
       "      <th>9</th>\n",
       "      <td>Hotel Costa Azul</td>\n",
       "      <td>2025-02-08</td>\n",
       "      <td>1</td>\n",
       "      <td>304.86</td>\n",
       "    </tr>\n",
       "    <tr>\n",
       "      <th>10</th>\n",
       "      <td>Hotel Encanto Real</td>\n",
       "      <td>2025-02-01</td>\n",
       "      <td>1</td>\n",
       "      <td>288.08</td>\n",
       "    </tr>\n",
       "    <tr>\n",
       "      <th>11</th>\n",
       "      <td>Hotel Encanto Real</td>\n",
       "      <td>2025-02-08</td>\n",
       "      <td>1</td>\n",
       "      <td>266.11</td>\n",
       "    </tr>\n",
       "    <tr>\n",
       "      <th>12</th>\n",
       "      <td>Hotel Encanto Real</td>\n",
       "      <td>2025-02-12</td>\n",
       "      <td>1</td>\n",
       "      <td>277.61</td>\n",
       "    </tr>\n",
       "    <tr>\n",
       "      <th>13</th>\n",
       "      <td>Hotel Jardines del Rey</td>\n",
       "      <td>2025-02-10</td>\n",
       "      <td>1</td>\n",
       "      <td>309.36</td>\n",
       "    </tr>\n",
       "    <tr>\n",
       "      <th>14</th>\n",
       "      <td>Hotel Las Estrellas</td>\n",
       "      <td>2025-02-01</td>\n",
       "      <td>1</td>\n",
       "      <td>255.25</td>\n",
       "    </tr>\n",
       "    <tr>\n",
       "      <th>15</th>\n",
       "      <td>Hotel Las Estrellas</td>\n",
       "      <td>2025-02-09</td>\n",
       "      <td>2</td>\n",
       "      <td>287.61</td>\n",
       "    </tr>\n",
       "    <tr>\n",
       "      <th>16</th>\n",
       "      <td>Hotel Las Estrellas</td>\n",
       "      <td>2025-02-10</td>\n",
       "      <td>1</td>\n",
       "      <td>263.12</td>\n",
       "    </tr>\n",
       "    <tr>\n",
       "      <th>17</th>\n",
       "      <td>Hotel Los Almendros</td>\n",
       "      <td>2025-02-03</td>\n",
       "      <td>1</td>\n",
       "      <td>259.39</td>\n",
       "    </tr>\n",
       "    <tr>\n",
       "      <th>18</th>\n",
       "      <td>Hotel Los Almendros</td>\n",
       "      <td>2025-02-07</td>\n",
       "      <td>1</td>\n",
       "      <td>286.66</td>\n",
       "    </tr>\n",
       "    <tr>\n",
       "      <th>19</th>\n",
       "      <td>Hotel Luz de Madrid</td>\n",
       "      <td>2025-02-02</td>\n",
       "      <td>1</td>\n",
       "      <td>273.05</td>\n",
       "    </tr>\n",
       "    <tr>\n",
       "      <th>20</th>\n",
       "      <td>Hotel Maravilla Real</td>\n",
       "      <td>2025-02-12</td>\n",
       "      <td>1</td>\n",
       "      <td>286.53</td>\n",
       "    </tr>\n",
       "    <tr>\n",
       "      <th>21</th>\n",
       "      <td>Hotel Mirador Real</td>\n",
       "      <td>2025-02-01</td>\n",
       "      <td>2</td>\n",
       "      <td>247.72</td>\n",
       "    </tr>\n",
       "    <tr>\n",
       "      <th>22</th>\n",
       "      <td>Hotel Mirador Real</td>\n",
       "      <td>2025-02-05</td>\n",
       "      <td>1</td>\n",
       "      <td>278.96</td>\n",
       "    </tr>\n",
       "    <tr>\n",
       "      <th>23</th>\n",
       "      <td>Hotel Mirador Real</td>\n",
       "      <td>2025-02-11</td>\n",
       "      <td>1</td>\n",
       "      <td>275.58</td>\n",
       "    </tr>\n",
       "    <tr>\n",
       "      <th>24</th>\n",
       "      <td>Hotel Monte Verde</td>\n",
       "      <td>2025-02-08</td>\n",
       "      <td>1</td>\n",
       "      <td>296.6</td>\n",
       "    </tr>\n",
       "    <tr>\n",
       "      <th>25</th>\n",
       "      <td>Hotel Monte Verde</td>\n",
       "      <td>2025-02-10</td>\n",
       "      <td>1</td>\n",
       "      <td>280.05</td>\n",
       "    </tr>\n",
       "    <tr>\n",
       "      <th>26</th>\n",
       "      <td>Hotel Monte Verde</td>\n",
       "      <td>2025-02-12</td>\n",
       "      <td>2</td>\n",
       "      <td>271.7</td>\n",
       "    </tr>\n",
       "    <tr>\n",
       "      <th>27</th>\n",
       "      <td>Hotel Palacio Imperial</td>\n",
       "      <td>2025-02-03</td>\n",
       "      <td>1</td>\n",
       "      <td>282.93</td>\n",
       "    </tr>\n",
       "    <tr>\n",
       "      <th>28</th>\n",
       "      <td>Hotel Puerta del Cielo</td>\n",
       "      <td>2025-02-02</td>\n",
       "      <td>1</td>\n",
       "      <td>320.06</td>\n",
       "    </tr>\n",
       "    <tr>\n",
       "      <th>29</th>\n",
       "      <td>Hotel Puerta del Cielo</td>\n",
       "      <td>2025-02-03</td>\n",
       "      <td>1</td>\n",
       "      <td>258.87</td>\n",
       "    </tr>\n",
       "    <tr>\n",
       "      <th>30</th>\n",
       "      <td>Hotel Puerta del Cielo</td>\n",
       "      <td>2025-02-04</td>\n",
       "      <td>1</td>\n",
       "      <td>286.13</td>\n",
       "    </tr>\n",
       "    <tr>\n",
       "      <th>31</th>\n",
       "      <td>Hotel Rincón Sereno</td>\n",
       "      <td>2025-02-03</td>\n",
       "      <td>1</td>\n",
       "      <td>269.48</td>\n",
       "    </tr>\n",
       "    <tr>\n",
       "      <th>32</th>\n",
       "      <td>Hotel Rincón Sereno</td>\n",
       "      <td>2025-02-12</td>\n",
       "      <td>1</td>\n",
       "      <td>301.34</td>\n",
       "    </tr>\n",
       "    <tr>\n",
       "      <th>33</th>\n",
       "      <td>Hotel Sol y Luna</td>\n",
       "      <td>2025-02-03</td>\n",
       "      <td>1</td>\n",
       "      <td>256.44</td>\n",
       "    </tr>\n",
       "    <tr>\n",
       "      <th>34</th>\n",
       "      <td>Hotel Sol y Luna</td>\n",
       "      <td>2025-02-04</td>\n",
       "      <td>1</td>\n",
       "      <td>254.89</td>\n",
       "    </tr>\n",
       "    <tr>\n",
       "      <th>35</th>\n",
       "      <td>Hotel Sol y Luna</td>\n",
       "      <td>2025-02-05</td>\n",
       "      <td>1</td>\n",
       "      <td>258.93</td>\n",
       "    </tr>\n",
       "    <tr>\n",
       "      <th>36</th>\n",
       "      <td>Hotel Sol y Luna</td>\n",
       "      <td>2025-02-08</td>\n",
       "      <td>1</td>\n",
       "      <td>282.91</td>\n",
       "    </tr>\n",
       "    <tr>\n",
       "      <th>37</th>\n",
       "      <td>Hotel Sol y Luna</td>\n",
       "      <td>2025-02-12</td>\n",
       "      <td>1</td>\n",
       "      <td>272.21</td>\n",
       "    </tr>\n",
       "    <tr>\n",
       "      <th>38</th>\n",
       "      <td>Hotel Torre Dorada</td>\n",
       "      <td>2025-02-05</td>\n",
       "      <td>1</td>\n",
       "      <td>255.39</td>\n",
       "    </tr>\n",
       "    <tr>\n",
       "      <th>39</th>\n",
       "      <td>Hotel Torre Dorada</td>\n",
       "      <td>2025-02-07</td>\n",
       "      <td>1</td>\n",
       "      <td>289.01</td>\n",
       "    </tr>\n",
       "    <tr>\n",
       "      <th>40</th>\n",
       "      <td>Hotel Torre Dorada</td>\n",
       "      <td>2025-02-08</td>\n",
       "      <td>1</td>\n",
       "      <td>285.61</td>\n",
       "    </tr>\n",
       "    <tr>\n",
       "      <th>41</th>\n",
       "      <td>Hotel Torre Dorada</td>\n",
       "      <td>2025-02-09</td>\n",
       "      <td>1</td>\n",
       "      <td>284.62</td>\n",
       "    </tr>\n",
       "    <tr>\n",
       "      <th>42</th>\n",
       "      <td>Hotel Torre Dorada</td>\n",
       "      <td>2025-02-10</td>\n",
       "      <td>1</td>\n",
       "      <td>248.65</td>\n",
       "    </tr>\n",
       "    <tr>\n",
       "      <th>43</th>\n",
       "      <td>Hotel Vista Alegre</td>\n",
       "      <td>2025-02-03</td>\n",
       "      <td>1</td>\n",
       "      <td>276.3</td>\n",
       "    </tr>\n",
       "    <tr>\n",
       "      <th>44</th>\n",
       "      <td>Hotel Vista Alegre</td>\n",
       "      <td>2025-02-11</td>\n",
       "      <td>1</td>\n",
       "      <td>313.79</td>\n",
       "    </tr>\n",
       "    <tr>\n",
       "      <th>45</th>\n",
       "      <td>Palacio del Sol</td>\n",
       "      <td>2025-02-02</td>\n",
       "      <td>1</td>\n",
       "      <td>274.55</td>\n",
       "    </tr>\n",
       "    <tr>\n",
       "      <th>46</th>\n",
       "      <td>Palacio del Sol</td>\n",
       "      <td>2025-02-03</td>\n",
       "      <td>1</td>\n",
       "      <td>269.54</td>\n",
       "    </tr>\n",
       "    <tr>\n",
       "      <th>47</th>\n",
       "      <td>Palacio del Sol</td>\n",
       "      <td>2025-02-12</td>\n",
       "      <td>1</td>\n",
       "      <td>313.18</td>\n",
       "    </tr>\n",
       "  </tbody>\n",
       "</table>\n",
       "</div>"
      ],
      "text/plain": [
       "              nombre_hotel fecha_reserva  id_reserva precio_noche_medio\n",
       "0        Gran Hotel Madrid    2025-02-02           1              273.4\n",
       "1        Gran Hotel Madrid    2025-02-06           1             297.75\n",
       "2        Gran Hotel Madrid    2025-02-09           1             257.58\n",
       "3     Hotel Brisas del Mar    2025-02-11           1             275.04\n",
       "4     Hotel Brisas del Mar    2025-02-12           1             274.04\n",
       "5     Hotel Camino del Sol    2025-02-06           2             236.67\n",
       "6     Hotel Camino del Sol    2025-02-08           1             262.23\n",
       "7     Hotel Camino del Sol    2025-02-11           1             221.31\n",
       "8         Hotel Costa Azul    2025-02-01           1             267.59\n",
       "9         Hotel Costa Azul    2025-02-08           1             304.86\n",
       "10      Hotel Encanto Real    2025-02-01           1             288.08\n",
       "11      Hotel Encanto Real    2025-02-08           1             266.11\n",
       "12      Hotel Encanto Real    2025-02-12           1             277.61\n",
       "13  Hotel Jardines del Rey    2025-02-10           1             309.36\n",
       "14     Hotel Las Estrellas    2025-02-01           1             255.25\n",
       "15     Hotel Las Estrellas    2025-02-09           2             287.61\n",
       "16     Hotel Las Estrellas    2025-02-10           1             263.12\n",
       "17     Hotel Los Almendros    2025-02-03           1             259.39\n",
       "18     Hotel Los Almendros    2025-02-07           1             286.66\n",
       "19     Hotel Luz de Madrid    2025-02-02           1             273.05\n",
       "20    Hotel Maravilla Real    2025-02-12           1             286.53\n",
       "21      Hotel Mirador Real    2025-02-01           2             247.72\n",
       "22      Hotel Mirador Real    2025-02-05           1             278.96\n",
       "23      Hotel Mirador Real    2025-02-11           1             275.58\n",
       "24       Hotel Monte Verde    2025-02-08           1              296.6\n",
       "25       Hotel Monte Verde    2025-02-10           1             280.05\n",
       "26       Hotel Monte Verde    2025-02-12           2              271.7\n",
       "27  Hotel Palacio Imperial    2025-02-03           1             282.93\n",
       "28  Hotel Puerta del Cielo    2025-02-02           1             320.06\n",
       "29  Hotel Puerta del Cielo    2025-02-03           1             258.87\n",
       "30  Hotel Puerta del Cielo    2025-02-04           1             286.13\n",
       "31     Hotel Rincón Sereno    2025-02-03           1             269.48\n",
       "32     Hotel Rincón Sereno    2025-02-12           1             301.34\n",
       "33        Hotel Sol y Luna    2025-02-03           1             256.44\n",
       "34        Hotel Sol y Luna    2025-02-04           1             254.89\n",
       "35        Hotel Sol y Luna    2025-02-05           1             258.93\n",
       "36        Hotel Sol y Luna    2025-02-08           1             282.91\n",
       "37        Hotel Sol y Luna    2025-02-12           1             272.21\n",
       "38      Hotel Torre Dorada    2025-02-05           1             255.39\n",
       "39      Hotel Torre Dorada    2025-02-07           1             289.01\n",
       "40      Hotel Torre Dorada    2025-02-08           1             285.61\n",
       "41      Hotel Torre Dorada    2025-02-09           1             284.62\n",
       "42      Hotel Torre Dorada    2025-02-10           1             248.65\n",
       "43      Hotel Vista Alegre    2025-02-03           1              276.3\n",
       "44      Hotel Vista Alegre    2025-02-11           1             313.79\n",
       "45         Palacio del Sol    2025-02-02           1             274.55\n",
       "46         Palacio del Sol    2025-02-03           1             269.54\n",
       "47         Palacio del Sol    2025-02-12           1             313.18"
      ]
     },
     "execution_count": 66,
     "metadata": {},
     "output_type": "execute_result"
    }
   ],
   "source": [
    "#Como no hay outliers calculo el precio medio de la noche teniendo en cuenta tanto el nombre como la fecha de la reserva:\n",
    "df_precios_nulos_hoteles_propios[\"precio_noche_medio\"] = None\n",
    "for indice in range(0,len(df_precios_nulos_hoteles_propios)):\n",
    "    nombre_hotel= df_precios_nulos_hoteles_propios.iloc[indice,:].nombre_hotel\n",
    "    fecha_reserva=df_precios_nulos_hoteles_propios.iloc[indice,:].fecha_reserva\n",
    "    df_precios_nulos_hoteles_propios.iloc[indice,3] = df[df.nombre_hotel == nombre_hotel][df[df.nombre_hotel == nombre_hotel].fecha_reserva == fecha_reserva].precio_noche.mean().round(2)\n",
    "df_precios_nulos_hoteles_propios"
   ]
  },
  {
   "cell_type": "code",
   "execution_count": 67,
   "metadata": {},
   "outputs": [
    {
     "data": {
      "text/plain": [
       "Index([  351,   411,   487,   884,  1623,  2020,  2459,  2543,  3035,  3910,\n",
       "        4123,  4604,  4950,  5030,  5584,  5697,  5970,  6179,  6315,  6836,\n",
       "        7103,  7698,  8290,  8735,  8788,  9022,  9132,  9205,  9263,  9365,\n",
       "        9367,  9420,  9548,  9672,  9753,  9943,  9972, 10057, 10144, 10385,\n",
       "       10691, 11087, 11366, 11848, 12159, 12211, 12540, 12837, 13778, 14293,\n",
       "       14361, 14448],\n",
       "      dtype='int64')"
      ]
     },
     "execution_count": 67,
     "metadata": {},
     "output_type": "execute_result"
    }
   ],
   "source": [
    "#Indice de los que tienen precios nulos y son hoteles propios\n",
    "lista_indices_precios_nulos_hoteles_propios = df_no_competencia[df_no_competencia.precio_noche.isnull()].index\n",
    "lista_indices_precios_nulos_hoteles_propios"
   ]
  },
  {
   "cell_type": "code",
   "execution_count": 68,
   "metadata": {},
   "outputs": [
    {
     "data": {
      "text/plain": [
       "Index(['id_reserva', 'id_cliente', 'nombre', 'apellido', 'mail', 'competencia',\n",
       "       'fecha_reserva', 'inicio_estancia', 'final_estancia', 'id_hotel',\n",
       "       'precio_noche', 'nombre_hotel', 'estrellas', 'ciudad',\n",
       "       'nombre_apellido', 'id_nombre_apellido', 'id_cliente_unico',\n",
       "       'id_nombre_hotel', 'valoracion'],\n",
       "      dtype='object')"
      ]
     },
     "execution_count": 68,
     "metadata": {},
     "output_type": "execute_result"
    }
   ],
   "source": [
    "df.columns"
   ]
  },
  {
   "cell_type": "code",
   "execution_count": 69,
   "metadata": {},
   "outputs": [],
   "source": [
    "#Sustituyo los precios que falta en el DF original teniendo en cuenta los precios medios calculados:\n",
    "for indice in lista_indices_precios_nulos_hoteles_propios:\n",
    "    fila = df.iloc[indice,:]\n",
    "    nombre_hotel = fila['nombre_hotel']\n",
    "    fecha_reserva = fila['fecha_reserva']\n",
    "    precio_medio = df_precios_nulos_hoteles_propios[(df_precios_nulos_hoteles_propios['nombre_hotel'] == nombre_hotel) & (df_precios_nulos_hoteles_propios['fecha_reserva'] == fecha_reserva)].precio_noche_medio\n",
    "    df.iloc[indice,10]=precio_medio\n"
   ]
  },
  {
   "cell_type": "markdown",
   "metadata": {},
   "source": [
    "## Relleno los datos faltantes en el DF de la competencia conseguidas con el escrapeo"
   ]
  },
  {
   "cell_type": "code",
   "execution_count": 70,
   "metadata": {},
   "outputs": [
    {
     "data": {
      "text/plain": [
       "Index(['nombre_hotel', 'rating', 'precio_noche', 'fecha_escrapeo', 'ciudad'], dtype='object')"
      ]
     },
     "execution_count": 70,
     "metadata": {},
     "output_type": "execute_result"
    }
   ],
   "source": [
    "FICHERO_ESCRAPEADO= os.getenv(\"ARCHIVO_GUARDAR_ESCRAPEO\")\n",
    "df_escrapeo = pd.read_pickle(FICHERO_ESCRAPEADO)\n",
    "df_escrapeo.columns"
   ]
  },
  {
   "cell_type": "code",
   "execution_count": 71,
   "metadata": {},
   "outputs": [
    {
     "data": {
      "text/plain": [
       "{'Novotel Madrid Center': 113,\n",
       " 'ibis budget Madrid Calle 30': 194,\n",
       " 'ibis Madrid Centro las Ventas': 131,\n",
       " 'ibis budget Madrid Centro las Ventas': 114,\n",
       " 'Novotel Madrid City Las Ventas': 103,\n",
       " 'ibis Madrid Calle Alcalá': 181,\n",
       " 'ibis budget Madrid Vallecas': 128,\n",
       " 'Pullman Madrid Airport & Feria': 186,\n",
       " 'Novotel Madrid Campo de las Naciones': 135,\n",
       " 'ibis Madrid Aeropuerto Barajas': 117}"
      ]
     },
     "execution_count": 71,
     "metadata": {},
     "output_type": "execute_result"
    }
   ],
   "source": [
    "values = list(df_competencia.id_hotel.drop_duplicates())\n",
    "keys = list(df_escrapeo.nombre_hotel.unique())\n",
    "\n",
    "#Creo un diccionario:\n",
    "diccionario_idhotel_nombrehotel = dict(zip(keys,values))\n",
    "diccionario_idhotel_nombrehotel"
   ]
  },
  {
   "cell_type": "code",
   "execution_count": 72,
   "metadata": {},
   "outputs": [
    {
     "data": {
      "application/vnd.microsoft.datawrangler.viewer.v0+json": {
       "columns": [
        {
         "name": "index",
         "rawType": "int64",
         "type": "integer"
        },
        {
         "name": "id_hotel",
         "rawType": "int64",
         "type": "integer"
        },
        {
         "name": "nombre_hotel",
         "rawType": "object",
         "type": "string"
        },
        {
         "name": "valoracion",
         "rawType": "float64",
         "type": "float"
        },
        {
         "name": "precio_noche",
         "rawType": "object",
         "type": "string"
        },
        {
         "name": "fecha_reserva",
         "rawType": "object",
         "type": "unknown"
        },
        {
         "name": "ciudad",
         "rawType": "object",
         "type": "string"
        }
       ],
       "conversionMethod": "pd.DataFrame",
       "ref": "fd7abdd9-1a73-4c0b-bf4a-bf285e54d67b",
       "rows": [
        [
         "0",
         "113",
         "Novotel Madrid Center",
         "4.6",
         "268",
         "2025-02-25",
         "Madrid"
        ],
        [
         "1",
         "194",
         "ibis budget Madrid Calle 30",
         "4.4",
         "110",
         "2025-02-25",
         "Madrid"
        ],
        [
         "2",
         "131",
         "ibis Madrid Centro las Ventas",
         "4.5",
         "181",
         "2025-02-25",
         "Madrid"
        ],
        [
         "3",
         "114",
         "ibis budget Madrid Centro las Ventas",
         "4.3",
         "119",
         "2025-02-25",
         "Madrid"
        ],
        [
         "4",
         "103",
         "Novotel Madrid City Las Ventas",
         "4.6",
         "182",
         "2025-02-25",
         "Madrid"
        ],
        [
         "5",
         "181",
         "ibis Madrid Calle Alcalá",
         "4.5",
         "133",
         "2025-02-25",
         "Madrid"
        ],
        [
         "6",
         "128",
         "ibis budget Madrid Vallecas",
         "4.3",
         "107",
         "2025-02-25",
         "Madrid"
        ],
        [
         "7",
         "186",
         "Pullman Madrid Airport & Feria",
         "4.2",
         "143",
         "2025-02-25",
         "Madrid"
        ],
        [
         "8",
         "135",
         "Novotel Madrid Campo de las Naciones",
         "4.5",
         "162",
         "2025-02-25",
         "Madrid"
        ],
        [
         "9",
         "117",
         "ibis Madrid Aeropuerto Barajas",
         "4.4",
         "129",
         "2025-02-25",
         "Madrid"
        ]
       ],
       "shape": {
        "columns": 6,
        "rows": 10
       }
      },
      "text/html": [
       "<div>\n",
       "<style scoped>\n",
       "    .dataframe tbody tr th:only-of-type {\n",
       "        vertical-align: middle;\n",
       "    }\n",
       "\n",
       "    .dataframe tbody tr th {\n",
       "        vertical-align: top;\n",
       "    }\n",
       "\n",
       "    .dataframe thead th {\n",
       "        text-align: right;\n",
       "    }\n",
       "</style>\n",
       "<table border=\"1\" class=\"dataframe\">\n",
       "  <thead>\n",
       "    <tr style=\"text-align: right;\">\n",
       "      <th></th>\n",
       "      <th>id_hotel</th>\n",
       "      <th>nombre_hotel</th>\n",
       "      <th>valoracion</th>\n",
       "      <th>precio_noche</th>\n",
       "      <th>fecha_reserva</th>\n",
       "      <th>ciudad</th>\n",
       "    </tr>\n",
       "  </thead>\n",
       "  <tbody>\n",
       "    <tr>\n",
       "      <th>0</th>\n",
       "      <td>113</td>\n",
       "      <td>Novotel Madrid Center</td>\n",
       "      <td>4.6</td>\n",
       "      <td>268</td>\n",
       "      <td>2025-02-25</td>\n",
       "      <td>Madrid</td>\n",
       "    </tr>\n",
       "    <tr>\n",
       "      <th>1</th>\n",
       "      <td>194</td>\n",
       "      <td>ibis budget Madrid Calle 30</td>\n",
       "      <td>4.4</td>\n",
       "      <td>110</td>\n",
       "      <td>2025-02-25</td>\n",
       "      <td>Madrid</td>\n",
       "    </tr>\n",
       "    <tr>\n",
       "      <th>2</th>\n",
       "      <td>131</td>\n",
       "      <td>ibis Madrid Centro las Ventas</td>\n",
       "      <td>4.5</td>\n",
       "      <td>181</td>\n",
       "      <td>2025-02-25</td>\n",
       "      <td>Madrid</td>\n",
       "    </tr>\n",
       "    <tr>\n",
       "      <th>3</th>\n",
       "      <td>114</td>\n",
       "      <td>ibis budget Madrid Centro las Ventas</td>\n",
       "      <td>4.3</td>\n",
       "      <td>119</td>\n",
       "      <td>2025-02-25</td>\n",
       "      <td>Madrid</td>\n",
       "    </tr>\n",
       "    <tr>\n",
       "      <th>4</th>\n",
       "      <td>103</td>\n",
       "      <td>Novotel Madrid City Las Ventas</td>\n",
       "      <td>4.6</td>\n",
       "      <td>182</td>\n",
       "      <td>2025-02-25</td>\n",
       "      <td>Madrid</td>\n",
       "    </tr>\n",
       "    <tr>\n",
       "      <th>5</th>\n",
       "      <td>181</td>\n",
       "      <td>ibis Madrid Calle Alcalá</td>\n",
       "      <td>4.5</td>\n",
       "      <td>133</td>\n",
       "      <td>2025-02-25</td>\n",
       "      <td>Madrid</td>\n",
       "    </tr>\n",
       "    <tr>\n",
       "      <th>6</th>\n",
       "      <td>128</td>\n",
       "      <td>ibis budget Madrid Vallecas</td>\n",
       "      <td>4.3</td>\n",
       "      <td>107</td>\n",
       "      <td>2025-02-25</td>\n",
       "      <td>Madrid</td>\n",
       "    </tr>\n",
       "    <tr>\n",
       "      <th>7</th>\n",
       "      <td>186</td>\n",
       "      <td>Pullman Madrid Airport &amp; Feria</td>\n",
       "      <td>4.2</td>\n",
       "      <td>143</td>\n",
       "      <td>2025-02-25</td>\n",
       "      <td>Madrid</td>\n",
       "    </tr>\n",
       "    <tr>\n",
       "      <th>8</th>\n",
       "      <td>135</td>\n",
       "      <td>Novotel Madrid Campo de las Naciones</td>\n",
       "      <td>4.5</td>\n",
       "      <td>162</td>\n",
       "      <td>2025-02-25</td>\n",
       "      <td>Madrid</td>\n",
       "    </tr>\n",
       "    <tr>\n",
       "      <th>9</th>\n",
       "      <td>117</td>\n",
       "      <td>ibis Madrid Aeropuerto Barajas</td>\n",
       "      <td>4.4</td>\n",
       "      <td>129</td>\n",
       "      <td>2025-02-25</td>\n",
       "      <td>Madrid</td>\n",
       "    </tr>\n",
       "  </tbody>\n",
       "</table>\n",
       "</div>"
      ],
      "text/plain": [
       "   id_hotel                          nombre_hotel  valoracion precio_noche  \\\n",
       "0       113                 Novotel Madrid Center         4.6          268   \n",
       "1       194           ibis budget Madrid Calle 30         4.4          110   \n",
       "2       131         ibis Madrid Centro las Ventas         4.5          181   \n",
       "3       114  ibis budget Madrid Centro las Ventas         4.3          119   \n",
       "4       103        Novotel Madrid City Las Ventas         4.6          182   \n",
       "5       181              ibis Madrid Calle Alcalá         4.5          133   \n",
       "6       128           ibis budget Madrid Vallecas         4.3          107   \n",
       "7       186        Pullman Madrid Airport & Feria         4.2          143   \n",
       "8       135  Novotel Madrid Campo de las Naciones         4.5          162   \n",
       "9       117        ibis Madrid Aeropuerto Barajas         4.4          129   \n",
       "\n",
       "  fecha_reserva  ciudad  \n",
       "0    2025-02-25  Madrid  \n",
       "1    2025-02-25  Madrid  \n",
       "2    2025-02-25  Madrid  \n",
       "3    2025-02-25  Madrid  \n",
       "4    2025-02-25  Madrid  \n",
       "5    2025-02-25  Madrid  \n",
       "6    2025-02-25  Madrid  \n",
       "7    2025-02-25  Madrid  \n",
       "8    2025-02-25  Madrid  \n",
       "9    2025-02-25  Madrid  "
      ]
     },
     "execution_count": 72,
     "metadata": {},
     "output_type": "execute_result"
    }
   ],
   "source": [
    "df_escrapeo_completo = []\n",
    "for index,row in df_escrapeo.iterrows():\n",
    "    nombre_hotel =row[\"nombre_hotel\"]\n",
    "    id_hotel = diccionario_idhotel_nombrehotel.get(nombre_hotel)\n",
    "    valoracion = row[\"rating\"]\n",
    "    precio_noche = row[\"precio_noche\"]\n",
    "    fecha_escrapeo= row[\"fecha_escrapeo\"]\n",
    "    ciudad = row[\"ciudad\"]\n",
    "    df_escrapeo_completo.append([id_hotel,nombre_hotel,valoracion,precio_noche,fecha_escrapeo,ciudad])\n",
    "df_escrapeo_completo= pd.DataFrame(df_escrapeo_completo, columns=['id_hotel','nombre_hotel', 'valoracion', 'precio_noche', 'fecha_reserva', 'ciudad'])\n",
    "df_escrapeo_completo"
   ]
  },
  {
   "cell_type": "code",
   "execution_count": 73,
   "metadata": {},
   "outputs": [
    {
     "name": "stderr",
     "output_type": "stream",
     "text": [
      "C:\\Users\\van-2\\AppData\\Local\\Temp\\ipykernel_1284\\750668825.py:5: FutureWarning: Setting an item of incompatible dtype is deprecated and will raise an error in a future version of pandas. Value '['268' '110' '181' ... '143' '119' '110']' has dtype incompatible with float64, please explicitly cast to a compatible dtype first.\n",
      "  df.loc[df['competencia'], columna] = df['id_hotel'].map(diccionario_idhotel_columna)\n"
     ]
    },
    {
     "data": {
      "application/vnd.microsoft.datawrangler.viewer.v0+json": {
       "columns": [
        {
         "name": "index",
         "rawType": "int64",
         "type": "integer"
        },
        {
         "name": "id_reserva",
         "rawType": "object",
         "type": "string"
        },
        {
         "name": "id_cliente",
         "rawType": "object",
         "type": "string"
        },
        {
         "name": "nombre",
         "rawType": "object",
         "type": "string"
        },
        {
         "name": "apellido",
         "rawType": "object",
         "type": "string"
        },
        {
         "name": "mail",
         "rawType": "object",
         "type": "string"
        },
        {
         "name": "competencia",
         "rawType": "bool",
         "type": "boolean"
        },
        {
         "name": "fecha_reserva",
         "rawType": "datetime64[ns]",
         "type": "datetime"
        },
        {
         "name": "inicio_estancia",
         "rawType": "datetime64[ns]",
         "type": "datetime"
        },
        {
         "name": "final_estancia",
         "rawType": "datetime64[ns]",
         "type": "datetime"
        },
        {
         "name": "id_hotel",
         "rawType": "int64",
         "type": "integer"
        },
        {
         "name": "precio_noche",
         "rawType": "object",
         "type": "unknown"
        },
        {
         "name": "nombre_hotel",
         "rawType": "object",
         "type": "string"
        },
        {
         "name": "estrellas",
         "rawType": "Int64",
         "type": "integer"
        },
        {
         "name": "ciudad",
         "rawType": "object",
         "type": "string"
        },
        {
         "name": "nombre_apellido",
         "rawType": "object",
         "type": "string"
        },
        {
         "name": "id_nombre_apellido",
         "rawType": "object",
         "type": "string"
        },
        {
         "name": "id_cliente_unico",
         "rawType": "object",
         "type": "string"
        },
        {
         "name": "id_nombre_hotel",
         "rawType": "object",
         "type": "string"
        },
        {
         "name": "valoracion",
         "rawType": "float64",
         "type": "float"
        }
       ],
       "conversionMethod": "pd.DataFrame",
       "ref": "66df9683-cc3b-44ca-a67f-844658dd59a7",
       "rows": [
        [
         "0",
         "5256cc90-139b-43d2-8ec5-412495d751cf",
         "346f2a77-33f4-4b2d-82f3-e8501e21b28d",
         "Feliciana",
         "Cantón",
         "feliciana.cantón@example.com",
         "True",
         "2025-02-25 00:00:00",
         "2025-03-01 00:00:00",
         "2025-03-02 00:00:00",
         "113",
         "268",
         "Novotel Madrid Center",
         null,
         "Madrid",
         "feliciana.cantón",
         "346f2a77-33f4-4b2d-82f3-e8501e21b28d|feliciana.cantón",
         "C0fc",
         "113|",
         "4.6"
        ],
        [
         "1",
         "84fd6209-bd8d-4a92-bfe6-c68ee2c49271",
         "346f2a77-33f4-4b2d-82f3-e8501e21b28d",
         "Leonardo",
         "Hierro",
         "leonardo.hierro@example.com",
         "True",
         "2025-02-25 00:00:00",
         "2025-03-01 00:00:00",
         "2025-03-02 00:00:00",
         "194",
         "110",
         "ibis budget Madrid Calle 30",
         null,
         "Madrid",
         "leonardo.hierro",
         "346f2a77-33f4-4b2d-82f3-e8501e21b28d|leonardo.hierro",
         "C1lh",
         "194|",
         "4.4"
        ],
        [
         "2",
         "40c4cb55-d1f5-407b-832f-4756b8ff77b4",
         "6ec4d7d2-e382-47cc-94f6-c647577d4035",
         "Maite",
         "Calatayud",
         "maite.calatayud@example.com",
         "False",
         "2025-02-09 00:00:00",
         "2025-03-01 00:00:00",
         "2025-03-02 00:00:00",
         "14",
         "119.96",
         "Hotel Monte Verde",
         "1",
         "Madrid",
         "maite.calatayud",
         "6ec4d7d2-e382-47cc-94f6-c647577d4035|maite.calatayud",
         "C2mc",
         "14|Hotel Monte Verde",
         "3.1"
        ],
        [
         "3",
         "f2ce8df5-7844-43e1-8c0f-97ce7a208f21",
         "aed17fe8-eb18-4f69-bf08-df1afdc339c3",
         "Tecla",
         "Bonet",
         "tecla.bonet@example.com",
         "False",
         "2025-02-08 00:00:00",
         "2025-03-01 00:00:00",
         "2025-03-02 00:00:00",
         "38",
         "211.53",
         "Hotel Brisas del Mar",
         "5",
         "Madrid",
         "tecla.bonet",
         "aed17fe8-eb18-4f69-bf08-df1afdc339c3|tecla.bonet",
         "C3tb",
         "38|Hotel Brisas del Mar",
         "3.1"
        ],
        [
         "4",
         "57d4515a-447d-4067-afcb-9bdcf4e4e915",
         "710a2fbb-264f-426a-aa66-f8fffd146a2d",
         "Amílcar",
         "Andrés",
         "amílcar.andrés@example.com",
         "False",
         "2025-02-02 00:00:00",
         "2025-03-01 00:00:00",
         "2025-03-02 00:00:00",
         "35",
         "378.37",
         "Hotel Camino del Sol",
         "1",
         "Madrid",
         "amílcar.andrés",
         "710a2fbb-264f-426a-aa66-f8fffd146a2d|amílcar.andrés",
         "C4aa",
         "35|Hotel Camino del Sol",
         "3.1"
        ]
       ],
       "shape": {
        "columns": 19,
        "rows": 5
       }
      },
      "text/html": [
       "<div>\n",
       "<style scoped>\n",
       "    .dataframe tbody tr th:only-of-type {\n",
       "        vertical-align: middle;\n",
       "    }\n",
       "\n",
       "    .dataframe tbody tr th {\n",
       "        vertical-align: top;\n",
       "    }\n",
       "\n",
       "    .dataframe thead th {\n",
       "        text-align: right;\n",
       "    }\n",
       "</style>\n",
       "<table border=\"1\" class=\"dataframe\">\n",
       "  <thead>\n",
       "    <tr style=\"text-align: right;\">\n",
       "      <th></th>\n",
       "      <th>id_reserva</th>\n",
       "      <th>id_cliente</th>\n",
       "      <th>nombre</th>\n",
       "      <th>apellido</th>\n",
       "      <th>mail</th>\n",
       "      <th>competencia</th>\n",
       "      <th>fecha_reserva</th>\n",
       "      <th>inicio_estancia</th>\n",
       "      <th>final_estancia</th>\n",
       "      <th>id_hotel</th>\n",
       "      <th>precio_noche</th>\n",
       "      <th>nombre_hotel</th>\n",
       "      <th>estrellas</th>\n",
       "      <th>ciudad</th>\n",
       "      <th>nombre_apellido</th>\n",
       "      <th>id_nombre_apellido</th>\n",
       "      <th>id_cliente_unico</th>\n",
       "      <th>id_nombre_hotel</th>\n",
       "      <th>valoracion</th>\n",
       "    </tr>\n",
       "  </thead>\n",
       "  <tbody>\n",
       "    <tr>\n",
       "      <th>0</th>\n",
       "      <td>5256cc90-139b-43d2-8ec5-412495d751cf</td>\n",
       "      <td>346f2a77-33f4-4b2d-82f3-e8501e21b28d</td>\n",
       "      <td>Feliciana</td>\n",
       "      <td>Cantón</td>\n",
       "      <td>feliciana.cantón@example.com</td>\n",
       "      <td>True</td>\n",
       "      <td>2025-02-25</td>\n",
       "      <td>2025-03-01</td>\n",
       "      <td>2025-03-02</td>\n",
       "      <td>113</td>\n",
       "      <td>268</td>\n",
       "      <td>Novotel Madrid Center</td>\n",
       "      <td>&lt;NA&gt;</td>\n",
       "      <td>Madrid</td>\n",
       "      <td>feliciana.cantón</td>\n",
       "      <td>346f2a77-33f4-4b2d-82f3-e8501e21b28d|feliciana...</td>\n",
       "      <td>C0fc</td>\n",
       "      <td>113|</td>\n",
       "      <td>4.6</td>\n",
       "    </tr>\n",
       "    <tr>\n",
       "      <th>1</th>\n",
       "      <td>84fd6209-bd8d-4a92-bfe6-c68ee2c49271</td>\n",
       "      <td>346f2a77-33f4-4b2d-82f3-e8501e21b28d</td>\n",
       "      <td>Leonardo</td>\n",
       "      <td>Hierro</td>\n",
       "      <td>leonardo.hierro@example.com</td>\n",
       "      <td>True</td>\n",
       "      <td>2025-02-25</td>\n",
       "      <td>2025-03-01</td>\n",
       "      <td>2025-03-02</td>\n",
       "      <td>194</td>\n",
       "      <td>110</td>\n",
       "      <td>ibis budget Madrid Calle 30</td>\n",
       "      <td>&lt;NA&gt;</td>\n",
       "      <td>Madrid</td>\n",
       "      <td>leonardo.hierro</td>\n",
       "      <td>346f2a77-33f4-4b2d-82f3-e8501e21b28d|leonardo....</td>\n",
       "      <td>C1lh</td>\n",
       "      <td>194|</td>\n",
       "      <td>4.4</td>\n",
       "    </tr>\n",
       "    <tr>\n",
       "      <th>2</th>\n",
       "      <td>40c4cb55-d1f5-407b-832f-4756b8ff77b4</td>\n",
       "      <td>6ec4d7d2-e382-47cc-94f6-c647577d4035</td>\n",
       "      <td>Maite</td>\n",
       "      <td>Calatayud</td>\n",
       "      <td>maite.calatayud@example.com</td>\n",
       "      <td>False</td>\n",
       "      <td>2025-02-09</td>\n",
       "      <td>2025-03-01</td>\n",
       "      <td>2025-03-02</td>\n",
       "      <td>14</td>\n",
       "      <td>119.96</td>\n",
       "      <td>Hotel Monte Verde</td>\n",
       "      <td>1</td>\n",
       "      <td>Madrid</td>\n",
       "      <td>maite.calatayud</td>\n",
       "      <td>6ec4d7d2-e382-47cc-94f6-c647577d4035|maite.cal...</td>\n",
       "      <td>C2mc</td>\n",
       "      <td>14|Hotel Monte Verde</td>\n",
       "      <td>3.1</td>\n",
       "    </tr>\n",
       "    <tr>\n",
       "      <th>3</th>\n",
       "      <td>f2ce8df5-7844-43e1-8c0f-97ce7a208f21</td>\n",
       "      <td>aed17fe8-eb18-4f69-bf08-df1afdc339c3</td>\n",
       "      <td>Tecla</td>\n",
       "      <td>Bonet</td>\n",
       "      <td>tecla.bonet@example.com</td>\n",
       "      <td>False</td>\n",
       "      <td>2025-02-08</td>\n",
       "      <td>2025-03-01</td>\n",
       "      <td>2025-03-02</td>\n",
       "      <td>38</td>\n",
       "      <td>211.53</td>\n",
       "      <td>Hotel Brisas del Mar</td>\n",
       "      <td>5</td>\n",
       "      <td>Madrid</td>\n",
       "      <td>tecla.bonet</td>\n",
       "      <td>aed17fe8-eb18-4f69-bf08-df1afdc339c3|tecla.bonet</td>\n",
       "      <td>C3tb</td>\n",
       "      <td>38|Hotel Brisas del Mar</td>\n",
       "      <td>3.1</td>\n",
       "    </tr>\n",
       "    <tr>\n",
       "      <th>4</th>\n",
       "      <td>57d4515a-447d-4067-afcb-9bdcf4e4e915</td>\n",
       "      <td>710a2fbb-264f-426a-aa66-f8fffd146a2d</td>\n",
       "      <td>Amílcar</td>\n",
       "      <td>Andrés</td>\n",
       "      <td>amílcar.andrés@example.com</td>\n",
       "      <td>False</td>\n",
       "      <td>2025-02-02</td>\n",
       "      <td>2025-03-01</td>\n",
       "      <td>2025-03-02</td>\n",
       "      <td>35</td>\n",
       "      <td>378.37</td>\n",
       "      <td>Hotel Camino del Sol</td>\n",
       "      <td>1</td>\n",
       "      <td>Madrid</td>\n",
       "      <td>amílcar.andrés</td>\n",
       "      <td>710a2fbb-264f-426a-aa66-f8fffd146a2d|amílcar.a...</td>\n",
       "      <td>C4aa</td>\n",
       "      <td>35|Hotel Camino del Sol</td>\n",
       "      <td>3.1</td>\n",
       "    </tr>\n",
       "  </tbody>\n",
       "</table>\n",
       "</div>"
      ],
      "text/plain": [
       "                             id_reserva                            id_cliente  \\\n",
       "0  5256cc90-139b-43d2-8ec5-412495d751cf  346f2a77-33f4-4b2d-82f3-e8501e21b28d   \n",
       "1  84fd6209-bd8d-4a92-bfe6-c68ee2c49271  346f2a77-33f4-4b2d-82f3-e8501e21b28d   \n",
       "2  40c4cb55-d1f5-407b-832f-4756b8ff77b4  6ec4d7d2-e382-47cc-94f6-c647577d4035   \n",
       "3  f2ce8df5-7844-43e1-8c0f-97ce7a208f21  aed17fe8-eb18-4f69-bf08-df1afdc339c3   \n",
       "4  57d4515a-447d-4067-afcb-9bdcf4e4e915  710a2fbb-264f-426a-aa66-f8fffd146a2d   \n",
       "\n",
       "      nombre   apellido                          mail  competencia  \\\n",
       "0  Feliciana     Cantón  feliciana.cantón@example.com         True   \n",
       "1   Leonardo     Hierro   leonardo.hierro@example.com         True   \n",
       "2      Maite  Calatayud   maite.calatayud@example.com        False   \n",
       "3      Tecla      Bonet       tecla.bonet@example.com        False   \n",
       "4    Amílcar     Andrés    amílcar.andrés@example.com        False   \n",
       "\n",
       "  fecha_reserva inicio_estancia final_estancia  id_hotel precio_noche  \\\n",
       "0    2025-02-25      2025-03-01     2025-03-02       113          268   \n",
       "1    2025-02-25      2025-03-01     2025-03-02       194          110   \n",
       "2    2025-02-09      2025-03-01     2025-03-02        14       119.96   \n",
       "3    2025-02-08      2025-03-01     2025-03-02        38       211.53   \n",
       "4    2025-02-02      2025-03-01     2025-03-02        35       378.37   \n",
       "\n",
       "                  nombre_hotel  estrellas  ciudad   nombre_apellido  \\\n",
       "0        Novotel Madrid Center       <NA>  Madrid  feliciana.cantón   \n",
       "1  ibis budget Madrid Calle 30       <NA>  Madrid   leonardo.hierro   \n",
       "2            Hotel Monte Verde          1  Madrid   maite.calatayud   \n",
       "3         Hotel Brisas del Mar          5  Madrid       tecla.bonet   \n",
       "4         Hotel Camino del Sol          1  Madrid    amílcar.andrés   \n",
       "\n",
       "                                  id_nombre_apellido id_cliente_unico  \\\n",
       "0  346f2a77-33f4-4b2d-82f3-e8501e21b28d|feliciana...             C0fc   \n",
       "1  346f2a77-33f4-4b2d-82f3-e8501e21b28d|leonardo....             C1lh   \n",
       "2  6ec4d7d2-e382-47cc-94f6-c647577d4035|maite.cal...             C2mc   \n",
       "3   aed17fe8-eb18-4f69-bf08-df1afdc339c3|tecla.bonet             C3tb   \n",
       "4  710a2fbb-264f-426a-aa66-f8fffd146a2d|amílcar.a...             C4aa   \n",
       "\n",
       "           id_nombre_hotel  valoracion  \n",
       "0                     113|         4.6  \n",
       "1                     194|         4.4  \n",
       "2     14|Hotel Monte Verde         3.1  \n",
       "3  38|Hotel Brisas del Mar         3.1  \n",
       "4  35|Hotel Camino del Sol         3.1  "
      ]
     },
     "execution_count": 73,
     "metadata": {},
     "output_type": "execute_result"
    }
   ],
   "source": [
    "for columna in df_escrapeo_completo.columns[1:]:\n",
    "    keys = list(df_escrapeo_completo.id_hotel.drop_duplicates())\n",
    "    values = list(df_escrapeo_completo[columna].values)\n",
    "    diccionario_idhotel_columna = dict(zip(keys,values))\n",
    "    df.loc[df['competencia'], columna] = df['id_hotel'].map(diccionario_idhotel_columna)\n",
    "df.head()\n"
   ]
  },
  {
   "cell_type": "markdown",
   "metadata": {},
   "source": [
    "## Elimino las columnas que no necesito:"
   ]
  },
  {
   "cell_type": "code",
   "execution_count": 74,
   "metadata": {},
   "outputs": [
    {
     "data": {
      "text/plain": [
       "Index(['id_reserva', 'id_cliente', 'nombre', 'apellido', 'mail', 'competencia',\n",
       "       'fecha_reserva', 'inicio_estancia', 'final_estancia', 'id_hotel',\n",
       "       'precio_noche', 'nombre_hotel', 'estrellas', 'ciudad',\n",
       "       'nombre_apellido', 'id_nombre_apellido', 'id_cliente_unico',\n",
       "       'id_nombre_hotel', 'valoracion'],\n",
       "      dtype='object')"
      ]
     },
     "execution_count": 74,
     "metadata": {},
     "output_type": "execute_result"
    }
   ],
   "source": [
    "df.columns"
   ]
  },
  {
   "cell_type": "code",
   "execution_count": 75,
   "metadata": {},
   "outputs": [],
   "source": [
    "df.drop(columns=['id_cliente', 'estrellas','id_nombre_apellido','nombre_apellido', 'id_nombre_hotel'],inplace=True)\n"
   ]
  },
  {
   "cell_type": "code",
   "execution_count": 76,
   "metadata": {},
   "outputs": [
    {
     "name": "stdout",
     "output_type": "stream",
     "text": [
      "<class 'pandas.core.frame.DataFrame'>\n",
      "Index: 15000 entries, 0 to 14999\n",
      "Data columns (total 14 columns):\n",
      " #   Column            Non-Null Count  Dtype         \n",
      "---  ------            --------------  -----         \n",
      " 0   id_reserva        15000 non-null  object        \n",
      " 1   nombre            15000 non-null  object        \n",
      " 2   apellido          15000 non-null  object        \n",
      " 3   mail              15000 non-null  object        \n",
      " 4   competencia       15000 non-null  bool          \n",
      " 5   fecha_reserva     15000 non-null  datetime64[ns]\n",
      " 6   inicio_estancia   15000 non-null  datetime64[ns]\n",
      " 7   final_estancia    15000 non-null  datetime64[ns]\n",
      " 8   id_hotel          15000 non-null  int64         \n",
      " 9   precio_noche      15000 non-null  object        \n",
      " 10  nombre_hotel      15000 non-null  object        \n",
      " 11  ciudad            15000 non-null  object        \n",
      " 12  id_cliente_unico  15000 non-null  object        \n",
      " 13  valoracion        15000 non-null  float64       \n",
      "dtypes: bool(1), datetime64[ns](3), float64(1), int64(1), object(8)\n",
      "memory usage: 2.1+ MB\n"
     ]
    }
   ],
   "source": [
    "df.info()"
   ]
  },
  {
   "cell_type": "code",
   "execution_count": 77,
   "metadata": {},
   "outputs": [],
   "source": [
    "df_limpio = df.to_pickle(ARCHIVO_SALIDA)"
   ]
  }
 ],
 "metadata": {
  "kernelspec": {
   "display_name": "venv",
   "language": "python",
   "name": "python3"
  },
  "language_info": {
   "codemirror_mode": {
    "name": "ipython",
    "version": 3
   },
   "file_extension": ".py",
   "mimetype": "text/x-python",
   "name": "python",
   "nbconvert_exporter": "python",
   "pygments_lexer": "ipython3",
   "version": "3.12.5"
  }
 },
 "nbformat": 4,
 "nbformat_minor": 2
}
