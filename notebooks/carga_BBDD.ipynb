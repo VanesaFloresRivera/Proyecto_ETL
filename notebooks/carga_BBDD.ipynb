{
 "cells": [
  {
   "cell_type": "code",
   "execution_count": 17,
   "metadata": {},
   "outputs": [],
   "source": [
    "import pandas as pd\n",
    "import numpy as np\n",
    "import psycopg2\n",
    "import os\n",
    "from dotenv import load_dotenv\n",
    "import sys #permite navegar por el sistema\n",
    "sys.path.append(\"../\") #solo aplica al soporte\n",
    "import src.soporte_api as sa\n",
    "import os\n",
    "from dotenv import load_dotenv"
   ]
  },
  {
   "cell_type": "code",
   "execution_count": 18,
   "metadata": {},
   "outputs": [
    {
     "data": {
      "text/plain": [
       "True"
      ]
     },
     "execution_count": 18,
     "metadata": {},
     "output_type": "execute_result"
    }
   ],
   "source": [
    "load_dotenv()"
   ]
  },
  {
   "cell_type": "code",
   "execution_count": null,
   "metadata": {},
   "outputs": [],
   "source": [
    "#Llamamos a la variable de entorno\n",
    "DB_NAME = os.getenv(\"DB_NAME\")\n",
    "DB_USER=os.getenv(\"DB_USER\")\n",
    "DB_PASSWORD = os.getenv(\"DB_PASSWORD\")\n",
    "DB_HOST= os.getenv(\"DB_HOST\")\n",
    "DB_PORT = os.getenv(\"DB_PORT\")"
   ]
  },
  {
   "cell_type": "code",
   "execution_count": 20,
   "metadata": {},
   "outputs": [],
   "source": [
    "#Creamos la conexión:\n",
    "conn = psycopg2.connect(\n",
    "    dbname=DB_NAME,\n",
    "    user=DB_USER,\n",
    "    password=DB_PASSWORD,\n",
    "    host=DB_HOST,\n",
    "    port=DB_PORT\n",
    ")\n",
    "\n",
    "#Creamos el cursor:\n",
    "cur= conn.cursor()"
   ]
  },
  {
   "cell_type": "code",
   "execution_count": 21,
   "metadata": {},
   "outputs": [
    {
     "data": {
      "text/plain": [
       "('PostgreSQL 16.4, compiled by Visual C++ build 1940, 64-bit',)"
      ]
     },
     "execution_count": 21,
     "metadata": {},
     "output_type": "execute_result"
    }
   ],
   "source": [
    "#Comprobamos que la conexión está bien realizada:\n",
    "cur.execute(\"SELECT version();\")\n",
    "cur.fetchone() #para que muestre el resultado de la query anterior"
   ]
  },
  {
   "cell_type": "markdown",
   "metadata": {},
   "source": [
    "# Creación de los datos para las tablas:"
   ]
  },
  {
   "cell_type": "code",
   "execution_count": 22,
   "metadata": {},
   "outputs": [
    {
     "data": {
      "application/vnd.microsoft.datawrangler.viewer.v0+json": {
       "columns": [
        {
         "name": "index",
         "rawType": "int64",
         "type": "integer"
        },
        {
         "name": "id_reserva",
         "rawType": "object",
         "type": "string"
        },
        {
         "name": "nombre",
         "rawType": "object",
         "type": "string"
        },
        {
         "name": "apellido",
         "rawType": "object",
         "type": "string"
        },
        {
         "name": "mail",
         "rawType": "object",
         "type": "string"
        },
        {
         "name": "competencia",
         "rawType": "bool",
         "type": "boolean"
        },
        {
         "name": "fecha_reserva",
         "rawType": "datetime64[ns]",
         "type": "datetime"
        },
        {
         "name": "inicio_estancia",
         "rawType": "datetime64[ns]",
         "type": "datetime"
        },
        {
         "name": "final_estancia",
         "rawType": "datetime64[ns]",
         "type": "datetime"
        },
        {
         "name": "id_hotel",
         "rawType": "int64",
         "type": "integer"
        },
        {
         "name": "precio_noche",
         "rawType": "object",
         "type": "unknown"
        },
        {
         "name": "nombre_hotel",
         "rawType": "object",
         "type": "string"
        },
        {
         "name": "ciudad",
         "rawType": "object",
         "type": "string"
        },
        {
         "name": "id_cliente_unico",
         "rawType": "object",
         "type": "string"
        },
        {
         "name": "valoracion",
         "rawType": "float64",
         "type": "float"
        }
       ],
       "conversionMethod": "pd.DataFrame",
       "ref": "596dccb5-b30a-414a-b10a-a7959b61c118",
       "rows": [
        [
         "0",
         "5256cc90-139b-43d2-8ec5-412495d751cf",
         "Feliciana",
         "Cantón",
         "feliciana.cantón@example.com",
         "True",
         "2025-02-25 00:00:00",
         "2025-03-01 00:00:00",
         "2025-03-02 00:00:00",
         "113",
         "268",
         "Novotel Madrid Center",
         "Madrid",
         "C0fc",
         "4.6"
        ],
        [
         "1",
         "84fd6209-bd8d-4a92-bfe6-c68ee2c49271",
         "Leonardo",
         "Hierro",
         "leonardo.hierro@example.com",
         "True",
         "2025-02-25 00:00:00",
         "2025-03-01 00:00:00",
         "2025-03-02 00:00:00",
         "194",
         "110",
         "ibis budget Madrid Calle 30",
         "Madrid",
         "C1lh",
         "4.4"
        ],
        [
         "2",
         "40c4cb55-d1f5-407b-832f-4756b8ff77b4",
         "Maite",
         "Calatayud",
         "maite.calatayud@example.com",
         "False",
         "2025-02-09 00:00:00",
         "2025-03-01 00:00:00",
         "2025-03-02 00:00:00",
         "14",
         "119.96",
         "Hotel Monte Verde",
         "Madrid",
         "C2mc",
         "3.1"
        ],
        [
         "3",
         "f2ce8df5-7844-43e1-8c0f-97ce7a208f21",
         "Tecla",
         "Bonet",
         "tecla.bonet@example.com",
         "False",
         "2025-02-08 00:00:00",
         "2025-03-01 00:00:00",
         "2025-03-02 00:00:00",
         "38",
         "211.53",
         "Hotel Brisas del Mar",
         "Madrid",
         "C3tb",
         "3.1"
        ],
        [
         "4",
         "57d4515a-447d-4067-afcb-9bdcf4e4e915",
         "Amílcar",
         "Andrés",
         "amílcar.andrés@example.com",
         "False",
         "2025-02-02 00:00:00",
         "2025-03-01 00:00:00",
         "2025-03-02 00:00:00",
         "35",
         "378.37",
         "Hotel Camino del Sol",
         "Madrid",
         "C4aa",
         "3.1"
        ]
       ],
       "shape": {
        "columns": 14,
        "rows": 5
       }
      },
      "text/html": [
       "<div>\n",
       "<style scoped>\n",
       "    .dataframe tbody tr th:only-of-type {\n",
       "        vertical-align: middle;\n",
       "    }\n",
       "\n",
       "    .dataframe tbody tr th {\n",
       "        vertical-align: top;\n",
       "    }\n",
       "\n",
       "    .dataframe thead th {\n",
       "        text-align: right;\n",
       "    }\n",
       "</style>\n",
       "<table border=\"1\" class=\"dataframe\">\n",
       "  <thead>\n",
       "    <tr style=\"text-align: right;\">\n",
       "      <th></th>\n",
       "      <th>id_reserva</th>\n",
       "      <th>nombre</th>\n",
       "      <th>apellido</th>\n",
       "      <th>mail</th>\n",
       "      <th>competencia</th>\n",
       "      <th>fecha_reserva</th>\n",
       "      <th>inicio_estancia</th>\n",
       "      <th>final_estancia</th>\n",
       "      <th>id_hotel</th>\n",
       "      <th>precio_noche</th>\n",
       "      <th>nombre_hotel</th>\n",
       "      <th>ciudad</th>\n",
       "      <th>id_cliente_unico</th>\n",
       "      <th>valoracion</th>\n",
       "    </tr>\n",
       "  </thead>\n",
       "  <tbody>\n",
       "    <tr>\n",
       "      <th>0</th>\n",
       "      <td>5256cc90-139b-43d2-8ec5-412495d751cf</td>\n",
       "      <td>Feliciana</td>\n",
       "      <td>Cantón</td>\n",
       "      <td>feliciana.cantón@example.com</td>\n",
       "      <td>True</td>\n",
       "      <td>2025-02-25</td>\n",
       "      <td>2025-03-01</td>\n",
       "      <td>2025-03-02</td>\n",
       "      <td>113</td>\n",
       "      <td>268</td>\n",
       "      <td>Novotel Madrid Center</td>\n",
       "      <td>Madrid</td>\n",
       "      <td>C0fc</td>\n",
       "      <td>4.6</td>\n",
       "    </tr>\n",
       "    <tr>\n",
       "      <th>1</th>\n",
       "      <td>84fd6209-bd8d-4a92-bfe6-c68ee2c49271</td>\n",
       "      <td>Leonardo</td>\n",
       "      <td>Hierro</td>\n",
       "      <td>leonardo.hierro@example.com</td>\n",
       "      <td>True</td>\n",
       "      <td>2025-02-25</td>\n",
       "      <td>2025-03-01</td>\n",
       "      <td>2025-03-02</td>\n",
       "      <td>194</td>\n",
       "      <td>110</td>\n",
       "      <td>ibis budget Madrid Calle 30</td>\n",
       "      <td>Madrid</td>\n",
       "      <td>C1lh</td>\n",
       "      <td>4.4</td>\n",
       "    </tr>\n",
       "    <tr>\n",
       "      <th>2</th>\n",
       "      <td>40c4cb55-d1f5-407b-832f-4756b8ff77b4</td>\n",
       "      <td>Maite</td>\n",
       "      <td>Calatayud</td>\n",
       "      <td>maite.calatayud@example.com</td>\n",
       "      <td>False</td>\n",
       "      <td>2025-02-09</td>\n",
       "      <td>2025-03-01</td>\n",
       "      <td>2025-03-02</td>\n",
       "      <td>14</td>\n",
       "      <td>119.96</td>\n",
       "      <td>Hotel Monte Verde</td>\n",
       "      <td>Madrid</td>\n",
       "      <td>C2mc</td>\n",
       "      <td>3.1</td>\n",
       "    </tr>\n",
       "    <tr>\n",
       "      <th>3</th>\n",
       "      <td>f2ce8df5-7844-43e1-8c0f-97ce7a208f21</td>\n",
       "      <td>Tecla</td>\n",
       "      <td>Bonet</td>\n",
       "      <td>tecla.bonet@example.com</td>\n",
       "      <td>False</td>\n",
       "      <td>2025-02-08</td>\n",
       "      <td>2025-03-01</td>\n",
       "      <td>2025-03-02</td>\n",
       "      <td>38</td>\n",
       "      <td>211.53</td>\n",
       "      <td>Hotel Brisas del Mar</td>\n",
       "      <td>Madrid</td>\n",
       "      <td>C3tb</td>\n",
       "      <td>3.1</td>\n",
       "    </tr>\n",
       "    <tr>\n",
       "      <th>4</th>\n",
       "      <td>57d4515a-447d-4067-afcb-9bdcf4e4e915</td>\n",
       "      <td>Amílcar</td>\n",
       "      <td>Andrés</td>\n",
       "      <td>amílcar.andrés@example.com</td>\n",
       "      <td>False</td>\n",
       "      <td>2025-02-02</td>\n",
       "      <td>2025-03-01</td>\n",
       "      <td>2025-03-02</td>\n",
       "      <td>35</td>\n",
       "      <td>378.37</td>\n",
       "      <td>Hotel Camino del Sol</td>\n",
       "      <td>Madrid</td>\n",
       "      <td>C4aa</td>\n",
       "      <td>3.1</td>\n",
       "    </tr>\n",
       "  </tbody>\n",
       "</table>\n",
       "</div>"
      ],
      "text/plain": [
       "                             id_reserva     nombre   apellido  \\\n",
       "0  5256cc90-139b-43d2-8ec5-412495d751cf  Feliciana     Cantón   \n",
       "1  84fd6209-bd8d-4a92-bfe6-c68ee2c49271   Leonardo     Hierro   \n",
       "2  40c4cb55-d1f5-407b-832f-4756b8ff77b4      Maite  Calatayud   \n",
       "3  f2ce8df5-7844-43e1-8c0f-97ce7a208f21      Tecla      Bonet   \n",
       "4  57d4515a-447d-4067-afcb-9bdcf4e4e915    Amílcar     Andrés   \n",
       "\n",
       "                           mail  competencia fecha_reserva inicio_estancia  \\\n",
       "0  feliciana.cantón@example.com         True    2025-02-25      2025-03-01   \n",
       "1   leonardo.hierro@example.com         True    2025-02-25      2025-03-01   \n",
       "2   maite.calatayud@example.com        False    2025-02-09      2025-03-01   \n",
       "3       tecla.bonet@example.com        False    2025-02-08      2025-03-01   \n",
       "4    amílcar.andrés@example.com        False    2025-02-02      2025-03-01   \n",
       "\n",
       "  final_estancia  id_hotel precio_noche                 nombre_hotel  ciudad  \\\n",
       "0     2025-03-02       113          268        Novotel Madrid Center  Madrid   \n",
       "1     2025-03-02       194          110  ibis budget Madrid Calle 30  Madrid   \n",
       "2     2025-03-02        14       119.96            Hotel Monte Verde  Madrid   \n",
       "3     2025-03-02        38       211.53         Hotel Brisas del Mar  Madrid   \n",
       "4     2025-03-02        35       378.37         Hotel Camino del Sol  Madrid   \n",
       "\n",
       "  id_cliente_unico  valoracion  \n",
       "0             C0fc         4.6  \n",
       "1             C1lh         4.4  \n",
       "2             C2mc         3.1  \n",
       "3             C3tb         3.1  \n",
       "4             C4aa         3.1  "
      ]
     },
     "execution_count": 22,
     "metadata": {},
     "output_type": "execute_result"
    }
   ],
   "source": [
    "#Importo la información del df de reservas:\n",
    "ARCHIVO_SALIDA = os.getenv(\"ARCHIVO_SALIDA\")\n",
    "df_reservas = pd.read_pickle(ARCHIVO_SALIDA)\n",
    "df_reservas.head()"
   ]
  },
  {
   "cell_type": "markdown",
   "metadata": {},
   "source": [
    "## 1. Tabla ciudad"
   ]
  },
  {
   "cell_type": "code",
   "execution_count": 23,
   "metadata": {},
   "outputs": [
    {
     "data": {
      "text/plain": [
       "{'ciudad': 'Madrid'}"
      ]
     },
     "execution_count": 23,
     "metadata": {},
     "output_type": "execute_result"
    }
   ],
   "source": [
    "#creo el diccionario ciudad\n",
    "dict_ciudad = {'ciudad':df_reservas.ciudad[0]}\n",
    "dict_ciudad"
   ]
  },
  {
   "cell_type": "code",
   "execution_count": 24,
   "metadata": {},
   "outputs": [],
   "source": [
    "#Creo la query para insertar el valor en la tabla ciudad\n",
    "ciudad = dict_ciudad.get(\"ciudad\")\n",
    "insert_query = \"INSERT INTO ciudad(nombre_ciudad) VALUES(%s);\"\n",
    "data_to_insert = (ciudad,)\n",
    "cur.execute(insert_query,data_to_insert)\n",
    "conn.commit()\n"
   ]
  },
  {
   "cell_type": "code",
   "execution_count": 25,
   "metadata": {},
   "outputs": [],
   "source": [
    "def insertar_datos_en_BBDD():\n",
    "    cur.execute(insert_query,data_to_insert)\n",
    "    conn.commit()"
   ]
  },
  {
   "cell_type": "markdown",
   "metadata": {},
   "source": [
    "# 2. Tabla eventos"
   ]
  },
  {
   "cell_type": "code",
   "execution_count": 47,
   "metadata": {},
   "outputs": [
    {
     "data": {
      "application/vnd.microsoft.datawrangler.viewer.v0+json": {
       "columns": [
        {
         "name": "index",
         "rawType": "int64",
         "type": "integer"
        },
        {
         "name": "id_evento",
         "rawType": "object",
         "type": "string"
        },
        {
         "name": "nombre_evento",
         "rawType": "object",
         "type": "string"
        },
        {
         "name": "url_evento",
         "rawType": "object",
         "type": "string"
        },
        {
         "name": "codigo_postal",
         "rawType": "object",
         "type": "string"
        },
        {
         "name": "direccion",
         "rawType": "object",
         "type": "string"
        },
        {
         "name": "horario",
         "rawType": "object",
         "type": "string"
        },
        {
         "name": "fecha_inicio",
         "rawType": "datetime64[ns]",
         "type": "datetime"
        },
        {
         "name": "fecha_fin",
         "rawType": "datetime64[ns]",
         "type": "datetime"
        },
        {
         "name": "organizacion",
         "rawType": "object",
         "type": "string"
        },
        {
         "name": "ciudad",
         "rawType": "object",
         "type": "string"
        }
       ],
       "conversionMethod": "pd.DataFrame",
       "ref": "8b7b4d67-7ab4-45ef-9ddc-12f8ee194311",
       "rows": [
        [
         "0",
         "12677513",
         "25º aniversario de la revista La Fragua",
         "http://www.madrid.es/sites/v/index.jsp?vgnextchannel=ca9671ee4a9eb410VgnVCM100000171f5a0aRCRD&vgnextoid=1ea220bed10d4910VgnVCM2000001f4a900aRCRD",
         "28005",
         "CALLE SAN JUSTO 5",
         "",
         "2025-02-24 00:00:00",
         "2025-03-02 23:59:00",
         "Biblioteca Pública Municipal Iván de Vargas (Centro)",
         "MADRID"
        ],
        [
         "1",
         "12693864",
         "60 Premio Reina Sofía de Pintura y Escultura",
         "http://www.madrid.es/sites/v/index.jsp?vgnextchannel=ca9671ee4a9eb410VgnVCM100000171f5a0aRCRD&vgnextoid=34c5130393e15910VgnVCM2000001f4a900aRCRD",
         "28009",
         "PASEO COLOMBIA 1",
         "",
         "2025-02-27 00:00:00",
         "2025-03-23 23:59:00",
         "Centro Cultural Casa de Vacas (Retiro)",
         "MADRID"
        ],
        [
         "2",
         "12536930",
         "Acompañamiento digital a personas mayores",
         "http://www.madrid.es/sites/v/index.jsp?vgnextchannel=ca9671ee4a9eb410VgnVCM100000171f5a0aRCRD&vgnextoid=5b58d89ad2232910VgnVCM2000001f4a900aRCRD",
         "Sin información",
         "Sin información",
         "",
         "2024-10-14 00:00:00",
         "2025-06-30 23:59:00",
         "Sin información",
         "MADRID"
        ],
        [
         "3",
         "12697332",
         "Almudena Lobera. Secuencia Plano Secuencia",
         "http://www.madrid.es/sites/v/index.jsp?vgnextchannel=ca9671ee4a9eb410VgnVCM100000171f5a0aRCRD&vgnextoid=6f9e11c990735910VgnVCM1000001d4a900aRCRD",
         "28014",
         "PLAZA CIBELES 1",
         "",
         "2025-02-13 00:00:00",
         "2025-06-08 23:59:00",
         "CentroCentro",
         "MADRID"
        ],
        [
         "4",
         "12513883",
         "Andrea Canepa «Wasi qaymi (Lugar y tacto)»",
         "http://www.madrid.es/sites/v/index.jsp?vgnextchannel=ca9671ee4a9eb410VgnVCM100000171f5a0aRCRD&vgnextoid=45f102a2fa0e1910VgnVCM1000001d4a900aRCRD",
         "28015",
         "CALLE CONDE DUQUE 9",
         "",
         "2025-02-28 00:00:00",
         "2025-05-18 23:59:00",
         "Centro de Cultura Contemporánea Conde Duque",
         "MADRID"
        ],
        [
         "5",
         "12425808",
         "Apoyo a la autonomía",
         "http://www.madrid.es/sites/v/index.jsp?vgnextchannel=ca9671ee4a9eb410VgnVCM100000171f5a0aRCRD&vgnextoid=1e67f7a45c701910VgnVCM1000001d4a900aRCRD",
         "Sin información",
         "Sin información",
         "",
         "2024-09-13 00:00:00",
         "2025-06-20 23:59:00",
         "Sin información",
         "MADRID"
        ],
        [
         "6",
         "12411724",
         "Artemisia. La magia de la luna",
         "http://www.madrid.es/sites/v/index.jsp?vgnextchannel=ca9671ee4a9eb410VgnVCM100000171f5a0aRCRD&vgnextoid=91dbd257d6d70910VgnVCM1000001d4a900aRCRD",
         "28045",
         "AVENIDA PLANETARIO 16",
         "18:00",
         "2024-07-16 18:00:00",
         "2025-12-28 23:59:00",
         "Planetario de Madrid",
         "MADRID"
        ],
        [
         "7",
         "12609463",
         "Artificios teatrales. La escena musical de los felices veinte",
         "http://www.madrid.es/sites/v/index.jsp?vgnextchannel=ca9671ee4a9eb410VgnVCM100000171f5a0aRCRD&vgnextoid=6ed5f65f96c83910VgnVCM1000001d4a900aRCRD",
         "28015",
         "CALLE AMANIEL 29",
         "",
         "2024-10-16 00:00:00",
         "2025-03-08 23:59:00",
         "Centro Cultural Clara del Rey - Museo ABC (Centro)",
         "MADRID"
        ],
        [
         "8",
         "12525792",
         "ArTrics - Laboratorio de Creación 2024/25",
         "http://www.madrid.es/sites/v/index.jsp?vgnextchannel=ca9671ee4a9eb410VgnVCM100000171f5a0aRCRD&vgnextoid=7ae9c00a26e12910VgnVCM1000001d4a900aRCRD",
         "Sin información",
         "Sin información",
         "",
         "2024-10-01 00:00:00",
         "2025-07-31 23:59:00",
         "Sin información",
         "MADRID"
        ],
        [
         "9",
         "12682299",
         "Asalto a la lectura. Tres cerditos y más",
         "http://www.madrid.es/sites/v/index.jsp?vgnextchannel=ca9671ee4a9eb410VgnVCM100000171f5a0aRCRD&vgnextoid=6aec3e3332fe4910VgnVCM1000001d4a900aRCRD",
         "28015",
         "CALLE AMANIEL 29",
         "11:00",
         "2025-03-01 11:00:00",
         "2025-03-01 23:59:00",
         "Centro Cultural Clara del Rey - Museo ABC (Centro)",
         "MADRID"
        ]
       ],
       "shape": {
        "columns": 10,
        "rows": 10
       }
      },
      "text/html": [
       "<div>\n",
       "<style scoped>\n",
       "    .dataframe tbody tr th:only-of-type {\n",
       "        vertical-align: middle;\n",
       "    }\n",
       "\n",
       "    .dataframe tbody tr th {\n",
       "        vertical-align: top;\n",
       "    }\n",
       "\n",
       "    .dataframe thead th {\n",
       "        text-align: right;\n",
       "    }\n",
       "</style>\n",
       "<table border=\"1\" class=\"dataframe\">\n",
       "  <thead>\n",
       "    <tr style=\"text-align: right;\">\n",
       "      <th></th>\n",
       "      <th>id_evento</th>\n",
       "      <th>nombre_evento</th>\n",
       "      <th>url_evento</th>\n",
       "      <th>codigo_postal</th>\n",
       "      <th>direccion</th>\n",
       "      <th>horario</th>\n",
       "      <th>fecha_inicio</th>\n",
       "      <th>fecha_fin</th>\n",
       "      <th>organizacion</th>\n",
       "      <th>ciudad</th>\n",
       "    </tr>\n",
       "  </thead>\n",
       "  <tbody>\n",
       "    <tr>\n",
       "      <th>0</th>\n",
       "      <td>12677513</td>\n",
       "      <td>25º aniversario de la revista La Fragua</td>\n",
       "      <td>http://www.madrid.es/sites/v/index.jsp?vgnextc...</td>\n",
       "      <td>28005</td>\n",
       "      <td>CALLE SAN JUSTO 5</td>\n",
       "      <td></td>\n",
       "      <td>2025-02-24 00:00:00</td>\n",
       "      <td>2025-03-02 23:59:00</td>\n",
       "      <td>Biblioteca Pública Municipal Iván de Vargas (C...</td>\n",
       "      <td>MADRID</td>\n",
       "    </tr>\n",
       "    <tr>\n",
       "      <th>1</th>\n",
       "      <td>12693864</td>\n",
       "      <td>60 Premio Reina Sofía de Pintura y Escultura</td>\n",
       "      <td>http://www.madrid.es/sites/v/index.jsp?vgnextc...</td>\n",
       "      <td>28009</td>\n",
       "      <td>PASEO COLOMBIA 1</td>\n",
       "      <td></td>\n",
       "      <td>2025-02-27 00:00:00</td>\n",
       "      <td>2025-03-23 23:59:00</td>\n",
       "      <td>Centro Cultural Casa de Vacas (Retiro)</td>\n",
       "      <td>MADRID</td>\n",
       "    </tr>\n",
       "    <tr>\n",
       "      <th>2</th>\n",
       "      <td>12536930</td>\n",
       "      <td>Acompañamiento digital a personas mayores</td>\n",
       "      <td>http://www.madrid.es/sites/v/index.jsp?vgnextc...</td>\n",
       "      <td>Sin información</td>\n",
       "      <td>Sin información</td>\n",
       "      <td></td>\n",
       "      <td>2024-10-14 00:00:00</td>\n",
       "      <td>2025-06-30 23:59:00</td>\n",
       "      <td>Sin información</td>\n",
       "      <td>MADRID</td>\n",
       "    </tr>\n",
       "    <tr>\n",
       "      <th>3</th>\n",
       "      <td>12697332</td>\n",
       "      <td>Almudena Lobera. Secuencia Plano Secuencia</td>\n",
       "      <td>http://www.madrid.es/sites/v/index.jsp?vgnextc...</td>\n",
       "      <td>28014</td>\n",
       "      <td>PLAZA CIBELES 1</td>\n",
       "      <td></td>\n",
       "      <td>2025-02-13 00:00:00</td>\n",
       "      <td>2025-06-08 23:59:00</td>\n",
       "      <td>CentroCentro</td>\n",
       "      <td>MADRID</td>\n",
       "    </tr>\n",
       "    <tr>\n",
       "      <th>4</th>\n",
       "      <td>12513883</td>\n",
       "      <td>Andrea Canepa «Wasi qaymi (Lugar y tacto)»</td>\n",
       "      <td>http://www.madrid.es/sites/v/index.jsp?vgnextc...</td>\n",
       "      <td>28015</td>\n",
       "      <td>CALLE CONDE DUQUE 9</td>\n",
       "      <td></td>\n",
       "      <td>2025-02-28 00:00:00</td>\n",
       "      <td>2025-05-18 23:59:00</td>\n",
       "      <td>Centro de Cultura Contemporánea Conde Duque</td>\n",
       "      <td>MADRID</td>\n",
       "    </tr>\n",
       "    <tr>\n",
       "      <th>5</th>\n",
       "      <td>12425808</td>\n",
       "      <td>Apoyo a la autonomía</td>\n",
       "      <td>http://www.madrid.es/sites/v/index.jsp?vgnextc...</td>\n",
       "      <td>Sin información</td>\n",
       "      <td>Sin información</td>\n",
       "      <td></td>\n",
       "      <td>2024-09-13 00:00:00</td>\n",
       "      <td>2025-06-20 23:59:00</td>\n",
       "      <td>Sin información</td>\n",
       "      <td>MADRID</td>\n",
       "    </tr>\n",
       "    <tr>\n",
       "      <th>6</th>\n",
       "      <td>12411724</td>\n",
       "      <td>Artemisia. La magia de la luna</td>\n",
       "      <td>http://www.madrid.es/sites/v/index.jsp?vgnextc...</td>\n",
       "      <td>28045</td>\n",
       "      <td>AVENIDA PLANETARIO 16</td>\n",
       "      <td>18:00</td>\n",
       "      <td>2024-07-16 18:00:00</td>\n",
       "      <td>2025-12-28 23:59:00</td>\n",
       "      <td>Planetario de Madrid</td>\n",
       "      <td>MADRID</td>\n",
       "    </tr>\n",
       "    <tr>\n",
       "      <th>7</th>\n",
       "      <td>12609463</td>\n",
       "      <td>Artificios teatrales. La escena musical de los...</td>\n",
       "      <td>http://www.madrid.es/sites/v/index.jsp?vgnextc...</td>\n",
       "      <td>28015</td>\n",
       "      <td>CALLE AMANIEL 29</td>\n",
       "      <td></td>\n",
       "      <td>2024-10-16 00:00:00</td>\n",
       "      <td>2025-03-08 23:59:00</td>\n",
       "      <td>Centro Cultural Clara del Rey - Museo ABC (Cen...</td>\n",
       "      <td>MADRID</td>\n",
       "    </tr>\n",
       "    <tr>\n",
       "      <th>8</th>\n",
       "      <td>12525792</td>\n",
       "      <td>ArTrics - Laboratorio de Creación 2024/25</td>\n",
       "      <td>http://www.madrid.es/sites/v/index.jsp?vgnextc...</td>\n",
       "      <td>Sin información</td>\n",
       "      <td>Sin información</td>\n",
       "      <td></td>\n",
       "      <td>2024-10-01 00:00:00</td>\n",
       "      <td>2025-07-31 23:59:00</td>\n",
       "      <td>Sin información</td>\n",
       "      <td>MADRID</td>\n",
       "    </tr>\n",
       "    <tr>\n",
       "      <th>9</th>\n",
       "      <td>12682299</td>\n",
       "      <td>Asalto a la lectura. Tres cerditos y más</td>\n",
       "      <td>http://www.madrid.es/sites/v/index.jsp?vgnextc...</td>\n",
       "      <td>28015</td>\n",
       "      <td>CALLE AMANIEL 29</td>\n",
       "      <td>11:00</td>\n",
       "      <td>2025-03-01 11:00:00</td>\n",
       "      <td>2025-03-01 23:59:00</td>\n",
       "      <td>Centro Cultural Clara del Rey - Museo ABC (Cen...</td>\n",
       "      <td>MADRID</td>\n",
       "    </tr>\n",
       "  </tbody>\n",
       "</table>\n",
       "</div>"
      ],
      "text/plain": [
       "  id_evento                                      nombre_evento  \\\n",
       "0  12677513            25º aniversario de la revista La Fragua   \n",
       "1  12693864       60 Premio Reina Sofía de Pintura y Escultura   \n",
       "2  12536930          Acompañamiento digital a personas mayores   \n",
       "3  12697332         Almudena Lobera. Secuencia Plano Secuencia   \n",
       "4  12513883         Andrea Canepa «Wasi qaymi (Lugar y tacto)»   \n",
       "5  12425808                               Apoyo a la autonomía   \n",
       "6  12411724                     Artemisia. La magia de la luna   \n",
       "7  12609463  Artificios teatrales. La escena musical de los...   \n",
       "8  12525792          ArTrics - Laboratorio de Creación 2024/25   \n",
       "9  12682299           Asalto a la lectura. Tres cerditos y más   \n",
       "\n",
       "                                          url_evento    codigo_postal  \\\n",
       "0  http://www.madrid.es/sites/v/index.jsp?vgnextc...            28005   \n",
       "1  http://www.madrid.es/sites/v/index.jsp?vgnextc...            28009   \n",
       "2  http://www.madrid.es/sites/v/index.jsp?vgnextc...  Sin información   \n",
       "3  http://www.madrid.es/sites/v/index.jsp?vgnextc...            28014   \n",
       "4  http://www.madrid.es/sites/v/index.jsp?vgnextc...            28015   \n",
       "5  http://www.madrid.es/sites/v/index.jsp?vgnextc...  Sin información   \n",
       "6  http://www.madrid.es/sites/v/index.jsp?vgnextc...            28045   \n",
       "7  http://www.madrid.es/sites/v/index.jsp?vgnextc...            28015   \n",
       "8  http://www.madrid.es/sites/v/index.jsp?vgnextc...  Sin información   \n",
       "9  http://www.madrid.es/sites/v/index.jsp?vgnextc...            28015   \n",
       "\n",
       "               direccion horario        fecha_inicio           fecha_fin  \\\n",
       "0      CALLE SAN JUSTO 5         2025-02-24 00:00:00 2025-03-02 23:59:00   \n",
       "1       PASEO COLOMBIA 1         2025-02-27 00:00:00 2025-03-23 23:59:00   \n",
       "2        Sin información         2024-10-14 00:00:00 2025-06-30 23:59:00   \n",
       "3        PLAZA CIBELES 1         2025-02-13 00:00:00 2025-06-08 23:59:00   \n",
       "4    CALLE CONDE DUQUE 9         2025-02-28 00:00:00 2025-05-18 23:59:00   \n",
       "5        Sin información         2024-09-13 00:00:00 2025-06-20 23:59:00   \n",
       "6  AVENIDA PLANETARIO 16   18:00 2024-07-16 18:00:00 2025-12-28 23:59:00   \n",
       "7       CALLE AMANIEL 29         2024-10-16 00:00:00 2025-03-08 23:59:00   \n",
       "8        Sin información         2024-10-01 00:00:00 2025-07-31 23:59:00   \n",
       "9       CALLE AMANIEL 29   11:00 2025-03-01 11:00:00 2025-03-01 23:59:00   \n",
       "\n",
       "                                        organizacion  ciudad  \n",
       "0  Biblioteca Pública Municipal Iván de Vargas (C...  MADRID  \n",
       "1             Centro Cultural Casa de Vacas (Retiro)  MADRID  \n",
       "2                                    Sin información  MADRID  \n",
       "3                                       CentroCentro  MADRID  \n",
       "4        Centro de Cultura Contemporánea Conde Duque  MADRID  \n",
       "5                                    Sin información  MADRID  \n",
       "6                               Planetario de Madrid  MADRID  \n",
       "7  Centro Cultural Clara del Rey - Museo ABC (Cen...  MADRID  \n",
       "8                                    Sin información  MADRID  \n",
       "9  Centro Cultural Clara del Rey - Museo ABC (Cen...  MADRID  "
      ]
     },
     "execution_count": 47,
     "metadata": {},
     "output_type": "execute_result"
    }
   ],
   "source": [
    "#Extraigo la información de la api y lo convierto en un df:\n",
    "ARCHIVO_RAW= os.getenv(\"ARCHIVO_RAW\")\n",
    "URL_API = os.getenv(\"URL_API\")\n",
    "ARCHIVO_GUARDAR_EVENTOS_API = os.getenv(\"ARCHIVO_GUARDAR_EVENTOS_API\")\n",
    "dict_eventos = sa.eventos_api(ARCHIVO_RAW,ARCHIVO_GUARDAR_EVENTOS_API,URL_API)\n",
    "df_eventos = pd.DataFrame(dict_eventos)\n",
    "df_eventos.head(10)"
   ]
  },
  {
   "cell_type": "code",
   "execution_count": 27,
   "metadata": {},
   "outputs": [
    {
     "data": {
      "text/plain": [
       "dict_keys(['id_evento', 'nombre_evento', 'url_evento', 'codigo_postal', 'direccion', 'horario', 'fecha_inicio', 'fecha_fin', 'organizacion', 'ciudad'])"
      ]
     },
     "execution_count": 27,
     "metadata": {},
     "output_type": "execute_result"
    }
   ],
   "source": [
    "#Las claves del diccionario eventos son:\n",
    "dict_eventos.keys()"
   ]
  },
  {
   "cell_type": "markdown",
   "metadata": {},
   "source": [
    "La tabla eventos tiene que tener los siguientes campos:\n",
    "- id_evento SERIAL PRIMARY KEY,\n",
    "- nombre_evento TEXT,\n",
    "- url_evento TEXT,\n",
    "- codigo_postal INT,\n",
    "- direccion TEXT,\n",
    "- horario TEXT,\n",
    "- fecha_inicio DATE,\n",
    "- fecha_fin DATE,\n",
    "- organizacion TEXT,\n",
    "- id_ciudad INT REFERENCES ciudad(id_ciudad) ON DELETE CASCADE"
   ]
  },
  {
   "cell_type": "code",
   "execution_count": 28,
   "metadata": {},
   "outputs": [
    {
     "data": {
      "text/plain": [
       "{'Madrid': 1}"
      ]
     },
     "execution_count": 28,
     "metadata": {},
     "output_type": "execute_result"
    }
   ],
   "source": [
    "#Solo me falta conseguir el id de la ciudad de la BBDD:\n",
    "cur.execute(\"SELECT nombre_ciudad, id_ciudad FROM ciudad\")\n",
    "ciudad_dict=dict(cur.fetchall())\n",
    "ciudad_dict"
   ]
  },
  {
   "cell_type": "code",
   "execution_count": 29,
   "metadata": {},
   "outputs": [],
   "source": [
    "#Creo los datos para insertarlos en la BBDD:\n",
    "data_to_insert=[]\n",
    "for _,row in df_eventos.iterrows():\n",
    "    nombre_evento = row[\"nombre_evento\"]\n",
    "    url_evento = row[\"url_evento\"]\n",
    "    codigo_postal = row['codigo_postal']\n",
    "    direccion = row['direccion']\n",
    "    horario = row['horario']\n",
    "    fecha_inicio = row['fecha_inicio']\n",
    "    fecha_fin= row['fecha_fin']\n",
    "    organizacion= row['organizacion']\n",
    "    ciudad = row['ciudad'].capitalize()\n",
    "    id_ciudad = ciudad_dict.get(ciudad)\n",
    "    data_to_insert.append([nombre_evento, url_evento, codigo_postal, direccion, horario, fecha_inicio, fecha_fin, organizacion, id_ciudad])\n"
   ]
  },
  {
   "cell_type": "code",
   "execution_count": 30,
   "metadata": {},
   "outputs": [],
   "source": [
    "#Subo la información a la BBDD:\n",
    "insert_query = \"\"\"\n",
    "INSERT INTO eventos(nombre_evento, url_evento, codigo_postal, direccion, horario, fecha_inicio, fecha_fin, organizacion, id_ciudad)\n",
    "VALUES (%s, %s, %s, %s, %s, %s, %s, %s, %s)\n",
    "\"\"\"\n",
    "cur.executemany(insert_query, data_to_insert)\n",
    "conn.commit()"
   ]
  },
  {
   "cell_type": "markdown",
   "metadata": {},
   "source": [
    "# 3. Tabla hoteles"
   ]
  },
  {
   "cell_type": "markdown",
   "metadata": {},
   "source": [
    "La tabla hoteles necesita los siguientes campos: \n",
    "- id_hotel SERIAL PRIMARY KEY, -- Puede ser VARCHAR(5)\n",
    "-  nombre_hotel TEXT,\n",
    "- competencia BOOL,\n",
    "- valoracion FLOAT CHECK (valoracion BETWEEN 1 AND 5),\n",
    "- id_ciudad INT REFERENCES ciudad(id_ciudad) ON DELETE CASCADE"
   ]
  },
  {
   "cell_type": "code",
   "execution_count": 31,
   "metadata": {},
   "outputs": [
    {
     "data": {
      "text/plain": [
       "Index(['id_reserva', 'nombre', 'apellido', 'mail', 'competencia',\n",
       "       'fecha_reserva', 'inicio_estancia', 'final_estancia', 'id_hotel',\n",
       "       'precio_noche', 'nombre_hotel', 'ciudad', 'id_cliente_unico',\n",
       "       'valoracion'],\n",
       "      dtype='object')"
      ]
     },
     "execution_count": 31,
     "metadata": {},
     "output_type": "execute_result"
    }
   ],
   "source": [
    "df_reservas.columns"
   ]
  },
  {
   "cell_type": "code",
   "execution_count": 32,
   "metadata": {},
   "outputs": [
    {
     "data": {
      "application/vnd.microsoft.datawrangler.viewer.v0+json": {
       "columns": [
        {
         "name": "index",
         "rawType": "int64",
         "type": "integer"
        },
        {
         "name": "nombre_hotel",
         "rawType": "object",
         "type": "string"
        },
        {
         "name": "competencia",
         "rawType": "bool",
         "type": "boolean"
        },
        {
         "name": "valoracion",
         "rawType": "float64",
         "type": "float"
        },
        {
         "name": "ciudad",
         "rawType": "object",
         "type": "string"
        }
       ],
       "conversionMethod": "pd.DataFrame",
       "ref": "5545b0be-e0a2-4eb9-a112-ece2fe5024d0",
       "rows": [
        [
         "0",
         "Novotel Madrid Center",
         "True",
         "4.6",
         "Madrid"
        ],
        [
         "1",
         "ibis budget Madrid Calle 30",
         "True",
         "4.4",
         "Madrid"
        ],
        [
         "2",
         "Hotel Monte Verde",
         "False",
         "3.1",
         "Madrid"
        ],
        [
         "3",
         "Hotel Brisas del Mar",
         "False",
         "3.1",
         "Madrid"
        ],
        [
         "4",
         "Hotel Camino del Sol",
         "False",
         "3.1",
         "Madrid"
        ],
        [
         "5",
         "Hotel Puerta del Cielo",
         "False",
         "3.0",
         "Madrid"
        ],
        [
         "6",
         "Hotel Encanto Real",
         "False",
         "3.0",
         "Madrid"
        ],
        [
         "7",
         "ibis Madrid Centro las Ventas",
         "True",
         "4.5",
         "Madrid"
        ],
        [
         "8",
         "Palacio del Sol",
         "False",
         "3.0",
         "Madrid"
        ],
        [
         "9",
         "ibis budget Madrid Centro las Ventas",
         "True",
         "4.3",
         "Madrid"
        ],
        [
         "10",
         "Hotel Jardines del Rey",
         "False",
         "2.9",
         "Madrid"
        ],
        [
         "11",
         "Novotel Madrid City Las Ventas",
         "True",
         "4.6",
         "Madrid"
        ],
        [
         "12",
         "ibis Madrid Calle Alcalá",
         "True",
         "4.5",
         "Madrid"
        ],
        [
         "13",
         "Hotel Las Estrellas",
         "False",
         "2.9",
         "Madrid"
        ],
        [
         "15",
         "Gran Hotel Madrid",
         "False",
         "3.1",
         "Madrid"
        ],
        [
         "16",
         "ibis budget Madrid Vallecas",
         "True",
         "4.3",
         "Madrid"
        ],
        [
         "17",
         "Hotel Torre Dorada",
         "False",
         "2.9",
         "Madrid"
        ],
        [
         "18",
         "Hotel Palacio Imperial",
         "False",
         "3.0",
         "Madrid"
        ],
        [
         "20",
         "Hotel Luz de Madrid",
         "False",
         "3.1",
         "Madrid"
        ],
        [
         "22",
         "Hotel Los Almendros",
         "False",
         "3.0",
         "Madrid"
        ],
        [
         "24",
         "Hotel Sol y Luna",
         "False",
         "3.0",
         "Madrid"
        ],
        [
         "26",
         "Hotel Mirador Real",
         "False",
         "3.0",
         "Madrid"
        ],
        [
         "31",
         "Pullman Madrid Airport & Feria",
         "True",
         "4.2",
         "Madrid"
        ],
        [
         "32",
         "Hotel Rincón Sereno",
         "False",
         "3.0",
         "Madrid"
        ],
        [
         "33",
         "Hotel Vista Alegre",
         "False",
         "2.9",
         "Madrid"
        ],
        [
         "37",
         "Hotel Costa Azul",
         "False",
         "3.1",
         "Madrid"
        ],
        [
         "46",
         "Novotel Madrid Campo de las Naciones",
         "True",
         "4.5",
         "Madrid"
        ],
        [
         "60",
         "Hotel Maravilla Real",
         "False",
         "3.0",
         "Madrid"
        ],
        [
         "78",
         "ibis Madrid Aeropuerto Barajas",
         "True",
         "4.4",
         "Madrid"
        ]
       ],
       "shape": {
        "columns": 4,
        "rows": 29
       }
      },
      "text/html": [
       "<div>\n",
       "<style scoped>\n",
       "    .dataframe tbody tr th:only-of-type {\n",
       "        vertical-align: middle;\n",
       "    }\n",
       "\n",
       "    .dataframe tbody tr th {\n",
       "        vertical-align: top;\n",
       "    }\n",
       "\n",
       "    .dataframe thead th {\n",
       "        text-align: right;\n",
       "    }\n",
       "</style>\n",
       "<table border=\"1\" class=\"dataframe\">\n",
       "  <thead>\n",
       "    <tr style=\"text-align: right;\">\n",
       "      <th></th>\n",
       "      <th>nombre_hotel</th>\n",
       "      <th>competencia</th>\n",
       "      <th>valoracion</th>\n",
       "      <th>ciudad</th>\n",
       "    </tr>\n",
       "  </thead>\n",
       "  <tbody>\n",
       "    <tr>\n",
       "      <th>0</th>\n",
       "      <td>Novotel Madrid Center</td>\n",
       "      <td>True</td>\n",
       "      <td>4.6</td>\n",
       "      <td>Madrid</td>\n",
       "    </tr>\n",
       "    <tr>\n",
       "      <th>1</th>\n",
       "      <td>ibis budget Madrid Calle 30</td>\n",
       "      <td>True</td>\n",
       "      <td>4.4</td>\n",
       "      <td>Madrid</td>\n",
       "    </tr>\n",
       "    <tr>\n",
       "      <th>2</th>\n",
       "      <td>Hotel Monte Verde</td>\n",
       "      <td>False</td>\n",
       "      <td>3.1</td>\n",
       "      <td>Madrid</td>\n",
       "    </tr>\n",
       "    <tr>\n",
       "      <th>3</th>\n",
       "      <td>Hotel Brisas del Mar</td>\n",
       "      <td>False</td>\n",
       "      <td>3.1</td>\n",
       "      <td>Madrid</td>\n",
       "    </tr>\n",
       "    <tr>\n",
       "      <th>4</th>\n",
       "      <td>Hotel Camino del Sol</td>\n",
       "      <td>False</td>\n",
       "      <td>3.1</td>\n",
       "      <td>Madrid</td>\n",
       "    </tr>\n",
       "    <tr>\n",
       "      <th>5</th>\n",
       "      <td>Hotel Puerta del Cielo</td>\n",
       "      <td>False</td>\n",
       "      <td>3.0</td>\n",
       "      <td>Madrid</td>\n",
       "    </tr>\n",
       "    <tr>\n",
       "      <th>6</th>\n",
       "      <td>Hotel Encanto Real</td>\n",
       "      <td>False</td>\n",
       "      <td>3.0</td>\n",
       "      <td>Madrid</td>\n",
       "    </tr>\n",
       "    <tr>\n",
       "      <th>7</th>\n",
       "      <td>ibis Madrid Centro las Ventas</td>\n",
       "      <td>True</td>\n",
       "      <td>4.5</td>\n",
       "      <td>Madrid</td>\n",
       "    </tr>\n",
       "    <tr>\n",
       "      <th>8</th>\n",
       "      <td>Palacio del Sol</td>\n",
       "      <td>False</td>\n",
       "      <td>3.0</td>\n",
       "      <td>Madrid</td>\n",
       "    </tr>\n",
       "    <tr>\n",
       "      <th>9</th>\n",
       "      <td>ibis budget Madrid Centro las Ventas</td>\n",
       "      <td>True</td>\n",
       "      <td>4.3</td>\n",
       "      <td>Madrid</td>\n",
       "    </tr>\n",
       "    <tr>\n",
       "      <th>10</th>\n",
       "      <td>Hotel Jardines del Rey</td>\n",
       "      <td>False</td>\n",
       "      <td>2.9</td>\n",
       "      <td>Madrid</td>\n",
       "    </tr>\n",
       "    <tr>\n",
       "      <th>11</th>\n",
       "      <td>Novotel Madrid City Las Ventas</td>\n",
       "      <td>True</td>\n",
       "      <td>4.6</td>\n",
       "      <td>Madrid</td>\n",
       "    </tr>\n",
       "    <tr>\n",
       "      <th>12</th>\n",
       "      <td>ibis Madrid Calle Alcalá</td>\n",
       "      <td>True</td>\n",
       "      <td>4.5</td>\n",
       "      <td>Madrid</td>\n",
       "    </tr>\n",
       "    <tr>\n",
       "      <th>13</th>\n",
       "      <td>Hotel Las Estrellas</td>\n",
       "      <td>False</td>\n",
       "      <td>2.9</td>\n",
       "      <td>Madrid</td>\n",
       "    </tr>\n",
       "    <tr>\n",
       "      <th>15</th>\n",
       "      <td>Gran Hotel Madrid</td>\n",
       "      <td>False</td>\n",
       "      <td>3.1</td>\n",
       "      <td>Madrid</td>\n",
       "    </tr>\n",
       "    <tr>\n",
       "      <th>16</th>\n",
       "      <td>ibis budget Madrid Vallecas</td>\n",
       "      <td>True</td>\n",
       "      <td>4.3</td>\n",
       "      <td>Madrid</td>\n",
       "    </tr>\n",
       "    <tr>\n",
       "      <th>17</th>\n",
       "      <td>Hotel Torre Dorada</td>\n",
       "      <td>False</td>\n",
       "      <td>2.9</td>\n",
       "      <td>Madrid</td>\n",
       "    </tr>\n",
       "    <tr>\n",
       "      <th>18</th>\n",
       "      <td>Hotel Palacio Imperial</td>\n",
       "      <td>False</td>\n",
       "      <td>3.0</td>\n",
       "      <td>Madrid</td>\n",
       "    </tr>\n",
       "    <tr>\n",
       "      <th>20</th>\n",
       "      <td>Hotel Luz de Madrid</td>\n",
       "      <td>False</td>\n",
       "      <td>3.1</td>\n",
       "      <td>Madrid</td>\n",
       "    </tr>\n",
       "    <tr>\n",
       "      <th>22</th>\n",
       "      <td>Hotel Los Almendros</td>\n",
       "      <td>False</td>\n",
       "      <td>3.0</td>\n",
       "      <td>Madrid</td>\n",
       "    </tr>\n",
       "    <tr>\n",
       "      <th>24</th>\n",
       "      <td>Hotel Sol y Luna</td>\n",
       "      <td>False</td>\n",
       "      <td>3.0</td>\n",
       "      <td>Madrid</td>\n",
       "    </tr>\n",
       "    <tr>\n",
       "      <th>26</th>\n",
       "      <td>Hotel Mirador Real</td>\n",
       "      <td>False</td>\n",
       "      <td>3.0</td>\n",
       "      <td>Madrid</td>\n",
       "    </tr>\n",
       "    <tr>\n",
       "      <th>31</th>\n",
       "      <td>Pullman Madrid Airport &amp; Feria</td>\n",
       "      <td>True</td>\n",
       "      <td>4.2</td>\n",
       "      <td>Madrid</td>\n",
       "    </tr>\n",
       "    <tr>\n",
       "      <th>32</th>\n",
       "      <td>Hotel Rincón Sereno</td>\n",
       "      <td>False</td>\n",
       "      <td>3.0</td>\n",
       "      <td>Madrid</td>\n",
       "    </tr>\n",
       "    <tr>\n",
       "      <th>33</th>\n",
       "      <td>Hotel Vista Alegre</td>\n",
       "      <td>False</td>\n",
       "      <td>2.9</td>\n",
       "      <td>Madrid</td>\n",
       "    </tr>\n",
       "    <tr>\n",
       "      <th>37</th>\n",
       "      <td>Hotel Costa Azul</td>\n",
       "      <td>False</td>\n",
       "      <td>3.1</td>\n",
       "      <td>Madrid</td>\n",
       "    </tr>\n",
       "    <tr>\n",
       "      <th>46</th>\n",
       "      <td>Novotel Madrid Campo de las Naciones</td>\n",
       "      <td>True</td>\n",
       "      <td>4.5</td>\n",
       "      <td>Madrid</td>\n",
       "    </tr>\n",
       "    <tr>\n",
       "      <th>60</th>\n",
       "      <td>Hotel Maravilla Real</td>\n",
       "      <td>False</td>\n",
       "      <td>3.0</td>\n",
       "      <td>Madrid</td>\n",
       "    </tr>\n",
       "    <tr>\n",
       "      <th>78</th>\n",
       "      <td>ibis Madrid Aeropuerto Barajas</td>\n",
       "      <td>True</td>\n",
       "      <td>4.4</td>\n",
       "      <td>Madrid</td>\n",
       "    </tr>\n",
       "  </tbody>\n",
       "</table>\n",
       "</div>"
      ],
      "text/plain": [
       "                            nombre_hotel  competencia  valoracion  ciudad\n",
       "0                  Novotel Madrid Center         True         4.6  Madrid\n",
       "1            ibis budget Madrid Calle 30         True         4.4  Madrid\n",
       "2                      Hotel Monte Verde        False         3.1  Madrid\n",
       "3                   Hotel Brisas del Mar        False         3.1  Madrid\n",
       "4                   Hotel Camino del Sol        False         3.1  Madrid\n",
       "5                 Hotel Puerta del Cielo        False         3.0  Madrid\n",
       "6                     Hotel Encanto Real        False         3.0  Madrid\n",
       "7          ibis Madrid Centro las Ventas         True         4.5  Madrid\n",
       "8                        Palacio del Sol        False         3.0  Madrid\n",
       "9   ibis budget Madrid Centro las Ventas         True         4.3  Madrid\n",
       "10                Hotel Jardines del Rey        False         2.9  Madrid\n",
       "11        Novotel Madrid City Las Ventas         True         4.6  Madrid\n",
       "12              ibis Madrid Calle Alcalá         True         4.5  Madrid\n",
       "13                   Hotel Las Estrellas        False         2.9  Madrid\n",
       "15                     Gran Hotel Madrid        False         3.1  Madrid\n",
       "16           ibis budget Madrid Vallecas         True         4.3  Madrid\n",
       "17                    Hotel Torre Dorada        False         2.9  Madrid\n",
       "18                Hotel Palacio Imperial        False         3.0  Madrid\n",
       "20                   Hotel Luz de Madrid        False         3.1  Madrid\n",
       "22                   Hotel Los Almendros        False         3.0  Madrid\n",
       "24                      Hotel Sol y Luna        False         3.0  Madrid\n",
       "26                    Hotel Mirador Real        False         3.0  Madrid\n",
       "31        Pullman Madrid Airport & Feria         True         4.2  Madrid\n",
       "32                   Hotel Rincón Sereno        False         3.0  Madrid\n",
       "33                    Hotel Vista Alegre        False         2.9  Madrid\n",
       "37                      Hotel Costa Azul        False         3.1  Madrid\n",
       "46  Novotel Madrid Campo de las Naciones         True         4.5  Madrid\n",
       "60                  Hotel Maravilla Real        False         3.0  Madrid\n",
       "78        ibis Madrid Aeropuerto Barajas         True         4.4  Madrid"
      ]
     },
     "execution_count": 32,
     "metadata": {},
     "output_type": "execute_result"
    }
   ],
   "source": [
    "#Creo la tabla hoteles y elimino los duplicados:\n",
    "tabla_hoteles = df_reservas[['nombre_hotel', 'competencia', 'valoracion', 'ciudad']]\n",
    "tabla_hoteles = tabla_hoteles.drop_duplicates()\n",
    "tabla_hoteles"
   ]
  },
  {
   "cell_type": "code",
   "execution_count": 33,
   "metadata": {},
   "outputs": [
    {
     "data": {
      "text/plain": [
       "[['Novotel Madrid Center', True, 4.6, 1],\n",
       " ['ibis budget Madrid Calle 30', True, 4.4, 1],\n",
       " ['Hotel Monte Verde', False, 3.1, 1],\n",
       " ['Hotel Brisas del Mar', False, 3.1, 1],\n",
       " ['Hotel Camino del Sol', False, 3.1, 1],\n",
       " ['Hotel Puerta del Cielo', False, 3.0, 1],\n",
       " ['Hotel Encanto Real', False, 3.0, 1],\n",
       " ['ibis Madrid Centro las Ventas', True, 4.5, 1],\n",
       " ['Palacio del Sol', False, 3.0, 1],\n",
       " ['ibis budget Madrid Centro las Ventas', True, 4.3, 1],\n",
       " ['Hotel Jardines del Rey', False, 2.9, 1],\n",
       " ['Novotel Madrid City Las Ventas', True, 4.6, 1],\n",
       " ['ibis Madrid Calle Alcalá', True, 4.5, 1],\n",
       " ['Hotel Las Estrellas', False, 2.9, 1],\n",
       " ['Gran Hotel Madrid', False, 3.1, 1],\n",
       " ['ibis budget Madrid Vallecas', True, 4.3, 1],\n",
       " ['Hotel Torre Dorada', False, 2.9, 1],\n",
       " ['Hotel Palacio Imperial', False, 3.0, 1],\n",
       " ['Hotel Luz de Madrid', False, 3.1, 1],\n",
       " ['Hotel Los Almendros', False, 3.0, 1],\n",
       " ['Hotel Sol y Luna', False, 3.0, 1],\n",
       " ['Hotel Mirador Real', False, 3.0, 1],\n",
       " ['Pullman Madrid Airport & Feria', True, 4.2, 1],\n",
       " ['Hotel Rincón Sereno', False, 3.0, 1],\n",
       " ['Hotel Vista Alegre', False, 2.9, 1],\n",
       " ['Hotel Costa Azul', False, 3.1, 1],\n",
       " ['Novotel Madrid Campo de las Naciones', True, 4.5, 1],\n",
       " ['Hotel Maravilla Real', False, 3.0, 1],\n",
       " ['ibis Madrid Aeropuerto Barajas', True, 4.4, 1]]"
      ]
     },
     "execution_count": 33,
     "metadata": {},
     "output_type": "execute_result"
    }
   ],
   "source": [
    "#Creo los datos para insertarlos en la BBDD:\n",
    "data_to_insert=[]\n",
    "for _,row in tabla_hoteles.iterrows():\n",
    "    nombre_hotel = row[\"nombre_hotel\"]\n",
    "    competencia = row[\"competencia\"]\n",
    "    valoracion = row['valoracion']\n",
    "    ciudad = row['ciudad'].capitalize()\n",
    "    id_ciudad = ciudad_dict.get(ciudad)\n",
    "    data_to_insert.append([nombre_hotel, competencia, valoracion, id_ciudad])\n",
    "data_to_insert\n"
   ]
  },
  {
   "cell_type": "code",
   "execution_count": 34,
   "metadata": {},
   "outputs": [],
   "source": [
    "#Subo la información a la BBDD:\n",
    "insert_query = \"\"\"\n",
    "INSERT INTO hoteles (nombre_hotel,competencia,valoracion,id_ciudad)\n",
    "VALUES (%s, %s, %s, %s)\n",
    "\"\"\"\n",
    "cur.executemany(insert_query, data_to_insert)\n",
    "conn.commit()"
   ]
  },
  {
   "cell_type": "markdown",
   "metadata": {},
   "source": [
    "# 4. Tabla clientes"
   ]
  },
  {
   "cell_type": "markdown",
   "metadata": {},
   "source": [
    "La Tabla clientes tiene las siguientes columnas:\n",
    "- id_cliente VARCHAR(50) PRIMARY KEY,\n",
    "- nombre TEXT,\n",
    "- apellido TEXT,\n",
    "- mail TEXT UNIQUE CHECK (mail LIKE '%@%')"
   ]
  },
  {
   "cell_type": "code",
   "execution_count": 35,
   "metadata": {},
   "outputs": [
    {
     "data": {
      "text/plain": [
       "Index(['id_reserva', 'nombre', 'apellido', 'mail', 'competencia',\n",
       "       'fecha_reserva', 'inicio_estancia', 'final_estancia', 'id_hotel',\n",
       "       'precio_noche', 'nombre_hotel', 'ciudad', 'id_cliente_unico',\n",
       "       'valoracion'],\n",
       "      dtype='object')"
      ]
     },
     "execution_count": 35,
     "metadata": {},
     "output_type": "execute_result"
    }
   ],
   "source": [
    "df_reservas.columns"
   ]
  },
  {
   "cell_type": "code",
   "execution_count": 36,
   "metadata": {},
   "outputs": [
    {
     "data": {
      "application/vnd.microsoft.datawrangler.viewer.v0+json": {
       "columns": [
        {
         "name": "index",
         "rawType": "int64",
         "type": "integer"
        },
        {
         "name": "id_cliente_unico",
         "rawType": "object",
         "type": "string"
        },
        {
         "name": "nombre",
         "rawType": "object",
         "type": "string"
        },
        {
         "name": "apellido",
         "rawType": "object",
         "type": "string"
        },
        {
         "name": "mail",
         "rawType": "object",
         "type": "string"
        }
       ],
       "conversionMethod": "pd.DataFrame",
       "ref": "6fdbd57a-eb90-4427-8f48-af7ff38ffff3",
       "rows": [
        [
         "0",
         "C0fc",
         "Feliciana",
         "Cantón",
         "feliciana.cantón@example.com"
        ],
        [
         "1",
         "C1lh",
         "Leonardo",
         "Hierro",
         "leonardo.hierro@example.com"
        ],
        [
         "2",
         "C2mc",
         "Maite",
         "Calatayud",
         "maite.calatayud@example.com"
        ],
        [
         "3",
         "C3tb",
         "Tecla",
         "Bonet",
         "tecla.bonet@example.com"
        ],
        [
         "4",
         "C4aa",
         "Amílcar",
         "Andrés",
         "amílcar.andrés@example.com"
        ],
        [
         "5",
         "C5jv",
         "Joan",
         "Vazquez",
         "joan.vazquez@example.com"
        ],
        [
         "6",
         "C6cf",
         "Chelo",
         "Flor",
         "chelo.flor@example.com"
        ],
        [
         "7",
         "C7jr",
         "Judith",
         "Rivas",
         "judith.rivas@example.com"
        ],
        [
         "8",
         "C8dl",
         "Dolores",
         "Lobo",
         "dolores.lobo@example.com"
        ],
        [
         "9",
         "C9ac",
         "Adolfo",
         "Cuervo",
         "adolfo.cuervo@example.com"
        ],
        [
         "10",
         "C10nl",
         "Noé",
         "Lobo",
         "noé.lobo@example.com"
        ],
        [
         "11",
         "C11mn",
         "María Carmen",
         "Navarro",
         "maría carmen.navarro@example.com"
        ],
        [
         "12",
         "C12rc",
         "Ricardo",
         "Caballero",
         "ricardo.caballero@example.com"
        ],
        [
         "13",
         "C13ol",
         "Omar",
         "Lamas",
         "omar.lamas@example.com"
        ],
        [
         "14",
         "C14ls",
         "Luna",
         "Segovia",
         "luna.segovia@example.com"
        ],
        [
         "15",
         "C15áp",
         "Ágata",
         "Pinedo",
         "ágata.pinedo@example.com"
        ],
        [
         "16",
         "C16lp",
         "Lázaro",
         "Pardo",
         "lázaro.pardo@example.com"
        ],
        [
         "17",
         "C17jb",
         "Julie",
         "Baños",
         "julie.baños@example.com"
        ],
        [
         "18",
         "C18jm",
         "Javier",
         "Mancebo",
         "javier.mancebo@example.com"
        ],
        [
         "19",
         "C19rg",
         "Rita",
         "Guerrero",
         "rita.guerrero@example.com"
        ],
        [
         "20",
         "C20rl",
         "Ricardo",
         "Lobo",
         "ricardo.lobo@example.com"
        ],
        [
         "21",
         "C21pp",
         "Perlita",
         "Patiño",
         "perlita.patiño@example.com"
        ],
        [
         "22",
         "C22pg",
         "Pedro",
         "Gallego",
         "pedro.gallego@example.com"
        ],
        [
         "23",
         "C23jb",
         "Judith",
         "Bellido",
         "judith.bellido@example.com"
        ],
        [
         "24",
         "C24fh",
         "Francisco Javier",
         "Hierro",
         "francisco javier.hierro@example.com"
        ],
        [
         "25",
         "C25rl",
         "Reynaldo",
         "Lerma",
         "reynaldo.lerma@example.com"
        ],
        [
         "26",
         "C26fg",
         "Felicidad",
         "Gimenez",
         "felicidad.gimenez@example.com"
        ],
        [
         "27",
         "C27pb",
         "Pía",
         "Barba",
         "pía.barba@example.com"
        ],
        [
         "28",
         "C28am",
         "Amílcar",
         "Moles",
         "amílcar.moles@example.com"
        ],
        [
         "29",
         "C29bg",
         "Blas",
         "Galván",
         "blas.galván@example.com"
        ],
        [
         "30",
         "C30cm",
         "Claudia",
         "Miranda",
         "claudia.miranda@example.com"
        ],
        [
         "31",
         "C31ap",
         "Angelina",
         "Priego",
         "angelina.priego@example.com"
        ],
        [
         "32",
         "C32fs",
         "Fernanda",
         "Segarra",
         "fernanda.segarra@example.com"
        ],
        [
         "33",
         "C33eh",
         "Emilio",
         "Huerta",
         "emilio.huerta@example.com"
        ],
        [
         "34",
         "C34bj",
         "Bárbara",
         "Jódar",
         "bárbara.jódar@example.com"
        ],
        [
         "35",
         "C35tp",
         "Tiburcio",
         "Pujol",
         "tiburcio.pujol@example.com"
        ],
        [
         "36",
         "C36ev",
         "Emiliano",
         "Vergara",
         "emiliano.vergara@example.com"
        ],
        [
         "37",
         "C37ma",
         "Marisol",
         "Arévalo",
         "marisol.arévalo@example.com"
        ],
        [
         "38",
         "C38ec",
         "Ezequiel",
         "Cuesta",
         "ezequiel.cuesta@example.com"
        ],
        [
         "39",
         "C39tb",
         "Telmo",
         "Bartolomé",
         "telmo.bartolomé@example.com"
        ],
        [
         "40",
         "C40ds",
         "Débora",
         "Solé",
         "débora.solé@example.com"
        ],
        [
         "41",
         "C41ca",
         "Carolina",
         "Alberdi",
         "carolina.alberdi@example.com"
        ],
        [
         "42",
         "C42dl",
         "Darío",
         "Lasa",
         "darío.lasa@example.com"
        ],
        [
         "43",
         "C43nc",
         "Noé",
         "Cantón",
         "noé.cantón@example.com"
        ],
        [
         "44",
         "C44fs",
         "Fausto",
         "Santiago",
         "fausto.santiago@example.com"
        ],
        [
         "45",
         "C45ll",
         "Lorenza",
         "Lago",
         "lorenza.lago@example.com"
        ],
        [
         "46",
         "C46me",
         "María Belén",
         "Escalona",
         "maría belén.escalona@example.com"
        ],
        [
         "47",
         "C47cm",
         "Curro",
         "Martín",
         "curro.martín@example.com"
        ],
        [
         "48",
         "C48af",
         "Anunciación",
         "Flor",
         "anunciación.flor@example.com"
        ],
        [
         "49",
         "C49mc",
         "María Belén",
         "Cuéllar",
         "maría belén.cuéllar@example.com"
        ]
       ],
       "shape": {
        "columns": 4,
        "rows": 14905
       }
      },
      "text/html": [
       "<div>\n",
       "<style scoped>\n",
       "    .dataframe tbody tr th:only-of-type {\n",
       "        vertical-align: middle;\n",
       "    }\n",
       "\n",
       "    .dataframe tbody tr th {\n",
       "        vertical-align: top;\n",
       "    }\n",
       "\n",
       "    .dataframe thead th {\n",
       "        text-align: right;\n",
       "    }\n",
       "</style>\n",
       "<table border=\"1\" class=\"dataframe\">\n",
       "  <thead>\n",
       "    <tr style=\"text-align: right;\">\n",
       "      <th></th>\n",
       "      <th>id_cliente_unico</th>\n",
       "      <th>nombre</th>\n",
       "      <th>apellido</th>\n",
       "      <th>mail</th>\n",
       "    </tr>\n",
       "  </thead>\n",
       "  <tbody>\n",
       "    <tr>\n",
       "      <th>0</th>\n",
       "      <td>C0fc</td>\n",
       "      <td>Feliciana</td>\n",
       "      <td>Cantón</td>\n",
       "      <td>feliciana.cantón@example.com</td>\n",
       "    </tr>\n",
       "    <tr>\n",
       "      <th>1</th>\n",
       "      <td>C1lh</td>\n",
       "      <td>Leonardo</td>\n",
       "      <td>Hierro</td>\n",
       "      <td>leonardo.hierro@example.com</td>\n",
       "    </tr>\n",
       "    <tr>\n",
       "      <th>2</th>\n",
       "      <td>C2mc</td>\n",
       "      <td>Maite</td>\n",
       "      <td>Calatayud</td>\n",
       "      <td>maite.calatayud@example.com</td>\n",
       "    </tr>\n",
       "    <tr>\n",
       "      <th>3</th>\n",
       "      <td>C3tb</td>\n",
       "      <td>Tecla</td>\n",
       "      <td>Bonet</td>\n",
       "      <td>tecla.bonet@example.com</td>\n",
       "    </tr>\n",
       "    <tr>\n",
       "      <th>4</th>\n",
       "      <td>C4aa</td>\n",
       "      <td>Amílcar</td>\n",
       "      <td>Andrés</td>\n",
       "      <td>amílcar.andrés@example.com</td>\n",
       "    </tr>\n",
       "    <tr>\n",
       "      <th>...</th>\n",
       "      <td>...</td>\n",
       "      <td>...</td>\n",
       "      <td>...</td>\n",
       "      <td>...</td>\n",
       "    </tr>\n",
       "    <tr>\n",
       "      <th>14995</th>\n",
       "      <td>C14900lr</td>\n",
       "      <td>Lorena</td>\n",
       "      <td>Román</td>\n",
       "      <td>lorena.román@example.com</td>\n",
       "    </tr>\n",
       "    <tr>\n",
       "      <th>14996</th>\n",
       "      <td>C14901tn</td>\n",
       "      <td>Toño</td>\n",
       "      <td>Narváez</td>\n",
       "      <td>toño.narváez@example.com</td>\n",
       "    </tr>\n",
       "    <tr>\n",
       "      <th>14997</th>\n",
       "      <td>C14902nv</td>\n",
       "      <td>Nadia</td>\n",
       "      <td>Verdugo</td>\n",
       "      <td>nadia.verdugo@example.com</td>\n",
       "    </tr>\n",
       "    <tr>\n",
       "      <th>14998</th>\n",
       "      <td>C14903cm</td>\n",
       "      <td>Custodia</td>\n",
       "      <td>Marco</td>\n",
       "      <td>custodia.marco@example.com</td>\n",
       "    </tr>\n",
       "    <tr>\n",
       "      <th>14999</th>\n",
       "      <td>C14904bs</td>\n",
       "      <td>Brígida</td>\n",
       "      <td>Salom</td>\n",
       "      <td>brígida.salom@example.com</td>\n",
       "    </tr>\n",
       "  </tbody>\n",
       "</table>\n",
       "<p>14905 rows × 4 columns</p>\n",
       "</div>"
      ],
      "text/plain": [
       "      id_cliente_unico     nombre   apellido                          mail\n",
       "0                 C0fc  Feliciana     Cantón  feliciana.cantón@example.com\n",
       "1                 C1lh   Leonardo     Hierro   leonardo.hierro@example.com\n",
       "2                 C2mc      Maite  Calatayud   maite.calatayud@example.com\n",
       "3                 C3tb      Tecla      Bonet       tecla.bonet@example.com\n",
       "4                 C4aa    Amílcar     Andrés    amílcar.andrés@example.com\n",
       "...                ...        ...        ...                           ...\n",
       "14995         C14900lr     Lorena      Román      lorena.román@example.com\n",
       "14996         C14901tn       Toño    Narváez      toño.narváez@example.com\n",
       "14997         C14902nv      Nadia    Verdugo     nadia.verdugo@example.com\n",
       "14998         C14903cm   Custodia      Marco    custodia.marco@example.com\n",
       "14999         C14904bs    Brígida      Salom     brígida.salom@example.com\n",
       "\n",
       "[14905 rows x 4 columns]"
      ]
     },
     "execution_count": 36,
     "metadata": {},
     "output_type": "execute_result"
    }
   ],
   "source": [
    "#Creo la tabla clientes y elimino los duplicados:\n",
    "tabla_clientes = df_reservas[['id_cliente_unico', 'nombre', 'apellido', 'mail']]\n",
    "tabla_clientes = tabla_clientes.drop_duplicates()\n",
    "tabla_clientes"
   ]
  },
  {
   "cell_type": "code",
   "execution_count": 37,
   "metadata": {},
   "outputs": [
    {
     "data": {
      "text/plain": [
       "14905"
      ]
     },
     "execution_count": 37,
     "metadata": {},
     "output_type": "execute_result"
    }
   ],
   "source": [
    "#Creo los datos para insertarlos en la BBDD:\n",
    "data_to_insert=[]\n",
    "for _,row in tabla_clientes.iterrows():\n",
    "    id_cliente = row[\"id_cliente_unico\"]\n",
    "    nombre = row[\"nombre\"]\n",
    "    apellido = row['apellido']\n",
    "    mail = row['mail']\n",
    "    data_to_insert.append([id_cliente, nombre, apellido, mail])\n",
    "len(data_to_insert)"
   ]
  },
  {
   "cell_type": "code",
   "execution_count": 38,
   "metadata": {},
   "outputs": [],
   "source": [
    "#Subo la información a la BBDD:\n",
    "insert_query = \"\"\"\n",
    "INSERT INTO clientes (id_cliente, nombre, apellido, mail)\n",
    "VALUES (%s, %s, %s, %s)\n",
    "\"\"\"\n",
    "cur.executemany(insert_query, data_to_insert)\n",
    "conn.commit()"
   ]
  },
  {
   "cell_type": "markdown",
   "metadata": {},
   "source": [
    "# 5. Tabla reservas"
   ]
  },
  {
   "cell_type": "markdown",
   "metadata": {},
   "source": [
    "La tabla reserva tiene las siguientes columnas: \n",
    "- id_reserva VARCHAR(50) PRIMARY KEY,\n",
    "- fecha_reserva DATE,\n",
    "- inicio_estancia DATE,\n",
    "- final_estancia DATE,\n",
    "- precio_noche FLOAT CHECK (precio_noche >= 0),\n",
    "- id_cliente VARCHAR(50) REFERENCES clientes(id_cliente) ON DELETE CASCADE,\n",
    "- id_hotel INT REFERENCES hoteles(id_hotel) ON DELETE CASCADE"
   ]
  },
  {
   "cell_type": "code",
   "execution_count": 39,
   "metadata": {},
   "outputs": [
    {
     "data": {
      "text/plain": [
       "Index(['id_reserva', 'nombre', 'apellido', 'mail', 'competencia',\n",
       "       'fecha_reserva', 'inicio_estancia', 'final_estancia', 'id_hotel',\n",
       "       'precio_noche', 'nombre_hotel', 'ciudad', 'id_cliente_unico',\n",
       "       'valoracion'],\n",
       "      dtype='object')"
      ]
     },
     "execution_count": 39,
     "metadata": {},
     "output_type": "execute_result"
    }
   ],
   "source": [
    "df_reservas.columns"
   ]
  },
  {
   "cell_type": "code",
   "execution_count": 40,
   "metadata": {},
   "outputs": [
    {
     "data": {
      "text/plain": [
       "True"
      ]
     },
     "execution_count": 40,
     "metadata": {},
     "output_type": "execute_result"
    }
   ],
   "source": [
    "#compruebo que el id_reserva es unico\n",
    "df_reservas['id_reserva'].nunique() == df_reservas.shape[0]"
   ]
  },
  {
   "cell_type": "code",
   "execution_count": 41,
   "metadata": {},
   "outputs": [
    {
     "data": {
      "application/vnd.microsoft.datawrangler.viewer.v0+json": {
       "columns": [
        {
         "name": "index",
         "rawType": "int64",
         "type": "integer"
        },
        {
         "name": "id_reserva",
         "rawType": "object",
         "type": "string"
        },
        {
         "name": "fecha_reserva",
         "rawType": "datetime64[ns]",
         "type": "datetime"
        },
        {
         "name": "inicio_estancia",
         "rawType": "datetime64[ns]",
         "type": "datetime"
        },
        {
         "name": "final_estancia",
         "rawType": "datetime64[ns]",
         "type": "datetime"
        },
        {
         "name": "precio_noche",
         "rawType": "object",
         "type": "unknown"
        },
        {
         "name": "id_cliente_unico",
         "rawType": "object",
         "type": "string"
        },
        {
         "name": "nombre_hotel",
         "rawType": "object",
         "type": "string"
        }
       ],
       "conversionMethod": "pd.DataFrame",
       "ref": "5575c41e-807d-4d08-b6a4-f3e877a648d3",
       "rows": [
        [
         "0",
         "5256cc90-139b-43d2-8ec5-412495d751cf",
         "2025-02-25 00:00:00",
         "2025-03-01 00:00:00",
         "2025-03-02 00:00:00",
         "268",
         "C0fc",
         "Novotel Madrid Center"
        ],
        [
         "1",
         "84fd6209-bd8d-4a92-bfe6-c68ee2c49271",
         "2025-02-25 00:00:00",
         "2025-03-01 00:00:00",
         "2025-03-02 00:00:00",
         "110",
         "C1lh",
         "ibis budget Madrid Calle 30"
        ],
        [
         "2",
         "40c4cb55-d1f5-407b-832f-4756b8ff77b4",
         "2025-02-09 00:00:00",
         "2025-03-01 00:00:00",
         "2025-03-02 00:00:00",
         "119.96",
         "C2mc",
         "Hotel Monte Verde"
        ],
        [
         "3",
         "f2ce8df5-7844-43e1-8c0f-97ce7a208f21",
         "2025-02-08 00:00:00",
         "2025-03-01 00:00:00",
         "2025-03-02 00:00:00",
         "211.53",
         "C3tb",
         "Hotel Brisas del Mar"
        ],
        [
         "4",
         "57d4515a-447d-4067-afcb-9bdcf4e4e915",
         "2025-02-02 00:00:00",
         "2025-03-01 00:00:00",
         "2025-03-02 00:00:00",
         "378.37",
         "C4aa",
         "Hotel Camino del Sol"
        ]
       ],
       "shape": {
        "columns": 7,
        "rows": 5
       }
      },
      "text/html": [
       "<div>\n",
       "<style scoped>\n",
       "    .dataframe tbody tr th:only-of-type {\n",
       "        vertical-align: middle;\n",
       "    }\n",
       "\n",
       "    .dataframe tbody tr th {\n",
       "        vertical-align: top;\n",
       "    }\n",
       "\n",
       "    .dataframe thead th {\n",
       "        text-align: right;\n",
       "    }\n",
       "</style>\n",
       "<table border=\"1\" class=\"dataframe\">\n",
       "  <thead>\n",
       "    <tr style=\"text-align: right;\">\n",
       "      <th></th>\n",
       "      <th>id_reserva</th>\n",
       "      <th>fecha_reserva</th>\n",
       "      <th>inicio_estancia</th>\n",
       "      <th>final_estancia</th>\n",
       "      <th>precio_noche</th>\n",
       "      <th>id_cliente_unico</th>\n",
       "      <th>nombre_hotel</th>\n",
       "    </tr>\n",
       "  </thead>\n",
       "  <tbody>\n",
       "    <tr>\n",
       "      <th>0</th>\n",
       "      <td>5256cc90-139b-43d2-8ec5-412495d751cf</td>\n",
       "      <td>2025-02-25</td>\n",
       "      <td>2025-03-01</td>\n",
       "      <td>2025-03-02</td>\n",
       "      <td>268</td>\n",
       "      <td>C0fc</td>\n",
       "      <td>Novotel Madrid Center</td>\n",
       "    </tr>\n",
       "    <tr>\n",
       "      <th>1</th>\n",
       "      <td>84fd6209-bd8d-4a92-bfe6-c68ee2c49271</td>\n",
       "      <td>2025-02-25</td>\n",
       "      <td>2025-03-01</td>\n",
       "      <td>2025-03-02</td>\n",
       "      <td>110</td>\n",
       "      <td>C1lh</td>\n",
       "      <td>ibis budget Madrid Calle 30</td>\n",
       "    </tr>\n",
       "    <tr>\n",
       "      <th>2</th>\n",
       "      <td>40c4cb55-d1f5-407b-832f-4756b8ff77b4</td>\n",
       "      <td>2025-02-09</td>\n",
       "      <td>2025-03-01</td>\n",
       "      <td>2025-03-02</td>\n",
       "      <td>119.96</td>\n",
       "      <td>C2mc</td>\n",
       "      <td>Hotel Monte Verde</td>\n",
       "    </tr>\n",
       "    <tr>\n",
       "      <th>3</th>\n",
       "      <td>f2ce8df5-7844-43e1-8c0f-97ce7a208f21</td>\n",
       "      <td>2025-02-08</td>\n",
       "      <td>2025-03-01</td>\n",
       "      <td>2025-03-02</td>\n",
       "      <td>211.53</td>\n",
       "      <td>C3tb</td>\n",
       "      <td>Hotel Brisas del Mar</td>\n",
       "    </tr>\n",
       "    <tr>\n",
       "      <th>4</th>\n",
       "      <td>57d4515a-447d-4067-afcb-9bdcf4e4e915</td>\n",
       "      <td>2025-02-02</td>\n",
       "      <td>2025-03-01</td>\n",
       "      <td>2025-03-02</td>\n",
       "      <td>378.37</td>\n",
       "      <td>C4aa</td>\n",
       "      <td>Hotel Camino del Sol</td>\n",
       "    </tr>\n",
       "  </tbody>\n",
       "</table>\n",
       "</div>"
      ],
      "text/plain": [
       "                             id_reserva fecha_reserva inicio_estancia  \\\n",
       "0  5256cc90-139b-43d2-8ec5-412495d751cf    2025-02-25      2025-03-01   \n",
       "1  84fd6209-bd8d-4a92-bfe6-c68ee2c49271    2025-02-25      2025-03-01   \n",
       "2  40c4cb55-d1f5-407b-832f-4756b8ff77b4    2025-02-09      2025-03-01   \n",
       "3  f2ce8df5-7844-43e1-8c0f-97ce7a208f21    2025-02-08      2025-03-01   \n",
       "4  57d4515a-447d-4067-afcb-9bdcf4e4e915    2025-02-02      2025-03-01   \n",
       "\n",
       "  final_estancia precio_noche id_cliente_unico                 nombre_hotel  \n",
       "0     2025-03-02          268             C0fc        Novotel Madrid Center  \n",
       "1     2025-03-02          110             C1lh  ibis budget Madrid Calle 30  \n",
       "2     2025-03-02       119.96             C2mc            Hotel Monte Verde  \n",
       "3     2025-03-02       211.53             C3tb         Hotel Brisas del Mar  \n",
       "4     2025-03-02       378.37             C4aa         Hotel Camino del Sol  "
      ]
     },
     "execution_count": 41,
     "metadata": {},
     "output_type": "execute_result"
    }
   ],
   "source": [
    "#Creo la tabla reservas:\n",
    "tabla_reservas = df_reservas[['id_reserva', 'fecha_reserva', 'inicio_estancia', 'final_estancia', 'precio_noche', 'id_cliente_unico', 'nombre_hotel' ]]\n",
    "tabla_reservas = tabla_reservas.drop_duplicates()\n",
    "tabla_reservas.head()"
   ]
  },
  {
   "cell_type": "code",
   "execution_count": 42,
   "metadata": {},
   "outputs": [],
   "source": [
    "conn.rollback()"
   ]
  },
  {
   "cell_type": "code",
   "execution_count": 43,
   "metadata": {},
   "outputs": [],
   "source": [
    "#Obtengo el id del hotel a partir de la BBDD:\n",
    "cur.execute(\"SELECT nombre_hotel, id_hotel FROM hoteles\")\n",
    "hotel_dict=dict(cur.fetchall())"
   ]
  },
  {
   "cell_type": "code",
   "execution_count": 44,
   "metadata": {},
   "outputs": [
    {
     "data": {
      "text/plain": [
       "15000"
      ]
     },
     "execution_count": 44,
     "metadata": {},
     "output_type": "execute_result"
    }
   ],
   "source": [
    "#Creo los datos para insertarlos en la BBDD:\n",
    "data_to_insert=[]\n",
    "for _,row in tabla_reservas.iterrows():\n",
    "    id_reserva = row[\"id_reserva\"]\n",
    "    fecha_reserva = row[\"fecha_reserva\"]\n",
    "    inicio_estancia = row['inicio_estancia']\n",
    "    final_estancia = row['final_estancia']\n",
    "    precio_noche = row['precio_noche']\n",
    "    id_cliente = row['id_cliente_unico']\n",
    "    nombre_hotel = row['nombre_hotel']\n",
    "    id_hotel= hotel_dict.get(nombre_hotel)\n",
    "    data_to_insert.append([id_reserva, fecha_reserva, inicio_estancia, final_estancia, precio_noche, id_cliente, id_hotel])\n",
    "len(data_to_insert)"
   ]
  },
  {
   "cell_type": "code",
   "execution_count": 45,
   "metadata": {},
   "outputs": [],
   "source": [
    "#Subo la información a la BBDD:\n",
    "insert_query = \"\"\"\n",
    "INSERT INTO reservas (id_reserva, fecha_reserva, inicio_estancia, final_estancia, precio_noche, id_cliente, id_hotel)\n",
    "VALUES (%s, %s, %s, %s, %s, %s, %s)\n",
    "\"\"\"\n",
    "cur.executemany(insert_query, data_to_insert)\n",
    "conn.commit()"
   ]
  },
  {
   "cell_type": "markdown",
   "metadata": {},
   "source": [
    "# 6. Cierro la conexión y el cursor"
   ]
  },
  {
   "cell_type": "code",
   "execution_count": 48,
   "metadata": {},
   "outputs": [],
   "source": [
    "cur.close() #cierro el cursor\n",
    "conn.close() #cierro la conexión"
   ]
  }
 ],
 "metadata": {
  "kernelspec": {
   "display_name": "Python 3",
   "language": "python",
   "name": "python3"
  },
  "language_info": {
   "codemirror_mode": {
    "name": "ipython",
    "version": 3
   },
   "file_extension": ".py",
   "mimetype": "text/x-python",
   "name": "python",
   "nbconvert_exporter": "python",
   "pygments_lexer": "ipython3",
   "version": "3.12.5"
  }
 },
 "nbformat": 4,
 "nbformat_minor": 2
}
