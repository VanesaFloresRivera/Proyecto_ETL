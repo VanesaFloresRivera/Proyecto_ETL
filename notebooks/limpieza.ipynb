{
 "cells": [
  {
   "cell_type": "code",
   "execution_count": 2,
   "metadata": {},
   "outputs": [],
   "source": [
    "import pandas as pd\n",
    "import requests as rq\n",
    "import numpy as np\n",
    "import pyarrow\n"
   ]
  },
  {
   "cell_type": "code",
   "execution_count": 3,
   "metadata": {},
   "outputs": [],
   "source": [
    "df_raw=pd.read_parquet(\"../data/reservas_hoteles.parquet\")"
   ]
  },
  {
   "cell_type": "code",
   "execution_count": 4,
   "metadata": {},
   "outputs": [
    {
     "data": {
      "text/html": [
       "<div>\n",
       "<style scoped>\n",
       "    .dataframe tbody tr th:only-of-type {\n",
       "        vertical-align: middle;\n",
       "    }\n",
       "\n",
       "    .dataframe tbody tr th {\n",
       "        vertical-align: top;\n",
       "    }\n",
       "\n",
       "    .dataframe thead th {\n",
       "        text-align: right;\n",
       "    }\n",
       "</style>\n",
       "<table border=\"1\" class=\"dataframe\">\n",
       "  <thead>\n",
       "    <tr style=\"text-align: right;\">\n",
       "      <th></th>\n",
       "      <th>id_reserva</th>\n",
       "      <th>id_cliente</th>\n",
       "      <th>nombre</th>\n",
       "      <th>apellido</th>\n",
       "      <th>mail</th>\n",
       "      <th>competencia</th>\n",
       "      <th>fecha_reserva</th>\n",
       "      <th>inicio_estancia</th>\n",
       "      <th>final_estancia</th>\n",
       "      <th>id_hotel</th>\n",
       "      <th>precio_noche</th>\n",
       "      <th>nombre_hotel</th>\n",
       "      <th>estrellas</th>\n",
       "      <th>ciudad</th>\n",
       "    </tr>\n",
       "  </thead>\n",
       "  <tbody>\n",
       "    <tr>\n",
       "      <th>0</th>\n",
       "      <td>5256cc90-139b-43d2-8ec5-412495d751cf</td>\n",
       "      <td>346f2a77-33f4-4b2d-82f3-e8501e21b28d</td>\n",
       "      <td>Feliciana</td>\n",
       "      <td>Cantón</td>\n",
       "      <td>feliciana.cantón@example.com</td>\n",
       "      <td>True</td>\n",
       "      <td></td>\n",
       "      <td>2025-03-01</td>\n",
       "      <td>2025-03-02</td>\n",
       "      <td>113</td>\n",
       "      <td>NaN</td>\n",
       "      <td></td>\n",
       "      <td>NaN</td>\n",
       "      <td></td>\n",
       "    </tr>\n",
       "    <tr>\n",
       "      <th>1</th>\n",
       "      <td>84fd6209-bd8d-4a92-bfe6-c68ee2c49271</td>\n",
       "      <td>346f2a77-33f4-4b2d-82f3-e8501e21b28d</td>\n",
       "      <td>Leonardo</td>\n",
       "      <td>Hierro</td>\n",
       "      <td>leonardo.hierro@example.com</td>\n",
       "      <td>True</td>\n",
       "      <td></td>\n",
       "      <td>2025-03-01</td>\n",
       "      <td>2025-03-02</td>\n",
       "      <td>194</td>\n",
       "      <td>NaN</td>\n",
       "      <td></td>\n",
       "      <td>NaN</td>\n",
       "      <td></td>\n",
       "    </tr>\n",
       "    <tr>\n",
       "      <th>2</th>\n",
       "      <td>40c4cb55-d1f5-407b-832f-4756b8ff77b4</td>\n",
       "      <td>6ec4d7d2-e382-47cc-94f6-c647577d4035</td>\n",
       "      <td>Maite</td>\n",
       "      <td>Calatayud</td>\n",
       "      <td>maite.calatayud@example.com</td>\n",
       "      <td>False</td>\n",
       "      <td>2025-02-09</td>\n",
       "      <td>2025-03-01</td>\n",
       "      <td>2025-03-02</td>\n",
       "      <td>14</td>\n",
       "      <td>119.96</td>\n",
       "      <td>Hotel Monte Verde</td>\n",
       "      <td>1.0</td>\n",
       "      <td>Madrid</td>\n",
       "    </tr>\n",
       "    <tr>\n",
       "      <th>3</th>\n",
       "      <td>f2ce8df5-7844-43e1-8c0f-97ce7a208f21</td>\n",
       "      <td>aed17fe8-eb18-4f69-bf08-df1afdc339c3</td>\n",
       "      <td>Tecla</td>\n",
       "      <td>Bonet</td>\n",
       "      <td>tecla.bonet@example.com</td>\n",
       "      <td>False</td>\n",
       "      <td>2025-02-08</td>\n",
       "      <td>2025-03-01</td>\n",
       "      <td>2025-03-02</td>\n",
       "      <td>38</td>\n",
       "      <td>211.53</td>\n",
       "      <td>Hotel Brisas del Mar</td>\n",
       "      <td>5.0</td>\n",
       "      <td>Madrid</td>\n",
       "    </tr>\n",
       "    <tr>\n",
       "      <th>4</th>\n",
       "      <td>57d4515a-447d-4067-afcb-9bdcf4e4e915</td>\n",
       "      <td>710a2fbb-264f-426a-aa66-f8fffd146a2d</td>\n",
       "      <td>Amílcar</td>\n",
       "      <td>Andrés</td>\n",
       "      <td>amílcar.andrés@example.com</td>\n",
       "      <td>False</td>\n",
       "      <td>2025-02-02</td>\n",
       "      <td>2025-03-01</td>\n",
       "      <td>2025-03-02</td>\n",
       "      <td>35</td>\n",
       "      <td>378.37</td>\n",
       "      <td>Hotel Camino del Sol</td>\n",
       "      <td>1.0</td>\n",
       "      <td>Madrid</td>\n",
       "    </tr>\n",
       "  </tbody>\n",
       "</table>\n",
       "</div>"
      ],
      "text/plain": [
       "                             id_reserva                            id_cliente  \\\n",
       "0  5256cc90-139b-43d2-8ec5-412495d751cf  346f2a77-33f4-4b2d-82f3-e8501e21b28d   \n",
       "1  84fd6209-bd8d-4a92-bfe6-c68ee2c49271  346f2a77-33f4-4b2d-82f3-e8501e21b28d   \n",
       "2  40c4cb55-d1f5-407b-832f-4756b8ff77b4  6ec4d7d2-e382-47cc-94f6-c647577d4035   \n",
       "3  f2ce8df5-7844-43e1-8c0f-97ce7a208f21  aed17fe8-eb18-4f69-bf08-df1afdc339c3   \n",
       "4  57d4515a-447d-4067-afcb-9bdcf4e4e915  710a2fbb-264f-426a-aa66-f8fffd146a2d   \n",
       "\n",
       "      nombre   apellido                          mail  competencia  \\\n",
       "0  Feliciana     Cantón  feliciana.cantón@example.com         True   \n",
       "1   Leonardo     Hierro   leonardo.hierro@example.com         True   \n",
       "2      Maite  Calatayud   maite.calatayud@example.com        False   \n",
       "3      Tecla      Bonet       tecla.bonet@example.com        False   \n",
       "4    Amílcar     Andrés    amílcar.andrés@example.com        False   \n",
       "\n",
       "  fecha_reserva inicio_estancia final_estancia  id_hotel  precio_noche  \\\n",
       "0                    2025-03-01     2025-03-02       113           NaN   \n",
       "1                    2025-03-01     2025-03-02       194           NaN   \n",
       "2    2025-02-09      2025-03-01     2025-03-02        14        119.96   \n",
       "3    2025-02-08      2025-03-01     2025-03-02        38        211.53   \n",
       "4    2025-02-02      2025-03-01     2025-03-02        35        378.37   \n",
       "\n",
       "           nombre_hotel  estrellas  ciudad  \n",
       "0                              NaN          \n",
       "1                              NaN          \n",
       "2     Hotel Monte Verde        1.0  Madrid  \n",
       "3  Hotel Brisas del Mar        5.0  Madrid  \n",
       "4  Hotel Camino del Sol        1.0  Madrid  "
      ]
     },
     "execution_count": 4,
     "metadata": {},
     "output_type": "execute_result"
    }
   ],
   "source": [
    "df_raw.head()"
   ]
  },
  {
   "cell_type": "code",
   "execution_count": 5,
   "metadata": {},
   "outputs": [],
   "source": [
    "df=df_raw.copy()"
   ]
  },
  {
   "cell_type": "code",
   "execution_count": 6,
   "metadata": {},
   "outputs": [
    {
     "name": "stdout",
     "output_type": "stream",
     "text": [
      "<class 'pandas.core.frame.DataFrame'>\n",
      "RangeIndex: 15098 entries, 0 to 15097\n",
      "Data columns (total 14 columns):\n",
      " #   Column           Non-Null Count  Dtype  \n",
      "---  ------           --------------  -----  \n",
      " 0   id_reserva       15098 non-null  object \n",
      " 1   id_cliente       15098 non-null  object \n",
      " 2   nombre           15098 non-null  object \n",
      " 3   apellido         15098 non-null  object \n",
      " 4   mail             15098 non-null  object \n",
      " 5   competencia      15098 non-null  bool   \n",
      " 6   fecha_reserva    15098 non-null  object \n",
      " 7   inicio_estancia  15023 non-null  object \n",
      " 8   final_estancia   15023 non-null  object \n",
      " 9   id_hotel         15098 non-null  int64  \n",
      " 10  precio_noche     9874 non-null   float64\n",
      " 11  nombre_hotel     15098 non-null  object \n",
      " 12  estrellas        9926 non-null   float64\n",
      " 13  ciudad           15098 non-null  object \n",
      "dtypes: bool(1), float64(2), int64(1), object(10)\n",
      "memory usage: 1.5+ MB\n"
     ]
    }
   ],
   "source": [
    "df.info()"
   ]
  },
  {
   "cell_type": "markdown",
   "metadata": {},
   "source": [
    "# ANALIZO SI EXISTEN DUPLICADOS GLOBALES"
   ]
  },
  {
   "cell_type": "code",
   "execution_count": 7,
   "metadata": {},
   "outputs": [
    {
     "name": "stdout",
     "output_type": "stream",
     "text": [
      "98\n"
     ]
    }
   ],
   "source": [
    "print(df.duplicated().sum())"
   ]
  },
  {
   "cell_type": "code",
   "execution_count": 8,
   "metadata": {},
   "outputs": [],
   "source": [
    "#Elimino los duplicados\n",
    "df = df.drop_duplicates()"
   ]
  },
  {
   "cell_type": "code",
   "execution_count": 9,
   "metadata": {},
   "outputs": [
    {
     "name": "stdout",
     "output_type": "stream",
     "text": [
      "0\n"
     ]
    }
   ],
   "source": [
    "#Compruebo si hay ids duplicados:\n",
    "print(df.id_reserva.duplicated().sum())"
   ]
  },
  {
   "cell_type": "markdown",
   "metadata": {},
   "source": [
    "# TRANSFORMACIÓN DE LAS COLUMNAS TIPO FECHA"
   ]
  },
  {
   "cell_type": "code",
   "execution_count": 10,
   "metadata": {},
   "outputs": [],
   "source": [
    "def tran_data(lista_col, dataframe):\n",
    "    \"\"\"_summary_\n",
    "\n",
    "    Args:\n",
    "        lista_col (_type_): _description_\n",
    "        dataframe (_type_): _description_\n",
    "    \"\"\"\n",
    "    for col in lista_col:\n",
    "        dataframe[col] = pd.to_datetime(dataframe[col], errors=\"coerce\")"
   ]
  },
  {
   "cell_type": "code",
   "execution_count": 11,
   "metadata": {},
   "outputs": [
    {
     "name": "stdout",
     "output_type": "stream",
     "text": [
      "<class 'pandas.core.frame.DataFrame'>\n",
      "Index: 15000 entries, 0 to 14999\n",
      "Data columns (total 14 columns):\n",
      " #   Column           Non-Null Count  Dtype         \n",
      "---  ------           --------------  -----         \n",
      " 0   id_reserva       15000 non-null  object        \n",
      " 1   id_cliente       15000 non-null  object        \n",
      " 2   nombre           15000 non-null  object        \n",
      " 3   apellido         15000 non-null  object        \n",
      " 4   mail             15000 non-null  object        \n",
      " 5   competencia      15000 non-null  bool          \n",
      " 6   fecha_reserva    9828 non-null   datetime64[ns]\n",
      " 7   inicio_estancia  14925 non-null  datetime64[ns]\n",
      " 8   final_estancia   14925 non-null  datetime64[ns]\n",
      " 9   id_hotel         15000 non-null  int64         \n",
      " 10  precio_noche     9776 non-null   float64       \n",
      " 11  nombre_hotel     15000 non-null  object        \n",
      " 12  estrellas        9828 non-null   float64       \n",
      " 13  ciudad           15000 non-null  object        \n",
      "dtypes: bool(1), datetime64[ns](3), float64(2), int64(1), object(7)\n",
      "memory usage: 1.6+ MB\n"
     ]
    }
   ],
   "source": [
    "col_fechas=[\"fecha_reserva\",\"inicio_estancia\",\"final_estancia\"]\n",
    "tran_data(col_fechas, df)\n",
    "df.info()\n"
   ]
  },
  {
   "cell_type": "markdown",
   "metadata": {},
   "source": [
    "# TRANSFORMACIÓN DE LA COLUMNA estrellas  "
   ]
  },
  {
   "cell_type": "code",
   "execution_count": 12,
   "metadata": {},
   "outputs": [
    {
     "name": "stdout",
     "output_type": "stream",
     "text": [
      "<class 'pandas.core.frame.DataFrame'>\n",
      "Index: 15000 entries, 0 to 14999\n",
      "Data columns (total 14 columns):\n",
      " #   Column           Non-Null Count  Dtype         \n",
      "---  ------           --------------  -----         \n",
      " 0   id_reserva       15000 non-null  object        \n",
      " 1   id_cliente       15000 non-null  object        \n",
      " 2   nombre           15000 non-null  object        \n",
      " 3   apellido         15000 non-null  object        \n",
      " 4   mail             15000 non-null  object        \n",
      " 5   competencia      15000 non-null  bool          \n",
      " 6   fecha_reserva    9828 non-null   datetime64[ns]\n",
      " 7   inicio_estancia  14925 non-null  datetime64[ns]\n",
      " 8   final_estancia   14925 non-null  datetime64[ns]\n",
      " 9   id_hotel         15000 non-null  int64         \n",
      " 10  precio_noche     9776 non-null   float64       \n",
      " 11  nombre_hotel     15000 non-null  object        \n",
      " 12  estrellas        9828 non-null   Int64         \n",
      " 13  ciudad           15000 non-null  object        \n",
      "dtypes: Int64(1), bool(1), datetime64[ns](3), float64(1), int64(1), object(7)\n",
      "memory usage: 1.6+ MB\n"
     ]
    }
   ],
   "source": [
    "df[\"estrellas\"] = df[\"estrellas\"].astype('Int64')\n",
    "df.info()"
   ]
  },
  {
   "cell_type": "code",
   "execution_count": 13,
   "metadata": {},
   "outputs": [
    {
     "data": {
      "text/plain": [
       "nombre_hotel\n",
       "                          5172\n",
       "Hotel Sol y Luna           557\n",
       "Hotel Monte Verde          550\n",
       "Hotel Luz de Madrid        536\n",
       "Hotel Brisas del Mar       534\n",
       "Hotel Mirador Real         533\n",
       "Hotel Los Almendros        533\n",
       "Hotel Puerta del Cielo     526\n",
       "Hotel Camino del Sol       518\n",
       "Gran Hotel Madrid          518\n",
       "Hotel Costa Azul           515\n",
       "Hotel Las Estrellas        514\n",
       "Hotel Torre Dorada         512\n",
       "Hotel Rincón Sereno        512\n",
       "Hotel Vista Alegre         511\n",
       "Hotel Encanto Real         511\n",
       "Palacio del Sol            510\n",
       "Hotel Jardines del Rey     502\n",
       "Hotel Maravilla Real       473\n",
       "Hotel Palacio Imperial     463\n",
       "Name: count, dtype: int64"
      ]
     },
     "execution_count": 13,
     "metadata": {},
     "output_type": "execute_result"
    }
   ],
   "source": [
    "df[\"nombre_hotel\"].value_counts()"
   ]
  },
  {
   "cell_type": "code",
   "execution_count": 14,
   "metadata": {},
   "outputs": [],
   "source": [
    "df_competencia = df[df.competencia == True]"
   ]
  },
  {
   "cell_type": "code",
   "execution_count": 15,
   "metadata": {},
   "outputs": [
    {
     "data": {
      "text/plain": [
       "nombre_hotel\n",
       "    5172\n",
       "Name: count, dtype: int64"
      ]
     },
     "execution_count": 15,
     "metadata": {},
     "output_type": "execute_result"
    }
   ],
   "source": [
    "#aunque no aparezca como nulos, en realidad el nombre del hotel está vacío:\n",
    "df_competencia.nombre_hotel.value_counts()\n",
    "\n"
   ]
  },
  {
   "cell_type": "code",
   "execution_count": 16,
   "metadata": {},
   "outputs": [
    {
     "data": {
      "text/plain": [
       "ciudad\n",
       "    5172\n",
       "Name: count, dtype: int64"
      ]
     },
     "execution_count": 16,
     "metadata": {},
     "output_type": "execute_result"
    }
   ],
   "source": [
    "#aunque no aparezca como nulos, en realidad el nombre de la ciudad está vacío:\n",
    "df_competencia.ciudad.value_counts()"
   ]
  },
  {
   "cell_type": "code",
   "execution_count": 17,
   "metadata": {},
   "outputs": [
    {
     "name": "stdout",
     "output_type": "stream",
     "text": [
      "<class 'pandas.core.frame.DataFrame'>\n",
      "Index: 5172 entries, 0 to 14998\n",
      "Data columns (total 14 columns):\n",
      " #   Column           Non-Null Count  Dtype         \n",
      "---  ------           --------------  -----         \n",
      " 0   id_reserva       5172 non-null   object        \n",
      " 1   id_cliente       5172 non-null   object        \n",
      " 2   nombre           5172 non-null   object        \n",
      " 3   apellido         5172 non-null   object        \n",
      " 4   mail             5172 non-null   object        \n",
      " 5   competencia      5172 non-null   bool          \n",
      " 6   fecha_reserva    0 non-null      datetime64[ns]\n",
      " 7   inicio_estancia  5149 non-null   datetime64[ns]\n",
      " 8   final_estancia   5149 non-null   datetime64[ns]\n",
      " 9   id_hotel         5172 non-null   int64         \n",
      " 10  precio_noche     0 non-null      float64       \n",
      " 11  nombre_hotel     5172 non-null   object        \n",
      " 12  estrellas        0 non-null      Int64         \n",
      " 13  ciudad           5172 non-null   object        \n",
      "dtypes: Int64(1), bool(1), datetime64[ns](3), float64(1), int64(1), object(7)\n",
      "memory usage: 575.8+ KB\n"
     ]
    }
   ],
   "source": [
    "df_competencia.info()"
   ]
  },
  {
   "cell_type": "code",
   "execution_count": 18,
   "metadata": {},
   "outputs": [],
   "source": [
    "##consigo los datos faltantes con el scrapeo. Detalle en el documento scrapeo.ipynb"
   ]
  },
  {
   "cell_type": "markdown",
   "metadata": {},
   "source": [
    "# Análisis columna id_cliente"
   ]
  },
  {
   "cell_type": "code",
   "execution_count": 19,
   "metadata": {},
   "outputs": [
    {
     "data": {
      "text/plain": [
       "14847"
      ]
     },
     "execution_count": 19,
     "metadata": {},
     "output_type": "execute_result"
    }
   ],
   "source": [
    "len(df.id_cliente.unique())"
   ]
  },
  {
   "cell_type": "code",
   "execution_count": 20,
   "metadata": {},
   "outputs": [
    {
     "data": {
      "text/plain": [
       "14905"
      ]
     },
     "execution_count": 20,
     "metadata": {},
     "output_type": "execute_result"
    }
   ],
   "source": [
    "len(df.mail.unique())"
   ]
  },
  {
   "cell_type": "code",
   "execution_count": 21,
   "metadata": {},
   "outputs": [],
   "source": [
    "df[\"nombre_apellido\"] = df['nombre'].str.lower() +'.' +df['apellido'].str.lower()"
   ]
  },
  {
   "cell_type": "code",
   "execution_count": 22,
   "metadata": {},
   "outputs": [
    {
     "data": {
      "text/plain": [
       "9785"
      ]
     },
     "execution_count": 22,
     "metadata": {},
     "output_type": "execute_result"
    }
   ],
   "source": [
    "len(df[df['competencia']== False]['nombre_apellido'].unique())"
   ]
  },
  {
   "cell_type": "code",
   "execution_count": 23,
   "metadata": {},
   "outputs": [
    {
     "data": {
      "text/html": [
       "<div>\n",
       "<style scoped>\n",
       "    .dataframe tbody tr th:only-of-type {\n",
       "        vertical-align: middle;\n",
       "    }\n",
       "\n",
       "    .dataframe tbody tr th {\n",
       "        vertical-align: top;\n",
       "    }\n",
       "\n",
       "    .dataframe thead th {\n",
       "        text-align: right;\n",
       "    }\n",
       "</style>\n",
       "<table border=\"1\" class=\"dataframe\">\n",
       "  <thead>\n",
       "    <tr style=\"text-align: right;\">\n",
       "      <th></th>\n",
       "      <th>index</th>\n",
       "      <th>id_nombre_apellido</th>\n",
       "    </tr>\n",
       "  </thead>\n",
       "  <tbody>\n",
       "    <tr>\n",
       "      <th>0</th>\n",
       "      <td>0</td>\n",
       "      <td>346f2a77-33f4-4b2d-82f3-e8501e21b28d|feliciana...</td>\n",
       "    </tr>\n",
       "    <tr>\n",
       "      <th>1</th>\n",
       "      <td>1</td>\n",
       "      <td>346f2a77-33f4-4b2d-82f3-e8501e21b28d|leonardo....</td>\n",
       "    </tr>\n",
       "    <tr>\n",
       "      <th>2</th>\n",
       "      <td>2</td>\n",
       "      <td>6ec4d7d2-e382-47cc-94f6-c647577d4035|maite.cal...</td>\n",
       "    </tr>\n",
       "    <tr>\n",
       "      <th>3</th>\n",
       "      <td>3</td>\n",
       "      <td>aed17fe8-eb18-4f69-bf08-df1afdc339c3|tecla.bonet</td>\n",
       "    </tr>\n",
       "    <tr>\n",
       "      <th>4</th>\n",
       "      <td>4</td>\n",
       "      <td>710a2fbb-264f-426a-aa66-f8fffd146a2d|amílcar.a...</td>\n",
       "    </tr>\n",
       "    <tr>\n",
       "      <th>...</th>\n",
       "      <td>...</td>\n",
       "      <td>...</td>\n",
       "    </tr>\n",
       "    <tr>\n",
       "      <th>14995</th>\n",
       "      <td>14995</td>\n",
       "      <td>de729428-ec23-4665-a5c9-79e3ec282470|lorena.román</td>\n",
       "    </tr>\n",
       "    <tr>\n",
       "      <th>14996</th>\n",
       "      <td>14996</td>\n",
       "      <td>8469b819-d96a-4904-9cdd-710764f6301f|toño.narváez</td>\n",
       "    </tr>\n",
       "    <tr>\n",
       "      <th>14997</th>\n",
       "      <td>14997</td>\n",
       "      <td>e89751f4-3621-4636-81d3-90e2baa709cb|nadia.ver...</td>\n",
       "    </tr>\n",
       "    <tr>\n",
       "      <th>14998</th>\n",
       "      <td>14998</td>\n",
       "      <td>c4117358-fd89-44cd-b388-4ec6d3538c72|custodia....</td>\n",
       "    </tr>\n",
       "    <tr>\n",
       "      <th>14999</th>\n",
       "      <td>14999</td>\n",
       "      <td>f97ec0a6-6fb7-401e-83fa-5fb3957ee02b|brígida.s...</td>\n",
       "    </tr>\n",
       "  </tbody>\n",
       "</table>\n",
       "<p>15000 rows × 2 columns</p>\n",
       "</div>"
      ],
      "text/plain": [
       "       index                                 id_nombre_apellido\n",
       "0          0  346f2a77-33f4-4b2d-82f3-e8501e21b28d|feliciana...\n",
       "1          1  346f2a77-33f4-4b2d-82f3-e8501e21b28d|leonardo....\n",
       "2          2  6ec4d7d2-e382-47cc-94f6-c647577d4035|maite.cal...\n",
       "3          3   aed17fe8-eb18-4f69-bf08-df1afdc339c3|tecla.bonet\n",
       "4          4  710a2fbb-264f-426a-aa66-f8fffd146a2d|amílcar.a...\n",
       "...      ...                                                ...\n",
       "14995  14995  de729428-ec23-4665-a5c9-79e3ec282470|lorena.román\n",
       "14996  14996  8469b819-d96a-4904-9cdd-710764f6301f|toño.narváez\n",
       "14997  14997  e89751f4-3621-4636-81d3-90e2baa709cb|nadia.ver...\n",
       "14998  14998  c4117358-fd89-44cd-b388-4ec6d3538c72|custodia....\n",
       "14999  14999  f97ec0a6-6fb7-401e-83fa-5fb3957ee02b|brígida.s...\n",
       "\n",
       "[15000 rows x 2 columns]"
      ]
     },
     "execution_count": 23,
     "metadata": {},
     "output_type": "execute_result"
    }
   ],
   "source": [
    "#tengo menos id_clientes que combinaciones de nombres y apellidos. Parece que hay clientes con un mismo id y diferentes nombres. Intento localizarlos\n",
    "\n",
    "df[\"id_nombre_apellido\"] = df[\"id_cliente\"]+\"|\"+df[\"nombre_apellido\"]\n",
    "df\n",
    "df_id_nombre_apellido =df[\"id_nombre_apellido\"].reset_index()\n",
    "df_id_nombre_apellido"
   ]
  },
  {
   "cell_type": "code",
   "execution_count": 24,
   "metadata": {},
   "outputs": [],
   "source": [
    "df_id_nombre_apellido['id']=df['id_nombre_apellido'].str.split('|', expand=True)[0]\n",
    "df_id_nombre_apellido['nombre_apellido']=df['id_nombre_apellido'].str.split('|', expand=True)[1]"
   ]
  },
  {
   "cell_type": "code",
   "execution_count": 25,
   "metadata": {},
   "outputs": [
    {
     "data": {
      "text/html": [
       "<div>\n",
       "<style scoped>\n",
       "    .dataframe tbody tr th:only-of-type {\n",
       "        vertical-align: middle;\n",
       "    }\n",
       "\n",
       "    .dataframe tbody tr th {\n",
       "        vertical-align: top;\n",
       "    }\n",
       "\n",
       "    .dataframe thead th {\n",
       "        text-align: right;\n",
       "    }\n",
       "</style>\n",
       "<table border=\"1\" class=\"dataframe\">\n",
       "  <thead>\n",
       "    <tr style=\"text-align: right;\">\n",
       "      <th></th>\n",
       "      <th>nombre_apellido</th>\n",
       "      <th>count</th>\n",
       "    </tr>\n",
       "  </thead>\n",
       "  <tbody>\n",
       "    <tr>\n",
       "      <th>0</th>\n",
       "      <td>victoriano.ródenas</td>\n",
       "      <td>3</td>\n",
       "    </tr>\n",
       "    <tr>\n",
       "      <th>1</th>\n",
       "      <td>ariadna.miguel</td>\n",
       "      <td>3</td>\n",
       "    </tr>\n",
       "    <tr>\n",
       "      <th>2</th>\n",
       "      <td>manuelita.leiva</td>\n",
       "      <td>2</td>\n",
       "    </tr>\n",
       "    <tr>\n",
       "      <th>3</th>\n",
       "      <td>anselma.cano</td>\n",
       "      <td>2</td>\n",
       "    </tr>\n",
       "    <tr>\n",
       "      <th>4</th>\n",
       "      <td>sergio.carrión</td>\n",
       "      <td>2</td>\n",
       "    </tr>\n",
       "    <tr>\n",
       "      <th>...</th>\n",
       "      <td>...</td>\n",
       "      <td>...</td>\n",
       "    </tr>\n",
       "    <tr>\n",
       "      <th>14900</th>\n",
       "      <td>plácido.ocaña</td>\n",
       "      <td>1</td>\n",
       "    </tr>\n",
       "    <tr>\n",
       "      <th>14901</th>\n",
       "      <td>agapito.ortiz</td>\n",
       "      <td>1</td>\n",
       "    </tr>\n",
       "    <tr>\n",
       "      <th>14902</th>\n",
       "      <td>eligio.paredes</td>\n",
       "      <td>1</td>\n",
       "    </tr>\n",
       "    <tr>\n",
       "      <th>14903</th>\n",
       "      <td>roxana.teruel</td>\n",
       "      <td>1</td>\n",
       "    </tr>\n",
       "    <tr>\n",
       "      <th>14904</th>\n",
       "      <td>tecla.bonet</td>\n",
       "      <td>1</td>\n",
       "    </tr>\n",
       "  </tbody>\n",
       "</table>\n",
       "<p>14905 rows × 2 columns</p>\n",
       "</div>"
      ],
      "text/plain": [
       "          nombre_apellido  count\n",
       "0      victoriano.ródenas      3\n",
       "1          ariadna.miguel      3\n",
       "2         manuelita.leiva      2\n",
       "3            anselma.cano      2\n",
       "4          sergio.carrión      2\n",
       "...                   ...    ...\n",
       "14900       plácido.ocaña      1\n",
       "14901       agapito.ortiz      1\n",
       "14902      eligio.paredes      1\n",
       "14903       roxana.teruel      1\n",
       "14904         tecla.bonet      1\n",
       "\n",
       "[14905 rows x 2 columns]"
      ]
     },
     "execution_count": 25,
     "metadata": {},
     "output_type": "execute_result"
    }
   ],
   "source": [
    "df_contador_nombres_apellidos = df_id_nombre_apellido.nombre_apellido.value_counts().reset_index()\n",
    "df_contador_nombres_apellidos"
   ]
  },
  {
   "cell_type": "code",
   "execution_count": 26,
   "metadata": {},
   "outputs": [
    {
     "data": {
      "text/html": [
       "<div>\n",
       "<style scoped>\n",
       "    .dataframe tbody tr th:only-of-type {\n",
       "        vertical-align: middle;\n",
       "    }\n",
       "\n",
       "    .dataframe tbody tr th {\n",
       "        vertical-align: top;\n",
       "    }\n",
       "\n",
       "    .dataframe thead th {\n",
       "        text-align: right;\n",
       "    }\n",
       "</style>\n",
       "<table border=\"1\" class=\"dataframe\">\n",
       "  <thead>\n",
       "    <tr style=\"text-align: right;\">\n",
       "      <th></th>\n",
       "      <th>nombre_apellido</th>\n",
       "      <th>count</th>\n",
       "    </tr>\n",
       "  </thead>\n",
       "  <tbody>\n",
       "    <tr>\n",
       "      <th>0</th>\n",
       "      <td>victoriano.ródenas</td>\n",
       "      <td>3</td>\n",
       "    </tr>\n",
       "    <tr>\n",
       "      <th>1</th>\n",
       "      <td>ariadna.miguel</td>\n",
       "      <td>3</td>\n",
       "    </tr>\n",
       "    <tr>\n",
       "      <th>2</th>\n",
       "      <td>manuelita.leiva</td>\n",
       "      <td>2</td>\n",
       "    </tr>\n",
       "    <tr>\n",
       "      <th>3</th>\n",
       "      <td>anselma.cano</td>\n",
       "      <td>2</td>\n",
       "    </tr>\n",
       "    <tr>\n",
       "      <th>4</th>\n",
       "      <td>sergio.carrión</td>\n",
       "      <td>2</td>\n",
       "    </tr>\n",
       "    <tr>\n",
       "      <th>...</th>\n",
       "      <td>...</td>\n",
       "      <td>...</td>\n",
       "    </tr>\n",
       "    <tr>\n",
       "      <th>88</th>\n",
       "      <td>brígida.cózar</td>\n",
       "      <td>2</td>\n",
       "    </tr>\n",
       "    <tr>\n",
       "      <th>89</th>\n",
       "      <td>sofía.pellicer</td>\n",
       "      <td>2</td>\n",
       "    </tr>\n",
       "    <tr>\n",
       "      <th>90</th>\n",
       "      <td>florencia.olivé</td>\n",
       "      <td>2</td>\n",
       "    </tr>\n",
       "    <tr>\n",
       "      <th>91</th>\n",
       "      <td>olalla.lillo</td>\n",
       "      <td>2</td>\n",
       "    </tr>\n",
       "    <tr>\n",
       "      <th>92</th>\n",
       "      <td>victor.peiró</td>\n",
       "      <td>2</td>\n",
       "    </tr>\n",
       "  </tbody>\n",
       "</table>\n",
       "<p>93 rows × 2 columns</p>\n",
       "</div>"
      ],
      "text/plain": [
       "       nombre_apellido  count\n",
       "0   victoriano.ródenas      3\n",
       "1       ariadna.miguel      3\n",
       "2      manuelita.leiva      2\n",
       "3         anselma.cano      2\n",
       "4       sergio.carrión      2\n",
       "..                 ...    ...\n",
       "88       brígida.cózar      2\n",
       "89      sofía.pellicer      2\n",
       "90     florencia.olivé      2\n",
       "91        olalla.lillo      2\n",
       "92        victor.peiró      2\n",
       "\n",
       "[93 rows x 2 columns]"
      ]
     },
     "execution_count": 26,
     "metadata": {},
     "output_type": "execute_result"
    }
   ],
   "source": [
    "df_contador_nombres_apellidos[df_contador_nombres_apellidos['count']>1]"
   ]
  },
  {
   "cell_type": "code",
   "execution_count": 27,
   "metadata": {},
   "outputs": [],
   "source": [
    "lista_nombres_duplicados= df_contador_nombres_apellidos[df_contador_nombres_apellidos['count']>1].nombre_apellido.to_list()"
   ]
  },
  {
   "cell_type": "code",
   "execution_count": 28,
   "metadata": {},
   "outputs": [
    {
     "data": {
      "text/html": [
       "<div>\n",
       "<style scoped>\n",
       "    .dataframe tbody tr th:only-of-type {\n",
       "        vertical-align: middle;\n",
       "    }\n",
       "\n",
       "    .dataframe tbody tr th {\n",
       "        vertical-align: top;\n",
       "    }\n",
       "\n",
       "    .dataframe thead th {\n",
       "        text-align: right;\n",
       "    }\n",
       "</style>\n",
       "<table border=\"1\" class=\"dataframe\">\n",
       "  <thead>\n",
       "    <tr style=\"text-align: right;\">\n",
       "      <th></th>\n",
       "      <th>nombre_completo</th>\n",
       "      <th>num_id_duplicados</th>\n",
       "    </tr>\n",
       "  </thead>\n",
       "  <tbody>\n",
       "    <tr>\n",
       "      <th>0</th>\n",
       "      <td>victoriano.ródenas</td>\n",
       "      <td>3</td>\n",
       "    </tr>\n",
       "    <tr>\n",
       "      <th>1</th>\n",
       "      <td>ariadna.miguel</td>\n",
       "      <td>3</td>\n",
       "    </tr>\n",
       "    <tr>\n",
       "      <th>2</th>\n",
       "      <td>manuelita.leiva</td>\n",
       "      <td>2</td>\n",
       "    </tr>\n",
       "    <tr>\n",
       "      <th>3</th>\n",
       "      <td>anselma.cano</td>\n",
       "      <td>2</td>\n",
       "    </tr>\n",
       "    <tr>\n",
       "      <th>4</th>\n",
       "      <td>sergio.carrión</td>\n",
       "      <td>2</td>\n",
       "    </tr>\n",
       "    <tr>\n",
       "      <th>...</th>\n",
       "      <td>...</td>\n",
       "      <td>...</td>\n",
       "    </tr>\n",
       "    <tr>\n",
       "      <th>88</th>\n",
       "      <td>brígida.cózar</td>\n",
       "      <td>2</td>\n",
       "    </tr>\n",
       "    <tr>\n",
       "      <th>89</th>\n",
       "      <td>sofía.pellicer</td>\n",
       "      <td>2</td>\n",
       "    </tr>\n",
       "    <tr>\n",
       "      <th>90</th>\n",
       "      <td>florencia.olivé</td>\n",
       "      <td>2</td>\n",
       "    </tr>\n",
       "    <tr>\n",
       "      <th>91</th>\n",
       "      <td>olalla.lillo</td>\n",
       "      <td>2</td>\n",
       "    </tr>\n",
       "    <tr>\n",
       "      <th>92</th>\n",
       "      <td>victor.peiró</td>\n",
       "      <td>2</td>\n",
       "    </tr>\n",
       "  </tbody>\n",
       "</table>\n",
       "<p>93 rows × 2 columns</p>\n",
       "</div>"
      ],
      "text/plain": [
       "       nombre_completo  num_id_duplicados\n",
       "0   victoriano.ródenas                  3\n",
       "1       ariadna.miguel                  3\n",
       "2      manuelita.leiva                  2\n",
       "3         anselma.cano                  2\n",
       "4       sergio.carrión                  2\n",
       "..                 ...                ...\n",
       "88       brígida.cózar                  2\n",
       "89      sofía.pellicer                  2\n",
       "90     florencia.olivé                  2\n",
       "91        olalla.lillo                  2\n",
       "92        victor.peiró                  2\n",
       "\n",
       "[93 rows x 2 columns]"
      ]
     },
     "execution_count": 28,
     "metadata": {},
     "output_type": "execute_result"
    }
   ],
   "source": [
    "dict_clientes_dup ={'nombre_completo':[],\n",
    "                     'num_id_duplicados':[]}\n",
    "for nombre in lista_nombres_duplicados:\n",
    "    nombre_completo=nombre\n",
    "    num_ids_duplicados = len(df[df.nombre_apellido == nombre].id_cliente.value_counts())\n",
    "    dict_clientes_dup['nombre_completo'].append(nombre_completo)\n",
    "    dict_clientes_dup['num_id_duplicados'].append(num_ids_duplicados)\n",
    "dict_clientes_dup\n",
    "df_clientes_dup=pd.DataFrame(dict_clientes_dup)\n",
    "df_clientes_dup"
   ]
  },
  {
   "cell_type": "code",
   "execution_count": 29,
   "metadata": {},
   "outputs": [
    {
     "data": {
      "text/html": [
       "<div>\n",
       "<style scoped>\n",
       "    .dataframe tbody tr th:only-of-type {\n",
       "        vertical-align: middle;\n",
       "    }\n",
       "\n",
       "    .dataframe tbody tr th {\n",
       "        vertical-align: top;\n",
       "    }\n",
       "\n",
       "    .dataframe thead th {\n",
       "        text-align: right;\n",
       "    }\n",
       "</style>\n",
       "<table border=\"1\" class=\"dataframe\">\n",
       "  <thead>\n",
       "    <tr style=\"text-align: right;\">\n",
       "      <th></th>\n",
       "      <th>id</th>\n",
       "      <th>count</th>\n",
       "    </tr>\n",
       "  </thead>\n",
       "  <tbody>\n",
       "    <tr>\n",
       "      <th>0</th>\n",
       "      <td>8bec1ff1-84d7-4cad-937f-dbae37691569</td>\n",
       "      <td>3</td>\n",
       "    </tr>\n",
       "    <tr>\n",
       "      <th>1</th>\n",
       "      <td>ba60cff3-280a-4948-b6da-5e76e57b9d79</td>\n",
       "      <td>3</td>\n",
       "    </tr>\n",
       "    <tr>\n",
       "      <th>2</th>\n",
       "      <td>f0c7fbf6-cea3-42fc-a94f-11c69dbf5713</td>\n",
       "      <td>3</td>\n",
       "    </tr>\n",
       "    <tr>\n",
       "      <th>3</th>\n",
       "      <td>3369b2b1-6b9a-4914-b7bb-655dd1d9c90f</td>\n",
       "      <td>2</td>\n",
       "    </tr>\n",
       "    <tr>\n",
       "      <th>4</th>\n",
       "      <td>d5897c77-6f76-4830-a64f-f6074f4833d1</td>\n",
       "      <td>2</td>\n",
       "    </tr>\n",
       "    <tr>\n",
       "      <th>...</th>\n",
       "      <td>...</td>\n",
       "      <td>...</td>\n",
       "    </tr>\n",
       "    <tr>\n",
       "      <th>14842</th>\n",
       "      <td>697fb6ac-a6bd-4297-929c-2e2a287078ff</td>\n",
       "      <td>1</td>\n",
       "    </tr>\n",
       "    <tr>\n",
       "      <th>14843</th>\n",
       "      <td>fd5ad4dc-9b25-4087-86d9-af3658d0333b</td>\n",
       "      <td>1</td>\n",
       "    </tr>\n",
       "    <tr>\n",
       "      <th>14844</th>\n",
       "      <td>f0bb12f5-4649-4dfe-9562-2edbc303338c</td>\n",
       "      <td>1</td>\n",
       "    </tr>\n",
       "    <tr>\n",
       "      <th>14845</th>\n",
       "      <td>90190fd5-4ecc-4b3e-b56c-47f1daa81463</td>\n",
       "      <td>1</td>\n",
       "    </tr>\n",
       "    <tr>\n",
       "      <th>14846</th>\n",
       "      <td>23d27e02-85dd-4852-a241-0acf2fd098ff</td>\n",
       "      <td>1</td>\n",
       "    </tr>\n",
       "  </tbody>\n",
       "</table>\n",
       "<p>14847 rows × 2 columns</p>\n",
       "</div>"
      ],
      "text/plain": [
       "                                         id  count\n",
       "0      8bec1ff1-84d7-4cad-937f-dbae37691569      3\n",
       "1      ba60cff3-280a-4948-b6da-5e76e57b9d79      3\n",
       "2      f0c7fbf6-cea3-42fc-a94f-11c69dbf5713      3\n",
       "3      3369b2b1-6b9a-4914-b7bb-655dd1d9c90f      2\n",
       "4      d5897c77-6f76-4830-a64f-f6074f4833d1      2\n",
       "...                                     ...    ...\n",
       "14842  697fb6ac-a6bd-4297-929c-2e2a287078ff      1\n",
       "14843  fd5ad4dc-9b25-4087-86d9-af3658d0333b      1\n",
       "14844  f0bb12f5-4649-4dfe-9562-2edbc303338c      1\n",
       "14845  90190fd5-4ecc-4b3e-b56c-47f1daa81463      1\n",
       "14846  23d27e02-85dd-4852-a241-0acf2fd098ff      1\n",
       "\n",
       "[14847 rows x 2 columns]"
      ]
     },
     "execution_count": 29,
     "metadata": {},
     "output_type": "execute_result"
    }
   ],
   "source": [
    "df_contador_ids = df_id_nombre_apellido.id.value_counts().reset_index()\n",
    "df_contador_ids"
   ]
  },
  {
   "cell_type": "code",
   "execution_count": 30,
   "metadata": {},
   "outputs": [],
   "source": [
    "lista_ids_duplicados = df_contador_ids[df_contador_ids['count']>1].id.to_list()"
   ]
  },
  {
   "cell_type": "code",
   "execution_count": 31,
   "metadata": {},
   "outputs": [
    {
     "data": {
      "text/html": [
       "<div>\n",
       "<style scoped>\n",
       "    .dataframe tbody tr th:only-of-type {\n",
       "        vertical-align: middle;\n",
       "    }\n",
       "\n",
       "    .dataframe tbody tr th {\n",
       "        vertical-align: top;\n",
       "    }\n",
       "\n",
       "    .dataframe thead th {\n",
       "        text-align: right;\n",
       "    }\n",
       "</style>\n",
       "<table border=\"1\" class=\"dataframe\">\n",
       "  <thead>\n",
       "    <tr style=\"text-align: right;\">\n",
       "      <th></th>\n",
       "      <th>id</th>\n",
       "      <th>num_clientes_duplicados</th>\n",
       "    </tr>\n",
       "  </thead>\n",
       "  <tbody>\n",
       "    <tr>\n",
       "      <th>0</th>\n",
       "      <td>8bec1ff1-84d7-4cad-937f-dbae37691569</td>\n",
       "      <td>3</td>\n",
       "    </tr>\n",
       "    <tr>\n",
       "      <th>1</th>\n",
       "      <td>ba60cff3-280a-4948-b6da-5e76e57b9d79</td>\n",
       "      <td>3</td>\n",
       "    </tr>\n",
       "    <tr>\n",
       "      <th>2</th>\n",
       "      <td>f0c7fbf6-cea3-42fc-a94f-11c69dbf5713</td>\n",
       "      <td>3</td>\n",
       "    </tr>\n",
       "    <tr>\n",
       "      <th>3</th>\n",
       "      <td>3369b2b1-6b9a-4914-b7bb-655dd1d9c90f</td>\n",
       "      <td>2</td>\n",
       "    </tr>\n",
       "    <tr>\n",
       "      <th>4</th>\n",
       "      <td>d5897c77-6f76-4830-a64f-f6074f4833d1</td>\n",
       "      <td>2</td>\n",
       "    </tr>\n",
       "    <tr>\n",
       "      <th>...</th>\n",
       "      <td>...</td>\n",
       "      <td>...</td>\n",
       "    </tr>\n",
       "    <tr>\n",
       "      <th>145</th>\n",
       "      <td>7484177b-51d6-44b0-9ffb-d052fa2eb95b</td>\n",
       "      <td>2</td>\n",
       "    </tr>\n",
       "    <tr>\n",
       "      <th>146</th>\n",
       "      <td>70e63c2b-1eda-4df2-8bea-66872b0a1807</td>\n",
       "      <td>2</td>\n",
       "    </tr>\n",
       "    <tr>\n",
       "      <th>147</th>\n",
       "      <td>8e66b4d1-95b8-409f-b806-8d1ac0fabcd4</td>\n",
       "      <td>2</td>\n",
       "    </tr>\n",
       "    <tr>\n",
       "      <th>148</th>\n",
       "      <td>99e2b670-a1cc-470c-a41f-10464e894e33</td>\n",
       "      <td>2</td>\n",
       "    </tr>\n",
       "    <tr>\n",
       "      <th>149</th>\n",
       "      <td>614c4625-81ae-4cb8-be62-beef3ba967bb</td>\n",
       "      <td>2</td>\n",
       "    </tr>\n",
       "  </tbody>\n",
       "</table>\n",
       "<p>150 rows × 2 columns</p>\n",
       "</div>"
      ],
      "text/plain": [
       "                                       id  num_clientes_duplicados\n",
       "0    8bec1ff1-84d7-4cad-937f-dbae37691569                        3\n",
       "1    ba60cff3-280a-4948-b6da-5e76e57b9d79                        3\n",
       "2    f0c7fbf6-cea3-42fc-a94f-11c69dbf5713                        3\n",
       "3    3369b2b1-6b9a-4914-b7bb-655dd1d9c90f                        2\n",
       "4    d5897c77-6f76-4830-a64f-f6074f4833d1                        2\n",
       "..                                    ...                      ...\n",
       "145  7484177b-51d6-44b0-9ffb-d052fa2eb95b                        2\n",
       "146  70e63c2b-1eda-4df2-8bea-66872b0a1807                        2\n",
       "147  8e66b4d1-95b8-409f-b806-8d1ac0fabcd4                        2\n",
       "148  99e2b670-a1cc-470c-a41f-10464e894e33                        2\n",
       "149  614c4625-81ae-4cb8-be62-beef3ba967bb                        2\n",
       "\n",
       "[150 rows x 2 columns]"
      ]
     },
     "execution_count": 31,
     "metadata": {},
     "output_type": "execute_result"
    }
   ],
   "source": [
    "dict_ids_dup ={'id':[],\n",
    "                     'num_clientes_duplicados':[]}\n",
    "for id in lista_ids_duplicados:\n",
    "    ids=id\n",
    "    num_clientes_duplicados = len(df[df.id_cliente == id].nombre_apellido.value_counts())\n",
    "    dict_ids_dup['id'].append(ids)\n",
    "    dict_ids_dup['num_clientes_duplicados'].append(num_clientes_duplicados)\n",
    "dict_ids_dup\n",
    "df_ids_dup=pd.DataFrame(dict_ids_dup)\n",
    "df_ids_dup"
   ]
  },
  {
   "cell_type": "markdown",
   "metadata": {},
   "source": [
    "# Columnas inicio_estancia y final_estancia"
   ]
  },
  {
   "cell_type": "code",
   "execution_count": 32,
   "metadata": {},
   "outputs": [
    {
     "name": "stdout",
     "output_type": "stream",
     "text": [
      "<class 'pandas.core.frame.DataFrame'>\n",
      "Index: 15000 entries, 0 to 14999\n",
      "Data columns (total 16 columns):\n",
      " #   Column              Non-Null Count  Dtype         \n",
      "---  ------              --------------  -----         \n",
      " 0   id_reserva          15000 non-null  object        \n",
      " 1   id_cliente          15000 non-null  object        \n",
      " 2   nombre              15000 non-null  object        \n",
      " 3   apellido            15000 non-null  object        \n",
      " 4   mail                15000 non-null  object        \n",
      " 5   competencia         15000 non-null  bool          \n",
      " 6   fecha_reserva       9828 non-null   datetime64[ns]\n",
      " 7   inicio_estancia     15000 non-null  datetime64[ns]\n",
      " 8   final_estancia      15000 non-null  datetime64[ns]\n",
      " 9   id_hotel            15000 non-null  int64         \n",
      " 10  precio_noche        9776 non-null   float64       \n",
      " 11  nombre_hotel        15000 non-null  object        \n",
      " 12  estrellas           9828 non-null   Int64         \n",
      " 13  ciudad              15000 non-null  object        \n",
      " 14  nombre_apellido     15000 non-null  object        \n",
      " 15  id_nombre_apellido  15000 non-null  object        \n",
      "dtypes: Int64(1), bool(1), datetime64[ns](3), float64(1), int64(1), object(9)\n",
      "memory usage: 2.4+ MB\n"
     ]
    }
   ],
   "source": [
    "#las 2 columnas tienen valores nulos. Los relleno con el único valor existente:\n",
    "df.inicio_estancia.value_counts()\n",
    "df[\"inicio_estancia\"] = df[\"inicio_estancia\"][0]\n",
    "df[\"final_estancia\"] =  df[\"final_estancia\"][0]\n",
    "\n",
    "df.info()"
   ]
  },
  {
   "cell_type": "markdown",
   "metadata": {},
   "source": [
    "# Columna fecha_reserva"
   ]
  },
  {
   "cell_type": "code",
   "execution_count": 33,
   "metadata": {},
   "outputs": [
    {
     "data": {
      "text/plain": [
       "fecha_reserva\n",
       "2025-02-06    872\n",
       "2025-02-04    871\n",
       "2025-02-02    853\n",
       "2025-02-03    833\n",
       "2025-02-05    825\n",
       "2025-02-09    820\n",
       "2025-02-01    814\n",
       "2025-02-10    812\n",
       "2025-02-12    811\n",
       "2025-02-11    775\n",
       "2025-02-07    775\n",
       "2025-02-08    767\n",
       "Name: count, dtype: int64"
      ]
     },
     "execution_count": 33,
     "metadata": {},
     "output_type": "execute_result"
    }
   ],
   "source": [
    "df.fecha_reserva.value_counts()\n",
    "#Totas las reservas se han realizado en febrero de 2025"
   ]
  },
  {
   "cell_type": "code",
   "execution_count": 34,
   "metadata": {},
   "outputs": [
    {
     "data": {
      "text/html": [
       "<div>\n",
       "<style scoped>\n",
       "    .dataframe tbody tr th:only-of-type {\n",
       "        vertical-align: middle;\n",
       "    }\n",
       "\n",
       "    .dataframe tbody tr th {\n",
       "        vertical-align: top;\n",
       "    }\n",
       "\n",
       "    .dataframe thead th {\n",
       "        text-align: right;\n",
       "    }\n",
       "</style>\n",
       "<table border=\"1\" class=\"dataframe\">\n",
       "  <thead>\n",
       "    <tr style=\"text-align: right;\">\n",
       "      <th></th>\n",
       "      <th>id_reserva</th>\n",
       "      <th>id_cliente</th>\n",
       "      <th>nombre</th>\n",
       "      <th>apellido</th>\n",
       "      <th>mail</th>\n",
       "      <th>competencia</th>\n",
       "      <th>fecha_reserva</th>\n",
       "      <th>inicio_estancia</th>\n",
       "      <th>final_estancia</th>\n",
       "      <th>id_hotel</th>\n",
       "      <th>precio_noche</th>\n",
       "      <th>nombre_hotel</th>\n",
       "      <th>estrellas</th>\n",
       "      <th>ciudad</th>\n",
       "      <th>nombre_apellido</th>\n",
       "      <th>id_nombre_apellido</th>\n",
       "    </tr>\n",
       "  </thead>\n",
       "  <tbody>\n",
       "  </tbody>\n",
       "</table>\n",
       "</div>"
      ],
      "text/plain": [
       "Empty DataFrame\n",
       "Columns: [id_reserva, id_cliente, nombre, apellido, mail, competencia, fecha_reserva, inicio_estancia, final_estancia, id_hotel, precio_noche, nombre_hotel, estrellas, ciudad, nombre_apellido, id_nombre_apellido]\n",
       "Index: []"
      ]
     },
     "execution_count": 34,
     "metadata": {},
     "output_type": "execute_result"
    }
   ],
   "source": [
    "df_fecha_reserva_nulos = df[df['fecha_reserva'].isnull()]\n",
    "df_fecha_reserva_nulos[df_fecha_reserva_nulos.competencia==False]\n",
    "#Totos los nulos que tiene son de reservas de la competencia. ¿Qué valor le doy? ¿Me lo invento?"
   ]
  },
  {
   "cell_type": "markdown",
   "metadata": {},
   "source": [
    "# Columna id_hotel y nombre_hotel "
   ]
  },
  {
   "cell_type": "code",
   "execution_count": 35,
   "metadata": {},
   "outputs": [
    {
     "data": {
      "text/plain": [
       "29"
      ]
     },
     "execution_count": 35,
     "metadata": {},
     "output_type": "execute_result"
    }
   ],
   "source": [
    "len(df.id_hotel.value_counts())"
   ]
  },
  {
   "cell_type": "code",
   "execution_count": 36,
   "metadata": {},
   "outputs": [],
   "source": [
    "df_no_competencia = df[df.competencia == False]"
   ]
  },
  {
   "cell_type": "code",
   "execution_count": 37,
   "metadata": {},
   "outputs": [
    {
     "data": {
      "text/plain": [
       "19"
      ]
     },
     "execution_count": 37,
     "metadata": {},
     "output_type": "execute_result"
    }
   ],
   "source": [
    "len(df_no_competencia.id_hotel.value_counts())"
   ]
  },
  {
   "cell_type": "code",
   "execution_count": 38,
   "metadata": {},
   "outputs": [
    {
     "data": {
      "text/plain": [
       "id_hotel\n",
       "28     559\n",
       "6      543\n",
       "36     542\n",
       "13     541\n",
       "114    537\n",
       "27     536\n",
       "38     534\n",
       "103    533\n",
       "2      531\n",
       "128    530\n",
       "14     528\n",
       "131    524\n",
       "186    522\n",
       "48     519\n",
       "135    518\n",
       "40     516\n",
       "113    515\n",
       "15     514\n",
       "194    511\n",
       "19     511\n",
       "33     508\n",
       "49     506\n",
       "35     506\n",
       "3      501\n",
       "47     498\n",
       "181    493\n",
       "117    489\n",
       "43     485\n",
       "29     450\n",
       "Name: count, dtype: int64"
      ]
     },
     "execution_count": 38,
     "metadata": {},
     "output_type": "execute_result"
    }
   ],
   "source": [
    "df.id_hotel.value_counts()"
   ]
  },
  {
   "cell_type": "code",
   "execution_count": 39,
   "metadata": {},
   "outputs": [
    {
     "data": {
      "text/plain": [
       "20"
      ]
     },
     "execution_count": 39,
     "metadata": {},
     "output_type": "execute_result"
    }
   ],
   "source": [
    "len(df.nombre_hotel .value_counts())"
   ]
  },
  {
   "cell_type": "code",
   "execution_count": 40,
   "metadata": {},
   "outputs": [
    {
     "data": {
      "text/plain": [
       "nombre_hotel\n",
       "                          5172\n",
       "Hotel Sol y Luna           557\n",
       "Hotel Monte Verde          550\n",
       "Hotel Luz de Madrid        536\n",
       "Hotel Brisas del Mar       534\n",
       "Hotel Mirador Real         533\n",
       "Hotel Los Almendros        533\n",
       "Hotel Puerta del Cielo     526\n",
       "Hotel Camino del Sol       518\n",
       "Gran Hotel Madrid          518\n",
       "Hotel Costa Azul           515\n",
       "Hotel Las Estrellas        514\n",
       "Hotel Torre Dorada         512\n",
       "Hotel Rincón Sereno        512\n",
       "Hotel Vista Alegre         511\n",
       "Hotel Encanto Real         511\n",
       "Palacio del Sol            510\n",
       "Hotel Jardines del Rey     502\n",
       "Hotel Maravilla Real       473\n",
       "Hotel Palacio Imperial     463\n",
       "Name: count, dtype: int64"
      ]
     },
     "execution_count": 40,
     "metadata": {},
     "output_type": "execute_result"
    }
   ],
   "source": [
    "df.nombre_hotel.value_counts()"
   ]
  },
  {
   "cell_type": "code",
   "execution_count": 41,
   "metadata": {},
   "outputs": [],
   "source": [
    "#Creo una columna para combinar el id y el nombre para ver cuantos elementos únicos me aparecen ya que no coincide la cantidad existente en los ids con la cantidad existente en los nombre\n",
    "df['id_nombre_hotel']= df['id_hotel'].astype('str') + '|' + df['nombre_hotel']"
   ]
  },
  {
   "cell_type": "code",
   "execution_count": 42,
   "metadata": {},
   "outputs": [
    {
     "name": "stdout",
     "output_type": "stream",
     "text": [
      "Existen 371 combinaciones diferentes\n"
     ]
    }
   ],
   "source": [
    "len(df['id_nombre_hotel'].value_counts())\n",
    "print(f'Existen {len(df['id_nombre_hotel'].value_counts())} combinaciones diferentes')"
   ]
  },
  {
   "cell_type": "code",
   "execution_count": 43,
   "metadata": {},
   "outputs": [
    {
     "data": {
      "text/plain": [
       "['Hotel Monte Verde',\n",
       " 'Hotel Brisas del Mar',\n",
       " 'Hotel Camino del Sol',\n",
       " 'Hotel Puerta del Cielo',\n",
       " 'Hotel Encanto Real',\n",
       " 'Palacio del Sol',\n",
       " 'Hotel Jardines del Rey',\n",
       " 'Hotel Las Estrellas',\n",
       " 'Gran Hotel Madrid',\n",
       " 'Hotel Torre Dorada',\n",
       " 'Hotel Palacio Imperial',\n",
       " 'Hotel Luz de Madrid',\n",
       " 'Hotel Los Almendros',\n",
       " 'Hotel Sol y Luna',\n",
       " 'Hotel Mirador Real',\n",
       " 'Hotel Rincón Sereno',\n",
       " 'Hotel Vista Alegre',\n",
       " 'Hotel Costa Azul',\n",
       " 'Hotel Maravilla Real']"
      ]
     },
     "execution_count": 43,
     "metadata": {},
     "output_type": "execute_result"
    }
   ],
   "source": [
    "lista_nombre_hoteles = df.nombre_hotel.unique().tolist()\n",
    "lista_nombre_hoteles[1:]"
   ]
  },
  {
   "cell_type": "code",
   "execution_count": 44,
   "metadata": {},
   "outputs": [
    {
     "data": {
      "text/plain": [
       "[14, 38, 35, 36, 43, 6, 3, 29, 47, 27, 13, 28, 40, 2, 48, 15, 33, 49, 19]"
      ]
     },
     "execution_count": 44,
     "metadata": {},
     "output_type": "execute_result"
    }
   ],
   "source": [
    "lista_ids_hoteles = df_no_competencia.id_hotel.unique().tolist()\n",
    "lista_ids_hoteles"
   ]
  },
  {
   "cell_type": "code",
   "execution_count": 45,
   "metadata": {},
   "outputs": [
    {
     "name": "stdout",
     "output_type": "stream",
     "text": [
      "Hotel Monte Verde\n",
      "id_hotel     6\n",
      "count       41\n",
      "Name: 0, dtype: int64\n",
      "Hotel Brisas del Mar\n",
      "id_hotel    27\n",
      "count       38\n",
      "Name: 0, dtype: int64\n",
      "Hotel Camino del Sol\n",
      "id_hotel    15\n",
      "count       36\n",
      "Name: 0, dtype: int64\n",
      "Hotel Puerta del Cielo\n",
      "id_hotel    28\n",
      "count       37\n",
      "Name: 0, dtype: int64\n",
      "Hotel Encanto Real\n",
      "id_hotel     2\n",
      "count       35\n",
      "Name: 0, dtype: int64\n",
      "Palacio del Sol\n",
      "id_hotel     6\n",
      "count       42\n",
      "Name: 0, dtype: int64\n",
      "Hotel Jardines del Rey\n",
      "id_hotel     6\n",
      "count       33\n",
      "Name: 0, dtype: int64\n",
      "Hotel Las Estrellas\n",
      "id_hotel     2\n",
      "count       38\n",
      "Name: 0, dtype: int64\n",
      "Gran Hotel Madrid\n",
      "id_hotel    38\n",
      "count       43\n",
      "Name: 0, dtype: int64\n",
      "Hotel Torre Dorada\n",
      "id_hotel    33\n",
      "count       37\n",
      "Name: 0, dtype: int64\n",
      "Hotel Palacio Imperial\n",
      "id_hotel    38\n",
      "count       32\n",
      "Name: 0, dtype: int64\n",
      "Hotel Luz de Madrid\n",
      "id_hotel    15\n",
      "count       37\n",
      "Name: 0, dtype: int64\n",
      "Hotel Los Almendros\n",
      "id_hotel    15\n",
      "count       38\n",
      "Name: 0, dtype: int64\n",
      "Hotel Sol y Luna\n",
      "id_hotel    36\n",
      "count       40\n",
      "Name: 0, dtype: int64\n",
      "Hotel Mirador Real\n",
      "id_hotel    47\n",
      "count       36\n",
      "Name: 0, dtype: int64\n",
      "Hotel Rincón Sereno\n",
      "id_hotel    28\n",
      "count       41\n",
      "Name: 0, dtype: int64\n",
      "Hotel Vista Alegre\n",
      "id_hotel    13\n",
      "count       41\n",
      "Name: 0, dtype: int64\n",
      "Hotel Costa Azul\n",
      "id_hotel    13\n",
      "count       34\n",
      "Name: 0, dtype: int64\n",
      "Hotel Maravilla Real\n",
      "id_hotel    14\n",
      "count       34\n",
      "Name: 0, dtype: int64\n"
     ]
    }
   ],
   "source": [
    "#cada nombre de hotel tiene todos los ids posibles. Hay que reestructurar los ids\n",
    "for hotel in lista_nombre_hoteles[1:]:\n",
    "    df[df.nombre_hotel==hotel].id_hotel.value_counts().reset_index().iloc[0]\n",
    "    print(hotel)\n",
    "    print(df[df.nombre_hotel==hotel].id_hotel.value_counts().reset_index().iloc[0])"
   ]
  },
  {
   "cell_type": "code",
   "execution_count": 46,
   "metadata": {},
   "outputs": [
    {
     "data": {
      "text/html": [
       "<div>\n",
       "<style scoped>\n",
       "    .dataframe tbody tr th:only-of-type {\n",
       "        vertical-align: middle;\n",
       "    }\n",
       "\n",
       "    .dataframe tbody tr th {\n",
       "        vertical-align: top;\n",
       "    }\n",
       "\n",
       "    .dataframe thead th {\n",
       "        text-align: right;\n",
       "    }\n",
       "</style>\n",
       "<table border=\"1\" class=\"dataframe\">\n",
       "  <thead>\n",
       "    <tr style=\"text-align: right;\">\n",
       "      <th></th>\n",
       "      <th>id_hotel</th>\n",
       "      <th>nombre_hotel</th>\n",
       "    </tr>\n",
       "  </thead>\n",
       "  <tbody>\n",
       "    <tr>\n",
       "      <th>0</th>\n",
       "      <td>14</td>\n",
       "      <td>Hotel Monte Verde</td>\n",
       "    </tr>\n",
       "    <tr>\n",
       "      <th>1</th>\n",
       "      <td>38</td>\n",
       "      <td>Hotel Brisas del Mar</td>\n",
       "    </tr>\n",
       "    <tr>\n",
       "      <th>2</th>\n",
       "      <td>35</td>\n",
       "      <td>Hotel Camino del Sol</td>\n",
       "    </tr>\n",
       "    <tr>\n",
       "      <th>3</th>\n",
       "      <td>36</td>\n",
       "      <td>Hotel Puerta del Cielo</td>\n",
       "    </tr>\n",
       "    <tr>\n",
       "      <th>4</th>\n",
       "      <td>43</td>\n",
       "      <td>Hotel Encanto Real</td>\n",
       "    </tr>\n",
       "    <tr>\n",
       "      <th>5</th>\n",
       "      <td>6</td>\n",
       "      <td>Palacio del Sol</td>\n",
       "    </tr>\n",
       "    <tr>\n",
       "      <th>6</th>\n",
       "      <td>3</td>\n",
       "      <td>Hotel Jardines del Rey</td>\n",
       "    </tr>\n",
       "    <tr>\n",
       "      <th>7</th>\n",
       "      <td>29</td>\n",
       "      <td>Hotel Las Estrellas</td>\n",
       "    </tr>\n",
       "    <tr>\n",
       "      <th>8</th>\n",
       "      <td>47</td>\n",
       "      <td>Gran Hotel Madrid</td>\n",
       "    </tr>\n",
       "    <tr>\n",
       "      <th>9</th>\n",
       "      <td>27</td>\n",
       "      <td>Hotel Torre Dorada</td>\n",
       "    </tr>\n",
       "    <tr>\n",
       "      <th>10</th>\n",
       "      <td>13</td>\n",
       "      <td>Hotel Palacio Imperial</td>\n",
       "    </tr>\n",
       "    <tr>\n",
       "      <th>11</th>\n",
       "      <td>28</td>\n",
       "      <td>Hotel Luz de Madrid</td>\n",
       "    </tr>\n",
       "    <tr>\n",
       "      <th>12</th>\n",
       "      <td>40</td>\n",
       "      <td>Hotel Los Almendros</td>\n",
       "    </tr>\n",
       "    <tr>\n",
       "      <th>13</th>\n",
       "      <td>2</td>\n",
       "      <td>Hotel Sol y Luna</td>\n",
       "    </tr>\n",
       "    <tr>\n",
       "      <th>14</th>\n",
       "      <td>48</td>\n",
       "      <td>Hotel Mirador Real</td>\n",
       "    </tr>\n",
       "    <tr>\n",
       "      <th>15</th>\n",
       "      <td>15</td>\n",
       "      <td>Hotel Rincón Sereno</td>\n",
       "    </tr>\n",
       "    <tr>\n",
       "      <th>16</th>\n",
       "      <td>33</td>\n",
       "      <td>Hotel Vista Alegre</td>\n",
       "    </tr>\n",
       "    <tr>\n",
       "      <th>17</th>\n",
       "      <td>49</td>\n",
       "      <td>Hotel Costa Azul</td>\n",
       "    </tr>\n",
       "    <tr>\n",
       "      <th>18</th>\n",
       "      <td>19</td>\n",
       "      <td>Hotel Maravilla Real</td>\n",
       "    </tr>\n",
       "  </tbody>\n",
       "</table>\n",
       "</div>"
      ],
      "text/plain": [
       "    id_hotel            nombre_hotel\n",
       "0         14       Hotel Monte Verde\n",
       "1         38    Hotel Brisas del Mar\n",
       "2         35    Hotel Camino del Sol\n",
       "3         36  Hotel Puerta del Cielo\n",
       "4         43      Hotel Encanto Real\n",
       "5          6         Palacio del Sol\n",
       "6          3  Hotel Jardines del Rey\n",
       "7         29     Hotel Las Estrellas\n",
       "8         47       Gran Hotel Madrid\n",
       "9         27      Hotel Torre Dorada\n",
       "10        13  Hotel Palacio Imperial\n",
       "11        28     Hotel Luz de Madrid\n",
       "12        40     Hotel Los Almendros\n",
       "13         2        Hotel Sol y Luna\n",
       "14        48      Hotel Mirador Real\n",
       "15        15     Hotel Rincón Sereno\n",
       "16        33      Hotel Vista Alegre\n",
       "17        49        Hotel Costa Azul\n",
       "18        19    Hotel Maravilla Real"
      ]
     },
     "execution_count": 46,
     "metadata": {},
     "output_type": "execute_result"
    }
   ],
   "source": [
    "#No existe un patrón en el código anterior, hay ids que aparecen varias veces como los más repetidos. Por tanto, creo un diccionario nuevo para darle un id a cada hotel según el nombre:\n",
    "lista_nombre_hoteles = df.nombre_hotel.unique().tolist()\n",
    "lista_ids_hoteles = df_no_competencia.id_hotel.unique().tolist()\n",
    "dict_id_nombre_hotel = {'id_hotel': [], \n",
    "                        'nombre_hotel': []}\n",
    "for hotel in lista_nombre_hoteles[1:]:\n",
    "    dict_id_nombre_hotel[\"nombre_hotel\"].append(hotel)\n",
    "for id in lista_ids_hoteles:\n",
    "    dict_id_nombre_hotel[\"id_hotel\"].append(id)\n",
    "dict_id_nombre_hotel\n",
    "\n",
    "df_id_hoteles_nombre_hoteles = pd.DataFrame(dict_id_nombre_hotel)\n",
    "df_id_hoteles_nombre_hoteles\n",
    "\n",
    "##genero esta tabla para los ids de hoteles, pero yo reiniciaria los ids al llevarmelos a la BBDD "
   ]
  },
  {
   "cell_type": "markdown",
   "metadata": {},
   "source": [
    "# Columna estrellas"
   ]
  },
  {
   "cell_type": "code",
   "execution_count": 47,
   "metadata": {},
   "outputs": [
    {
     "data": {
      "text/plain": [
       "estrellas\n",
       "4    120\n",
       "2    104\n",
       "1    102\n",
       "5     92\n",
       "3     92\n",
       "Name: count, dtype: Int64"
      ]
     },
     "execution_count": 47,
     "metadata": {},
     "output_type": "execute_result"
    }
   ],
   "source": [
    "#Cada hotel tiene diferentes estrellas. Por ejemplo: \n",
    "df[df.nombre_hotel == 'Palacio del Sol'].estrellas.value_counts()\n",
    "#¿Le doy la que más se repite? No es que destaque una muy por encima de la otra. He buscado en internet y no encuentro los hoteles."
   ]
  },
  {
   "cell_type": "markdown",
   "metadata": {},
   "source": [
    "# Columna ciudad"
   ]
  },
  {
   "cell_type": "code",
   "execution_count": 48,
   "metadata": {},
   "outputs": [
    {
     "data": {
      "text/plain": [
       "ciudad\n",
       "Madrid    9828\n",
       "          5172\n",
       "Name: count, dtype: int64"
      ]
     },
     "execution_count": 48,
     "metadata": {},
     "output_type": "execute_result"
    }
   ],
   "source": [
    "df.ciudad.value_counts()\n"
   ]
  },
  {
   "cell_type": "code",
   "execution_count": 49,
   "metadata": {},
   "outputs": [
    {
     "data": {
      "text/plain": [
       "ciudad\n",
       "    5172\n",
       "Name: count, dtype: int64"
      ]
     },
     "execution_count": 49,
     "metadata": {},
     "output_type": "execute_result"
    }
   ],
   "source": [
    "#Todos los que no tienen valores son los hoteles de la competencia. Igualmente la ciudad será Madrid, pero lo rellenaré cuando haga el escrapeo.\n",
    "df_competencia.ciudad.value_counts()"
   ]
  },
  {
   "cell_type": "code",
   "execution_count": 50,
   "metadata": {},
   "outputs": [],
   "source": [
    "df_limpio = df.to_pickle(\"../data/datos_parquet_limpios.pkl\")"
   ]
  }
 ],
 "metadata": {
  "kernelspec": {
   "display_name": "Python 3",
   "language": "python",
   "name": "python3"
  },
  "language_info": {
   "codemirror_mode": {
    "name": "ipython",
    "version": 3
   },
   "file_extension": ".py",
   "mimetype": "text/x-python",
   "name": "python",
   "nbconvert_exporter": "python",
   "pygments_lexer": "ipython3",
   "version": "3.12.5"
  }
 },
 "nbformat": 4,
 "nbformat_minor": 2
}
